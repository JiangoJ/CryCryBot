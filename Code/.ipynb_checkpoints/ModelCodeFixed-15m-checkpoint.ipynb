{
 "cells": [
  {
   "cell_type": "code",
   "execution_count": 1,
   "id": "178b9cf0",
   "metadata": {},
   "outputs": [],
   "source": [
    "import torch.nn as nn\n",
    "import numpy as np\n",
    "import pandas as pd\n",
    "import torch\n",
    "import matplotlib.pyplot as plt \n",
    "from sklearn.model_selection import train_test_split\n",
    "from torch.utils.data import DataLoader\n",
    "from torch.nn.utils import clip_grad_norm_\n",
    "torch.autograd.set_detect_anomaly(True)\n",
    "import websocket, json, pprint, talib, numpy\n",
    "import websockets\n",
    "from binance.client import Client\n",
    "from binance.enums import *\n",
    "import joblib\n",
    "import robin_stocks as rs\n",
    "import config\n",
    "import asyncio\n",
    "import nest_asyncio\n",
    "import time"
   ]
  },
  {
   "cell_type": "code",
   "execution_count": 2,
   "id": "07d83952",
   "metadata": {},
   "outputs": [
    {
     "data": {
      "text/plain": [
       "{'access_token': 'eyJ0eXAiOiJKV1QiLCJhbGciOiJSUzI1NiJ9.eyJleHAiOjE2NTI4MjQ0MTIsInRva2VuIjoiSVZVMXluUXBHa28xa3dRT3J3ZlVmenFQcHp0NloyIiwidXNlcl9pZCI6Ijk1MmFhMzljLTBhMjQtNDliMS05MjQ0LWE2NmM0ZTYzZDQzOCIsImRldmljZV9oYXNoIjoiNzZkMTM3YmU4YzExYTY1OTA4YjViNDIyOTkyMmYzZGIiLCJzY29wZSI6ImludGVybmFsIiwiZGN0IjoxNjUyMTIxMTM2LCJzZXJ2aWNlX3JlY29yZHMiOlt7ImhhbHRlZCI6ZmFsc2UsInNlcnZpY2UiOiJudW1tdXNfdXMiLCJzaGFyZF9pZCI6MSwic3RhdGUiOiJhdmFpbGFibGUifSx7ImhhbHRlZCI6ZmFsc2UsInNlcnZpY2UiOiJicm9rZWJhY2tfdXMiLCJzaGFyZF9pZCI6Niwic3RhdGUiOiJhdmFpbGFibGUifV0sInVzZXJfb3JpZ2luIjoiVVMiLCJvcHRpb25zIjp0cnVlLCJsZXZlbDJfYWNjZXNzIjpmYWxzZX0.KuT4wFtndQo_p50zmGwAxFQ4er6pK1jmrf1IAzG_oMW_dxF9WyWr2JINOVafB5GzDL0C1R-YDnhV3jiHcdcByG5agKIrk-rsIryczLUSvnWQUxHKVI6Cs5m9ZFGNCvFnyHkbKGIbGvh63Q_TqT-Hvb2i23dSjJ-B8fDzjzDhpInJmxTriAVVCxroJ1xygbVNDg9vODBSctX9NwaF2UpAhdEyAbG4_KrMgRkzVhM3DG1ZicZVgSrRJqpVPmdVwYdhSw2JBOOresWAZZXfXgTYV6eCz91m2kffWgIimgKmxh_t6XWc_jOPEQMORKWGzaL_6dAGa2kU-o_RoULPJlFfKw',\n",
       " 'token_type': 'Bearer',\n",
       " 'expires_in': 86400,\n",
       " 'scope': 'internal',\n",
       " 'detail': 'logged in using authentication in robinhood.pickle',\n",
       " 'backup_code': None,\n",
       " 'refresh_token': 'x2s3tRKNVHM6UDm4apjdatkuKWGUcR'}"
      ]
     },
     "execution_count": 2,
     "metadata": {},
     "output_type": "execute_result"
    }
   ],
   "source": [
    "rs.robinhood.login(username= config.RH_USER, password= config.RH_PASS, expiresIn=86400, by_sms=True)"
   ]
  },
  {
   "cell_type": "code",
   "execution_count": 3,
   "id": "92965db8",
   "metadata": {},
   "outputs": [],
   "source": [
    "#rs.robinhood.order_buy_crypto_by_price('ETH', 1)"
   ]
  },
  {
   "cell_type": "code",
   "execution_count": 4,
   "id": "4927e793",
   "metadata": {},
   "outputs": [
    {
     "name": "stdout",
     "output_type": "stream",
     "text": [
      "43300 43300\n"
     ]
    }
   ],
   "source": [
    "data = pd.read_csv('data_1m.csv')\n",
    "data = data.iloc[:43301]\n",
    "#labels = data.loc[:, \"labels\"]\n",
    "close = data.loc[:, \"closes\"]\n",
    "close = close.iloc[1:]\n",
    "data = data.iloc[:-1]\n",
    "data = data.drop([\"labels\"], axis=1)\n",
    "data.head()\n",
    "\n",
    "print(len(data), len(close))"
   ]
  },
  {
   "cell_type": "code",
   "execution_count": 5,
   "id": "b4904391",
   "metadata": {},
   "outputs": [
    {
     "name": "stdout",
     "output_type": "stream",
     "text": [
      "21650 21650 21650 21650\n"
     ]
    }
   ],
   "source": [
    "data = data.to_numpy()\n",
    "close = close.to_numpy()\n",
    "#extra = np.shape(data)[0] % 32\n",
    "#data = data[extra:, :]\n",
    "data = torch.tensor(data)\n",
    "data = data.to(torch.float)\n",
    "#close = close[extra:]\n",
    "close = torch.tensor(close)\n",
    "close = close.to(torch.float)\n",
    "data, X_test, close, y_test = train_test_split(data, close, test_size=0.5, shuffle = False)\n",
    "print(len(data), len(X_test), len(close), len(y_test))\n",
    "class Dataset():\n",
    "    def __init__(self, array, labels):\n",
    "        self.array = array\n",
    "        self.labels = labels\n",
    "\n",
    "    def __len__(self):\n",
    "        return self.array.shape[0]\n",
    "\n",
    "    def __getitem__(self, idx):\n",
    "        return self.array[idx, :], self.labels[idx]\n"
   ]
  },
  {
   "cell_type": "code",
   "execution_count": 6,
   "id": "3406515e",
   "metadata": {},
   "outputs": [],
   "source": [
    "batch_size = 1 \n",
    "fulldata = Dataset(data, close)\n",
    "dataloader = DataLoader(fulldata, batch_size)\n",
    "loss_function = nn.MSELoss()\n",
    "\n",
    "testdata = Dataset(X_test, y_test)\n",
    "testdataloader = DataLoader(testdata, batch_size)\n",
    "\n",
    "pred_array = np.zeros(len(data))"
   ]
  },
  {
   "cell_type": "code",
   "execution_count": 7,
   "id": "a7805701",
   "metadata": {
    "scrolled": true
   },
   "outputs": [
    {
     "name": "stdout",
     "output_type": "stream",
     "text": [
      "0\n",
      "0.16549152135849\n",
      "100\n",
      "0.7841294574300406\n",
      "200\n",
      "0.18593564298748788\n",
      "300\n",
      "0.7831961691831566\n",
      "400\n",
      "2.15843557662771\n",
      "500\n",
      "0.017462762336450055\n",
      "600\n",
      "0.0803350509976326\n",
      "700\n",
      "0.08460676035196002\n",
      "800\n",
      "0.11693872701732744\n",
      "900\n",
      "0.17349076955127885\n",
      "1000\n",
      "0.11120257983409942\n",
      "1100\n",
      "0.10720908086534564\n",
      "1200\n",
      "0.0778356719902007\n",
      "1300\n",
      "0.08150780911742572\n",
      "1400\n",
      "0.04656025123837537\n",
      "1500\n",
      "0.10595690641079969\n",
      "1600\n",
      "0.02412842939127202\n",
      "1700\n",
      "0.046898167719689354\n",
      "1800\n",
      "0.02088738268756174\n",
      "1900\n",
      "0.03854636473446149\n",
      "2000\n",
      "0.04170288410591638\n",
      "2100\n",
      "0.08786530706800022\n",
      "2200\n",
      "0.08446247482245894\n",
      "2300\n",
      "0.05841508713315591\n",
      "2400\n",
      "0.049909906933478965\n",
      "2500\n",
      "0.05363856003316414\n",
      "2600\n",
      "0.06877226644132861\n",
      "2700\n",
      "0.08956849449151605\n",
      "2800\n",
      "0.02271295667192419\n",
      "2900\n",
      "0.02075948382191939\n",
      "3000\n",
      "0.021021062810532953\n",
      "3100\n",
      "0.05913135976102524\n",
      "3200\n",
      "0.07800811178225331\n",
      "3300\n",
      "0.11567951822449629\n",
      "3400\n",
      "0.04987896944490444\n",
      "3500\n",
      "0.18681064682358794\n",
      "3600\n",
      "0.08729270327694394\n",
      "3700\n",
      "0.06601386491525219\n",
      "3800\n",
      "0.0831742401931308\n",
      "3900\n",
      "0.04555153582869309\n",
      "4000\n",
      "0.025296703837739187\n",
      "4100\n",
      "0.02063305827132922\n",
      "4200\n",
      "0.023019007726563956\n",
      "4300\n",
      "0.024753817112983967\n",
      "4400\n",
      "0.009691871329831514\n",
      "4500\n",
      "0.013374234527450568\n",
      "4600\n",
      "0.02905386136616528\n",
      "4700\n",
      "0.01355699965623458\n",
      "4800\n",
      "0.015137897398826539\n",
      "4900\n",
      "0.022953012263087658\n",
      "5000\n",
      "0.12314549550171705\n",
      "5100\n",
      "0.022316198379876084\n",
      "5200\n",
      "0.013328344289320171\n",
      "5300\n",
      "0.007280843517381896\n",
      "5400\n",
      "0.006713171044815169\n",
      "5500\n",
      "0.007638212866197591\n",
      "5600\n",
      "0.00583338227434993\n",
      "5700\n",
      "0.006106616698033918\n",
      "5800\n",
      "0.0029357989192817513\n",
      "5900\n",
      "0.006909721194514162\n",
      "6000\n",
      "0.0069605439949249615\n",
      "6100\n",
      "0.005323327393373489\n",
      "6200\n",
      "0.006536953282569868\n",
      "6300\n",
      "0.017041102496719418\n",
      "6400\n",
      "0.04046597149570985\n",
      "6500\n",
      "0.016072992082953874\n",
      "6600\n",
      "0.005788529697056788\n",
      "6700\n",
      "0.0035517334351204966\n",
      "6800\n",
      "0.03803905067018576\n",
      "6900\n",
      "0.014158187488945373\n",
      "7000\n",
      "0.011567972793912418\n",
      "7100\n",
      "0.01458018595159416\n",
      "7200\n",
      "0.005937989031778557\n",
      "7300\n",
      "0.005280497577928145\n",
      "7400\n",
      "0.007737152512508061\n",
      "7500\n",
      "0.0045397172376802075\n",
      "7600\n",
      "0.004109011465232015\n",
      "7700\n",
      "0.013155938243500032\n",
      "7800\n",
      "0.06124924446737978\n",
      "7900\n",
      "0.019478437993178943\n",
      "8000\n",
      "0.030638190989648706\n",
      "8100\n",
      "0.0267766206738429\n",
      "8200\n",
      "0.01819047337568591\n",
      "8300\n",
      "0.31160903243383586\n",
      "8400\n",
      "0.0633879815472369\n",
      "8500\n",
      "0.011264977560745848\n",
      "8600\n",
      "0.435196749721662\n",
      "8700\n",
      "0.12841070809997746\n",
      "8800\n",
      "0.06532332761162252\n",
      "8900\n",
      "0.05473366275657554\n",
      "9000\n",
      "0.03364770976689613\n",
      "9100\n",
      "0.04926746927599979\n",
      "9200\n",
      "0.07939443989616635\n",
      "9300\n",
      "0.06686503030864799\n",
      "9400\n",
      "0.1422208056646923\n",
      "9500\n",
      "0.050330316015401166\n",
      "9600\n",
      "0.10869171315033554\n",
      "9700\n",
      "0.087912547314275\n",
      "9800\n",
      "0.03831721624121798\n",
      "9900\n",
      "0.0124841018907631\n",
      "10000\n",
      "0.016551709613938925\n",
      "10100\n",
      "0.007830141595675855\n",
      "10200\n",
      "0.06997898709937544\n",
      "10300\n",
      "0.0613044872582158\n",
      "10400\n",
      "0.022396568279027917\n",
      "10500\n",
      "0.06866453981783849\n",
      "10600\n",
      "0.118055832654818\n",
      "10700\n",
      "0.060169452056413775\n",
      "10800\n",
      "0.06858957729039616\n",
      "10900\n",
      "0.02571491402045467\n",
      "11000\n",
      "0.03506281740101258\n",
      "11100\n",
      "0.11296466178936271\n",
      "11200\n",
      "0.1454416777410188\n",
      "11300\n",
      "0.047519342509051654\n",
      "11400\n",
      "0.015126905746289054\n",
      "11500\n",
      "0.014221138885162077\n",
      "11600\n",
      "0.027419145229870878\n",
      "11700\n",
      "0.009153782636264651\n",
      "11800\n",
      "0.07036596017837837\n",
      "11900\n",
      "0.06644755755473852\n",
      "12000\n",
      "0.08999980165656041\n",
      "12100\n",
      "0.15309086948494155\n",
      "12200\n",
      "0.025686247326976996\n",
      "12300\n",
      "0.07023586075576205\n",
      "12400\n",
      "0.036194125901488405\n",
      "12500\n",
      "0.05072898999873132\n",
      "12600\n",
      "0.03223307006019027\n",
      "12700\n",
      "0.031236280554001183\n",
      "12800\n",
      "0.014552783682759696\n",
      "12900\n",
      "0.02202447743036373\n",
      "13000\n",
      "0.013058026159697533\n",
      "13100\n",
      "0.013128857521166992\n",
      "13200\n",
      "0.07102060079724026\n",
      "13300\n",
      "0.12546675074884206\n",
      "13400\n",
      "0.08597746267874129\n",
      "13500\n",
      "0.053399051968881395\n",
      "13600\n",
      "0.06847359124367358\n",
      "13700\n",
      "0.04016016258367472\n",
      "13800\n",
      "0.0815041216541772\n",
      "13900\n",
      "0.21472757345836513\n",
      "14000\n",
      "0.16458314294115794\n",
      "14100\n",
      "0.10452012173584535\n",
      "14200\n",
      "0.03554300330500837\n",
      "14300\n",
      "0.012761191714936615\n",
      "14400\n",
      "0.04535676009147949\n",
      "14500\n",
      "0.08835058865372503\n",
      "14600\n",
      "0.06515905606757144\n",
      "14700\n",
      "0.05217619104908522\n",
      "14800\n",
      "0.05357101835585354\n",
      "14900\n",
      "0.06630182544803631\n",
      "15000\n",
      "0.030154383479491287\n",
      "15100\n",
      "0.08057540480679393\n",
      "15200\n",
      "0.03333464870688729\n",
      "15300\n",
      "0.13942976497044413\n",
      "15400\n",
      "0.04703451491877786\n",
      "15500\n",
      "0.0162528557947903\n",
      "15600\n",
      "0.011687473875150012\n",
      "15700\n",
      "0.09558149990320608\n",
      "15800\n",
      "0.0647592406082822\n",
      "15900\n",
      "0.013436249922342824\n",
      "16000\n",
      "0.00782301622058057\n",
      "16100\n",
      "0.010673939541554489\n",
      "16200\n",
      "0.04392261468510128\n",
      "16300\n",
      "0.006705631885502328\n",
      "16400\n",
      "0.01913876484297461\n",
      "16500\n",
      "0.00627234675415167\n",
      "16600\n",
      "0.009402903447224276\n",
      "16700\n",
      "0.003984453978354452\n",
      "16800\n",
      "0.036858683466789444\n",
      "16900\n",
      "0.00907995786289817\n",
      "17000\n",
      "0.013683354682839877\n",
      "17100\n",
      "0.004953402912635241\n",
      "17200\n",
      "0.008056374627891216\n",
      "17300\n",
      "0.008337022548489337\n",
      "17400\n",
      "0.012789428994441465\n",
      "17500\n",
      "0.009658933871577347\n",
      "17600\n",
      "0.02489561291105602\n",
      "17700\n",
      "0.030655391765180617\n",
      "17800\n",
      "0.04435902250709489\n",
      "17900\n",
      "0.020606631186446123\n",
      "18000\n",
      "0.023272468409559544\n",
      "18100\n",
      "0.06512509982258052\n",
      "18200\n",
      "0.10585899342570215\n",
      "18300\n",
      "0.19282414532381154\n",
      "18400\n",
      "0.04486844710802629\n",
      "18500\n",
      "0.015391612819886547\n",
      "18600\n",
      "0.056628193439509644\n",
      "18700\n",
      "0.05141930351000212\n",
      "18800\n",
      "0.04583662108430531\n",
      "18900\n",
      "0.047265141026748836\n",
      "19000\n",
      "0.053816116153683424\n",
      "19100\n",
      "0.3023676486994873\n",
      "19200\n",
      "0.18945584118472425\n",
      "19300\n",
      "0.08400067677243417\n",
      "19400\n",
      "0.5447398537106949\n",
      "19500\n",
      "0.10460348375283957\n",
      "19600\n",
      "0.036683947734204025\n",
      "19700\n",
      "0.04003523276250576\n",
      "19800\n",
      "0.028520266357574542\n",
      "19900\n",
      "0.005301629923771145\n",
      "20000\n",
      "0.013276969210494372\n",
      "20100\n",
      "0.02768489957301057\n",
      "20200\n",
      "0.014983968126305314\n",
      "20300\n",
      "0.020144463341488006\n",
      "20400\n",
      "0.07796055078869557\n",
      "20500\n",
      "0.27823578853673414\n",
      "20600\n",
      "0.24666554882230685\n",
      "20700\n",
      "0.07535549319154233\n",
      "20800\n",
      "0.20078974555417517\n",
      "20900\n",
      "0.08559114101572618\n",
      "21000\n",
      "0.18297562416172752\n",
      "21100\n",
      "0.10226721103936143\n",
      "21200\n",
      "0.01089397428314065\n",
      "21300\n",
      "0.023138514094257878\n",
      "21400\n",
      "0.01562321503556241\n",
      "21500\n",
      "0.05210090525417854\n",
      "21600\n",
      "0.19927725164689036\n"
     ]
    }
   ],
   "source": [
    "class RNNModel(torch.nn.Module):\n",
    "    def __init__(self, input_size, HL_size, num_layers = 1):\n",
    "        super(RNNModel, self).__init__()\n",
    "        self.rnn = torch.nn.RNN(input_size=input_size,\n",
    "                                hidden_size=HL_size,\n",
    "                                num_layers=num_layers)\n",
    "        \n",
    "        self.linear = torch.nn.Linear(HL_size , 12)\n",
    "        self.linear2 = torch.nn.Linear(12, 1)\n",
    "        self.num_layers = num_layers\n",
    "        self.hidden_size = HL_size\n",
    "        \n",
    "    def forward(self, inputs, hidden):\n",
    "        out, hidden = self.rnn(inputs, hidden)\n",
    "        pred = self.linear(out)\n",
    "        pred = self.linear2(pred)\n",
    "\n",
    "        #hidden = hidden.view(-1, 1, self.hidden_size)\n",
    "        return pred, hidden\n",
    "    \n",
    "    def init_hidden(self, batch = 1):\n",
    "        hidden = torch.randn(self.num_layers, batch, self.hidden_size)\n",
    "        return hidden\n",
    "\n",
    "def rnn_train():\n",
    "    model = RNNModel(np.shape(data)[1], HL_size = 24, num_layers = 1)\n",
    "    optimizer = torch.optim.Adam(model.parameters(), lr=0.005)\n",
    "    hidden = model.init_hidden(batch_size)\n",
    "    total_loss = 0\n",
    "    for batch_idx, (batch, truth) in enumerate(dataloader):\n",
    "        \n",
    "        hidden = hidden.detach()\n",
    "\n",
    "        batch = np.reshape(batch, (1, -1, 11))\n",
    "        pred, hidden = model.forward(batch, hidden)\n",
    "\n",
    "        pred = torch.squeeze(pred, 0)\n",
    "        pred = torch.squeeze(pred, 1)\n",
    "        #print(pred)\n",
    "        pred_array[batch_idx] = pred.item()\n",
    "        single_loss = loss_function(pred, truth)\n",
    "        single_loss.backward(retain_graph=True)\n",
    "        clip_grad_norm_(model.parameters(), 5)\n",
    "        optimizer.step()\n",
    "        optimizer.zero_grad()\n",
    "        total_loss = total_loss + single_loss.item()\n",
    "        if batch_idx % 100 == 0:\n",
    "            print(batch_idx)\n",
    "            print(total_loss)\n",
    "            #print(hidden)\n",
    "            total_loss = 0\n",
    "            \n",
    "    '''\n",
    "    for name, param in model.named_parameters():\n",
    "                if param.requires_grad:\n",
    "                    print(name, param.data)\n",
    "    '''\n",
    "    return model, hidden\n",
    "            \n",
    "trained_model, final_hidden = rnn_train()"
   ]
  },
  {
   "cell_type": "code",
   "execution_count": 8,
   "id": "91abf62b",
   "metadata": {},
   "outputs": [
    {
     "name": "stdout",
     "output_type": "stream",
     "text": [
      "21650\n",
      "21650\n",
      "[ 0.06607155  0.07377158  0.07056959 ... -3.45482728 -3.49004923\n",
      " -3.51802857]\n",
      "tensor([ 0.2295,  0.2222,  0.2330,  ..., -3.5524, -3.5599, -3.5372])\n"
     ]
    },
    {
     "data": {
      "image/png": "[encoded data removed]",
      "text/plain": [
       "<Figure size 432x288 with 1 Axes>"
      ]
     },
     "metadata": {
      "needs_background": "light"
     },
     "output_type": "display_data"
    }
   ],
   "source": [
    "data2 = pd.read_csv('data_1m.csv')\n",
    "data2 = data2.iloc[21350: 43000]\n",
    "truth_array = data2.loc[:, \"closes\"].to_numpy()\n",
    "close_numpy = close.numpy()\n",
    "print(len(truth_array))\n",
    "print(len(pred_array))\n",
    "print(truth_array)\n",
    "print(y_test)\n",
    "plt.plot(close_numpy)\n",
    "plt.plot(pred_array)\n",
    "plt.show()"
   ]
  },
  {
   "cell_type": "code",
   "execution_count": 9,
   "id": "09a1bb5c",
   "metadata": {},
   "outputs": [
    {
     "name": "stdout",
     "output_type": "stream",
     "text": [
      "0\n",
      "100\n",
      "200\n",
      "300\n",
      "400\n",
      "500\n",
      "600\n",
      "700\n",
      "800\n",
      "900\n",
      "1000\n",
      "1100\n",
      "1200\n",
      "1300\n",
      "1400\n",
      "1500\n",
      "1600\n",
      "1700\n",
      "1800\n",
      "1900\n",
      "2000\n",
      "2100\n",
      "2200\n",
      "2300\n",
      "2400\n",
      "2500\n",
      "2600\n",
      "2700\n",
      "2800\n",
      "2900\n",
      "3000\n",
      "3100\n",
      "3200\n",
      "3300\n",
      "3400\n",
      "3500\n",
      "3600\n",
      "3700\n",
      "3800\n",
      "3900\n",
      "4000\n",
      "4100\n",
      "4200\n",
      "4300\n",
      "4400\n",
      "4500\n",
      "4600\n",
      "4700\n",
      "4800\n",
      "4900\n",
      "5000\n",
      "5100\n",
      "5200\n",
      "5300\n",
      "5400\n",
      "5500\n",
      "5600\n",
      "5700\n",
      "5800\n",
      "5900\n",
      "6000\n",
      "6100\n",
      "6200\n",
      "6300\n",
      "6400\n",
      "6500\n",
      "6600\n",
      "6700\n",
      "6800\n",
      "6900\n",
      "7000\n",
      "7100\n",
      "7200\n",
      "7300\n",
      "7400\n",
      "7500\n",
      "7600\n",
      "7700\n",
      "7800\n",
      "7900\n",
      "8000\n",
      "8100\n",
      "8200\n",
      "8300\n",
      "8400\n",
      "8500\n",
      "8600\n",
      "8700\n",
      "8800\n",
      "8900\n",
      "9000\n",
      "9100\n",
      "9200\n",
      "9300\n",
      "9400\n",
      "9500\n",
      "9600\n",
      "9700\n",
      "9800\n",
      "9900\n",
      "10000\n",
      "10100\n",
      "10200\n",
      "10300\n",
      "10400\n",
      "10500\n",
      "10600\n",
      "10700\n",
      "10800\n",
      "10900\n",
      "11000\n",
      "11100\n",
      "11200\n",
      "11300\n",
      "11400\n",
      "11500\n",
      "11600\n",
      "11700\n",
      "11800\n",
      "11900\n",
      "12000\n",
      "12100\n",
      "12200\n",
      "12300\n",
      "12400\n",
      "12500\n",
      "12600\n",
      "12700\n",
      "12800\n",
      "12900\n",
      "13000\n",
      "13100\n",
      "13200\n",
      "13300\n",
      "13400\n",
      "13500\n",
      "13600\n",
      "13700\n",
      "13800\n",
      "13900\n",
      "14000\n",
      "14100\n",
      "14200\n",
      "14300\n",
      "14400\n",
      "14500\n",
      "14600\n",
      "14700\n",
      "14800\n",
      "14900\n",
      "15000\n",
      "15100\n",
      "15200\n",
      "15300\n",
      "15400\n",
      "15500\n",
      "15600\n",
      "15700\n",
      "15800\n",
      "15900\n",
      "16000\n",
      "16100\n",
      "16200\n",
      "16300\n",
      "16400\n",
      "16500\n",
      "16600\n",
      "16700\n",
      "16800\n",
      "16900\n",
      "17000\n",
      "17100\n",
      "17200\n",
      "17300\n",
      "17400\n",
      "17500\n",
      "17600\n",
      "17700\n",
      "17800\n",
      "17900\n",
      "18000\n",
      "18100\n",
      "18200\n",
      "18300\n",
      "18400\n",
      "18500\n",
      "18600\n",
      "18700\n",
      "18800\n",
      "18900\n",
      "19000\n",
      "19100\n",
      "19200\n",
      "19300\n",
      "19400\n",
      "19500\n",
      "19600\n",
      "19700\n",
      "19800\n",
      "19900\n",
      "20000\n",
      "20100\n",
      "20200\n",
      "20300\n",
      "20400\n",
      "20500\n",
      "20600\n",
      "20700\n",
      "20800\n",
      "20900\n",
      "21000\n",
      "21100\n",
      "21200\n",
      "21300\n",
      "21400\n",
      "21500\n",
      "21600\n",
      "######\n",
      " 1209\n",
      "21650\n"
     ]
    }
   ],
   "source": [
    "hidden = final_hidden\n",
    "total_batches = 0\n",
    "total_error = 0\n",
    "\n",
    "#model = RNNModel(np.shape(data)[1], HL_size = 24, num_layers = 2)\n",
    "\n",
    "optimizer = torch.optim.Adam(trained_model.parameters(), lr=0.01)\n",
    "    \n",
    "for batch_idx, (batch, truth) in enumerate(testdataloader):\n",
    "    optimizer.zero_grad()\n",
    "    hidden = hidden.detach()\n",
    "    batch = np.reshape(batch, (1, -1, 11))\n",
    "    pred, hidden = trained_model.forward(batch, hidden)\n",
    "    pred = torch.squeeze(pred, 0)\n",
    "    pred = torch.squeeze(pred, 1)\n",
    "    single_loss = loss_function(pred, truth)\n",
    "    single_loss.backward(retain_graph=True)\n",
    "    clip_grad_norm_(trained_model.parameters(), 5)\n",
    "    optimizer.step()\n",
    "    total_batches += 1\n",
    "    if (pred < truth_array[batch_idx] and truth > truth_array[batch_idx]) or \\\n",
    "        (pred > truth_array[batch_idx] and truth < truth_array[batch_idx]):\n",
    "            total_error +=1\n",
    "    if batch_idx % 100 == 0:\n",
    "            print(batch_idx)\n",
    "                                                                 \n",
    "\n",
    "        \n",
    "print('######\\n', total_error)\n",
    "print(total_batches)"
   ]
  },
  {
   "cell_type": "markdown",
   "id": "3986a347",
   "metadata": {},
   "source": [
    "## Live Prediction"
   ]
  },
  {
   "cell_type": "code",
   "execution_count": 10,
   "id": "fb8118e6",
   "metadata": {},
   "outputs": [],
   "source": [
    "SOCKET = \"wss://stream.binance.com:9443/ws/ethusdt@kline_1m\"\n",
    "\n",
    "RSI_PERIOD = 14\n",
    "TRADE_SYMBOL = 'ETHUSD'\n",
    "\n",
    "in_position = False\n",
    "\n",
    "client = Client(config.KEY, config.SECRET, tld='us')\n",
    "\n",
    "scaler = joblib.load('standard_scaler_1m.save')"
   ]
  },
  {
   "cell_type": "code",
   "execution_count": 11,
   "id": "0aa2a9e0",
   "metadata": {},
   "outputs": [],
   "source": [
    "# import time\n",
    "# currMilli = round(time.time() * 1000)\n",
    "# currCandles = client.get_klines(symbol='ETHUSDT', \n",
    "#                                 interval=Client.KLINE_INTERVAL_1MINUTE, \n",
    "#                                 startTime = (currMilli - 900000), \n",
    "#                                 endTime = (currMilli),\n",
    "#                                 limit = 14)\n",
    "\n",
    "# #print(currCandles)\n",
    "\n",
    "\n",
    "# opens = [float(c[1]) for c in currCandles]\n",
    "# closes = [float(c[4]) for c in currCandles]\n",
    "# volumes = [float(c[5]) for c in currCandles]\n",
    "# highs = [float(c[2]) for c in currCandles]\n",
    "# lows = [float(c[3]) for c in currCandles]\n",
    "# qavs = [float(c[7]) for c in currCandles]\n",
    "# numTrades = [float(c[8]) for c in currCandles]\n",
    "# tbbavs = [float(c[9]) for c in currCandles]\n",
    "# tbqavs = [float(c[10]) for c in currCandles]\n",
    "\n",
    "# closes.reverse()\n",
    "# volumes.reverse()\n",
    "\n",
    "# rsis = []\n",
    "# obvs = []\n",
    "# scaled_df = None\n",
    "# hidden_squeeze = torch.squeeze(hidden, 1)\n",
    "# df_history = pd.DataFrame(data={\"time\": [], \"opens\": [], \"highs\": [], \"lows\": [], \"closes\": [], \"volumes\": [], \"qavs\": [], \"numTrades\": [], \"tbbavs\": [], \"tbqavs\": [], \"rsis\": [],\"obvs\": []})\n",
    "# count = 0\n",
    "# correct = 0\n",
    "# boughtPrev = False\n",
    "# closePrev = float(0)\n",
    "# predPrev = float(0)\n",
    "# money = float(0)\n",
    "\n",
    "\n",
    "# async def on_message():\n",
    "#     global hidden_squeeze, closePrev, boughtPrev, closes, in_position, opens, highs, lows, volumes, qavs, numTrades, tbbavs, tbqavs, rsis, obvs, df_history, money, count, correct\n",
    "    \n",
    "    \n",
    "#     #print('CLOSES: ', len(closes), closes)\n",
    "#     #print('received message')\n",
    "#     json_message = json.loads(message)\n",
    "#     #pprint.pprint(json_message)\n",
    "\n",
    "#     candle = json_message['k']\n",
    " \n",
    "#     is_candle_closed = candle['x']\n",
    "#     close = float(candle['c'])\n",
    "#     open_ = float(candle['o'])\n",
    "#     high = float(candle['h'])\n",
    "#     low = float(candle['l'])\n",
    "#     vol = float(candle['v'])\n",
    "#     qav = float(candle['q'])\n",
    "#     numTrade = float(candle['n'])\n",
    "#     tbbav = float(candle['V'])\n",
    "#     tbqav = float(candle['Q'])\n",
    "#     time = candle['t']\n",
    "\n",
    "#     if is_candle_closed:\n",
    "#         print(\"candle closed at {}\".format(close))\n",
    "#         closes.insert(0, close)\n",
    "#         volumes.insert(0, vol)\n",
    "#         opens.append(float(open_))\n",
    "#         highs.append(float(high))\n",
    "#         lows.append(float(low))\n",
    "#         qavs.append(float(qav))\n",
    "#         numTrades.append(float(numTrade))\n",
    "#         tbbavs.append(float(tbbav))\n",
    "#         tbqavs.append(float(tbqav))\n",
    "        \n",
    "# #         if(predPrev != float(0)):\n",
    "# #             df = pd.DataFrame(data={\"opens\": [opens[-1]], \"highs\": [highs[-1]], \"lows\": [lows[-1]], \"closes\": [closes[0]], \"volumes\": [volumes[0]], \"qavs\": [qavs[-1]], \"numTrades\": [numTrades[-1]], \"tbbavs\": [tbbavs[-1]], \"tbqavs\": [tbqavs[-1]], \"rsis\": [1],\"obvs\": [1]})\n",
    "# #             scaled_df = scaler.transform(df)\n",
    "# #             scaled_df = pd.DataFrame(scaled_df, columns = df.columns)\n",
    "# #             data = scaled_df.to_numpy()\n",
    "# #             truePred = data[0][3]\n",
    "# #             print(\"\\nBack Propogate... \\n\")\n",
    "                                  \n",
    "# #             predPrev =  torch.squeeze(predPrev, 1)\n",
    "# #             predPrev =  torch.squeeze(predPrev, 0)\n",
    "# #             truePred = torch.tensor(truePred)\n",
    "# #             truePred = truePred.to(torch.float)\n",
    "            \n",
    "# #             print(predPrev, np.shape(predPrev), truePred, np.shape(truePred))\n",
    "\n",
    "# #             single_loss = loss_function(predPrev, truePred)\n",
    "# #             print('1')\n",
    "# #             single_loss.backward()\n",
    "# #             print('2')\n",
    "# #             clip_grad_norm_(trained_model.parameters(), 5)\n",
    "# #             print('3')\n",
    "# #             optimizer.step()\n",
    "# #             print('4')\n",
    "# #             optimizer.zero_grad()\n",
    "        \n",
    "#         if(boughtPrev):\n",
    "#             print('here\\n\\n')\n",
    "#             change = close - closePrev\n",
    "#             money += change\n",
    "#             print('NEW PRICE: ', close, 'BOUGHT PRICE: ', closePrev, 'CHANGE: ', change, 'MONEY: ', money)\n",
    "#             boughtPrev = False\n",
    "        \n",
    "#         if len(closes) > RSI_PERIOD: \n",
    "#             count += 1\n",
    "#             np_closes = numpy.array(closes[:15])\n",
    "#             np_vols = numpy.array(volumes[:15])\n",
    "#             rsi = talib.RSI(np_closes, RSI_PERIOD)\n",
    "#             obv = talib.OBV(np_closes, np_vols)\n",
    "#             last_rsi = rsi[-1]\n",
    "#             last_obv = obv[-1]\n",
    "            \n",
    "#             #print(\"the current rsi is {}\".format(last_rsi))\n",
    "#             df = pd.DataFrame(data={\"opens\": [opens[-1]], \"highs\": [highs[-1]], \"lows\": [lows[-1]], \"closes\": [closes[0]], \"volumes\": [volumes[0]], \"qavs\": [qavs[-1]], \"numTrades\": [numTrades[-1]], \"tbbavs\": [tbbavs[-1]], \"tbqavs\": [tbqavs[-1]], \"rsis\": [last_rsi],\"obvs\": [last_obv]})\n",
    "#             scaled_df = scaler.transform(df)\n",
    "#             scaled_df = pd.DataFrame(scaled_df, columns = df.columns)\n",
    "            \n",
    "# #             scaled_df_labeled = scaled_df\n",
    "# #             scaled_df_labeled['labels'] = [label]\n",
    "# #             print(\"SCALED DF\", scaled_df_labeled.head())\n",
    "#             data = scaled_df.to_numpy()\n",
    "\n",
    "#             curr_close = float(data[0][3])\n",
    "#             print(data)\n",
    "            \n",
    "#             data = torch.tensor(data)\n",
    "#             data = data.to(torch.float)\n",
    "#             pred, hidden_squeeze = trained_model(data, hidden_squeeze)\n",
    "#             print('PREDICTION', pred)\n",
    "#             prediction = float(pred.item())\n",
    "#             #predPrev = torch.clone(pred)\n",
    "            \n",
    "#             hidden_squeeze = hidden_squeeze.detach()\n",
    "#             pred =  torch.squeeze(pred, 1)\n",
    "#             pred =  torch.squeeze(pred, 0)\n",
    "#             truePred = torch.tensor(curr_close)\n",
    "#             truePred = truePred.to(torch.float)\n",
    "            \n",
    "#             print(pred, np.shape(pred), truePred, np.shape(truePred))\n",
    "\n",
    "#             single_loss = loss_function(pred, truePred)\n",
    "#             print('1')\n",
    "#             single_loss.backward(retain_graph=True)\n",
    "#             print('2')\n",
    "#             clip_grad_norm_(trained_model.parameters(), 5)\n",
    "#             print('3')\n",
    "#             optimizer.step()\n",
    "#             print('4')\n",
    "#             optimizer.zero_grad()\n",
    "            \n",
    "#             if(prediction > curr_close):\n",
    "#                 print(\"BUY AT: \", closes[0], 'TIME: ', time)\n",
    "#                 closePrev = closes[0]\n",
    "#                 boughtPrev = True\n",
    "#                 scaled_df['time'] = [time]\n",
    "#                 df_history = df_history.append(scaled_df, ignore_index = True)\n",
    "#                 print('AFTER\\n\\n')\n",
    "            "
   ]
  },
  {
   "cell_type": "code",
   "execution_count": 12,
   "id": "d05adcf7",
   "metadata": {},
   "outputs": [
    {
     "name": "stdout",
     "output_type": "stream",
     "text": [
      "\n",
      "######################\n",
      "candle closed at 2055.18\n",
      "Current Close Scaled:  -2.9683908248086532\n",
      "PREDICTION tensor([[-3.5071]], grad_fn=<AddmmBackward0>)\n",
      "DONT BUY\n",
      "\n",
      "######################\n",
      "candle closed at 2059.69\n",
      "\n",
      "Back Propogate... \n",
      "\n",
      "CORRECT?:  -2.9511990547180176 -3.507129669189453 -2.9683908248086532\n",
      "COUNTBUY:  0 CORRECTBUY:  0 COUNTDONTBUY:  1 CORRECTDONTBUY:  0\n",
      "Current Close Scaled:  -2.9511991593394105\n",
      "PREDICTION tensor([[-3.4205]], grad_fn=<AddmmBackward0>)\n",
      "DONT BUY\n"
     ]
    },
    {
     "name": "stderr",
     "output_type": "stream",
     "text": [
      "/var/folders/9w/783wdyf54fb3b79gq32y3t4h0000gn/T/ipykernel_19541/692568148.py:107: FutureWarning: The frame.append method is deprecated and will be removed from pandas in a future version. Use pandas.concat instead.\n",
      "  df_history = df_history.append(scaled_df, ignore_index = True)\n"
     ]
    },
    {
     "name": "stdout",
     "output_type": "stream",
     "text": [
      "\n",
      "######################\n",
      "candle closed at 2061.51\n",
      "\n",
      "Back Propogate... \n",
      "\n",
      "CORRECT?:  -2.9442615509033203 -3.4205429553985596 -2.9511991593394105\n",
      "COUNTBUY:  0 CORRECTBUY:  0 COUNTDONTBUY:  2 CORRECTDONTBUY:  0\n",
      "Current Close Scaled:  -2.9442615027642387\n",
      "PREDICTION tensor([[-3.2513]], grad_fn=<AddmmBackward0>)\n",
      "DONT BUY\n"
     ]
    },
    {
     "name": "stderr",
     "output_type": "stream",
     "text": [
      "/var/folders/9w/783wdyf54fb3b79gq32y3t4h0000gn/T/ipykernel_19541/692568148.py:107: FutureWarning: The frame.append method is deprecated and will be removed from pandas in a future version. Use pandas.concat instead.\n",
      "  df_history = df_history.append(scaled_df, ignore_index = True)\n"
     ]
    },
    {
     "name": "stdout",
     "output_type": "stream",
     "text": [
      "\n",
      "######################\n",
      "candle closed at 2063.16\n",
      "\n",
      "Back Propogate... \n",
      "\n",
      "CORRECT?:  -2.937971830368042 -3.2513375282287598 -2.9442615027642387\n",
      "COUNTBUY:  0 CORRECTBUY:  0 COUNTDONTBUY:  3 CORRECTDONTBUY:  0\n",
      "Current Close Scaled:  -2.9379718690559806\n",
      "PREDICTION tensor([[-3.0302]], grad_fn=<AddmmBackward0>)\n",
      "DONT BUY\n"
     ]
    },
    {
     "name": "stderr",
     "output_type": "stream",
     "text": [
      "/var/folders/9w/783wdyf54fb3b79gq32y3t4h0000gn/T/ipykernel_19541/692568148.py:107: FutureWarning: The frame.append method is deprecated and will be removed from pandas in a future version. Use pandas.concat instead.\n",
      "  df_history = df_history.append(scaled_df, ignore_index = True)\n"
     ]
    },
    {
     "name": "stdout",
     "output_type": "stream",
     "text": [
      "\n",
      "######################\n",
      "candle closed at 2068.95\n",
      "\n",
      "Back Propogate... \n",
      "\n",
      "CORRECT?:  -2.915900945663452 -3.030191659927368 -2.9379718690559806\n",
      "COUNTBUY:  0 CORRECTBUY:  0 COUNTDONTBUY:  4 CORRECTDONTBUY:  0\n",
      "Current Close Scaled:  -2.9159009725888163\n",
      "PREDICTION tensor([[-2.7874]], grad_fn=<AddmmBackward0>)\n",
      "BUY AT:  2068.95 TIME:  1652429160000\n"
     ]
    },
    {
     "name": "stderr",
     "output_type": "stream",
     "text": [
      "/var/folders/9w/783wdyf54fb3b79gq32y3t4h0000gn/T/ipykernel_19541/692568148.py:107: FutureWarning: The frame.append method is deprecated and will be removed from pandas in a future version. Use pandas.concat instead.\n",
      "  df_history = df_history.append(scaled_df, ignore_index = True)\n"
     ]
    },
    {
     "name": "stdout",
     "output_type": "stream",
     "text": [
      "\n",
      "######################\n",
      "candle closed at 2063.0\n",
      "\n",
      "Back Propogate... \n",
      "\n",
      "CORRECT?:  -2.938581705093384 -2.7873549461364746 -2.9159009725888163\n",
      "COUNTBUY:  1 CORRECTBUY:  0 COUNTDONTBUY:  4 CORRECTDONTBUY:  0\n",
      "NEW PRICE:  2063.0 BOUGHT PRICE:  -2.9159009725888163 CHANGE:  -5.949999999999818 MONEY:  -5.949999999999818\n",
      "Current Close Scaled:  -2.9385817729307204\n",
      "PREDICTION tensor([[-2.6209]], grad_fn=<AddmmBackward0>)\n",
      "BUY AT:  2063.0 TIME:  1652429220000\n"
     ]
    },
    {
     "name": "stderr",
     "output_type": "stream",
     "text": [
      "/var/folders/9w/783wdyf54fb3b79gq32y3t4h0000gn/T/ipykernel_19541/692568148.py:107: FutureWarning: The frame.append method is deprecated and will be removed from pandas in a future version. Use pandas.concat instead.\n",
      "  df_history = df_history.append(scaled_df, ignore_index = True)\n"
     ]
    },
    {
     "name": "stdout",
     "output_type": "stream",
     "text": [
      "\n",
      "######################\n",
      "candle closed at 2060.91\n",
      "\n",
      "Back Propogate... \n",
      "\n",
      "CORRECT?:  -2.9465487003326416 -2.620945453643799 -2.9385817729307204\n",
      "COUNTBUY:  2 CORRECTBUY:  0 COUNTDONTBUY:  4 CORRECTDONTBUY:  0\n",
      "NEW PRICE:  2060.91 BOUGHT PRICE:  -2.9385817729307204 CHANGE:  -2.0900000000001455 MONEY:  -8.039999999999964\n",
      "Current Close Scaled:  -2.946548642294516\n",
      "PREDICTION tensor([[-2.6272]], grad_fn=<AddmmBackward0>)\n",
      "BUY AT:  2060.91 TIME:  1652429280000\n"
     ]
    },
    {
     "name": "stderr",
     "output_type": "stream",
     "text": [
      "/var/folders/9w/783wdyf54fb3b79gq32y3t4h0000gn/T/ipykernel_19541/692568148.py:107: FutureWarning: The frame.append method is deprecated and will be removed from pandas in a future version. Use pandas.concat instead.\n",
      "  df_history = df_history.append(scaled_df, ignore_index = True)\n"
     ]
    },
    {
     "name": "stdout",
     "output_type": "stream",
     "text": [
      "\n",
      "######################\n",
      "candle closed at 2058.94\n",
      "\n",
      "Back Propogate... \n",
      "\n",
      "CORRECT?:  -2.9540581703186035 -2.6272430419921875 -2.946548642294516\n",
      "COUNTBUY:  3 CORRECTBUY:  0 COUNTDONTBUY:  4 CORRECTDONTBUY:  0\n",
      "NEW PRICE:  2058.94 BOUGHT PRICE:  -2.946548642294516 CHANGE:  -1.9699999999998 MONEY:  -10.009999999999764\n",
      "Current Close Scaled:  -2.9540580837522556\n",
      "PREDICTION tensor([[-2.7650]], grad_fn=<AddmmBackward0>)\n",
      "BUY AT:  2058.94 TIME:  1652429340000\n"
     ]
    },
    {
     "name": "stderr",
     "output_type": "stream",
     "text": [
      "/var/folders/9w/783wdyf54fb3b79gq32y3t4h0000gn/T/ipykernel_19541/692568148.py:107: FutureWarning: The frame.append method is deprecated and will be removed from pandas in a future version. Use pandas.concat instead.\n",
      "  df_history = df_history.append(scaled_df, ignore_index = True)\n"
     ]
    },
    {
     "name": "stdout",
     "output_type": "stream",
     "text": [
      "\n",
      "######################\n",
      "candle closed at 2055.02\n",
      "\n",
      "Back Propogate... \n",
      "\n",
      "CORRECT?:  -2.969000816345215 -2.7650413513183594 -2.9540580837522556\n",
      "COUNTBUY:  4 CORRECTBUY:  0 COUNTDONTBUY:  4 CORRECTDONTBUY:  0\n",
      "NEW PRICE:  2055.02 BOUGHT PRICE:  -2.9540580837522556 CHANGE:  -3.9200000000000728 MONEY:  -13.929999999999836\n",
      "Current Close Scaled:  -2.969000728683393\n",
      "PREDICTION tensor([[-2.9407]], grad_fn=<AddmmBackward0>)\n",
      "BUY AT:  2055.02 TIME:  1652429400000\n"
     ]
    },
    {
     "name": "stderr",
     "output_type": "stream",
     "text": [
      "/var/folders/9w/783wdyf54fb3b79gq32y3t4h0000gn/T/ipykernel_19541/692568148.py:107: FutureWarning: The frame.append method is deprecated and will be removed from pandas in a future version. Use pandas.concat instead.\n",
      "  df_history = df_history.append(scaled_df, ignore_index = True)\n"
     ]
    },
    {
     "name": "stdout",
     "output_type": "stream",
     "text": [
      "\n",
      "######################\n",
      "candle closed at 2056.36\n",
      "\n",
      "Back Propogate... \n",
      "\n",
      "CORRECT?:  -2.963892698287964 -2.9406793117523193 -2.969000728683393\n",
      "COUNTBUY:  5 CORRECTBUY:  1 COUNTDONTBUY:  4 CORRECTDONTBUY:  0\n",
      "NEW PRICE:  2056.36 BOUGHT PRICE:  -2.969000728683393 CHANGE:  1.3400000000001455 MONEY:  -12.58999999999969\n",
      "Current Close Scaled:  -2.9638927837324425\n",
      "PREDICTION tensor([[-3.0885]], grad_fn=<AddmmBackward0>)\n",
      "DONT BUY\n"
     ]
    },
    {
     "name": "stderr",
     "output_type": "stream",
     "text": [
      "/var/folders/9w/783wdyf54fb3b79gq32y3t4h0000gn/T/ipykernel_19541/692568148.py:107: FutureWarning: The frame.append method is deprecated and will be removed from pandas in a future version. Use pandas.concat instead.\n",
      "  df_history = df_history.append(scaled_df, ignore_index = True)\n"
     ]
    },
    {
     "name": "stdout",
     "output_type": "stream",
     "text": [
      "\n",
      "######################\n",
      "candle closed at 2059.14\n",
      "\n",
      "Back Propogate... \n",
      "\n",
      "CORRECT?:  -2.9532957077026367 -3.0884523391723633 -2.9638927837324425\n",
      "COUNTBUY:  5 CORRECTBUY:  1 COUNTDONTBUY:  5 CORRECTDONTBUY:  0\n",
      "Current Close Scaled:  -2.953295703908831\n",
      "PREDICTION tensor([[-3.1600]], grad_fn=<AddmmBackward0>)\n",
      "DONT BUY\n"
     ]
    },
    {
     "name": "stderr",
     "output_type": "stream",
     "text": [
      "/var/folders/9w/783wdyf54fb3b79gq32y3t4h0000gn/T/ipykernel_19541/692568148.py:107: FutureWarning: The frame.append method is deprecated and will be removed from pandas in a future version. Use pandas.concat instead.\n",
      "  df_history = df_history.append(scaled_df, ignore_index = True)\n"
     ]
    },
    {
     "name": "stdout",
     "output_type": "stream",
     "text": [
      "\n",
      "######################\n",
      "candle closed at 2062.07\n",
      "\n",
      "Back Propogate... \n",
      "\n",
      "CORRECT?:  -2.942126750946045 -3.1599645614624023 -2.953295703908831\n",
      "COUNTBUY:  5 CORRECTBUY:  1 COUNTDONTBUY:  6 CORRECTDONTBUY:  0\n",
      "Current Close Scaled:  -2.942126839202648\n",
      "PREDICTION tensor([[-3.1272]], grad_fn=<AddmmBackward0>)\n",
      "DONT BUY\n"
     ]
    },
    {
     "name": "stderr",
     "output_type": "stream",
     "text": [
      "/var/folders/9w/783wdyf54fb3b79gq32y3t4h0000gn/T/ipykernel_19541/692568148.py:107: FutureWarning: The frame.append method is deprecated and will be removed from pandas in a future version. Use pandas.concat instead.\n",
      "  df_history = df_history.append(scaled_df, ignore_index = True)\n"
     ]
    },
    {
     "name": "stdout",
     "output_type": "stream",
     "text": [
      "\n",
      "######################\n",
      "candle closed at 2063.62\n",
      "\n",
      "Back Propogate... \n",
      "\n",
      "CORRECT?:  -2.936218500137329 -3.127203941345215 -2.942126839202648\n",
      "COUNTBUY:  5 CORRECTBUY:  1 COUNTDONTBUY:  7 CORRECTDONTBUY:  0\n",
      "Current Close Scaled:  -2.9362183954161023\n",
      "PREDICTION tensor([[-3.0155]], grad_fn=<AddmmBackward0>)\n",
      "DONT BUY\n"
     ]
    },
    {
     "name": "stderr",
     "output_type": "stream",
     "text": [
      "/var/folders/9w/783wdyf54fb3b79gq32y3t4h0000gn/T/ipykernel_19541/692568148.py:107: FutureWarning: The frame.append method is deprecated and will be removed from pandas in a future version. Use pandas.concat instead.\n",
      "  df_history = df_history.append(scaled_df, ignore_index = True)\n"
     ]
    },
    {
     "name": "stdout",
     "output_type": "stream",
     "text": [
      "\n",
      "######################\n",
      "candle closed at 2065.04\n",
      "\n",
      "Back Propogate... \n",
      "\n",
      "CORRECT?:  -2.9308054447174072 -3.015450954437256 -2.9362183954161023\n",
      "COUNTBUY:  5 CORRECTBUY:  1 COUNTDONTBUY:  8 CORRECTDONTBUY:  0\n",
      "Current Close Scaled:  -2.930805498527782\n",
      "PREDICTION tensor([[-2.8870]], grad_fn=<AddmmBackward0>)\n",
      "BUY AT:  2065.04 TIME:  1652429700000\n"
     ]
    },
    {
     "name": "stderr",
     "output_type": "stream",
     "text": [
      "/var/folders/9w/783wdyf54fb3b79gq32y3t4h0000gn/T/ipykernel_19541/692568148.py:107: FutureWarning: The frame.append method is deprecated and will be removed from pandas in a future version. Use pandas.concat instead.\n",
      "  df_history = df_history.append(scaled_df, ignore_index = True)\n"
     ]
    },
    {
     "name": "stdout",
     "output_type": "stream",
     "text": [
      "\n",
      "######################\n",
      "candle closed at 2061.01\n",
      "\n",
      "Back Propogate... \n",
      "\n",
      "CORRECT?:  -2.946167469024658 -2.8869829177856445 -2.930805498527782\n",
      "COUNTBUY:  6 CORRECTBUY:  1 COUNTDONTBUY:  8 CORRECTDONTBUY:  0\n",
      "NEW PRICE:  2061.01 BOUGHT PRICE:  -2.930805498527782 CHANGE:  -4.029999999999745 MONEY:  -16.619999999999436\n",
      "Current Close Scaled:  -2.9461674523728023\n",
      "PREDICTION tensor([[-2.8245]], grad_fn=<AddmmBackward0>)\n",
      "BUY AT:  2061.01 TIME:  1652429760000\n"
     ]
    },
    {
     "name": "stderr",
     "output_type": "stream",
     "text": [
      "/var/folders/9w/783wdyf54fb3b79gq32y3t4h0000gn/T/ipykernel_19541/692568148.py:107: FutureWarning: The frame.append method is deprecated and will be removed from pandas in a future version. Use pandas.concat instead.\n",
      "  df_history = df_history.append(scaled_df, ignore_index = True)\n"
     ]
    },
    {
     "name": "stdout",
     "output_type": "stream",
     "text": [
      "\n",
      "######################\n",
      "candle closed at 2057.06\n",
      "\n",
      "Back Propogate... \n",
      "\n",
      "CORRECT?:  -2.9612245559692383 -2.8244662284851074 -2.9461674523728023\n",
      "COUNTBUY:  7 CORRECTBUY:  1 COUNTDONTBUY:  8 CORRECTDONTBUY:  0\n",
      "NEW PRICE:  2057.06 BOUGHT PRICE:  -2.9461674523728023 CHANGE:  -3.950000000000273 MONEY:  -20.56999999999971\n",
      "Current Close Scaled:  -2.9612244542804547\n",
      "PREDICTION tensor([[-2.6953]], grad_fn=<AddmmBackward0>)\n",
      "BUY AT:  2057.06 TIME:  1652429820000\n"
     ]
    },
    {
     "name": "stderr",
     "output_type": "stream",
     "text": [
      "/var/folders/9w/783wdyf54fb3b79gq32y3t4h0000gn/T/ipykernel_19541/692568148.py:107: FutureWarning: The frame.append method is deprecated and will be removed from pandas in a future version. Use pandas.concat instead.\n",
      "  df_history = df_history.append(scaled_df, ignore_index = True)\n"
     ]
    },
    {
     "name": "stdout",
     "output_type": "stream",
     "text": [
      "\n",
      "######################\n",
      "candle closed at 2062.73\n",
      "\n",
      "Back Propogate... \n",
      "\n",
      "CORRECT?:  -2.9396109580993652 -2.6952788829803467 -2.9612244542804547\n",
      "COUNTBUY:  8 CORRECTBUY:  2 COUNTDONTBUY:  8 CORRECTDONTBUY:  0\n",
      "NEW PRICE:  2062.73 BOUGHT PRICE:  -2.9612244542804547 CHANGE:  5.670000000000073 MONEY:  -14.899999999999636\n",
      "Current Close Scaled:  -2.939610985719345\n",
      "PREDICTION tensor([[-2.7159]], grad_fn=<AddmmBackward0>)\n",
      "BUY AT:  2062.73 TIME:  1652429880000\n"
     ]
    },
    {
     "name": "stderr",
     "output_type": "stream",
     "text": [
      "/var/folders/9w/783wdyf54fb3b79gq32y3t4h0000gn/T/ipykernel_19541/692568148.py:107: FutureWarning: The frame.append method is deprecated and will be removed from pandas in a future version. Use pandas.concat instead.\n",
      "  df_history = df_history.append(scaled_df, ignore_index = True)\n"
     ]
    },
    {
     "name": "stdout",
     "output_type": "stream",
     "text": [
      "\n",
      "######################\n",
      "candle closed at 2064.88\n",
      "\n",
      "Back Propogate... \n",
      "\n",
      "CORRECT?:  -2.931415319442749 -2.7159411907196045 -2.939610985719345\n",
      "COUNTBUY:  9 CORRECTBUY:  3 COUNTDONTBUY:  8 CORRECTDONTBUY:  0\n",
      "NEW PRICE:  2064.88 BOUGHT PRICE:  -2.939610985719345 CHANGE:  2.150000000000091 MONEY:  -12.749999999999545\n",
      "Current Close Scaled:  -2.9314154024025214\n",
      "PREDICTION tensor([[-2.8076]], grad_fn=<AddmmBackward0>)\n",
      "BUY AT:  2064.88 TIME:  1652429940000\n"
     ]
    },
    {
     "name": "stderr",
     "output_type": "stream",
     "text": [
      "/var/folders/9w/783wdyf54fb3b79gq32y3t4h0000gn/T/ipykernel_19541/692568148.py:107: FutureWarning: The frame.append method is deprecated and will be removed from pandas in a future version. Use pandas.concat instead.\n",
      "  df_history = df_history.append(scaled_df, ignore_index = True)\n"
     ]
    },
    {
     "name": "stdout",
     "output_type": "stream",
     "text": [
      "\n",
      "######################\n",
      "candle closed at 2060.46\n",
      "\n",
      "Back Propogate... \n",
      "\n",
      "CORRECT?:  -2.9482638835906982 -2.8076140880584717 -2.9314154024025214\n",
      "COUNTBUY:  10 CORRECTBUY:  3 COUNTDONTBUY:  8 CORRECTDONTBUY:  0\n",
      "NEW PRICE:  2060.46 BOUGHT PRICE:  -2.9314154024025214 CHANGE:  -4.420000000000073 MONEY:  -17.169999999999618\n",
      "Current Close Scaled:  -2.948263996942223\n",
      "PREDICTION tensor([[-2.9368]], grad_fn=<AddmmBackward0>)\n",
      "BUY AT:  2060.46 TIME:  1652430000000\n"
     ]
    },
    {
     "name": "stderr",
     "output_type": "stream",
     "text": [
      "/var/folders/9w/783wdyf54fb3b79gq32y3t4h0000gn/T/ipykernel_19541/692568148.py:107: FutureWarning: The frame.append method is deprecated and will be removed from pandas in a future version. Use pandas.concat instead.\n",
      "  df_history = df_history.append(scaled_df, ignore_index = True)\n"
     ]
    },
    {
     "name": "stdout",
     "output_type": "stream",
     "text": [
      "\n",
      "######################\n",
      "candle closed at 2056.42\n",
      "\n",
      "Back Propogate... \n",
      "\n",
      "CORRECT?:  -2.9636640548706055 -2.9368033409118652 -2.948263996942223\n",
      "COUNTBUY:  11 CORRECTBUY:  3 COUNTDONTBUY:  8 CORRECTDONTBUY:  0\n",
      "NEW PRICE:  2056.42 BOUGHT PRICE:  -2.948263996942223 CHANGE:  -4.039999999999964 MONEY:  -21.20999999999958\n",
      "Current Close Scaled:  -2.963664069779415\n",
      "PREDICTION tensor([[-3.0631]], grad_fn=<AddmmBackward0>)\n",
      "DONT BUY\n"
     ]
    },
    {
     "name": "stderr",
     "output_type": "stream",
     "text": [
      "/var/folders/9w/783wdyf54fb3b79gq32y3t4h0000gn/T/ipykernel_19541/692568148.py:107: FutureWarning: The frame.append method is deprecated and will be removed from pandas in a future version. Use pandas.concat instead.\n",
      "  df_history = df_history.append(scaled_df, ignore_index = True)\n"
     ]
    },
    {
     "name": "stdout",
     "output_type": "stream",
     "text": [
      "\n",
      "######################\n",
      "candle closed at 2061.82\n",
      "\n",
      "Back Propogate... \n",
      "\n",
      "CORRECT?:  -2.943079710006714 -3.0630500316619873 -2.963664069779415\n",
      "COUNTBUY:  11 CORRECTBUY:  3 COUNTDONTBUY:  9 CORRECTDONTBUY:  0\n",
      "Current Close Scaled:  -2.94307981400693\n",
      "PREDICTION tensor([[-3.1288]], grad_fn=<AddmmBackward0>)\n",
      "DONT BUY\n"
     ]
    },
    {
     "name": "stderr",
     "output_type": "stream",
     "text": [
      "/var/folders/9w/783wdyf54fb3b79gq32y3t4h0000gn/T/ipykernel_19541/692568148.py:107: FutureWarning: The frame.append method is deprecated and will be removed from pandas in a future version. Use pandas.concat instead.\n",
      "  df_history = df_history.append(scaled_df, ignore_index = True)\n"
     ]
    },
    {
     "name": "stdout",
     "output_type": "stream",
     "text": [
      "\n",
      "######################\n",
      "candle closed at 2063.44\n",
      "\n",
      "Back Propogate... \n",
      "\n",
      "CORRECT?:  -2.9369044303894043 -3.128770112991333 -2.94307981400693\n",
      "COUNTBUY:  11 CORRECTBUY:  3 COUNTDONTBUY:  10 CORRECTDONTBUY:  0\n",
      "Current Close Scaled:  -2.9369045372751845\n",
      "PREDICTION tensor([[-3.1071]], grad_fn=<AddmmBackward0>)\n",
      "DONT BUY\n"
     ]
    },
    {
     "name": "stderr",
     "output_type": "stream",
     "text": [
      "/var/folders/9w/783wdyf54fb3b79gq32y3t4h0000gn/T/ipykernel_19541/692568148.py:107: FutureWarning: The frame.append method is deprecated and will be removed from pandas in a future version. Use pandas.concat instead.\n",
      "  df_history = df_history.append(scaled_df, ignore_index = True)\n"
     ]
    },
    {
     "name": "stdout",
     "output_type": "stream",
     "text": [
      "\n",
      "######################\n",
      "candle closed at 2066.63\n",
      "\n",
      "Back Propogate... \n",
      "\n",
      "CORRECT?:  -2.9247446060180664 -3.1071135997772217 -2.9369045372751845\n",
      "COUNTBUY:  11 CORRECTBUY:  3 COUNTDONTBUY:  11 CORRECTDONTBUY:  0\n",
      "Current Close Scaled:  -2.9247445787725495\n",
      "PREDICTION tensor([[-3.0351]], grad_fn=<AddmmBackward0>)\n",
      "DONT BUY\n"
     ]
    },
    {
     "name": "stderr",
     "output_type": "stream",
     "text": [
      "/var/folders/9w/783wdyf54fb3b79gq32y3t4h0000gn/T/ipykernel_19541/692568148.py:107: FutureWarning: The frame.append method is deprecated and will be removed from pandas in a future version. Use pandas.concat instead.\n",
      "  df_history = df_history.append(scaled_df, ignore_index = True)\n"
     ]
    },
    {
     "name": "stdout",
     "output_type": "stream",
     "text": [
      "\n",
      "######################\n",
      "candle closed at 2069.97\n",
      "\n",
      "Back Propogate... \n",
      "\n",
      "CORRECT?:  -2.912012815475464 -3.0351216793060303 -2.9247445787725495\n",
      "COUNTBUY:  11 CORRECTBUY:  3 COUNTDONTBUY:  12 CORRECTDONTBUY:  0\n",
      "Current Close Scaled:  -2.9120128353873467\n",
      "PREDICTION tensor([[-2.9401]], grad_fn=<AddmmBackward0>)\n",
      "DONT BUY\n"
     ]
    },
    {
     "name": "stderr",
     "output_type": "stream",
     "text": [
      "/var/folders/9w/783wdyf54fb3b79gq32y3t4h0000gn/T/ipykernel_19541/692568148.py:107: FutureWarning: The frame.append method is deprecated and will be removed from pandas in a future version. Use pandas.concat instead.\n",
      "  df_history = df_history.append(scaled_df, ignore_index = True)\n"
     ]
    },
    {
     "name": "stdout",
     "output_type": "stream",
     "text": [
      "\n",
      "######################\n",
      "candle closed at 2067.12\n",
      "\n",
      "Back Propogate... \n",
      "\n",
      "CORRECT?:  -2.9228768348693848 -2.9400691986083984 -2.9120128353873467\n",
      "COUNTBUY:  11 CORRECTBUY:  3 COUNTDONTBUY:  13 CORRECTDONTBUY:  1\n",
      "Current Close Scaled:  -2.9228767481561584\n",
      "PREDICTION tensor([[-2.8800]], grad_fn=<AddmmBackward0>)\n",
      "BUY AT:  2067.12 TIME:  1652430360000\n"
     ]
    },
    {
     "name": "stderr",
     "output_type": "stream",
     "text": [
      "/var/folders/9w/783wdyf54fb3b79gq32y3t4h0000gn/T/ipykernel_19541/692568148.py:107: FutureWarning: The frame.append method is deprecated and will be removed from pandas in a future version. Use pandas.concat instead.\n",
      "  df_history = df_history.append(scaled_df, ignore_index = True)\n"
     ]
    },
    {
     "name": "stdout",
     "output_type": "stream",
     "text": [
      "\n",
      "######################\n",
      "candle closed at 2061.66\n",
      "\n",
      "Back Propogate... \n",
      "\n",
      "CORRECT?:  -2.9436898231506348 -2.880032539367676 -2.9228767481561584\n",
      "COUNTBUY:  12 CORRECTBUY:  3 COUNTDONTBUY:  13 CORRECTDONTBUY:  1\n",
      "NEW PRICE:  2061.66 BOUGHT PRICE:  -2.9228767481561584 CHANGE:  -5.460000000000036 MONEY:  -26.669999999999618\n",
      "Current Close Scaled:  -2.943689717881671\n",
      "PREDICTION tensor([[-2.8338]], grad_fn=<AddmmBackward0>)\n",
      "BUY AT:  2061.66 TIME:  1652430420000\n"
     ]
    },
    {
     "name": "stderr",
     "output_type": "stream",
     "text": [
      "/var/folders/9w/783wdyf54fb3b79gq32y3t4h0000gn/T/ipykernel_19541/692568148.py:107: FutureWarning: The frame.append method is deprecated and will be removed from pandas in a future version. Use pandas.concat instead.\n",
      "  df_history = df_history.append(scaled_df, ignore_index = True)\n"
     ]
    },
    {
     "name": "stdout",
     "output_type": "stream",
     "text": [
      "\n",
      "######################\n",
      "candle closed at 2066.74\n",
      "\n",
      "Back Propogate... \n",
      "\n",
      "CORRECT?:  -2.9243252277374268 -2.8337972164154053 -2.943689717881671\n",
      "COUNTBUY:  13 CORRECTBUY:  4 COUNTDONTBUY:  13 CORRECTDONTBUY:  1\n",
      "NEW PRICE:  2066.74 BOUGHT PRICE:  -2.943689717881671 CHANGE:  5.079999999999927 MONEY:  -21.58999999999969\n",
      "Current Close Scaled:  -2.924325269858667\n",
      "PREDICTION tensor([[-2.8127]], grad_fn=<AddmmBackward0>)\n",
      "BUY AT:  2066.74 TIME:  1652430480000\n"
     ]
    },
    {
     "name": "stderr",
     "output_type": "stream",
     "text": [
      "/var/folders/9w/783wdyf54fb3b79gq32y3t4h0000gn/T/ipykernel_19541/692568148.py:107: FutureWarning: The frame.append method is deprecated and will be removed from pandas in a future version. Use pandas.concat instead.\n",
      "  df_history = df_history.append(scaled_df, ignore_index = True)\n"
     ]
    },
    {
     "name": "stdout",
     "output_type": "stream",
     "text": [
      "\n",
      "######################\n",
      "candle closed at 2067.76\n",
      "\n",
      "Back Propogate... \n",
      "\n",
      "CORRECT?:  -2.9204370975494385 -2.8127264976501465 -2.924325269858667\n",
      "COUNTBUY:  14 CORRECTBUY:  5 COUNTDONTBUY:  13 CORRECTDONTBUY:  1\n",
      "NEW PRICE:  2067.76 BOUGHT PRICE:  -2.924325269858667 CHANGE:  1.0200000000004366 MONEY:  -20.569999999999254\n",
      "Current Close Scaled:  -2.9204371326571956\n",
      "PREDICTION tensor([[-2.8151]], grad_fn=<AddmmBackward0>)\n",
      "BUY AT:  2067.76 TIME:  1652430540000\n"
     ]
    },
    {
     "name": "stderr",
     "output_type": "stream",
     "text": [
      "/var/folders/9w/783wdyf54fb3b79gq32y3t4h0000gn/T/ipykernel_19541/692568148.py:107: FutureWarning: The frame.append method is deprecated and will be removed from pandas in a future version. Use pandas.concat instead.\n",
      "  df_history = df_history.append(scaled_df, ignore_index = True)\n"
     ]
    },
    {
     "name": "stdout",
     "output_type": "stream",
     "text": [
      "\n",
      "######################\n",
      "candle closed at 2065.84\n",
      "\n",
      "Back Propogate... \n",
      "\n",
      "CORRECT?:  -2.9277560710906982 -2.815074920654297 -2.9204371326571956\n",
      "COUNTBUY:  15 CORRECTBUY:  5 COUNTDONTBUY:  13 CORRECTDONTBUY:  1\n",
      "NEW PRICE:  2065.84 BOUGHT PRICE:  -2.9204371326571956 CHANGE:  -1.9200000000000728 MONEY:  -22.489999999999327\n",
      "Current Close Scaled:  -2.9277559791540795\n",
      "PREDICTION tensor([[-2.8410]], grad_fn=<AddmmBackward0>)\n",
      "BUY AT:  2065.84 TIME:  1652430600000\n"
     ]
    },
    {
     "name": "stderr",
     "output_type": "stream",
     "text": [
      "/var/folders/9w/783wdyf54fb3b79gq32y3t4h0000gn/T/ipykernel_19541/692568148.py:107: FutureWarning: The frame.append method is deprecated and will be removed from pandas in a future version. Use pandas.concat instead.\n",
      "  df_history = df_history.append(scaled_df, ignore_index = True)\n"
     ]
    },
    {
     "name": "stdout",
     "output_type": "stream",
     "text": [
      "\n",
      "######################\n",
      "candle closed at 2062.36\n",
      "\n",
      "Back Propogate... \n",
      "\n",
      "CORRECT?:  -2.94102144241333 -2.841031074523926 -2.9277559791540795\n",
      "COUNTBUY:  16 CORRECTBUY:  5 COUNTDONTBUY:  13 CORRECTDONTBUY:  1\n",
      "NEW PRICE:  2062.36 BOUGHT PRICE:  -2.9277559791540795 CHANGE:  -3.480000000000018 MONEY:  -25.969999999999345\n",
      "Current Close Scaled:  -2.9410213884296814\n",
      "PREDICTION tensor([[-2.8817]], grad_fn=<AddmmBackward0>)\n",
      "BUY AT:  2062.36 TIME:  1652430660000\n"
     ]
    },
    {
     "name": "stderr",
     "output_type": "stream",
     "text": [
      "/var/folders/9w/783wdyf54fb3b79gq32y3t4h0000gn/T/ipykernel_19541/692568148.py:107: FutureWarning: The frame.append method is deprecated and will be removed from pandas in a future version. Use pandas.concat instead.\n",
      "  df_history = df_history.append(scaled_df, ignore_index = True)\n"
     ]
    },
    {
     "name": "stdout",
     "output_type": "stream",
     "text": [
      "\n",
      "######################\n",
      "candle closed at 2059.07\n",
      "\n",
      "Back Propogate... \n",
      "\n",
      "CORRECT?:  -2.9535624980926514 -2.881718158721924 -2.9410213884296814\n",
      "COUNTBUY:  17 CORRECTBUY:  5 COUNTDONTBUY:  13 CORRECTDONTBUY:  1\n",
      "NEW PRICE:  2059.07 BOUGHT PRICE:  -2.9410213884296814 CHANGE:  -3.2899999999999636 MONEY:  -29.25999999999931\n",
      "Current Close Scaled:  -2.9535625368540286\n",
      "PREDICTION tensor([[-2.9380]], grad_fn=<AddmmBackward0>)\n",
      "BUY AT:  2059.07 TIME:  1652430720000\n"
     ]
    },
    {
     "name": "stderr",
     "output_type": "stream",
     "text": [
      "/var/folders/9w/783wdyf54fb3b79gq32y3t4h0000gn/T/ipykernel_19541/692568148.py:107: FutureWarning: The frame.append method is deprecated and will be removed from pandas in a future version. Use pandas.concat instead.\n",
      "  df_history = df_history.append(scaled_df, ignore_index = True)\n"
     ]
    },
    {
     "name": "stdout",
     "output_type": "stream",
     "text": [
      "\n",
      "######################\n",
      "candle closed at 2064.56\n",
      "\n",
      "Back Propogate... \n",
      "\n",
      "CORRECT?:  -2.9326353073120117 -2.9379613399505615 -2.9535625368540286\n",
      "COUNTBUY:  18 CORRECTBUY:  6 COUNTDONTBUY:  13 CORRECTDONTBUY:  1\n",
      "NEW PRICE:  2064.56 BOUGHT PRICE:  -2.9535625368540286 CHANGE:  5.489999999999782 MONEY:  -23.769999999999527\n",
      "Current Close Scaled:  -2.932635210152003\n",
      "PREDICTION tensor([[-3.0056]], grad_fn=<AddmmBackward0>)\n",
      "DONT BUY\n"
     ]
    },
    {
     "name": "stderr",
     "output_type": "stream",
     "text": [
      "/var/folders/9w/783wdyf54fb3b79gq32y3t4h0000gn/T/ipykernel_19541/692568148.py:107: FutureWarning: The frame.append method is deprecated and will be removed from pandas in a future version. Use pandas.concat instead.\n",
      "  df_history = df_history.append(scaled_df, ignore_index = True)\n"
     ]
    },
    {
     "name": "stdout",
     "output_type": "stream",
     "text": [
      "\n",
      "######################\n",
      "candle closed at 2062.01\n",
      "\n",
      "Back Propogate... \n",
      "\n",
      "CORRECT?:  -2.9423556327819824 -3.00563645362854 -2.932635210152003\n",
      "COUNTBUY:  18 CORRECTBUY:  6 COUNTDONTBUY:  14 CORRECTDONTBUY:  2\n",
      "Current Close Scaled:  -2.9423555531556755\n",
      "PREDICTION tensor([[-3.0190]], grad_fn=<AddmmBackward0>)\n",
      "DONT BUY\n"
     ]
    },
    {
     "name": "stderr",
     "output_type": "stream",
     "text": [
      "/var/folders/9w/783wdyf54fb3b79gq32y3t4h0000gn/T/ipykernel_19541/692568148.py:107: FutureWarning: The frame.append method is deprecated and will be removed from pandas in a future version. Use pandas.concat instead.\n",
      "  df_history = df_history.append(scaled_df, ignore_index = True)\n"
     ]
    },
    {
     "name": "stdout",
     "output_type": "stream",
     "text": [
      "\n",
      "######################\n",
      "candle closed at 2058.91\n",
      "\n",
      "Back Propogate... \n",
      "\n",
      "CORRECT?:  -2.954172372817993 -3.0189695358276367 -2.9423555531556755\n",
      "COUNTBUY:  18 CORRECTBUY:  6 COUNTDONTBUY:  15 CORRECTDONTBUY:  3\n",
      "Current Close Scaled:  -2.95417244072877\n",
      "PREDICTION tensor([[-3.0268]], grad_fn=<AddmmBackward0>)\n",
      "DONT BUY\n"
     ]
    },
    {
     "name": "stderr",
     "output_type": "stream",
     "text": [
      "/var/folders/9w/783wdyf54fb3b79gq32y3t4h0000gn/T/ipykernel_19541/692568148.py:107: FutureWarning: The frame.append method is deprecated and will be removed from pandas in a future version. Use pandas.concat instead.\n",
      "  df_history = df_history.append(scaled_df, ignore_index = True)\n"
     ]
    },
    {
     "name": "stdout",
     "output_type": "stream",
     "text": [
      "\n",
      "######################\n",
      "candle closed at 2057.41\n",
      "\n",
      "Back Propogate... \n",
      "\n",
      "CORRECT?:  -2.959890365600586 -3.0267720222473145 -2.95417244072877\n",
      "COUNTBUY:  18 CORRECTBUY:  6 COUNTDONTBUY:  16 CORRECTDONTBUY:  4\n",
      "Current Close Scaled:  -2.9598902895544605\n",
      "PREDICTION tensor([[-3.0150]], grad_fn=<AddmmBackward0>)\n",
      "DONT BUY\n"
     ]
    },
    {
     "name": "stderr",
     "output_type": "stream",
     "text": [
      "/var/folders/9w/783wdyf54fb3b79gq32y3t4h0000gn/T/ipykernel_19541/692568148.py:107: FutureWarning: The frame.append method is deprecated and will be removed from pandas in a future version. Use pandas.concat instead.\n",
      "  df_history = df_history.append(scaled_df, ignore_index = True)\n"
     ]
    },
    {
     "name": "stdout",
     "output_type": "stream",
     "text": [
      "\n",
      "######################\n",
      "candle closed at 2059.77\n",
      "\n",
      "Back Propogate... \n",
      "\n",
      "CORRECT?:  -2.9508941173553467 -3.015016794204712 -2.9598902895544605\n",
      "COUNTBUY:  18 CORRECTBUY:  6 COUNTDONTBUY:  17 CORRECTDONTBUY:  4\n",
      "Current Close Scaled:  -2.9508942074020403\n",
      "PREDICTION tensor([[-2.9877]], grad_fn=<AddmmBackward0>)\n",
      "DONT BUY\n"
     ]
    },
    {
     "name": "stderr",
     "output_type": "stream",
     "text": [
      "/var/folders/9w/783wdyf54fb3b79gq32y3t4h0000gn/T/ipykernel_19541/692568148.py:107: FutureWarning: The frame.append method is deprecated and will be removed from pandas in a future version. Use pandas.concat instead.\n",
      "  df_history = df_history.append(scaled_df, ignore_index = True)\n"
     ]
    },
    {
     "name": "stdout",
     "output_type": "stream",
     "text": [
      "\n",
      "######################\n",
      "candle closed at 2060.68\n",
      "\n",
      "Back Propogate... \n",
      "\n",
      "CORRECT?:  -2.947425365447998 -2.98769211769104 -2.9508942074020403\n",
      "COUNTBUY:  18 CORRECTBUY:  6 COUNTDONTBUY:  18 CORRECTDONTBUY:  4\n",
      "Current Close Scaled:  -2.9474253791144553\n",
      "PREDICTION tensor([[-2.9543]], grad_fn=<AddmmBackward0>)\n",
      "DONT BUY\n"
     ]
    },
    {
     "name": "stderr",
     "output_type": "stream",
     "text": [
      "/var/folders/9w/783wdyf54fb3b79gq32y3t4h0000gn/T/ipykernel_19541/692568148.py:107: FutureWarning: The frame.append method is deprecated and will be removed from pandas in a future version. Use pandas.concat instead.\n",
      "  df_history = df_history.append(scaled_df, ignore_index = True)\n"
     ]
    },
    {
     "name": "stdout",
     "output_type": "stream",
     "text": [
      "\n",
      "######################\n",
      "candle closed at 2063.09\n",
      "\n",
      "Back Propogate... \n",
      "\n",
      "CORRECT?:  -2.9382386207580566 -2.954303503036499 -2.9474253791144553\n",
      "COUNTBUY:  18 CORRECTBUY:  6 COUNTDONTBUY:  19 CORRECTDONTBUY:  4\n",
      "Current Close Scaled:  -2.9382387020011786\n",
      "PREDICTION tensor([[-2.9222]], grad_fn=<AddmmBackward0>)\n",
      "BUY AT:  2063.09 TIME:  1652431140000\n"
     ]
    },
    {
     "name": "stderr",
     "output_type": "stream",
     "text": [
      "/var/folders/9w/783wdyf54fb3b79gq32y3t4h0000gn/T/ipykernel_19541/692568148.py:107: FutureWarning: The frame.append method is deprecated and will be removed from pandas in a future version. Use pandas.concat instead.\n",
      "  df_history = df_history.append(scaled_df, ignore_index = True)\n"
     ]
    },
    {
     "name": "stdout",
     "output_type": "stream",
     "text": [
      "\n",
      "######################\n",
      "candle closed at 2067.86\n",
      "\n",
      "Back Propogate... \n",
      "\n",
      "CORRECT?:  -2.920055866241455 -2.9221692085266113 -2.9382387020011786\n",
      "COUNTBUY:  19 CORRECTBUY:  7 COUNTDONTBUY:  19 CORRECTDONTBUY:  4\n",
      "NEW PRICE:  2067.86 BOUGHT PRICE:  -2.9382387020011786 CHANGE:  4.769999999999982 MONEY:  -18.999999999999545\n",
      "Current Close Scaled:  -2.9200559427354835\n",
      "PREDICTION tensor([[-2.8943]], grad_fn=<AddmmBackward0>)\n",
      "BUY AT:  2067.86 TIME:  1652431200000\n"
     ]
    },
    {
     "name": "stderr",
     "output_type": "stream",
     "text": [
      "/var/folders/9w/783wdyf54fb3b79gq32y3t4h0000gn/T/ipykernel_19541/692568148.py:107: FutureWarning: The frame.append method is deprecated and will be removed from pandas in a future version. Use pandas.concat instead.\n",
      "  df_history = df_history.append(scaled_df, ignore_index = True)\n"
     ]
    },
    {
     "name": "stdout",
     "output_type": "stream",
     "text": [
      "\n",
      "######################\n",
      "candle closed at 2072.62\n",
      "\n",
      "Back Propogate... \n",
      "\n",
      "CORRECT?:  -2.9019112586975098 -2.894266366958618 -2.9200559427354835\n",
      "COUNTBUY:  20 CORRECTBUY:  8 COUNTDONTBUY:  19 CORRECTDONTBUY:  4\n",
      "NEW PRICE:  2072.62 BOUGHT PRICE:  -2.9200559427354835 CHANGE:  4.7599999999997635 MONEY:  -14.239999999999782\n",
      "Current Close Scaled:  -2.9019113024619605\n",
      "PREDICTION tensor([[-2.7727]], grad_fn=<AddmmBackward0>)\n",
      "BUY AT:  2072.62 TIME:  1652431260000\n"
     ]
    },
    {
     "name": "stderr",
     "output_type": "stream",
     "text": [
      "/var/folders/9w/783wdyf54fb3b79gq32y3t4h0000gn/T/ipykernel_19541/692568148.py:107: FutureWarning: The frame.append method is deprecated and will be removed from pandas in a future version. Use pandas.concat instead.\n",
      "  df_history = df_history.append(scaled_df, ignore_index = True)\n"
     ]
    },
    {
     "name": "stdout",
     "output_type": "stream",
     "text": [
      "\n",
      "######################\n",
      "candle closed at 2072.57\n",
      "\n",
      "Back Propogate... \n",
      "\n",
      "CORRECT?:  -2.902101993560791 -2.7727131843566895 -2.9019113024619605\n",
      "COUNTBUY:  21 CORRECTBUY:  8 COUNTDONTBUY:  19 CORRECTDONTBUY:  4\n",
      "NEW PRICE:  2072.57 BOUGHT PRICE:  -2.9019113024619605 CHANGE:  -0.04999999999972715 MONEY:  -14.289999999999509\n",
      "Current Close Scaled:  -2.9021018974228157\n",
      "PREDICTION tensor([[-2.8694]], grad_fn=<AddmmBackward0>)\n",
      "BUY AT:  2072.57 TIME:  1652431320000\n"
     ]
    },
    {
     "name": "stderr",
     "output_type": "stream",
     "text": [
      "/var/folders/9w/783wdyf54fb3b79gq32y3t4h0000gn/T/ipykernel_19541/692568148.py:107: FutureWarning: The frame.append method is deprecated and will be removed from pandas in a future version. Use pandas.concat instead.\n",
      "  df_history = df_history.append(scaled_df, ignore_index = True)\n"
     ]
    },
    {
     "name": "stdout",
     "output_type": "stream",
     "text": [
      "\n",
      "######################\n",
      "candle closed at 2071.24\n",
      "\n",
      "Back Propogate... \n",
      "\n",
      "CORRECT?:  -2.9071717262268066 -2.8694307804107666 -2.9021018974228157\n",
      "COUNTBUY:  22 CORRECTBUY:  8 COUNTDONTBUY:  19 CORRECTDONTBUY:  4\n",
      "NEW PRICE:  2071.24 BOUGHT PRICE:  -2.9021018974228157 CHANGE:  -1.330000000000382 MONEY:  -15.61999999999989\n",
      "Current Close Scaled:  -2.907171723381596\n",
      "PREDICTION tensor([[-2.8737]], grad_fn=<AddmmBackward0>)\n",
      "BUY AT:  2071.24 TIME:  1652431380000\n"
     ]
    },
    {
     "name": "stderr",
     "output_type": "stream",
     "text": [
      "/var/folders/9w/783wdyf54fb3b79gq32y3t4h0000gn/T/ipykernel_19541/692568148.py:107: FutureWarning: The frame.append method is deprecated and will be removed from pandas in a future version. Use pandas.concat instead.\n",
      "  df_history = df_history.append(scaled_df, ignore_index = True)\n"
     ]
    },
    {
     "name": "stdout",
     "output_type": "stream",
     "text": [
      "\n",
      "######################\n",
      "candle closed at 2068.61\n",
      "\n",
      "Back Propogate... \n",
      "\n",
      "CORRECT?:  -2.9171969890594482 -2.8736746311187744 -2.907171723381596\n",
      "COUNTBUY:  23 CORRECTBUY:  8 COUNTDONTBUY:  19 CORRECTDONTBUY:  4\n",
      "NEW PRICE:  2068.61 BOUGHT PRICE:  -2.907171723381596 CHANGE:  -2.6299999999996544 MONEY:  -18.249999999999545\n",
      "Current Close Scaled:  -2.9171970183226383\n",
      "PREDICTION tensor([[-2.8845]], grad_fn=<AddmmBackward0>)\n",
      "BUY AT:  2068.61 TIME:  1652431440000\n"
     ]
    },
    {
     "name": "stderr",
     "output_type": "stream",
     "text": [
      "/var/folders/9w/783wdyf54fb3b79gq32y3t4h0000gn/T/ipykernel_19541/692568148.py:107: FutureWarning: The frame.append method is deprecated and will be removed from pandas in a future version. Use pandas.concat instead.\n",
      "  df_history = df_history.append(scaled_df, ignore_index = True)\n"
     ]
    },
    {
     "name": "stdout",
     "output_type": "stream",
     "text": [
      "\n",
      "######################\n",
      "candle closed at 2076.45\n",
      "\n",
      "Back Propogate... \n",
      "\n",
      "CORRECT?:  -2.8873116970062256 -2.8844659328460693 -2.9171970183226383\n",
      "COUNTBUY:  24 CORRECTBUY:  9 COUNTDONTBUY:  19 CORRECTDONTBUY:  4\n",
      "NEW PRICE:  2076.45 BOUGHT PRICE:  -2.9171970183226383 CHANGE:  7.839999999999691 MONEY:  -10.409999999999854\n",
      "Current Close Scaled:  -2.8873117284603644\n",
      "PREDICTION tensor([[-2.8944]], grad_fn=<AddmmBackward0>)\n",
      "DONT BUY\n"
     ]
    },
    {
     "name": "stderr",
     "output_type": "stream",
     "text": [
      "/var/folders/9w/783wdyf54fb3b79gq32y3t4h0000gn/T/ipykernel_19541/692568148.py:107: FutureWarning: The frame.append method is deprecated and will be removed from pandas in a future version. Use pandas.concat instead.\n",
      "  df_history = df_history.append(scaled_df, ignore_index = True)\n"
     ]
    },
    {
     "name": "stdout",
     "output_type": "stream",
     "text": [
      "\n",
      "######################\n",
      "candle closed at 2074.95\n",
      "\n",
      "Back Propogate... \n",
      "\n",
      "CORRECT?:  -2.8930296897888184 -2.8944315910339355 -2.8873117284603644\n",
      "COUNTBUY:  24 CORRECTBUY:  9 COUNTDONTBUY:  20 CORRECTDONTBUY:  5\n",
      "Current Close Scaled:  -2.893029577286055\n",
      "PREDICTION tensor([[-2.9030]], grad_fn=<AddmmBackward0>)\n",
      "DONT BUY\n"
     ]
    },
    {
     "name": "stderr",
     "output_type": "stream",
     "text": [
      "/var/folders/9w/783wdyf54fb3b79gq32y3t4h0000gn/T/ipykernel_19541/692568148.py:107: FutureWarning: The frame.append method is deprecated and will be removed from pandas in a future version. Use pandas.concat instead.\n",
      "  df_history = df_history.append(scaled_df, ignore_index = True)\n"
     ]
    },
    {
     "name": "stdout",
     "output_type": "stream",
     "text": [
      "\n",
      "######################\n",
      "candle closed at 2070.79\n",
      "\n",
      "Back Propogate... \n",
      "\n",
      "CORRECT?:  -2.9088871479034424 -2.9029970169067383 -2.893029577286055\n",
      "COUNTBUY:  24 CORRECTBUY:  9 COUNTDONTBUY:  21 CORRECTDONTBUY:  6\n",
      "Current Close Scaled:  -2.908887078029302\n",
      "PREDICTION tensor([[-2.9115]], grad_fn=<AddmmBackward0>)\n",
      "DONT BUY\n"
     ]
    },
    {
     "name": "stderr",
     "output_type": "stream",
     "text": [
      "/var/folders/9w/783wdyf54fb3b79gq32y3t4h0000gn/T/ipykernel_19541/692568148.py:107: FutureWarning: The frame.append method is deprecated and will be removed from pandas in a future version. Use pandas.concat instead.\n",
      "  df_history = df_history.append(scaled_df, ignore_index = True)\n"
     ]
    },
    {
     "name": "stdout",
     "output_type": "stream",
     "text": [
      "\n",
      "######################\n",
      "candle closed at 2065.44\n",
      "\n",
      "Back Propogate... \n",
      "\n",
      "CORRECT?:  -2.9292807579040527 -2.9115405082702637 -2.908887078029302\n",
      "COUNTBUY:  24 CORRECTBUY:  9 COUNTDONTBUY:  22 CORRECTDONTBUY:  7\n",
      "Current Close Scaled:  -2.9292807388409305\n",
      "PREDICTION tensor([[-2.9221]], grad_fn=<AddmmBackward0>)\n",
      "BUY AT:  2065.44 TIME:  1652431680000\n"
     ]
    },
    {
     "name": "stderr",
     "output_type": "stream",
     "text": [
      "/var/folders/9w/783wdyf54fb3b79gq32y3t4h0000gn/T/ipykernel_19541/692568148.py:107: FutureWarning: The frame.append method is deprecated and will be removed from pandas in a future version. Use pandas.concat instead.\n",
      "  df_history = df_history.append(scaled_df, ignore_index = True)\n"
     ]
    },
    {
     "name": "stdout",
     "output_type": "stream",
     "text": [
      "\n",
      "######################\n",
      "candle closed at 2062.35\n",
      "\n",
      "Back Propogate... \n",
      "\n",
      "CORRECT?:  -2.9410595893859863 -2.9220869541168213 -2.9292807388409305\n",
      "COUNTBUY:  25 CORRECTBUY:  9 COUNTDONTBUY:  22 CORRECTDONTBUY:  7\n",
      "NEW PRICE:  2062.35 BOUGHT PRICE:  -2.9292807388409305 CHANGE:  -3.0900000000001455 MONEY:  -13.5\n",
      "Current Close Scaled:  -2.9410595074218535\n",
      "PREDICTION tensor([[-2.9348]], grad_fn=<AddmmBackward0>)\n",
      "BUY AT:  2062.35 TIME:  1652431740000\n"
     ]
    },
    {
     "name": "stderr",
     "output_type": "stream",
     "text": [
      "/var/folders/9w/783wdyf54fb3b79gq32y3t4h0000gn/T/ipykernel_19541/692568148.py:107: FutureWarning: The frame.append method is deprecated and will be removed from pandas in a future version. Use pandas.concat instead.\n",
      "  df_history = df_history.append(scaled_df, ignore_index = True)\n"
     ]
    },
    {
     "name": "stdout",
     "output_type": "stream",
     "text": [
      "\n",
      "######################\n",
      "candle closed at 2067.49\n",
      "\n",
      "Back Propogate... \n",
      "\n",
      "CORRECT?:  -2.92146635055542 -2.9347686767578125 -2.9410595074218535\n",
      "COUNTBUY:  26 CORRECTBUY:  10 COUNTDONTBUY:  22 CORRECTDONTBUY:  7\n",
      "NEW PRICE:  2067.49 BOUGHT PRICE:  -2.9410595074218535 CHANGE:  5.139999999999873 MONEY:  -8.360000000000127\n",
      "Current Close Scaled:  -2.921466345445822\n",
      "PREDICTION tensor([[-2.8632]], grad_fn=<AddmmBackward0>)\n",
      "BUY AT:  2067.49 TIME:  1652431800000\n"
     ]
    },
    {
     "name": "stderr",
     "output_type": "stream",
     "text": [
      "/var/folders/9w/783wdyf54fb3b79gq32y3t4h0000gn/T/ipykernel_19541/692568148.py:107: FutureWarning: The frame.append method is deprecated and will be removed from pandas in a future version. Use pandas.concat instead.\n",
      "  df_history = df_history.append(scaled_df, ignore_index = True)\n"
     ]
    },
    {
     "name": "stdout",
     "output_type": "stream",
     "text": [
      "\n",
      "######################\n",
      "candle closed at 2067.66\n",
      "\n",
      "Back Propogate... \n",
      "\n",
      "CORRECT?:  -2.920818328857422 -2.8631677627563477 -2.921466345445822\n",
      "COUNTBUY:  27 CORRECTBUY:  11 COUNTDONTBUY:  22 CORRECTDONTBUY:  7\n",
      "NEW PRICE:  2067.66 BOUGHT PRICE:  -2.921466345445822 CHANGE:  0.17000000000007276 MONEY:  -8.190000000000055\n",
      "Current Close Scaled:  -2.92081832257891\n",
      "PREDICTION tensor([[-2.9645]], grad_fn=<AddmmBackward0>)\n",
      "DONT BUY\n"
     ]
    },
    {
     "name": "stderr",
     "output_type": "stream",
     "text": [
      "/var/folders/9w/783wdyf54fb3b79gq32y3t4h0000gn/T/ipykernel_19541/692568148.py:107: FutureWarning: The frame.append method is deprecated and will be removed from pandas in a future version. Use pandas.concat instead.\n",
      "  df_history = df_history.append(scaled_df, ignore_index = True)\n"
     ]
    },
    {
     "name": "stdout",
     "output_type": "stream",
     "text": [
      "\n",
      "######################\n",
      "candle closed at 2063.79\n",
      "\n",
      "Back Propogate... \n",
      "\n",
      "CORRECT?:  -2.935570478439331 -2.9645204544067383 -2.92081832257891\n",
      "COUNTBUY:  27 CORRECTBUY:  11 COUNTDONTBUY:  23 CORRECTDONTBUY:  8\n",
      "Current Close Scaled:  -2.9355703725491904\n",
      "PREDICTION tensor([[-2.9780]], grad_fn=<AddmmBackward0>)\n",
      "DONT BUY\n"
     ]
    },
    {
     "name": "stderr",
     "output_type": "stream",
     "text": [
      "/var/folders/9w/783wdyf54fb3b79gq32y3t4h0000gn/T/ipykernel_19541/692568148.py:107: FutureWarning: The frame.append method is deprecated and will be removed from pandas in a future version. Use pandas.concat instead.\n",
      "  df_history = df_history.append(scaled_df, ignore_index = True)\n"
     ]
    },
    {
     "name": "stdout",
     "output_type": "stream",
     "text": [
      "\n",
      "######################\n",
      "candle closed at 2065.96\n",
      "\n",
      "Back Propogate... \n",
      "\n",
      "CORRECT?:  -2.9272985458374023 -2.977982759475708 -2.9355703725491904\n",
      "COUNTBUY:  27 CORRECTBUY:  11 COUNTDONTBUY:  24 CORRECTDONTBUY:  8\n",
      "Current Close Scaled:  -2.927298551248025\n",
      "PREDICTION tensor([[-3.0145]], grad_fn=<AddmmBackward0>)\n",
      "DONT BUY\n"
     ]
    },
    {
     "name": "stderr",
     "output_type": "stream",
     "text": [
      "/var/folders/9w/783wdyf54fb3b79gq32y3t4h0000gn/T/ipykernel_19541/692568148.py:107: FutureWarning: The frame.append method is deprecated and will be removed from pandas in a future version. Use pandas.concat instead.\n",
      "  df_history = df_history.append(scaled_df, ignore_index = True)\n"
     ]
    },
    {
     "name": "stdout",
     "output_type": "stream",
     "text": [
      "\n",
      "######################\n",
      "candle closed at 2064.77\n",
      "\n",
      "Back Propogate... \n",
      "\n",
      "CORRECT?:  -2.9318346977233887 -3.014549732208252 -2.927298551248025\n",
      "COUNTBUY:  27 CORRECTBUY:  11 COUNTDONTBUY:  25 CORRECTDONTBUY:  9\n",
      "Current Close Scaled:  -2.931834711316406\n",
      "PREDICTION tensor([[-2.9713]], grad_fn=<AddmmBackward0>)\n",
      "DONT BUY\n"
     ]
    },
    {
     "name": "stderr",
     "output_type": "stream",
     "text": [
      "/var/folders/9w/783wdyf54fb3b79gq32y3t4h0000gn/T/ipykernel_19541/692568148.py:107: FutureWarning: The frame.append method is deprecated and will be removed from pandas in a future version. Use pandas.concat instead.\n",
      "  df_history = df_history.append(scaled_df, ignore_index = True)\n"
     ]
    },
    {
     "name": "stdout",
     "output_type": "stream",
     "text": [
      "\n",
      "######################\n",
      "candle closed at 2068.92\n",
      "\n",
      "Back Propogate... \n",
      "\n",
      "CORRECT?:  -2.916015386581421 -2.971348285675049 -2.931834711316406\n",
      "COUNTBUY:  27 CORRECTBUY:  11 COUNTDONTBUY:  26 CORRECTDONTBUY:  9\n",
      "Current Close Scaled:  -2.916015329565329\n",
      "PREDICTION tensor([[-2.9448]], grad_fn=<AddmmBackward0>)\n",
      "DONT BUY\n"
     ]
    },
    {
     "name": "stderr",
     "output_type": "stream",
     "text": [
      "/var/folders/9w/783wdyf54fb3b79gq32y3t4h0000gn/T/ipykernel_19541/692568148.py:107: FutureWarning: The frame.append method is deprecated and will be removed from pandas in a future version. Use pandas.concat instead.\n",
      "  df_history = df_history.append(scaled_df, ignore_index = True)\n"
     ]
    },
    {
     "name": "stdout",
     "output_type": "stream",
     "text": [
      "\n",
      "######################\n",
      "candle closed at 2067.08\n",
      "\n",
      "Back Propogate... \n",
      "\n",
      "CORRECT?:  -2.9230291843414307 -2.944756031036377 -2.916015329565329\n",
      "COUNTBUY:  27 CORRECTBUY:  11 COUNTDONTBUY:  27 CORRECTDONTBUY:  10\n",
      "Current Close Scaled:  -2.9230292241248432\n",
      "PREDICTION tensor([[-2.9434]], grad_fn=<AddmmBackward0>)\n",
      "DONT BUY\n"
     ]
    },
    {
     "name": "stderr",
     "output_type": "stream",
     "text": [
      "/var/folders/9w/783wdyf54fb3b79gq32y3t4h0000gn/T/ipykernel_19541/692568148.py:107: FutureWarning: The frame.append method is deprecated and will be removed from pandas in a future version. Use pandas.concat instead.\n",
      "  df_history = df_history.append(scaled_df, ignore_index = True)\n"
     ]
    },
    {
     "name": "stdout",
     "output_type": "stream",
     "text": [
      "\n",
      "######################\n",
      "candle closed at 2065.56\n",
      "\n",
      "Back Propogate... \n",
      "\n",
      "CORRECT?:  -2.928823232650757 -2.9433584213256836 -2.9230292241248432\n",
      "COUNTBUY:  27 CORRECTBUY:  11 COUNTDONTBUY:  28 CORRECTDONTBUY:  11\n",
      "Current Close Scaled:  -2.928823310934876\n",
      "PREDICTION tensor([[-2.9002]], grad_fn=<AddmmBackward0>)\n",
      "BUY AT:  2065.56 TIME:  1652432220000\n"
     ]
    },
    {
     "name": "stderr",
     "output_type": "stream",
     "text": [
      "/var/folders/9w/783wdyf54fb3b79gq32y3t4h0000gn/T/ipykernel_19541/692568148.py:107: FutureWarning: The frame.append method is deprecated and will be removed from pandas in a future version. Use pandas.concat instead.\n",
      "  df_history = df_history.append(scaled_df, ignore_index = True)\n"
     ]
    },
    {
     "name": "stdout",
     "output_type": "stream",
     "text": [
      "\n",
      "######################\n",
      "candle closed at 2067.67\n",
      "\n",
      "Back Propogate... \n",
      "\n",
      "CORRECT?:  -2.9207801818847656 -2.9002413749694824 -2.928823310934876\n",
      "COUNTBUY:  28 CORRECTBUY:  12 COUNTDONTBUY:  28 CORRECTDONTBUY:  11\n",
      "NEW PRICE:  2067.67 BOUGHT PRICE:  -2.928823310934876 CHANGE:  2.1100000000001273 MONEY:  -6.079999999999927\n",
      "Current Close Scaled:  -2.920780203586738\n",
      "PREDICTION tensor([[-2.8876]], grad_fn=<AddmmBackward0>)\n",
      "BUY AT:  2067.67 TIME:  1652432280000\n"
     ]
    },
    {
     "name": "stderr",
     "output_type": "stream",
     "text": [
      "/var/folders/9w/783wdyf54fb3b79gq32y3t4h0000gn/T/ipykernel_19541/692568148.py:107: FutureWarning: The frame.append method is deprecated and will be removed from pandas in a future version. Use pandas.concat instead.\n",
      "  df_history = df_history.append(scaled_df, ignore_index = True)\n"
     ]
    },
    {
     "name": "stdout",
     "output_type": "stream",
     "text": [
      "\n",
      "######################\n",
      "candle closed at 2068.88\n",
      "\n",
      "Back Propogate... \n",
      "\n",
      "CORRECT?:  -2.916167736053467 -2.8875880241394043 -2.920780203586738\n",
      "COUNTBUY:  29 CORRECTBUY:  13 COUNTDONTBUY:  28 CORRECTDONTBUY:  11\n",
      "NEW PRICE:  2068.88 BOUGHT PRICE:  -2.920780203586738 CHANGE:  1.2100000000000364 MONEY:  -4.869999999999891\n",
      "Current Close Scaled:  -2.916167805534014\n",
      "PREDICTION tensor([[-2.8848]], grad_fn=<AddmmBackward0>)\n",
      "BUY AT:  2068.88 TIME:  1652432340000\n"
     ]
    },
    {
     "name": "stderr",
     "output_type": "stream",
     "text": [
      "/var/folders/9w/783wdyf54fb3b79gq32y3t4h0000gn/T/ipykernel_19541/692568148.py:107: FutureWarning: The frame.append method is deprecated and will be removed from pandas in a future version. Use pandas.concat instead.\n",
      "  df_history = df_history.append(scaled_df, ignore_index = True)\n"
     ]
    },
    {
     "name": "stdout",
     "output_type": "stream",
     "text": [
      "\n",
      "######################\n",
      "candle closed at 2069.76\n",
      "\n",
      "Back Propogate... \n",
      "\n",
      "CORRECT?:  -2.912813425064087 -2.8847854137420654 -2.916167805534014\n",
      "COUNTBUY:  30 CORRECTBUY:  14 COUNTDONTBUY:  28 CORRECTDONTBUY:  11\n",
      "NEW PRICE:  2069.76 BOUGHT PRICE:  -2.916167805534014 CHANGE:  0.8800000000001091 MONEY:  -3.9899999999997817\n",
      "Current Close Scaled:  -2.912813334222942\n",
      "PREDICTION tensor([[-2.8693]], grad_fn=<AddmmBackward0>)\n",
      "BUY AT:  2069.76 TIME:  1652432400000\n"
     ]
    },
    {
     "name": "stderr",
     "output_type": "stream",
     "text": [
      "/var/folders/9w/783wdyf54fb3b79gq32y3t4h0000gn/T/ipykernel_19541/692568148.py:107: FutureWarning: The frame.append method is deprecated and will be removed from pandas in a future version. Use pandas.concat instead.\n",
      "  df_history = df_history.append(scaled_df, ignore_index = True)\n"
     ]
    },
    {
     "name": "stdout",
     "output_type": "stream",
     "text": [
      "\n",
      "######################\n",
      "candle closed at 2073.54\n",
      "\n",
      "Back Propogate... \n",
      "\n",
      "CORRECT?:  -2.898404359817505 -2.869333505630493 -2.912813334222942\n",
      "COUNTBUY:  31 CORRECTBUY:  15 COUNTDONTBUY:  28 CORRECTDONTBUY:  11\n",
      "NEW PRICE:  2073.54 BOUGHT PRICE:  -2.912813334222942 CHANGE:  3.7799999999997453 MONEY:  -0.21000000000003638\n",
      "Current Close Scaled:  -2.8984043551822034\n",
      "PREDICTION tensor([[-2.8386]], grad_fn=<AddmmBackward0>)\n",
      "BUY AT:  2073.54 TIME:  1652432460000\n"
     ]
    },
    {
     "name": "stderr",
     "output_type": "stream",
     "text": [
      "/var/folders/9w/783wdyf54fb3b79gq32y3t4h0000gn/T/ipykernel_19541/692568148.py:107: FutureWarning: The frame.append method is deprecated and will be removed from pandas in a future version. Use pandas.concat instead.\n",
      "  df_history = df_history.append(scaled_df, ignore_index = True)\n"
     ]
    },
    {
     "name": "stdout",
     "output_type": "stream",
     "text": [
      "\n",
      "######################\n",
      "candle closed at 2072.61\n",
      "\n",
      "Back Propogate... \n",
      "\n",
      "CORRECT?:  -2.901949405670166 -2.838590383529663 -2.8984043551822034\n",
      "COUNTBUY:  32 CORRECTBUY:  15 COUNTDONTBUY:  28 CORRECTDONTBUY:  11\n",
      "NEW PRICE:  2072.61 BOUGHT PRICE:  -2.8984043551822034 CHANGE:  -0.9299999999998363 MONEY:  -1.1399999999998727\n",
      "Current Close Scaled:  -2.901949421454131\n",
      "PREDICTION tensor([[-2.8630]], grad_fn=<AddmmBackward0>)\n",
      "BUY AT:  2072.61 TIME:  1652432520000\n"
     ]
    },
    {
     "name": "stderr",
     "output_type": "stream",
     "text": [
      "/var/folders/9w/783wdyf54fb3b79gq32y3t4h0000gn/T/ipykernel_19541/692568148.py:107: FutureWarning: The frame.append method is deprecated and will be removed from pandas in a future version. Use pandas.concat instead.\n",
      "  df_history = df_history.append(scaled_df, ignore_index = True)\n"
     ]
    },
    {
     "name": "stdout",
     "output_type": "stream",
     "text": [
      "\n",
      "######################\n",
      "candle closed at 2075.54\n",
      "\n",
      "Back Propogate... \n",
      "\n",
      "CORRECT?:  -2.890780448913574 -2.8630332946777344 -2.901949421454131\n",
      "COUNTBUY:  33 CORRECTBUY:  16 COUNTDONTBUY:  28 CORRECTDONTBUY:  11\n",
      "NEW PRICE:  2075.54 BOUGHT PRICE:  -2.901949421454131 CHANGE:  2.9299999999998363 MONEY:  1.7899999999999636\n",
      "Current Close Scaled:  -2.8907805567479494\n",
      "PREDICTION tensor([[-2.8326]], grad_fn=<AddmmBackward0>)\n",
      "BUY AT:  2075.54 TIME:  1652432580000\n"
     ]
    },
    {
     "name": "stderr",
     "output_type": "stream",
     "text": [
      "/var/folders/9w/783wdyf54fb3b79gq32y3t4h0000gn/T/ipykernel_19541/692568148.py:107: FutureWarning: The frame.append method is deprecated and will be removed from pandas in a future version. Use pandas.concat instead.\n",
      "  df_history = df_history.append(scaled_df, ignore_index = True)\n"
     ]
    },
    {
     "name": "stdout",
     "output_type": "stream",
     "text": [
      "\n",
      "######################\n",
      "candle closed at 2077.95\n",
      "\n",
      "Back Propogate... \n",
      "\n",
      "CORRECT?:  -2.881593942642212 -2.832568883895874 -2.8907805567479494\n",
      "COUNTBUY:  34 CORRECTBUY:  17 COUNTDONTBUY:  28 CORRECTDONTBUY:  11\n",
      "NEW PRICE:  2077.95 BOUGHT PRICE:  -2.8907805567479494 CHANGE:  2.4099999999998545 MONEY:  4.199999999999818\n",
      "Current Close Scaled:  -2.881593879634674\n",
      "PREDICTION tensor([[-2.8926]], grad_fn=<AddmmBackward0>)\n",
      "DONT BUY\n"
     ]
    },
    {
     "name": "stderr",
     "output_type": "stream",
     "text": [
      "/var/folders/9w/783wdyf54fb3b79gq32y3t4h0000gn/T/ipykernel_19541/692568148.py:107: FutureWarning: The frame.append method is deprecated and will be removed from pandas in a future version. Use pandas.concat instead.\n",
      "  df_history = df_history.append(scaled_df, ignore_index = True)\n"
     ]
    },
    {
     "name": "stdout",
     "output_type": "stream",
     "text": [
      "\n",
      "######################\n",
      "candle closed at 2081.14\n",
      "\n",
      "Back Propogate... \n",
      "\n",
      "CORRECT?:  -2.869433879852295 -2.8926310539245605 -2.881593879634674\n",
      "COUNTBUY:  34 CORRECTBUY:  17 COUNTDONTBUY:  29 CORRECTDONTBUY:  11\n",
      "Current Close Scaled:  -2.8694339211320394\n",
      "PREDICTION tensor([[-2.8991]], grad_fn=<AddmmBackward0>)\n",
      "DONT BUY\n"
     ]
    },
    {
     "name": "stderr",
     "output_type": "stream",
     "text": [
      "/var/folders/9w/783wdyf54fb3b79gq32y3t4h0000gn/T/ipykernel_19541/692568148.py:107: FutureWarning: The frame.append method is deprecated and will be removed from pandas in a future version. Use pandas.concat instead.\n",
      "  df_history = df_history.append(scaled_df, ignore_index = True)\n"
     ]
    },
    {
     "name": "stdout",
     "output_type": "stream",
     "text": [
      "\n",
      "######################\n",
      "candle closed at 2075.22\n",
      "\n",
      "Back Propogate... \n",
      "\n",
      "CORRECT?:  -2.892000436782837 -2.8991386890411377 -2.8694339211320394\n",
      "COUNTBUY:  34 CORRECTBUY:  17 COUNTDONTBUY:  30 CORRECTDONTBUY:  12\n",
      "Current Close Scaled:  -2.892000364497431\n",
      "PREDICTION tensor([[-2.9039]], grad_fn=<AddmmBackward0>)\n",
      "DONT BUY\n"
     ]
    },
    {
     "name": "stderr",
     "output_type": "stream",
     "text": [
      "/var/folders/9w/783wdyf54fb3b79gq32y3t4h0000gn/T/ipykernel_19541/692568148.py:107: FutureWarning: The frame.append method is deprecated and will be removed from pandas in a future version. Use pandas.concat instead.\n",
      "  df_history = df_history.append(scaled_df, ignore_index = True)\n"
     ]
    },
    {
     "name": "stdout",
     "output_type": "stream",
     "text": [
      "\n",
      "######################\n",
      "candle closed at 2077.0\n",
      "\n",
      "Back Propogate... \n",
      "\n",
      "CORRECT?:  -2.8852152824401855 -2.903892993927002 -2.892000364497431\n",
      "COUNTBUY:  34 CORRECTBUY:  17 COUNTDONTBUY:  31 CORRECTDONTBUY:  12\n",
      "Current Close Scaled:  -2.8852151838909443\n",
      "PREDICTION tensor([[-2.9055]], grad_fn=<AddmmBackward0>)\n",
      "DONT BUY\n"
     ]
    },
    {
     "name": "stderr",
     "output_type": "stream",
     "text": [
      "/var/folders/9w/783wdyf54fb3b79gq32y3t4h0000gn/T/ipykernel_19541/692568148.py:107: FutureWarning: The frame.append method is deprecated and will be removed from pandas in a future version. Use pandas.concat instead.\n",
      "  df_history = df_history.append(scaled_df, ignore_index = True)\n"
     ]
    },
    {
     "name": "stdout",
     "output_type": "stream",
     "text": [
      "\n",
      "######################\n",
      "candle closed at 2081.48\n",
      "\n",
      "Back Propogate... \n",
      "\n",
      "CORRECT?:  -2.868137836456299 -2.9054954051971436 -2.8852151838909443\n",
      "COUNTBUY:  34 CORRECTBUY:  17 COUNTDONTBUY:  32 CORRECTDONTBUY:  12\n",
      "Current Close Scaled:  -2.8681378753982156\n",
      "PREDICTION tensor([[-2.9010]], grad_fn=<AddmmBackward0>)\n",
      "DONT BUY\n"
     ]
    },
    {
     "name": "stderr",
     "output_type": "stream",
     "text": [
      "/var/folders/9w/783wdyf54fb3b79gq32y3t4h0000gn/T/ipykernel_19541/692568148.py:107: FutureWarning: The frame.append method is deprecated and will be removed from pandas in a future version. Use pandas.concat instead.\n",
      "  df_history = df_history.append(scaled_df, ignore_index = True)\n"
     ]
    },
    {
     "name": "stdout",
     "output_type": "stream",
     "text": [
      "\n",
      "######################\n",
      "candle closed at 2073.96\n",
      "\n",
      "Back Propogate... \n",
      "\n",
      "CORRECT?:  -2.896803379058838 -2.9010348320007324 -2.8681378753982156\n",
      "COUNTBUY:  34 CORRECTBUY:  17 COUNTDONTBUY:  33 CORRECTDONTBUY:  13\n",
      "Current Close Scaled:  -2.89680335751101\n",
      "PREDICTION tensor([[-2.8978]], grad_fn=<AddmmBackward0>)\n",
      "DONT BUY\n"
     ]
    },
    {
     "name": "stderr",
     "output_type": "stream",
     "text": [
      "/var/folders/9w/783wdyf54fb3b79gq32y3t4h0000gn/T/ipykernel_19541/692568148.py:107: FutureWarning: The frame.append method is deprecated and will be removed from pandas in a future version. Use pandas.concat instead.\n",
      "  df_history = df_history.append(scaled_df, ignore_index = True)\n"
     ]
    },
    {
     "name": "stdout",
     "output_type": "stream",
     "text": [
      "\n",
      "######################\n",
      "candle closed at 2081.98\n",
      "\n",
      "Back Propogate... \n",
      "\n",
      "CORRECT?:  -2.866231918334961 -2.897753953933716 -2.89680335751101\n",
      "COUNTBUY:  34 CORRECTBUY:  17 COUNTDONTBUY:  34 CORRECTDONTBUY:  13\n",
      "Current Close Scaled:  -2.866231925789652\n",
      "PREDICTION tensor([[-2.8840]], grad_fn=<AddmmBackward0>)\n",
      "DONT BUY\n"
     ]
    },
    {
     "name": "stderr",
     "output_type": "stream",
     "text": [
      "/var/folders/9w/783wdyf54fb3b79gq32y3t4h0000gn/T/ipykernel_19541/692568148.py:107: FutureWarning: The frame.append method is deprecated and will be removed from pandas in a future version. Use pandas.concat instead.\n",
      "  df_history = df_history.append(scaled_df, ignore_index = True)\n"
     ]
    },
    {
     "name": "stdout",
     "output_type": "stream",
     "text": [
      "\n",
      "######################\n",
      "candle closed at 2082.99\n",
      "\n",
      "Back Propogate... \n",
      "\n",
      "CORRECT?:  -2.862381935119629 -2.883981227874756 -2.866231925789652\n",
      "COUNTBUY:  34 CORRECTBUY:  17 COUNTDONTBUY:  35 CORRECTDONTBUY:  13\n",
      "Current Close Scaled:  -2.862381907580355\n",
      "PREDICTION tensor([[-2.8726]], grad_fn=<AddmmBackward0>)\n",
      "DONT BUY\n"
     ]
    },
    {
     "name": "stderr",
     "output_type": "stream",
     "text": [
      "/var/folders/9w/783wdyf54fb3b79gq32y3t4h0000gn/T/ipykernel_19541/692568148.py:107: FutureWarning: The frame.append method is deprecated and will be removed from pandas in a future version. Use pandas.concat instead.\n",
      "  df_history = df_history.append(scaled_df, ignore_index = True)\n"
     ]
    },
    {
     "name": "stdout",
     "output_type": "stream",
     "text": [
      "\n",
      "######################\n",
      "candle closed at 2085.06\n",
      "\n",
      "Back Propogate... \n",
      "\n",
      "CORRECT?:  -2.8544912338256836 -2.8726437091827393 -2.862381907580355\n",
      "COUNTBUY:  34 CORRECTBUY:  17 COUNTDONTBUY:  36 CORRECTDONTBUY:  13\n",
      "Current Close Scaled:  -2.8544912762009016\n",
      "PREDICTION tensor([[-2.8728]], grad_fn=<AddmmBackward0>)\n",
      "DONT BUY\n"
     ]
    },
    {
     "name": "stderr",
     "output_type": "stream",
     "text": [
      "/var/folders/9w/783wdyf54fb3b79gq32y3t4h0000gn/T/ipykernel_19541/692568148.py:107: FutureWarning: The frame.append method is deprecated and will be removed from pandas in a future version. Use pandas.concat instead.\n",
      "  df_history = df_history.append(scaled_df, ignore_index = True)\n"
     ]
    },
    {
     "name": "stdout",
     "output_type": "stream",
     "text": [
      "\n",
      "######################\n",
      "candle closed at 2082.37\n",
      "\n",
      "Back Propogate... \n",
      "\n",
      "CORRECT?:  -2.8647453784942627 -2.872795343399048 -2.8544912762009016\n",
      "COUNTBUY:  34 CORRECTBUY:  17 COUNTDONTBUY:  37 CORRECTDONTBUY:  14\n",
      "Current Close Scaled:  -2.864745285094973\n",
      "PREDICTION tensor([[-2.8635]], grad_fn=<AddmmBackward0>)\n",
      "BUY AT:  2082.37 TIME:  1652433180000\n"
     ]
    },
    {
     "name": "stderr",
     "output_type": "stream",
     "text": [
      "/var/folders/9w/783wdyf54fb3b79gq32y3t4h0000gn/T/ipykernel_19541/692568148.py:107: FutureWarning: The frame.append method is deprecated and will be removed from pandas in a future version. Use pandas.concat instead.\n",
      "  df_history = df_history.append(scaled_df, ignore_index = True)\n"
     ]
    },
    {
     "name": "stdout",
     "output_type": "stream",
     "text": [
      "\n",
      "######################\n",
      "candle closed at 2083.46\n",
      "\n",
      "Back Propogate... \n",
      "\n",
      "CORRECT?:  -2.8605902194976807 -2.863501787185669 -2.864745285094973\n",
      "COUNTBUY:  35 CORRECTBUY:  18 COUNTDONTBUY:  37 CORRECTDONTBUY:  14\n",
      "NEW PRICE:  2083.46 BOUGHT PRICE:  -2.864745285094973 CHANGE:  1.0900000000001455 MONEY:  5.289999999999964\n",
      "Current Close Scaled:  -2.860590314948304\n",
      "PREDICTION tensor([[-2.8651]], grad_fn=<AddmmBackward0>)\n",
      "DONT BUY\n"
     ]
    },
    {
     "name": "stderr",
     "output_type": "stream",
     "text": [
      "/var/folders/9w/783wdyf54fb3b79gq32y3t4h0000gn/T/ipykernel_19541/692568148.py:107: FutureWarning: The frame.append method is deprecated and will be removed from pandas in a future version. Use pandas.concat instead.\n",
      "  df_history = df_history.append(scaled_df, ignore_index = True)\n"
     ]
    },
    {
     "name": "stdout",
     "output_type": "stream",
     "text": [
      "\n",
      "######################\n",
      "candle closed at 2088.9\n",
      "\n",
      "Back Propogate... \n",
      "\n",
      "CORRECT?:  -2.839853525161743 -2.865131139755249 -2.860590314948304\n",
      "COUNTBUY:  35 CORRECTBUY:  18 COUNTDONTBUY:  38 CORRECTDONTBUY:  14\n",
      "Current Close Scaled:  -2.839853583207134\n",
      "PREDICTION tensor([[-2.8468]], grad_fn=<AddmmBackward0>)\n",
      "DONT BUY\n"
     ]
    },
    {
     "name": "stderr",
     "output_type": "stream",
     "text": [
      "/var/folders/9w/783wdyf54fb3b79gq32y3t4h0000gn/T/ipykernel_19541/692568148.py:107: FutureWarning: The frame.append method is deprecated and will be removed from pandas in a future version. Use pandas.concat instead.\n",
      "  df_history = df_history.append(scaled_df, ignore_index = True)\n"
     ]
    },
    {
     "name": "stdout",
     "output_type": "stream",
     "text": [
      "\n",
      "######################\n",
      "candle closed at 2092.57\n",
      "\n",
      "Back Propogate... \n",
      "\n",
      "CORRECT?:  -2.825863838195801 -2.846796989440918 -2.839853583207134\n",
      "COUNTBUY:  35 CORRECTBUY:  18 COUNTDONTBUY:  39 CORRECTDONTBUY:  14\n",
      "Current Close Scaled:  -2.825863913080278\n",
      "PREDICTION tensor([[-2.8497]], grad_fn=<AddmmBackward0>)\n",
      "DONT BUY\n"
     ]
    },
    {
     "name": "stderr",
     "output_type": "stream",
     "text": [
      "/var/folders/9w/783wdyf54fb3b79gq32y3t4h0000gn/T/ipykernel_19541/692568148.py:107: FutureWarning: The frame.append method is deprecated and will be removed from pandas in a future version. Use pandas.concat instead.\n",
      "  df_history = df_history.append(scaled_df, ignore_index = True)\n"
     ]
    },
    {
     "name": "stdout",
     "output_type": "stream",
     "text": [
      "\n",
      "######################\n",
      "candle closed at 2091.76\n",
      "\n",
      "Back Propogate... \n",
      "\n",
      "CORRECT?:  -2.828951597213745 -2.849658489227295 -2.825863913080278\n",
      "COUNTBUY:  35 CORRECTBUY:  18 COUNTDONTBUY:  40 CORRECTDONTBUY:  15\n",
      "Current Close Scaled:  -2.8289515514461505\n",
      "PREDICTION tensor([[-2.8252]], grad_fn=<AddmmBackward0>)\n",
      "BUY AT:  2091.76 TIME:  1652433420000\n"
     ]
    },
    {
     "name": "stderr",
     "output_type": "stream",
     "text": [
      "/var/folders/9w/783wdyf54fb3b79gq32y3t4h0000gn/T/ipykernel_19541/692568148.py:107: FutureWarning: The frame.append method is deprecated and will be removed from pandas in a future version. Use pandas.concat instead.\n",
      "  df_history = df_history.append(scaled_df, ignore_index = True)\n"
     ]
    },
    {
     "name": "stdout",
     "output_type": "stream",
     "text": [
      "\n",
      "######################\n",
      "candle closed at 2090.78\n",
      "\n",
      "Back Propogate... \n",
      "\n",
      "CORRECT?:  -2.8326871395111084 -2.8251850605010986 -2.8289515514461505\n",
      "COUNTBUY:  36 CORRECTBUY:  18 COUNTDONTBUY:  40 CORRECTDONTBUY:  15\n",
      "NEW PRICE:  2090.78 BOUGHT PRICE:  -2.8289515514461505 CHANGE:  -0.9800000000000182 MONEY:  4.309999999999945\n",
      "Current Close Scaled:  -2.832687212678935\n",
      "PREDICTION tensor([[-2.8165]], grad_fn=<AddmmBackward0>)\n",
      "BUY AT:  2090.78 TIME:  1652433480000\n"
     ]
    },
    {
     "name": "stderr",
     "output_type": "stream",
     "text": [
      "/var/folders/9w/783wdyf54fb3b79gq32y3t4h0000gn/T/ipykernel_19541/692568148.py:107: FutureWarning: The frame.append method is deprecated and will be removed from pandas in a future version. Use pandas.concat instead.\n",
      "  df_history = df_history.append(scaled_df, ignore_index = True)\n"
     ]
    },
    {
     "name": "stdout",
     "output_type": "stream",
     "text": [
      "\n",
      "######################\n",
      "candle closed at 2091.31\n",
      "\n",
      "Back Propogate... \n",
      "\n",
      "CORRECT?:  -2.830667018890381 -2.8165431022644043 -2.832687212678935\n",
      "COUNTBUY:  37 CORRECTBUY:  19 COUNTDONTBUY:  40 CORRECTDONTBUY:  15\n",
      "NEW PRICE:  2091.31 BOUGHT PRICE:  -2.832687212678935 CHANGE:  0.5299999999997453 MONEY:  4.839999999999691\n",
      "Current Close Scaled:  -2.8306669060938585\n",
      "PREDICTION tensor([[-2.8103]], grad_fn=<AddmmBackward0>)\n",
      "BUY AT:  2091.31 TIME:  1652433540000\n"
     ]
    },
    {
     "name": "stderr",
     "output_type": "stream",
     "text": [
      "/var/folders/9w/783wdyf54fb3b79gq32y3t4h0000gn/T/ipykernel_19541/692568148.py:107: FutureWarning: The frame.append method is deprecated and will be removed from pandas in a future version. Use pandas.concat instead.\n",
      "  df_history = df_history.append(scaled_df, ignore_index = True)\n"
     ]
    },
    {
     "name": "stdout",
     "output_type": "stream",
     "text": [
      "\n",
      "######################\n",
      "candle closed at 2087.66\n",
      "\n",
      "Back Propogate... \n",
      "\n",
      "CORRECT?:  -2.8445804119110107 -2.81027889251709 -2.8306669060938585\n",
      "COUNTBUY:  38 CORRECTBUY:  19 COUNTDONTBUY:  40 CORRECTDONTBUY:  15\n",
      "NEW PRICE:  2087.66 BOUGHT PRICE:  -2.8306669060938585 CHANGE:  -3.650000000000091 MONEY:  1.1899999999995998\n",
      "Current Close Scaled:  -2.844580338236372\n",
      "PREDICTION tensor([[-2.8080]], grad_fn=<AddmmBackward0>)\n",
      "BUY AT:  2087.66 TIME:  1652433600000\n"
     ]
    },
    {
     "name": "stderr",
     "output_type": "stream",
     "text": [
      "/var/folders/9w/783wdyf54fb3b79gq32y3t4h0000gn/T/ipykernel_19541/692568148.py:107: FutureWarning: The frame.append method is deprecated and will be removed from pandas in a future version. Use pandas.concat instead.\n",
      "  df_history = df_history.append(scaled_df, ignore_index = True)\n"
     ]
    },
    {
     "name": "stdout",
     "output_type": "stream",
     "text": [
      "\n",
      "######################\n",
      "candle closed at 2090.09\n",
      "\n",
      "Back Propogate... \n",
      "\n",
      "CORRECT?:  -2.835317373275757 -2.8080337047576904 -2.844580338236372\n",
      "COUNTBUY:  39 CORRECTBUY:  20 COUNTDONTBUY:  40 CORRECTDONTBUY:  15\n",
      "NEW PRICE:  2090.09 BOUGHT PRICE:  -2.844580338236372 CHANGE:  2.430000000000291 MONEY:  3.619999999999891\n",
      "Current Close Scaled:  -2.835317423138753\n",
      "PREDICTION tensor([[-2.8087]], grad_fn=<AddmmBackward0>)\n",
      "BUY AT:  2090.09 TIME:  1652433660000\n"
     ]
    },
    {
     "name": "stderr",
     "output_type": "stream",
     "text": [
      "/var/folders/9w/783wdyf54fb3b79gq32y3t4h0000gn/T/ipykernel_19541/692568148.py:107: FutureWarning: The frame.append method is deprecated and will be removed from pandas in a future version. Use pandas.concat instead.\n",
      "  df_history = df_history.append(scaled_df, ignore_index = True)\n"
     ]
    },
    {
     "name": "stdout",
     "output_type": "stream",
     "text": [
      "\n",
      "######################\n",
      "candle closed at 2089.56\n",
      "\n",
      "Back Propogate... \n",
      "\n",
      "CORRECT?:  -2.8373377323150635 -2.808652639389038 -2.835317423138753\n",
      "COUNTBUY:  40 CORRECTBUY:  20 COUNTDONTBUY:  40 CORRECTDONTBUY:  15\n",
      "NEW PRICE:  2089.56 BOUGHT PRICE:  -2.835317423138753 CHANGE:  -0.5300000000002001 MONEY:  3.0899999999996908\n",
      "Current Close Scaled:  -2.8373377297238305\n",
      "PREDICTION tensor([[-2.8191]], grad_fn=<AddmmBackward0>)\n",
      "BUY AT:  2089.56 TIME:  1652433720000\n"
     ]
    },
    {
     "name": "stderr",
     "output_type": "stream",
     "text": [
      "/var/folders/9w/783wdyf54fb3b79gq32y3t4h0000gn/T/ipykernel_19541/692568148.py:107: FutureWarning: The frame.append method is deprecated and will be removed from pandas in a future version. Use pandas.concat instead.\n",
      "  df_history = df_history.append(scaled_df, ignore_index = True)\n"
     ]
    },
    {
     "name": "stdout",
     "output_type": "stream",
     "text": [
      "\n",
      "######################\n",
      "candle closed at 2090.77\n",
      "\n",
      "Back Propogate... \n",
      "\n",
      "CORRECT?:  -2.8327252864837646 -2.819120407104492 -2.8373377297238305\n",
      "COUNTBUY:  41 CORRECTBUY:  21 COUNTDONTBUY:  40 CORRECTDONTBUY:  15\n",
      "NEW PRICE:  2090.77 BOUGHT PRICE:  -2.8373377297238305 CHANGE:  1.2100000000000364 MONEY:  4.299999999999727\n",
      "Current Close Scaled:  -2.832725331671107\n",
      "PREDICTION tensor([[-2.8162]], grad_fn=<AddmmBackward0>)\n",
      "BUY AT:  2090.77 TIME:  1652433780000\n"
     ]
    },
    {
     "name": "stderr",
     "output_type": "stream",
     "text": [
      "/var/folders/9w/783wdyf54fb3b79gq32y3t4h0000gn/T/ipykernel_19541/692568148.py:107: FutureWarning: The frame.append method is deprecated and will be removed from pandas in a future version. Use pandas.concat instead.\n",
      "  df_history = df_history.append(scaled_df, ignore_index = True)\n"
     ]
    },
    {
     "name": "stdout",
     "output_type": "stream",
     "text": [
      "\n",
      "######################\n",
      "candle closed at 2091.07\n",
      "\n",
      "Back Propogate... \n",
      "\n",
      "CORRECT?:  -2.8315818309783936 -2.8162477016448975 -2.832725331671107\n",
      "COUNTBUY:  42 CORRECTBUY:  22 COUNTDONTBUY:  40 CORRECTDONTBUY:  15\n",
      "NEW PRICE:  2091.07 BOUGHT PRICE:  -2.832725331671107 CHANGE:  0.3000000000001819 MONEY:  4.599999999999909\n",
      "Current Close Scaled:  -2.831581761905968\n",
      "PREDICTION tensor([[-2.8216]], grad_fn=<AddmmBackward0>)\n",
      "BUY AT:  2091.07 TIME:  1652433840000\n"
     ]
    },
    {
     "name": "stderr",
     "output_type": "stream",
     "text": [
      "/var/folders/9w/783wdyf54fb3b79gq32y3t4h0000gn/T/ipykernel_19541/692568148.py:107: FutureWarning: The frame.append method is deprecated and will be removed from pandas in a future version. Use pandas.concat instead.\n",
      "  df_history = df_history.append(scaled_df, ignore_index = True)\n"
     ]
    },
    {
     "name": "stdout",
     "output_type": "stream",
     "text": [
      "\n",
      "######################\n",
      "candle closed at 2088.89\n",
      "\n",
      "Back Propogate... \n",
      "\n",
      "CORRECT?:  -2.8398916721343994 -2.8216001987457275 -2.831581761905968\n",
      "COUNTBUY:  43 CORRECTBUY:  22 COUNTDONTBUY:  40 CORRECTDONTBUY:  15\n",
      "NEW PRICE:  2088.89 BOUGHT PRICE:  -2.831581761905968 CHANGE:  -2.180000000000291 MONEY:  2.419999999999618\n",
      "Current Close Scaled:  -2.839891702199306\n",
      "PREDICTION tensor([[-2.8282]], grad_fn=<AddmmBackward0>)\n",
      "BUY AT:  2088.89 TIME:  1652433900000\n"
     ]
    },
    {
     "name": "stderr",
     "output_type": "stream",
     "text": [
      "/var/folders/9w/783wdyf54fb3b79gq32y3t4h0000gn/T/ipykernel_19541/692568148.py:107: FutureWarning: The frame.append method is deprecated and will be removed from pandas in a future version. Use pandas.concat instead.\n",
      "  df_history = df_history.append(scaled_df, ignore_index = True)\n"
     ]
    },
    {
     "name": "stdout",
     "output_type": "stream",
     "text": [
      "\n",
      "######################\n",
      "candle closed at 2096.59\n",
      "\n",
      "Back Propogate... \n",
      "\n",
      "CORRECT?:  -2.810539960861206 -2.828244686126709 -2.839891702199306\n",
      "COUNTBUY:  44 CORRECTBUY:  23 COUNTDONTBUY:  40 CORRECTDONTBUY:  15\n",
      "NEW PRICE:  2096.59 BOUGHT PRICE:  -2.839891702199306 CHANGE:  7.700000000000273 MONEY:  10.11999999999989\n",
      "Current Close Scaled:  -2.8105400782274277\n",
      "PREDICTION tensor([[-2.8325]], grad_fn=<AddmmBackward0>)\n",
      "DONT BUY\n"
     ]
    },
    {
     "name": "stderr",
     "output_type": "stream",
     "text": [
      "/var/folders/9w/783wdyf54fb3b79gq32y3t4h0000gn/T/ipykernel_19541/692568148.py:107: FutureWarning: The frame.append method is deprecated and will be removed from pandas in a future version. Use pandas.concat instead.\n",
      "  df_history = df_history.append(scaled_df, ignore_index = True)\n"
     ]
    },
    {
     "name": "stdout",
     "output_type": "stream",
     "text": [
      "\n",
      "######################\n",
      "candle closed at 2088.63\n",
      "\n",
      "Back Propogate... \n",
      "\n",
      "CORRECT?:  -2.8408827781677246 -2.832470655441284 -2.8105400782274277\n",
      "COUNTBUY:  44 CORRECTBUY:  23 COUNTDONTBUY:  41 CORRECTDONTBUY:  16\n",
      "Current Close Scaled:  -2.840882795995758\n",
      "PREDICTION tensor([[-2.8371]], grad_fn=<AddmmBackward0>)\n",
      "BUY AT:  2088.63 TIME:  1652434020000\n"
     ]
    },
    {
     "name": "stderr",
     "output_type": "stream",
     "text": [
      "/var/folders/9w/783wdyf54fb3b79gq32y3t4h0000gn/T/ipykernel_19541/692568148.py:107: FutureWarning: The frame.append method is deprecated and will be removed from pandas in a future version. Use pandas.concat instead.\n",
      "  df_history = df_history.append(scaled_df, ignore_index = True)\n"
     ]
    },
    {
     "name": "stdout",
     "output_type": "stream",
     "text": [
      "\n",
      "######################\n",
      "candle closed at 2086.0\n",
      "\n",
      "Back Propogate... \n",
      "\n",
      "CORRECT?:  -2.850908041000366 -2.8371357917785645 -2.840882795995758\n",
      "COUNTBUY:  45 CORRECTBUY:  23 COUNTDONTBUY:  41 CORRECTDONTBUY:  16\n",
      "NEW PRICE:  2086.0 BOUGHT PRICE:  -2.840882795995758 CHANGE:  -2.630000000000109 MONEY:  7.489999999999782\n",
      "Current Close Scaled:  -2.850908090936802\n",
      "PREDICTION tensor([[-2.8428]], grad_fn=<AddmmBackward0>)\n",
      "BUY AT:  2086.0 TIME:  1652434080000\n"
     ]
    },
    {
     "name": "stderr",
     "output_type": "stream",
     "text": [
      "/var/folders/9w/783wdyf54fb3b79gq32y3t4h0000gn/T/ipykernel_19541/692568148.py:107: FutureWarning: The frame.append method is deprecated and will be removed from pandas in a future version. Use pandas.concat instead.\n",
      "  df_history = df_history.append(scaled_df, ignore_index = True)\n"
     ]
    },
    {
     "name": "stdout",
     "output_type": "stream",
     "text": [
      "\n",
      "######################\n",
      "candle closed at 2082.61\n",
      "\n",
      "Back Propogate... \n",
      "\n",
      "CORRECT?:  -2.863830327987671 -2.842763900756836 -2.850908090936802\n",
      "COUNTBUY:  46 CORRECTBUY:  23 COUNTDONTBUY:  41 CORRECTDONTBUY:  16\n",
      "NEW PRICE:  2082.61 BOUGHT PRICE:  -2.850908090936802 CHANGE:  -3.3899999999998727 MONEY:  4.099999999999909\n",
      "Current Close Scaled:  -2.863830429282862\n",
      "PREDICTION tensor([[-2.8501]], grad_fn=<AddmmBackward0>)\n",
      "BUY AT:  2082.61 TIME:  1652434140000\n"
     ]
    },
    {
     "name": "stderr",
     "output_type": "stream",
     "text": [
      "/var/folders/9w/783wdyf54fb3b79gq32y3t4h0000gn/T/ipykernel_19541/692568148.py:107: FutureWarning: The frame.append method is deprecated and will be removed from pandas in a future version. Use pandas.concat instead.\n",
      "  df_history = df_history.append(scaled_df, ignore_index = True)\n"
     ]
    },
    {
     "name": "stdout",
     "output_type": "stream",
     "text": [
      "\n",
      "######################\n",
      "candle closed at 2084.31\n",
      "\n",
      "Back Propogate... \n",
      "\n",
      "CORRECT?:  -2.8573501110076904 -2.850066900253296 -2.863830429282862\n",
      "COUNTBUY:  47 CORRECTBUY:  24 COUNTDONTBUY:  41 CORRECTDONTBUY:  16\n",
      "NEW PRICE:  2084.31 BOUGHT PRICE:  -2.863830429282862 CHANGE:  1.699999999999818 MONEY:  5.799999999999727\n",
      "Current Close Scaled:  -2.857350200613747\n",
      "PREDICTION tensor([[-2.8575]], grad_fn=<AddmmBackward0>)\n",
      "DONT BUY\n"
     ]
    },
    {
     "name": "stderr",
     "output_type": "stream",
     "text": [
      "/var/folders/9w/783wdyf54fb3b79gq32y3t4h0000gn/T/ipykernel_19541/692568148.py:107: FutureWarning: The frame.append method is deprecated and will be removed from pandas in a future version. Use pandas.concat instead.\n",
      "  df_history = df_history.append(scaled_df, ignore_index = True)\n"
     ]
    },
    {
     "name": "stdout",
     "output_type": "stream",
     "text": [
      "\n",
      "######################\n",
      "candle closed at 2084.33\n",
      "\n",
      "Back Propogate... \n",
      "\n",
      "CORRECT?:  -2.857274055480957 -2.857468605041504 -2.857350200613747\n",
      "COUNTBUY:  47 CORRECTBUY:  24 COUNTDONTBUY:  42 CORRECTDONTBUY:  16\n",
      "Current Close Scaled:  -2.8572739626294044\n",
      "PREDICTION tensor([[-2.8723]], grad_fn=<AddmmBackward0>)\n",
      "DONT BUY\n"
     ]
    },
    {
     "name": "stderr",
     "output_type": "stream",
     "text": [
      "/var/folders/9w/783wdyf54fb3b79gq32y3t4h0000gn/T/ipykernel_19541/692568148.py:107: FutureWarning: The frame.append method is deprecated and will be removed from pandas in a future version. Use pandas.concat instead.\n",
      "  df_history = df_history.append(scaled_df, ignore_index = True)\n"
     ]
    },
    {
     "name": "stdout",
     "output_type": "stream",
     "text": [
      "\n",
      "######################\n",
      "candle closed at 2082.53\n",
      "\n",
      "Back Propogate... \n",
      "\n",
      "CORRECT?:  -2.864135265350342 -2.8723294734954834 -2.8572739626294044\n",
      "COUNTBUY:  47 CORRECTBUY:  24 COUNTDONTBUY:  43 CORRECTDONTBUY:  17\n",
      "Current Close Scaled:  -2.8641353812202315\n",
      "PREDICTION tensor([[-2.8694]], grad_fn=<AddmmBackward0>)\n",
      "DONT BUY\n"
     ]
    },
    {
     "name": "stderr",
     "output_type": "stream",
     "text": [
      "/var/folders/9w/783wdyf54fb3b79gq32y3t4h0000gn/T/ipykernel_19541/692568148.py:107: FutureWarning: The frame.append method is deprecated and will be removed from pandas in a future version. Use pandas.concat instead.\n",
      "  df_history = df_history.append(scaled_df, ignore_index = True)\n"
     ]
    },
    {
     "name": "stdout",
     "output_type": "stream",
     "text": [
      "\n",
      "######################\n",
      "candle closed at 2085.22\n",
      "\n",
      "Back Propogate... \n",
      "\n",
      "CORRECT?:  -2.853881359100342 -2.8693976402282715 -2.8641353812202315\n",
      "COUNTBUY:  47 CORRECTBUY:  24 COUNTDONTBUY:  44 CORRECTDONTBUY:  17\n",
      "Current Close Scaled:  -2.853881372326162\n",
      "PREDICTION tensor([[-2.8724]], grad_fn=<AddmmBackward0>)\n",
      "DONT BUY\n"
     ]
    },
    {
     "name": "stderr",
     "output_type": "stream",
     "text": [
      "/var/folders/9w/783wdyf54fb3b79gq32y3t4h0000gn/T/ipykernel_19541/692568148.py:107: FutureWarning: The frame.append method is deprecated and will be removed from pandas in a future version. Use pandas.concat instead.\n",
      "  df_history = df_history.append(scaled_df, ignore_index = True)\n"
     ]
    },
    {
     "name": "stdout",
     "output_type": "stream",
     "text": [
      "\n",
      "######################\n",
      "candle closed at 2084.84\n",
      "\n",
      "Back Propogate... \n",
      "\n",
      "CORRECT?:  -2.855329990386963 -2.8723578453063965 -2.853881372326162\n",
      "COUNTBUY:  47 CORRECTBUY:  24 COUNTDONTBUY:  45 CORRECTDONTBUY:  18\n",
      "Current Close Scaled:  -2.8553298940286687\n",
      "PREDICTION tensor([[-2.8731]], grad_fn=<AddmmBackward0>)\n",
      "DONT BUY\n"
     ]
    },
    {
     "name": "stderr",
     "output_type": "stream",
     "text": [
      "/var/folders/9w/783wdyf54fb3b79gq32y3t4h0000gn/T/ipykernel_19541/692568148.py:107: FutureWarning: The frame.append method is deprecated and will be removed from pandas in a future version. Use pandas.concat instead.\n",
      "  df_history = df_history.append(scaled_df, ignore_index = True)\n"
     ]
    },
    {
     "name": "stdout",
     "output_type": "stream",
     "text": [
      "\n",
      "######################\n",
      "candle closed at 2083.9\n",
      "\n",
      "Back Propogate... \n",
      "\n",
      "CORRECT?:  -2.8589131832122803 -2.873084545135498 -2.8553298940286687\n",
      "COUNTBUY:  47 CORRECTBUY:  24 COUNTDONTBUY:  46 CORRECTDONTBUY:  19\n",
      "Current Close Scaled:  -2.858913079292768\n",
      "PREDICTION tensor([[-2.8721]], grad_fn=<AddmmBackward0>)\n",
      "DONT BUY\n"
     ]
    },
    {
     "name": "stderr",
     "output_type": "stream",
     "text": [
      "/var/folders/9w/783wdyf54fb3b79gq32y3t4h0000gn/T/ipykernel_19541/692568148.py:107: FutureWarning: The frame.append method is deprecated and will be removed from pandas in a future version. Use pandas.concat instead.\n",
      "  df_history = df_history.append(scaled_df, ignore_index = True)\n"
     ]
    },
    {
     "name": "stdout",
     "output_type": "stream",
     "text": [
      "\n",
      "######################\n",
      "candle closed at 2080.82\n",
      "\n",
      "Back Propogate... \n",
      "\n",
      "CORRECT?:  -2.8706536293029785 -2.8721234798431396 -2.858913079292768\n",
      "COUNTBUY:  47 CORRECTBUY:  24 COUNTDONTBUY:  47 CORRECTDONTBUY:  20\n",
      "Current Close Scaled:  -2.8706537288815186\n",
      "PREDICTION tensor([[-2.8787]], grad_fn=<AddmmBackward0>)\n",
      "DONT BUY\n"
     ]
    },
    {
     "name": "stderr",
     "output_type": "stream",
     "text": [
      "/var/folders/9w/783wdyf54fb3b79gq32y3t4h0000gn/T/ipykernel_19541/692568148.py:107: FutureWarning: The frame.append method is deprecated and will be removed from pandas in a future version. Use pandas.concat instead.\n",
      "  df_history = df_history.append(scaled_df, ignore_index = True)\n"
     ]
    },
    {
     "name": "stdout",
     "output_type": "stream",
     "text": [
      "\n",
      "######################\n",
      "candle closed at 2078.96\n",
      "\n",
      "Back Propogate... \n",
      "\n",
      "CORRECT?:  -2.87774395942688 -2.8786611557006836 -2.8706537288815186\n",
      "COUNTBUY:  47 CORRECTBUY:  24 COUNTDONTBUY:  48 CORRECTDONTBUY:  21\n",
      "Current Close Scaled:  -2.877743861425375\n",
      "PREDICTION tensor([[-2.8701]], grad_fn=<AddmmBackward0>)\n",
      "BUY AT:  2078.96 TIME:  1652434620000\n"
     ]
    },
    {
     "name": "stderr",
     "output_type": "stream",
     "text": [
      "/var/folders/9w/783wdyf54fb3b79gq32y3t4h0000gn/T/ipykernel_19541/692568148.py:107: FutureWarning: The frame.append method is deprecated and will be removed from pandas in a future version. Use pandas.concat instead.\n",
      "  df_history = df_history.append(scaled_df, ignore_index = True)\n"
     ]
    },
    {
     "name": "stdout",
     "output_type": "stream",
     "text": [
      "\n",
      "######################\n",
      "candle closed at 2076.77\n",
      "\n",
      "Back Propogate... \n",
      "\n",
      "CORRECT?:  -2.886091947555542 -2.8700735569000244 -2.877743861425375\n",
      "COUNTBUY:  48 CORRECTBUY:  24 COUNTDONTBUY:  48 CORRECTDONTBUY:  21\n",
      "NEW PRICE:  2076.77 BOUGHT PRICE:  -2.877743861425375 CHANGE:  -2.1900000000000546 MONEY:  3.6099999999996726\n",
      "Current Close Scaled:  -2.8860919207108835\n",
      "PREDICTION tensor([[-2.8707]], grad_fn=<AddmmBackward0>)\n",
      "BUY AT:  2076.77 TIME:  1652434680000\n"
     ]
    },
    {
     "name": "stderr",
     "output_type": "stream",
     "text": [
      "/var/folders/9w/783wdyf54fb3b79gq32y3t4h0000gn/T/ipykernel_19541/692568148.py:107: FutureWarning: The frame.append method is deprecated and will be removed from pandas in a future version. Use pandas.concat instead.\n",
      "  df_history = df_history.append(scaled_df, ignore_index = True)\n"
     ]
    },
    {
     "name": "stdout",
     "output_type": "stream",
     "text": [
      "\n",
      "######################\n",
      "candle closed at 2077.2\n",
      "\n",
      "Back Propogate... \n",
      "\n",
      "CORRECT?:  -2.8844528198242188 -2.870654344558716 -2.8860919207108835\n",
      "COUNTBUY:  49 CORRECTBUY:  25 COUNTDONTBUY:  48 CORRECTDONTBUY:  21\n",
      "NEW PRICE:  2077.2 BOUGHT PRICE:  -2.8860919207108835 CHANGE:  0.4299999999998363 MONEY:  4.039999999999509\n",
      "Current Close Scaled:  -2.8844528040475192\n",
      "PREDICTION tensor([[-2.8733]], grad_fn=<AddmmBackward0>)\n",
      "BUY AT:  2077.2 TIME:  1652434740000\n"
     ]
    },
    {
     "name": "stderr",
     "output_type": "stream",
     "text": [
      "/var/folders/9w/783wdyf54fb3b79gq32y3t4h0000gn/T/ipykernel_19541/692568148.py:107: FutureWarning: The frame.append method is deprecated and will be removed from pandas in a future version. Use pandas.concat instead.\n",
      "  df_history = df_history.append(scaled_df, ignore_index = True)\n"
     ]
    },
    {
     "name": "stdout",
     "output_type": "stream",
     "text": [
      "\n",
      "######################\n",
      "candle closed at 2076.27\n",
      "\n",
      "Back Propogate... \n",
      "\n",
      "CORRECT?:  -2.88799786567688 -2.8732962608337402 -2.8844528040475192\n",
      "COUNTBUY:  50 CORRECTBUY:  25 COUNTDONTBUY:  48 CORRECTDONTBUY:  21\n",
      "NEW PRICE:  2076.27 BOUGHT PRICE:  -2.8844528040475192 CHANGE:  -0.9299999999998363 MONEY:  3.1099999999996726\n",
      "Current Close Scaled:  -2.8879978703194467\n",
      "PREDICTION tensor([[-2.8771]], grad_fn=<AddmmBackward0>)\n",
      "BUY AT:  2076.27 TIME:  1652434800000\n"
     ]
    },
    {
     "name": "stderr",
     "output_type": "stream",
     "text": [
      "/var/folders/9w/783wdyf54fb3b79gq32y3t4h0000gn/T/ipykernel_19541/692568148.py:107: FutureWarning: The frame.append method is deprecated and will be removed from pandas in a future version. Use pandas.concat instead.\n",
      "  df_history = df_history.append(scaled_df, ignore_index = True)\n"
     ]
    },
    {
     "name": "stdout",
     "output_type": "stream",
     "text": [
      "\n",
      "######################\n",
      "candle closed at 2077.08\n",
      "\n",
      "Back Propogate... \n",
      "\n",
      "CORRECT?:  -2.8849103450775146 -2.877086639404297 -2.8879978703194467\n",
      "COUNTBUY:  51 CORRECTBUY:  26 COUNTDONTBUY:  48 CORRECTDONTBUY:  21\n",
      "NEW PRICE:  2077.08 BOUGHT PRICE:  -2.8879978703194467 CHANGE:  0.8099999999999454 MONEY:  3.919999999999618\n",
      "Current Close Scaled:  -2.884910231953574\n",
      "PREDICTION tensor([[-2.8814]], grad_fn=<AddmmBackward0>)\n",
      "BUY AT:  2077.08 TIME:  1652434860000\n"
     ]
    },
    {
     "name": "stderr",
     "output_type": "stream",
     "text": [
      "/var/folders/9w/783wdyf54fb3b79gq32y3t4h0000gn/T/ipykernel_19541/692568148.py:107: FutureWarning: The frame.append method is deprecated and will be removed from pandas in a future version. Use pandas.concat instead.\n",
      "  df_history = df_history.append(scaled_df, ignore_index = True)\n"
     ]
    },
    {
     "name": "stdout",
     "output_type": "stream",
     "text": [
      "\n",
      "######################\n",
      "candle closed at 2078.7\n",
      "\n",
      "Back Propogate... \n",
      "\n",
      "CORRECT?:  -2.878735065460205 -2.881422996520996 -2.884910231953574\n",
      "COUNTBUY:  52 CORRECTBUY:  27 COUNTDONTBUY:  48 CORRECTDONTBUY:  21\n",
      "NEW PRICE:  2078.7 BOUGHT PRICE:  -2.884910231953574 CHANGE:  1.6199999999998909 MONEY:  5.539999999999509\n",
      "Current Close Scaled:  -2.8787349552218293\n",
      "PREDICTION tensor([[-2.8850]], grad_fn=<AddmmBackward0>)\n",
      "DONT BUY\n"
     ]
    },
    {
     "name": "stderr",
     "output_type": "stream",
     "text": [
      "/var/folders/9w/783wdyf54fb3b79gq32y3t4h0000gn/T/ipykernel_19541/692568148.py:107: FutureWarning: The frame.append method is deprecated and will be removed from pandas in a future version. Use pandas.concat instead.\n",
      "  df_history = df_history.append(scaled_df, ignore_index = True)\n"
     ]
    },
    {
     "name": "stdout",
     "output_type": "stream",
     "text": [
      "\n",
      "######################\n",
      "candle closed at 2081.51\n",
      "\n",
      "Back Propogate... \n",
      "\n",
      "CORRECT?:  -2.868023633956909 -2.885037660598755 -2.8787349552218293\n",
      "COUNTBUY:  52 CORRECTBUY:  27 COUNTDONTBUY:  49 CORRECTDONTBUY:  21\n",
      "Current Close Scaled:  -2.868023518421701\n",
      "PREDICTION tensor([[-2.8863]], grad_fn=<AddmmBackward0>)\n",
      "DONT BUY\n"
     ]
    },
    {
     "name": "stderr",
     "output_type": "stream",
     "text": [
      "/var/folders/9w/783wdyf54fb3b79gq32y3t4h0000gn/T/ipykernel_19541/692568148.py:107: FutureWarning: The frame.append method is deprecated and will be removed from pandas in a future version. Use pandas.concat instead.\n",
      "  df_history = df_history.append(scaled_df, ignore_index = True)\n"
     ]
    },
    {
     "name": "stdout",
     "output_type": "stream",
     "text": [
      "\n",
      "######################\n",
      "candle closed at 2082.01\n",
      "\n",
      "Back Propogate... \n",
      "\n",
      "CORRECT?:  -2.866117477416992 -2.8862903118133545 -2.868023518421701\n",
      "COUNTBUY:  52 CORRECTBUY:  27 COUNTDONTBUY:  50 CORRECTDONTBUY:  21\n",
      "Current Close Scaled:  -2.8661175688131375\n",
      "PREDICTION tensor([[-2.8850]], grad_fn=<AddmmBackward0>)\n",
      "DONT BUY\n"
     ]
    },
    {
     "name": "stderr",
     "output_type": "stream",
     "text": [
      "/var/folders/9w/783wdyf54fb3b79gq32y3t4h0000gn/T/ipykernel_19541/692568148.py:107: FutureWarning: The frame.append method is deprecated and will be removed from pandas in a future version. Use pandas.concat instead.\n",
      "  df_history = df_history.append(scaled_df, ignore_index = True)\n"
     ]
    },
    {
     "name": "stdout",
     "output_type": "stream",
     "text": [
      "\n",
      "######################\n",
      "candle closed at 2081.9\n",
      "\n",
      "Back Propogate... \n",
      "\n",
      "CORRECT?:  -2.866536855697632 -2.885025978088379 -2.8661175688131375\n",
      "COUNTBUY:  52 CORRECTBUY:  27 COUNTDONTBUY:  51 CORRECTDONTBUY:  22\n",
      "Current Close Scaled:  -2.866536877727022\n",
      "PREDICTION tensor([[-2.8817]], grad_fn=<AddmmBackward0>)\n",
      "DONT BUY\n"
     ]
    },
    {
     "name": "stderr",
     "output_type": "stream",
     "text": [
      "/var/folders/9w/783wdyf54fb3b79gq32y3t4h0000gn/T/ipykernel_19541/692568148.py:107: FutureWarning: The frame.append method is deprecated and will be removed from pandas in a future version. Use pandas.concat instead.\n",
      "  df_history = df_history.append(scaled_df, ignore_index = True)\n"
     ]
    },
    {
     "name": "stdout",
     "output_type": "stream",
     "text": [
      "\n",
      "######################\n",
      "candle closed at 2079.24\n",
      "\n",
      "Back Propogate... \n",
      "\n",
      "CORRECT?:  -2.876676559448242 -2.881702423095703 -2.866536877727022\n",
      "COUNTBUY:  52 CORRECTBUY:  27 COUNTDONTBUY:  52 CORRECTDONTBUY:  23\n",
      "Current Close Scaled:  -2.876676529644581\n",
      "PREDICTION tensor([[-2.8782]], grad_fn=<AddmmBackward0>)\n",
      "DONT BUY\n"
     ]
    },
    {
     "name": "stderr",
     "output_type": "stream",
     "text": [
      "/var/folders/9w/783wdyf54fb3b79gq32y3t4h0000gn/T/ipykernel_19541/692568148.py:107: FutureWarning: The frame.append method is deprecated and will be removed from pandas in a future version. Use pandas.concat instead.\n",
      "  df_history = df_history.append(scaled_df, ignore_index = True)\n"
     ]
    },
    {
     "name": "stdout",
     "output_type": "stream",
     "text": [
      "\n",
      "######################\n",
      "candle closed at 2072.25\n",
      "\n",
      "Back Propogate... \n",
      "\n",
      "CORRECT?:  -2.9033217430114746 -2.8781814575195312 -2.876676529644581\n",
      "COUNTBUY:  52 CORRECTBUY:  27 COUNTDONTBUY:  53 CORRECTDONTBUY:  24\n",
      "Current Close Scaled:  -2.903321705172297\n",
      "PREDICTION tensor([[-2.7947]], grad_fn=<AddmmBackward0>)\n",
      "BUY AT:  2072.25 TIME:  1652435220000\n"
     ]
    },
    {
     "name": "stderr",
     "output_type": "stream",
     "text": [
      "/var/folders/9w/783wdyf54fb3b79gq32y3t4h0000gn/T/ipykernel_19541/692568148.py:107: FutureWarning: The frame.append method is deprecated and will be removed from pandas in a future version. Use pandas.concat instead.\n",
      "  df_history = df_history.append(scaled_df, ignore_index = True)\n"
     ]
    },
    {
     "name": "stdout",
     "output_type": "stream",
     "text": [
      "\n",
      "######################\n",
      "candle closed at 2070.94\n",
      "\n",
      "Back Propogate... \n",
      "\n",
      "CORRECT?:  -2.9083151817321777 -2.7946977615356445 -2.903321705172297\n",
      "COUNTBUY:  53 CORRECTBUY:  27 COUNTDONTBUY:  53 CORRECTDONTBUY:  24\n",
      "NEW PRICE:  2070.94 BOUGHT PRICE:  -2.903321705172297 CHANGE:  -1.3099999999999454 MONEY:  4.229999999999563\n",
      "Current Close Scaled:  -2.9083152931467326\n",
      "PREDICTION tensor([[-2.8944]], grad_fn=<AddmmBackward0>)\n",
      "BUY AT:  2070.94 TIME:  1652435280000\n"
     ]
    },
    {
     "name": "stderr",
     "output_type": "stream",
     "text": [
      "/var/folders/9w/783wdyf54fb3b79gq32y3t4h0000gn/T/ipykernel_19541/692568148.py:107: FutureWarning: The frame.append method is deprecated and will be removed from pandas in a future version. Use pandas.concat instead.\n",
      "  df_history = df_history.append(scaled_df, ignore_index = True)\n"
     ]
    },
    {
     "name": "stdout",
     "output_type": "stream",
     "text": [
      "\n",
      "######################\n",
      "candle closed at 2069.01\n",
      "\n",
      "Back Propogate... \n",
      "\n",
      "CORRECT?:  -2.9156723022460938 -2.894367218017578 -2.9083152931467326\n",
      "COUNTBUY:  54 CORRECTBUY:  27 COUNTDONTBUY:  53 CORRECTDONTBUY:  24\n",
      "NEW PRICE:  2069.01 BOUGHT PRICE:  -2.9083152931467326 CHANGE:  -1.9299999999998363 MONEY:  2.299999999999727\n",
      "Current Close Scaled:  -2.9156722586357873\n",
      "PREDICTION tensor([[-2.9125]], grad_fn=<AddmmBackward0>)\n",
      "BUY AT:  2069.01 TIME:  1652435340000\n"
     ]
    },
    {
     "name": "stderr",
     "output_type": "stream",
     "text": [
      "/var/folders/9w/783wdyf54fb3b79gq32y3t4h0000gn/T/ipykernel_19541/692568148.py:107: FutureWarning: The frame.append method is deprecated and will be removed from pandas in a future version. Use pandas.concat instead.\n",
      "  df_history = df_history.append(scaled_df, ignore_index = True)\n"
     ]
    },
    {
     "name": "stdout",
     "output_type": "stream",
     "text": [
      "\n",
      "######################\n",
      "candle closed at 2073.9\n",
      "\n",
      "Back Propogate... \n",
      "\n",
      "CORRECT?:  -2.8970320224761963 -2.912529945373535 -2.9156722586357873\n",
      "COUNTBUY:  55 CORRECTBUY:  28 COUNTDONTBUY:  53 CORRECTDONTBUY:  24\n",
      "NEW PRICE:  2073.9 BOUGHT PRICE:  -2.9156722586357873 CHANGE:  4.889999999999873 MONEY:  7.1899999999996\n",
      "Current Close Scaled:  -2.897032071464037\n",
      "PREDICTION tensor([[-2.9273]], grad_fn=<AddmmBackward0>)\n",
      "DONT BUY\n"
     ]
    },
    {
     "name": "stderr",
     "output_type": "stream",
     "text": [
      "/var/folders/9w/783wdyf54fb3b79gq32y3t4h0000gn/T/ipykernel_19541/692568148.py:107: FutureWarning: The frame.append method is deprecated and will be removed from pandas in a future version. Use pandas.concat instead.\n",
      "  df_history = df_history.append(scaled_df, ignore_index = True)\n"
     ]
    },
    {
     "name": "stdout",
     "output_type": "stream",
     "text": [
      "\n",
      "######################\n",
      "candle closed at 2075.55\n",
      "\n",
      "Back Propogate... \n",
      "\n",
      "CORRECT?:  -2.890742540359497 -2.9273276329040527 -2.897032071464037\n",
      "COUNTBUY:  55 CORRECTBUY:  28 COUNTDONTBUY:  54 CORRECTDONTBUY:  24\n",
      "Current Close Scaled:  -2.8907424377557773\n",
      "PREDICTION tensor([[-2.9355]], grad_fn=<AddmmBackward0>)\n",
      "DONT BUY\n"
     ]
    },
    {
     "name": "stderr",
     "output_type": "stream",
     "text": [
      "/var/folders/9w/783wdyf54fb3b79gq32y3t4h0000gn/T/ipykernel_19541/692568148.py:107: FutureWarning: The frame.append method is deprecated and will be removed from pandas in a future version. Use pandas.concat instead.\n",
      "  df_history = df_history.append(scaled_df, ignore_index = True)\n"
     ]
    },
    {
     "name": "stdout",
     "output_type": "stream",
     "text": [
      "\n",
      "######################\n",
      "candle closed at 2074.44\n",
      "\n",
      "Back Propogate... \n",
      "\n",
      "CORRECT?:  -2.8949737548828125 -2.935459852218628 -2.8907424377557773\n",
      "COUNTBUY:  55 CORRECTBUY:  28 COUNTDONTBUY:  55 CORRECTDONTBUY:  25\n",
      "Current Close Scaled:  -2.8949736458867887\n",
      "PREDICTION tensor([[-2.9364]], grad_fn=<AddmmBackward0>)\n",
      "DONT BUY\n"
     ]
    },
    {
     "name": "stderr",
     "output_type": "stream",
     "text": [
      "/var/folders/9w/783wdyf54fb3b79gq32y3t4h0000gn/T/ipykernel_19541/692568148.py:107: FutureWarning: The frame.append method is deprecated and will be removed from pandas in a future version. Use pandas.concat instead.\n",
      "  df_history = df_history.append(scaled_df, ignore_index = True)\n"
     ]
    },
    {
     "name": "stdout",
     "output_type": "stream",
     "text": [
      "\n",
      "######################\n",
      "candle closed at 2073.76\n",
      "\n",
      "Back Propogate... \n",
      "\n",
      "CORRECT?:  -2.8975658416748047 -2.9363863468170166 -2.8949736458867887\n",
      "COUNTBUY:  55 CORRECTBUY:  28 COUNTDONTBUY:  56 CORRECTDONTBUY:  26\n",
      "Current Close Scaled:  -2.8975657373544346\n",
      "PREDICTION tensor([[-2.9308]], grad_fn=<AddmmBackward0>)\n",
      "DONT BUY\n"
     ]
    },
    {
     "name": "stderr",
     "output_type": "stream",
     "text": [
      "/var/folders/9w/783wdyf54fb3b79gq32y3t4h0000gn/T/ipykernel_19541/692568148.py:107: FutureWarning: The frame.append method is deprecated and will be removed from pandas in a future version. Use pandas.concat instead.\n",
      "  df_history = df_history.append(scaled_df, ignore_index = True)\n"
     ]
    },
    {
     "name": "stdout",
     "output_type": "stream",
     "text": [
      "\n",
      "######################\n",
      "candle closed at 2075.4\n",
      "\n",
      "Back Propogate... \n",
      "\n",
      "CORRECT?:  -2.8913142681121826 -2.930798053741455 -2.8975657373544346\n",
      "COUNTBUY:  55 CORRECTBUY:  28 COUNTDONTBUY:  57 CORRECTDONTBUY:  26\n",
      "Current Close Scaled:  -2.891314222638347\n",
      "PREDICTION tensor([[-2.9192]], grad_fn=<AddmmBackward0>)\n",
      "DONT BUY\n"
     ]
    },
    {
     "name": "stderr",
     "output_type": "stream",
     "text": [
      "/var/folders/9w/783wdyf54fb3b79gq32y3t4h0000gn/T/ipykernel_19541/692568148.py:107: FutureWarning: The frame.append method is deprecated and will be removed from pandas in a future version. Use pandas.concat instead.\n",
      "  df_history = df_history.append(scaled_df, ignore_index = True)\n"
     ]
    },
    {
     "name": "stdout",
     "output_type": "stream",
     "text": [
      "\n",
      "######################\n",
      "candle closed at 2075.49\n",
      "\n",
      "Back Propogate... \n",
      "\n",
      "CORRECT?:  -2.8909711837768555 -2.919236183166504 -2.891314222638347\n",
      "COUNTBUY:  55 CORRECTBUY:  28 COUNTDONTBUY:  58 CORRECTDONTBUY:  26\n",
      "Current Close Scaled:  -2.8909711517088064\n",
      "PREDICTION tensor([[-2.9043]], grad_fn=<AddmmBackward0>)\n",
      "DONT BUY\n"
     ]
    },
    {
     "name": "stderr",
     "output_type": "stream",
     "text": [
      "/var/folders/9w/783wdyf54fb3b79gq32y3t4h0000gn/T/ipykernel_19541/692568148.py:107: FutureWarning: The frame.append method is deprecated and will be removed from pandas in a future version. Use pandas.concat instead.\n",
      "  df_history = df_history.append(scaled_df, ignore_index = True)\n"
     ]
    },
    {
     "name": "stdout",
     "output_type": "stream",
     "text": [
      "\n",
      "######################\n",
      "candle closed at 2079.42\n",
      "\n",
      "Back Propogate... \n",
      "\n",
      "CORRECT?:  -2.875990390777588 -2.9042654037475586 -2.8909711517088064\n",
      "COUNTBUY:  55 CORRECTBUY:  28 COUNTDONTBUY:  59 CORRECTDONTBUY:  26\n",
      "Current Close Scaled:  -2.875990387785497\n",
      "PREDICTION tensor([[-2.8865]], grad_fn=<AddmmBackward0>)\n",
      "DONT BUY\n"
     ]
    },
    {
     "name": "stderr",
     "output_type": "stream",
     "text": [
      "/var/folders/9w/783wdyf54fb3b79gq32y3t4h0000gn/T/ipykernel_19541/692568148.py:107: FutureWarning: The frame.append method is deprecated and will be removed from pandas in a future version. Use pandas.concat instead.\n",
      "  df_history = df_history.append(scaled_df, ignore_index = True)\n"
     ]
    },
    {
     "name": "stdout",
     "output_type": "stream",
     "text": [
      "\n",
      "######################\n",
      "candle closed at 2076.0\n",
      "\n",
      "Back Propogate... \n",
      "\n",
      "CORRECT?:  -2.8890271186828613 -2.886457681655884 -2.875990387785497\n",
      "COUNTBUY:  55 CORRECTBUY:  28 COUNTDONTBUY:  60 CORRECTDONTBUY:  27\n",
      "Current Close Scaled:  -2.889027083108071\n",
      "PREDICTION tensor([[-2.8709]], grad_fn=<AddmmBackward0>)\n",
      "BUY AT:  2076.0 TIME:  1652435820000\n"
     ]
    },
    {
     "name": "stderr",
     "output_type": "stream",
     "text": [
      "/var/folders/9w/783wdyf54fb3b79gq32y3t4h0000gn/T/ipykernel_19541/692568148.py:107: FutureWarning: The frame.append method is deprecated and will be removed from pandas in a future version. Use pandas.concat instead.\n",
      "  df_history = df_history.append(scaled_df, ignore_index = True)\n"
     ]
    },
    {
     "name": "stdout",
     "output_type": "stream",
     "text": [
      "\n",
      "######################\n",
      "candle closed at 2076.74\n",
      "\n",
      "Back Propogate... \n",
      "\n",
      "CORRECT?:  -2.8862063884735107 -2.8708839416503906 -2.889027083108071\n",
      "COUNTBUY:  56 CORRECTBUY:  29 COUNTDONTBUY:  60 CORRECTDONTBUY:  27\n",
      "NEW PRICE:  2076.74 BOUGHT PRICE:  -2.889027083108071 CHANGE:  0.7399999999997817 MONEY:  7.9299999999993815\n",
      "Current Close Scaled:  -2.886206277687398\n",
      "PREDICTION tensor([[-2.8591]], grad_fn=<AddmmBackward0>)\n",
      "BUY AT:  2076.74 TIME:  1652435880000\n"
     ]
    },
    {
     "name": "stderr",
     "output_type": "stream",
     "text": [
      "/var/folders/9w/783wdyf54fb3b79gq32y3t4h0000gn/T/ipykernel_19541/692568148.py:107: FutureWarning: The frame.append method is deprecated and will be removed from pandas in a future version. Use pandas.concat instead.\n",
      "  df_history = df_history.append(scaled_df, ignore_index = True)\n"
     ]
    },
    {
     "name": "stdout",
     "output_type": "stream",
     "text": [
      "\n",
      "######################\n",
      "candle closed at 2076.8\n",
      "\n",
      "Back Propogate... \n",
      "\n",
      "CORRECT?:  -2.8859775066375732 -2.8591184616088867 -2.886206277687398\n",
      "COUNTBUY:  57 CORRECTBUY:  30 COUNTDONTBUY:  60 CORRECTDONTBUY:  27\n",
      "NEW PRICE:  2076.8 BOUGHT PRICE:  -2.886206277687398 CHANGE:  0.06000000000040018 MONEY:  7.989999999999782\n",
      "Current Close Scaled:  -2.885977563734369\n",
      "PREDICTION tensor([[-2.8459]], grad_fn=<AddmmBackward0>)\n",
      "BUY AT:  2076.8 TIME:  1652435940000\n"
     ]
    },
    {
     "name": "stderr",
     "output_type": "stream",
     "text": [
      "/var/folders/9w/783wdyf54fb3b79gq32y3t4h0000gn/T/ipykernel_19541/692568148.py:107: FutureWarning: The frame.append method is deprecated and will be removed from pandas in a future version. Use pandas.concat instead.\n",
      "  df_history = df_history.append(scaled_df, ignore_index = True)\n"
     ]
    },
    {
     "name": "stdout",
     "output_type": "stream",
     "text": [
      "\n",
      "######################\n",
      "candle closed at 2076.1\n",
      "\n",
      "Back Propogate... \n",
      "\n",
      "CORRECT?:  -2.888645887374878 -2.845871686935425 -2.885977563734369\n",
      "COUNTBUY:  58 CORRECTBUY:  30 COUNTDONTBUY:  60 CORRECTDONTBUY:  27\n",
      "NEW PRICE:  2076.1 BOUGHT PRICE:  -2.885977563734369 CHANGE:  -0.7000000000002728 MONEY:  7.289999999999509\n",
      "Current Close Scaled:  -2.8886458931863586\n",
      "PREDICTION tensor([[-2.8519]], grad_fn=<AddmmBackward0>)\n",
      "BUY AT:  2076.1 TIME:  1652436000000\n"
     ]
    },
    {
     "name": "stderr",
     "output_type": "stream",
     "text": [
      "/var/folders/9w/783wdyf54fb3b79gq32y3t4h0000gn/T/ipykernel_19541/692568148.py:107: FutureWarning: The frame.append method is deprecated and will be removed from pandas in a future version. Use pandas.concat instead.\n",
      "  df_history = df_history.append(scaled_df, ignore_index = True)\n"
     ]
    },
    {
     "name": "stdout",
     "output_type": "stream",
     "text": [
      "\n",
      "######################\n",
      "candle closed at 2073.51\n",
      "\n",
      "Back Propogate... \n",
      "\n",
      "CORRECT?:  -2.8985188007354736 -2.8519279956817627 -2.8886458931863586\n",
      "COUNTBUY:  59 CORRECTBUY:  30 COUNTDONTBUY:  60 CORRECTDONTBUY:  27\n",
      "NEW PRICE:  2073.51 BOUGHT PRICE:  -2.8886458931863586 CHANGE:  -2.5899999999996908 MONEY:  4.699999999999818\n",
      "Current Close Scaled:  -2.898518712158716\n",
      "PREDICTION tensor([[-2.8583]], grad_fn=<AddmmBackward0>)\n",
      "BUY AT:  2073.51 TIME:  1652436060000\n"
     ]
    },
    {
     "name": "stderr",
     "output_type": "stream",
     "text": [
      "/var/folders/9w/783wdyf54fb3b79gq32y3t4h0000gn/T/ipykernel_19541/692568148.py:107: FutureWarning: The frame.append method is deprecated and will be removed from pandas in a future version. Use pandas.concat instead.\n",
      "  df_history = df_history.append(scaled_df, ignore_index = True)\n"
     ]
    },
    {
     "name": "stdout",
     "output_type": "stream",
     "text": [
      "\n",
      "######################\n",
      "candle closed at 2071.85\n",
      "\n",
      "Back Propogate... \n",
      "\n",
      "CORRECT?:  -2.904846429824829 -2.858255624771118 -2.898518712158716\n",
      "COUNTBUY:  60 CORRECTBUY:  30 COUNTDONTBUY:  60 CORRECTDONTBUY:  27\n",
      "NEW PRICE:  2071.85 BOUGHT PRICE:  -2.898518712158716 CHANGE:  -1.6600000000003092 MONEY:  3.039999999999509\n",
      "Current Close Scaled:  -2.904846464859148\n",
      "PREDICTION tensor([[-2.8709]], grad_fn=<AddmmBackward0>)\n",
      "BUY AT:  2071.85 TIME:  1652436120000\n"
     ]
    },
    {
     "name": "stderr",
     "output_type": "stream",
     "text": [
      "/var/folders/9w/783wdyf54fb3b79gq32y3t4h0000gn/T/ipykernel_19541/692568148.py:107: FutureWarning: The frame.append method is deprecated and will be removed from pandas in a future version. Use pandas.concat instead.\n",
      "  df_history = df_history.append(scaled_df, ignore_index = True)\n"
     ]
    },
    {
     "name": "stdout",
     "output_type": "stream",
     "text": [
      "\n",
      "######################\n",
      "candle closed at 2069.82\n",
      "\n",
      "Back Propogate... \n",
      "\n",
      "CORRECT?:  -2.9125845432281494 -2.8709216117858887 -2.904846464859148\n",
      "COUNTBUY:  61 CORRECTBUY:  30 COUNTDONTBUY:  60 CORRECTDONTBUY:  27\n",
      "NEW PRICE:  2069.82 BOUGHT PRICE:  -2.904846464859148 CHANGE:  -2.0299999999997453 MONEY:  1.0099999999997635\n",
      "Current Close Scaled:  -2.9125846202699144\n",
      "PREDICTION tensor([[-2.8890]], grad_fn=<AddmmBackward0>)\n",
      "BUY AT:  2069.82 TIME:  1652436180000\n"
     ]
    },
    {
     "name": "stderr",
     "output_type": "stream",
     "text": [
      "/var/folders/9w/783wdyf54fb3b79gq32y3t4h0000gn/T/ipykernel_19541/692568148.py:107: FutureWarning: The frame.append method is deprecated and will be removed from pandas in a future version. Use pandas.concat instead.\n",
      "  df_history = df_history.append(scaled_df, ignore_index = True)\n"
     ]
    },
    {
     "name": "stdout",
     "output_type": "stream",
     "text": [
      "\n",
      "######################\n",
      "candle closed at 2069.51\n",
      "\n",
      "Back Propogate... \n",
      "\n",
      "CORRECT?:  -2.913766384124756 -2.8889622688293457 -2.9125846202699144\n",
      "COUNTBUY:  62 CORRECTBUY:  30 COUNTDONTBUY:  60 CORRECTDONTBUY:  27\n",
      "NEW PRICE:  2069.51 BOUGHT PRICE:  -2.9125846202699144 CHANGE:  -0.30999999999994543 MONEY:  0.6999999999998181\n",
      "Current Close Scaled:  -2.9137663090272237\n",
      "PREDICTION tensor([[-2.9094]], grad_fn=<AddmmBackward0>)\n",
      "BUY AT:  2069.51 TIME:  1652436240000\n"
     ]
    },
    {
     "name": "stderr",
     "output_type": "stream",
     "text": [
      "/var/folders/9w/783wdyf54fb3b79gq32y3t4h0000gn/T/ipykernel_19541/692568148.py:107: FutureWarning: The frame.append method is deprecated and will be removed from pandas in a future version. Use pandas.concat instead.\n",
      "  df_history = df_history.append(scaled_df, ignore_index = True)\n"
     ]
    },
    {
     "name": "stdout",
     "output_type": "stream",
     "text": [
      "\n",
      "######################\n",
      "candle closed at 2063.46\n",
      "\n",
      "Back Propogate... \n",
      "\n",
      "CORRECT?:  -2.936828374862671 -2.909358024597168 -2.9137663090272237\n",
      "COUNTBUY:  63 CORRECTBUY:  30 COUNTDONTBUY:  60 CORRECTDONTBUY:  27\n",
      "NEW PRICE:  2063.46 BOUGHT PRICE:  -2.9137663090272237 CHANGE:  -6.050000000000182 MONEY:  -5.350000000000364\n",
      "Current Close Scaled:  -2.936828299290842\n",
      "PREDICTION tensor([[-2.9334]], grad_fn=<AddmmBackward0>)\n",
      "BUY AT:  2063.46 TIME:  1652436300000\n"
     ]
    },
    {
     "name": "stderr",
     "output_type": "stream",
     "text": [
      "/var/folders/9w/783wdyf54fb3b79gq32y3t4h0000gn/T/ipykernel_19541/692568148.py:107: FutureWarning: The frame.append method is deprecated and will be removed from pandas in a future version. Use pandas.concat instead.\n",
      "  df_history = df_history.append(scaled_df, ignore_index = True)\n"
     ]
    },
    {
     "name": "stdout",
     "output_type": "stream",
     "text": [
      "\n",
      "######################\n",
      "candle closed at 2064.49\n",
      "\n",
      "Back Propogate... \n",
      "\n",
      "CORRECT?:  -2.9329020977020264 -2.9334280490875244 -2.936828299290842\n",
      "COUNTBUY:  64 CORRECTBUY:  31 COUNTDONTBUY:  60 CORRECTDONTBUY:  27\n",
      "NEW PRICE:  2064.49 BOUGHT PRICE:  -2.936828299290842 CHANGE:  1.0299999999997453 MONEY:  -4.3200000000006185\n",
      "Current Close Scaled:  -2.932902043097202\n",
      "PREDICTION tensor([[-2.9554]], grad_fn=<AddmmBackward0>)\n",
      "DONT BUY\n"
     ]
    },
    {
     "name": "stderr",
     "output_type": "stream",
     "text": [
      "/var/folders/9w/783wdyf54fb3b79gq32y3t4h0000gn/T/ipykernel_19541/692568148.py:107: FutureWarning: The frame.append method is deprecated and will be removed from pandas in a future version. Use pandas.concat instead.\n",
      "  df_history = df_history.append(scaled_df, ignore_index = True)\n"
     ]
    },
    {
     "name": "stdout",
     "output_type": "stream",
     "text": [
      "\n",
      "######################\n",
      "candle closed at 2065.04\n",
      "\n",
      "Back Propogate... \n",
      "\n",
      "CORRECT?:  -2.9308054447174072 -2.9553728103637695 -2.932902043097202\n",
      "COUNTBUY:  64 CORRECTBUY:  31 COUNTDONTBUY:  61 CORRECTDONTBUY:  27\n",
      "Current Close Scaled:  -2.930805498527782\n",
      "PREDICTION tensor([[-2.9708]], grad_fn=<AddmmBackward0>)\n",
      "DONT BUY\n"
     ]
    },
    {
     "name": "stderr",
     "output_type": "stream",
     "text": [
      "/var/folders/9w/783wdyf54fb3b79gq32y3t4h0000gn/T/ipykernel_19541/692568148.py:107: FutureWarning: The frame.append method is deprecated and will be removed from pandas in a future version. Use pandas.concat instead.\n",
      "  df_history = df_history.append(scaled_df, ignore_index = True)\n"
     ]
    },
    {
     "name": "stdout",
     "output_type": "stream",
     "text": [
      "\n",
      "######################\n",
      "candle closed at 2062.3\n",
      "\n",
      "Back Propogate... \n",
      "\n",
      "CORRECT?:  -2.9412500858306885 -2.970844030380249 -2.930805498527782\n",
      "COUNTBUY:  64 CORRECTBUY:  31 COUNTDONTBUY:  62 CORRECTDONTBUY:  28\n",
      "Current Close Scaled:  -2.9412501023827087\n",
      "PREDICTION tensor([[-2.9791]], grad_fn=<AddmmBackward0>)\n",
      "DONT BUY\n"
     ]
    },
    {
     "name": "stderr",
     "output_type": "stream",
     "text": [
      "/var/folders/9w/783wdyf54fb3b79gq32y3t4h0000gn/T/ipykernel_19541/692568148.py:107: FutureWarning: The frame.append method is deprecated and will be removed from pandas in a future version. Use pandas.concat instead.\n",
      "  df_history = df_history.append(scaled_df, ignore_index = True)\n"
     ]
    },
    {
     "name": "stdout",
     "output_type": "stream",
     "text": [
      "\n",
      "######################\n",
      "candle closed at 2060.55\n",
      "\n",
      "Back Propogate... \n",
      "\n",
      "CORRECT?:  -2.94792103767395 -2.9790568351745605 -2.9412501023827087\n",
      "COUNTBUY:  64 CORRECTBUY:  31 COUNTDONTBUY:  63 CORRECTDONTBUY:  29\n",
      "Current Close Scaled:  -2.9479209260126806\n",
      "PREDICTION tensor([[-2.9802]], grad_fn=<AddmmBackward0>)\n",
      "DONT BUY\n"
     ]
    },
    {
     "name": "stderr",
     "output_type": "stream",
     "text": [
      "/var/folders/9w/783wdyf54fb3b79gq32y3t4h0000gn/T/ipykernel_19541/692568148.py:107: FutureWarning: The frame.append method is deprecated and will be removed from pandas in a future version. Use pandas.concat instead.\n",
      "  df_history = df_history.append(scaled_df, ignore_index = True)\n"
     ]
    },
    {
     "name": "stdout",
     "output_type": "stream",
     "text": [
      "\n",
      "######################\n",
      "candle closed at 2058.29\n",
      "\n",
      "Back Propogate... \n",
      "\n",
      "CORRECT?:  -2.956535816192627 -2.9801952838897705 -2.9479209260126806\n",
      "COUNTBUY:  64 CORRECTBUY:  31 COUNTDONTBUY:  64 CORRECTDONTBUY:  30\n",
      "Current Close Scaled:  -2.9565358182433883\n",
      "PREDICTION tensor([[-2.9765]], grad_fn=<AddmmBackward0>)\n",
      "DONT BUY\n"
     ]
    },
    {
     "name": "stderr",
     "output_type": "stream",
     "text": [
      "/var/folders/9w/783wdyf54fb3b79gq32y3t4h0000gn/T/ipykernel_19541/692568148.py:107: FutureWarning: The frame.append method is deprecated and will be removed from pandas in a future version. Use pandas.concat instead.\n",
      "  df_history = df_history.append(scaled_df, ignore_index = True)\n"
     ]
    },
    {
     "name": "stdout",
     "output_type": "stream",
     "text": [
      "\n",
      "######################\n",
      "candle closed at 2060.61\n",
      "\n",
      "Back Propogate... \n",
      "\n",
      "CORRECT?:  -2.9476921558380127 -2.9764750003814697 -2.9565358182433883\n",
      "COUNTBUY:  64 CORRECTBUY:  31 COUNTDONTBUY:  65 CORRECTDONTBUY:  30\n",
      "Current Close Scaled:  -2.9476922120596534\n",
      "PREDICTION tensor([[-2.9675]], grad_fn=<AddmmBackward0>)\n",
      "DONT BUY\n"
     ]
    },
    {
     "name": "stderr",
     "output_type": "stream",
     "text": [
      "/var/folders/9w/783wdyf54fb3b79gq32y3t4h0000gn/T/ipykernel_19541/692568148.py:107: FutureWarning: The frame.append method is deprecated and will be removed from pandas in a future version. Use pandas.concat instead.\n",
      "  df_history = df_history.append(scaled_df, ignore_index = True)\n"
     ]
    },
    {
     "name": "stdout",
     "output_type": "stream",
     "text": [
      "\n",
      "######################\n",
      "candle closed at 2062.54\n",
      "\n",
      "Back Propogate... \n",
      "\n",
      "CORRECT?:  -2.940335273742676 -2.967522382736206 -2.9476922120596534\n",
      "COUNTBUY:  64 CORRECTBUY:  31 COUNTDONTBUY:  66 CORRECTDONTBUY:  30\n",
      "Current Close Scaled:  -2.940335246570599\n",
      "PREDICTION tensor([[-2.9545]], grad_fn=<AddmmBackward0>)\n",
      "DONT BUY\n"
     ]
    },
    {
     "name": "stderr",
     "output_type": "stream",
     "text": [
      "/var/folders/9w/783wdyf54fb3b79gq32y3t4h0000gn/T/ipykernel_19541/692568148.py:107: FutureWarning: The frame.append method is deprecated and will be removed from pandas in a future version. Use pandas.concat instead.\n",
      "  df_history = df_history.append(scaled_df, ignore_index = True)\n"
     ]
    },
    {
     "name": "stdout",
     "output_type": "stream",
     "text": [
      "\n",
      "######################\n",
      "candle closed at 2064.54\n",
      "\n",
      "Back Propogate... \n",
      "\n",
      "CORRECT?:  -2.932711362838745 -2.9544765949249268 -2.940335246570599\n",
      "COUNTBUY:  64 CORRECTBUY:  31 COUNTDONTBUY:  67 CORRECTDONTBUY:  30\n",
      "Current Close Scaled:  -2.932711448136345\n",
      "PREDICTION tensor([[-2.9391]], grad_fn=<AddmmBackward0>)\n",
      "DONT BUY\n"
     ]
    },
    {
     "name": "stderr",
     "output_type": "stream",
     "text": [
      "/var/folders/9w/783wdyf54fb3b79gq32y3t4h0000gn/T/ipykernel_19541/692568148.py:107: FutureWarning: The frame.append method is deprecated and will be removed from pandas in a future version. Use pandas.concat instead.\n",
      "  df_history = df_history.append(scaled_df, ignore_index = True)\n"
     ]
    },
    {
     "name": "stdout",
     "output_type": "stream",
     "text": [
      "\n",
      "######################\n",
      "candle closed at 2065.21\n",
      "\n",
      "Back Propogate... \n",
      "\n",
      "CORRECT?:  -2.930157423019409 -2.9390997886657715 -2.932711448136345\n",
      "COUNTBUY:  64 CORRECTBUY:  31 COUNTDONTBUY:  68 CORRECTDONTBUY:  30\n",
      "Current Close Scaled:  -2.93015747566087\n",
      "PREDICTION tensor([[-2.9323]], grad_fn=<AddmmBackward0>)\n",
      "DONT BUY\n"
     ]
    },
    {
     "name": "stderr",
     "output_type": "stream",
     "text": [
      "/var/folders/9w/783wdyf54fb3b79gq32y3t4h0000gn/T/ipykernel_19541/692568148.py:107: FutureWarning: The frame.append method is deprecated and will be removed from pandas in a future version. Use pandas.concat instead.\n",
      "  df_history = df_history.append(scaled_df, ignore_index = True)\n"
     ]
    },
    {
     "name": "stdout",
     "output_type": "stream",
     "text": [
      "\n",
      "######################\n",
      "candle closed at 2063.99\n",
      "\n",
      "Back Propogate... \n",
      "\n",
      "CORRECT?:  -2.9348080158233643 -2.9322926998138428 -2.93015747566087\n",
      "COUNTBUY:  64 CORRECTBUY:  31 COUNTDONTBUY:  69 CORRECTDONTBUY:  31\n",
      "Current Close Scaled:  -2.9348079927057658\n",
      "PREDICTION tensor([[-2.9114]], grad_fn=<AddmmBackward0>)\n",
      "BUY AT:  2063.99 TIME:  1652436900000\n"
     ]
    },
    {
     "name": "stderr",
     "output_type": "stream",
     "text": [
      "/var/folders/9w/783wdyf54fb3b79gq32y3t4h0000gn/T/ipykernel_19541/692568148.py:107: FutureWarning: The frame.append method is deprecated and will be removed from pandas in a future version. Use pandas.concat instead.\n",
      "  df_history = df_history.append(scaled_df, ignore_index = True)\n"
     ]
    },
    {
     "name": "stdout",
     "output_type": "stream",
     "text": [
      "\n",
      "######################\n",
      "candle closed at 2062.64\n",
      "\n",
      "Back Propogate... \n",
      "\n",
      "CORRECT?:  -2.9399540424346924 -2.911362409591675 -2.9348079927057658\n",
      "COUNTBUY:  65 CORRECTBUY:  31 COUNTDONTBUY:  69 CORRECTDONTBUY:  31\n",
      "NEW PRICE:  2062.64 BOUGHT PRICE:  -2.9348079927057658 CHANGE:  -1.349999999999909 MONEY:  -5.6700000000005275\n",
      "Current Close Scaled:  -2.9399540566488866\n",
      "PREDICTION tensor([[-2.9146]], grad_fn=<AddmmBackward0>)\n",
      "BUY AT:  2062.64 TIME:  1652436960000\n"
     ]
    },
    {
     "name": "stderr",
     "output_type": "stream",
     "text": [
      "/var/folders/9w/783wdyf54fb3b79gq32y3t4h0000gn/T/ipykernel_19541/692568148.py:107: FutureWarning: The frame.append method is deprecated and will be removed from pandas in a future version. Use pandas.concat instead.\n",
      "  df_history = df_history.append(scaled_df, ignore_index = True)\n"
     ]
    },
    {
     "name": "stdout",
     "output_type": "stream",
     "text": [
      "\n",
      "######################\n",
      "candle closed at 2064.55\n",
      "\n",
      "Back Propogate... \n",
      "\n",
      "CORRECT?:  -2.932673215866089 -2.914621591567993 -2.9399540566488866\n",
      "COUNTBUY:  66 CORRECTBUY:  32 COUNTDONTBUY:  69 CORRECTDONTBUY:  31\n",
      "NEW PRICE:  2064.55 BOUGHT PRICE:  -2.9399540566488866 CHANGE:  1.9100000000003092 MONEY:  -3.7600000000002183\n",
      "Current Close Scaled:  -2.932673329144173\n",
      "PREDICTION tensor([[-2.9012]], grad_fn=<AddmmBackward0>)\n",
      "BUY AT:  2064.55 TIME:  1652437020000\n"
     ]
    },
    {
     "name": "stderr",
     "output_type": "stream",
     "text": [
      "/var/folders/9w/783wdyf54fb3b79gq32y3t4h0000gn/T/ipykernel_19541/692568148.py:107: FutureWarning: The frame.append method is deprecated and will be removed from pandas in a future version. Use pandas.concat instead.\n",
      "  df_history = df_history.append(scaled_df, ignore_index = True)\n"
     ]
    },
    {
     "name": "stdout",
     "output_type": "stream",
     "text": [
      "\n",
      "######################\n",
      "candle closed at 2065.24\n",
      "\n",
      "Back Propogate... \n",
      "\n",
      "CORRECT?:  -2.9300432205200195 -2.9011664390563965 -2.932673329144173\n",
      "COUNTBUY:  67 CORRECTBUY:  33 COUNTDONTBUY:  69 CORRECTDONTBUY:  31\n",
      "NEW PRICE:  2065.24 BOUGHT PRICE:  -2.932673329144173 CHANGE:  0.6899999999995998 MONEY:  -3.0700000000006185\n",
      "Current Close Scaled:  -2.930043118684357\n",
      "PREDICTION tensor([[-2.8969]], grad_fn=<AddmmBackward0>)\n",
      "BUY AT:  2065.24 TIME:  1652437080000\n"
     ]
    },
    {
     "name": "stderr",
     "output_type": "stream",
     "text": [
      "/var/folders/9w/783wdyf54fb3b79gq32y3t4h0000gn/T/ipykernel_19541/692568148.py:107: FutureWarning: The frame.append method is deprecated and will be removed from pandas in a future version. Use pandas.concat instead.\n",
      "  df_history = df_history.append(scaled_df, ignore_index = True)\n"
     ]
    },
    {
     "name": "stdout",
     "output_type": "stream",
     "text": [
      "\n",
      "######################\n",
      "candle closed at 2065.17\n",
      "\n",
      "Back Propogate... \n",
      "\n",
      "CORRECT?:  -2.930310010910034 -2.8968684673309326 -2.930043118684357\n",
      "COUNTBUY:  68 CORRECTBUY:  33 COUNTDONTBUY:  69 CORRECTDONTBUY:  31\n",
      "NEW PRICE:  2065.17 BOUGHT PRICE:  -2.930043118684357 CHANGE:  -0.06999999999970896 MONEY:  -3.1400000000003274\n",
      "Current Close Scaled:  -2.930309951629555\n",
      "PREDICTION tensor([[-2.9088]], grad_fn=<AddmmBackward0>)\n",
      "BUY AT:  2065.17 TIME:  1652437140000\n"
     ]
    },
    {
     "name": "stderr",
     "output_type": "stream",
     "text": [
      "/var/folders/9w/783wdyf54fb3b79gq32y3t4h0000gn/T/ipykernel_19541/692568148.py:107: FutureWarning: The frame.append method is deprecated and will be removed from pandas in a future version. Use pandas.concat instead.\n",
      "  df_history = df_history.append(scaled_df, ignore_index = True)\n"
     ]
    },
    {
     "name": "stdout",
     "output_type": "stream",
     "text": [
      "\n",
      "######################\n",
      "candle closed at 2062.08\n",
      "\n",
      "Back Propogate... \n",
      "\n",
      "CORRECT?:  -2.9420886039733887 -2.9087717533111572 -2.930309951629555\n",
      "COUNTBUY:  69 CORRECTBUY:  33 COUNTDONTBUY:  69 CORRECTDONTBUY:  31\n",
      "NEW PRICE:  2062.08 BOUGHT PRICE:  -2.930309951629555 CHANGE:  -3.0900000000001455 MONEY:  -6.230000000000473\n",
      "Current Close Scaled:  -2.9420887202104775\n",
      "PREDICTION tensor([[-2.9169]], grad_fn=<AddmmBackward0>)\n",
      "BUY AT:  2062.08 TIME:  1652437200000\n"
     ]
    },
    {
     "name": "stderr",
     "output_type": "stream",
     "text": [
      "/var/folders/9w/783wdyf54fb3b79gq32y3t4h0000gn/T/ipykernel_19541/692568148.py:107: FutureWarning: The frame.append method is deprecated and will be removed from pandas in a future version. Use pandas.concat instead.\n",
      "  df_history = df_history.append(scaled_df, ignore_index = True)\n"
     ]
    },
    {
     "name": "stdout",
     "output_type": "stream",
     "text": [
      "\n",
      "######################\n",
      "candle closed at 2066.55\n",
      "\n",
      "Back Propogate... \n",
      "\n",
      "CORRECT?:  -2.9250495433807373 -2.9169068336486816 -2.9420887202104775\n",
      "COUNTBUY:  70 CORRECTBUY:  34 COUNTDONTBUY:  69 CORRECTDONTBUY:  31\n",
      "NEW PRICE:  2066.55 BOUGHT PRICE:  -2.9420887202104775 CHANGE:  4.470000000000255 MONEY:  -1.7600000000002183\n",
      "Current Close Scaled:  -2.9250495307099196\n",
      "PREDICTION tensor([[-2.9264]], grad_fn=<AddmmBackward0>)\n",
      "DONT BUY\n"
     ]
    },
    {
     "name": "stderr",
     "output_type": "stream",
     "text": [
      "/var/folders/9w/783wdyf54fb3b79gq32y3t4h0000gn/T/ipykernel_19541/692568148.py:107: FutureWarning: The frame.append method is deprecated and will be removed from pandas in a future version. Use pandas.concat instead.\n",
      "  df_history = df_history.append(scaled_df, ignore_index = True)\n"
     ]
    },
    {
     "name": "stdout",
     "output_type": "stream",
     "text": [
      "\n",
      "######################\n",
      "candle closed at 2066.03\n",
      "\n",
      "Back Propogate... \n",
      "\n",
      "CORRECT?:  -2.9270317554473877 -2.9263501167297363 -2.9250495307099196\n",
      "COUNTBUY:  70 CORRECTBUY:  34 COUNTDONTBUY:  70 CORRECTDONTBUY:  32\n",
      "Current Close Scaled:  -2.927031718302825\n",
      "PREDICTION tensor([[-2.9583]], grad_fn=<AddmmBackward0>)\n",
      "DONT BUY\n"
     ]
    },
    {
     "name": "stderr",
     "output_type": "stream",
     "text": [
      "/var/folders/9w/783wdyf54fb3b79gq32y3t4h0000gn/T/ipykernel_19541/692568148.py:107: FutureWarning: The frame.append method is deprecated and will be removed from pandas in a future version. Use pandas.concat instead.\n",
      "  df_history = df_history.append(scaled_df, ignore_index = True)\n"
     ]
    },
    {
     "name": "stdout",
     "output_type": "stream",
     "text": [
      "\n",
      "######################\n",
      "candle closed at 2072.86\n",
      "\n",
      "Back Propogate... \n",
      "\n",
      "CORRECT?:  -2.900996446609497 -2.9583234786987305 -2.927031718302825\n",
      "COUNTBUY:  70 CORRECTBUY:  34 COUNTDONTBUY:  71 CORRECTDONTBUY:  32\n",
      "Current Close Scaled:  -2.900996446649849\n",
      "PREDICTION tensor([[-2.9343]], grad_fn=<AddmmBackward0>)\n",
      "DONT BUY\n"
     ]
    },
    {
     "name": "stderr",
     "output_type": "stream",
     "text": [
      "/var/folders/9w/783wdyf54fb3b79gq32y3t4h0000gn/T/ipykernel_19541/692568148.py:107: FutureWarning: The frame.append method is deprecated and will be removed from pandas in a future version. Use pandas.concat instead.\n",
      "  df_history = df_history.append(scaled_df, ignore_index = True)\n"
     ]
    },
    {
     "name": "stdout",
     "output_type": "stream",
     "text": [
      "\n",
      "######################\n",
      "candle closed at 2068.34\n",
      "\n",
      "Back Propogate... \n",
      "\n",
      "CORRECT?:  -2.9182262420654297 -2.9342875480651855 -2.900996446649849\n",
      "COUNTBUY:  70 CORRECTBUY:  34 COUNTDONTBUY:  72 CORRECTDONTBUY:  33\n",
      "Current Close Scaled:  -2.9182262311112623\n",
      "PREDICTION tensor([[-2.9310]], grad_fn=<AddmmBackward0>)\n",
      "DONT BUY\n"
     ]
    },
    {
     "name": "stderr",
     "output_type": "stream",
     "text": [
      "/var/folders/9w/783wdyf54fb3b79gq32y3t4h0000gn/T/ipykernel_19541/692568148.py:107: FutureWarning: The frame.append method is deprecated and will be removed from pandas in a future version. Use pandas.concat instead.\n",
      "  df_history = df_history.append(scaled_df, ignore_index = True)\n"
     ]
    },
    {
     "name": "stdout",
     "output_type": "stream",
     "text": [
      "\n",
      "######################\n",
      "candle closed at 2064.69\n",
      "\n",
      "Back Propogate... \n",
      "\n",
      "CORRECT?:  -2.9321396350860596 -2.9310479164123535 -2.9182262311112623\n",
      "COUNTBUY:  70 CORRECTBUY:  34 COUNTDONTBUY:  73 CORRECTDONTBUY:  34\n",
      "Current Close Scaled:  -2.9321396632537757\n",
      "PREDICTION tensor([[-2.9283]], grad_fn=<AddmmBackward0>)\n",
      "BUY AT:  2064.69 TIME:  1652437500000\n"
     ]
    },
    {
     "name": "stderr",
     "output_type": "stream",
     "text": [
      "/var/folders/9w/783wdyf54fb3b79gq32y3t4h0000gn/T/ipykernel_19541/692568148.py:107: FutureWarning: The frame.append method is deprecated and will be removed from pandas in a future version. Use pandas.concat instead.\n",
      "  df_history = df_history.append(scaled_df, ignore_index = True)\n"
     ]
    },
    {
     "name": "stdout",
     "output_type": "stream",
     "text": [
      "\n",
      "######################\n",
      "candle closed at 2064.83\n",
      "\n",
      "Back Propogate... \n",
      "\n",
      "CORRECT?:  -2.9316060543060303 -2.928332567214966 -2.9321396632537757\n",
      "COUNTBUY:  71 CORRECTBUY:  35 COUNTDONTBUY:  73 CORRECTDONTBUY:  34\n",
      "NEW PRICE:  2064.83 BOUGHT PRICE:  -2.9321396632537757 CHANGE:  0.13999999999987267 MONEY:  -1.6200000000003456\n",
      "Current Close Scaled:  -2.931605997363379\n",
      "PREDICTION tensor([[-2.9264]], grad_fn=<AddmmBackward0>)\n",
      "BUY AT:  2064.83 TIME:  1652437560000\n"
     ]
    },
    {
     "name": "stderr",
     "output_type": "stream",
     "text": [
      "/var/folders/9w/783wdyf54fb3b79gq32y3t4h0000gn/T/ipykernel_19541/692568148.py:107: FutureWarning: The frame.append method is deprecated and will be removed from pandas in a future version. Use pandas.concat instead.\n",
      "  df_history = df_history.append(scaled_df, ignore_index = True)\n"
     ]
    },
    {
     "name": "stdout",
     "output_type": "stream",
     "text": [
      "\n",
      "######################\n",
      "candle closed at 2066.4\n",
      "\n",
      "Back Propogate... \n",
      "\n",
      "CORRECT?:  -2.925621271133423 -2.926419973373413 -2.931605997363379\n",
      "COUNTBUY:  72 CORRECTBUY:  36 COUNTDONTBUY:  73 CORRECTDONTBUY:  34\n",
      "NEW PRICE:  2066.4 BOUGHT PRICE:  -2.931605997363379 CHANGE:  1.5700000000001637 MONEY:  -0.0500000000001819\n",
      "Current Close Scaled:  -2.9256213155924886\n",
      "PREDICTION tensor([[-2.9246]], grad_fn=<AddmmBackward0>)\n",
      "BUY AT:  2066.4 TIME:  1652437620000\n"
     ]
    },
    {
     "name": "stderr",
     "output_type": "stream",
     "text": [
      "/var/folders/9w/783wdyf54fb3b79gq32y3t4h0000gn/T/ipykernel_19541/692568148.py:107: FutureWarning: The frame.append method is deprecated and will be removed from pandas in a future version. Use pandas.concat instead.\n",
      "  df_history = df_history.append(scaled_df, ignore_index = True)\n"
     ]
    },
    {
     "name": "stdout",
     "output_type": "stream",
     "text": [
      "\n",
      "######################\n",
      "candle closed at 2060.27\n",
      "\n",
      "Back Propogate... \n",
      "\n",
      "CORRECT?:  -2.948988199234009 -2.924586772918701 -2.9256213155924886\n",
      "COUNTBUY:  73 CORRECTBUY:  36 COUNTDONTBUY:  73 CORRECTDONTBUY:  34\n",
      "NEW PRICE:  2060.27 BOUGHT PRICE:  -2.9256213155924886 CHANGE:  -6.130000000000109 MONEY:  -6.180000000000291\n",
      "Current Close Scaled:  -2.948988257793477\n",
      "PREDICTION tensor([[-2.9267]], grad_fn=<AddmmBackward0>)\n",
      "BUY AT:  2060.27 TIME:  1652437680000\n"
     ]
    },
    {
     "name": "stderr",
     "output_type": "stream",
     "text": [
      "/var/folders/9w/783wdyf54fb3b79gq32y3t4h0000gn/T/ipykernel_19541/692568148.py:107: FutureWarning: The frame.append method is deprecated and will be removed from pandas in a future version. Use pandas.concat instead.\n",
      "  df_history = df_history.append(scaled_df, ignore_index = True)\n"
     ]
    },
    {
     "name": "stdout",
     "output_type": "stream",
     "text": [
      "\n",
      "######################\n",
      "candle closed at 2060.35\n",
      "\n",
      "Back Propogate... \n",
      "\n",
      "CORRECT?:  -2.948683261871338 -2.926697015762329 -2.948988257793477\n",
      "COUNTBUY:  74 CORRECTBUY:  37 COUNTDONTBUY:  73 CORRECTDONTBUY:  34\n",
      "NEW PRICE:  2060.35 BOUGHT PRICE:  -2.948988257793477 CHANGE:  0.07999999999992724 MONEY:  -6.100000000000364\n",
      "Current Close Scaled:  -2.948683305856107\n",
      "PREDICTION tensor([[-2.9320]], grad_fn=<AddmmBackward0>)\n",
      "BUY AT:  2060.35 TIME:  1652437740000\n"
     ]
    },
    {
     "name": "stderr",
     "output_type": "stream",
     "text": [
      "/var/folders/9w/783wdyf54fb3b79gq32y3t4h0000gn/T/ipykernel_19541/692568148.py:107: FutureWarning: The frame.append method is deprecated and will be removed from pandas in a future version. Use pandas.concat instead.\n",
      "  df_history = df_history.append(scaled_df, ignore_index = True)\n"
     ]
    },
    {
     "name": "stdout",
     "output_type": "stream",
     "text": [
      "\n",
      "######################\n",
      "candle closed at 2061.85\n",
      "\n",
      "Back Propogate... \n",
      "\n",
      "CORRECT?:  -2.942965507507324 -2.9320077896118164 -2.948683305856107\n",
      "COUNTBUY:  75 CORRECTBUY:  38 COUNTDONTBUY:  73 CORRECTDONTBUY:  34\n",
      "NEW PRICE:  2061.85 BOUGHT PRICE:  -2.948683305856107 CHANGE:  1.5 MONEY:  -4.600000000000364\n",
      "Current Close Scaled:  -2.9429654570304167\n",
      "PREDICTION tensor([[-2.9385]], grad_fn=<AddmmBackward0>)\n",
      "BUY AT:  2061.85 TIME:  1652437800000\n"
     ]
    },
    {
     "name": "stderr",
     "output_type": "stream",
     "text": [
      "/var/folders/9w/783wdyf54fb3b79gq32y3t4h0000gn/T/ipykernel_19541/692568148.py:107: FutureWarning: The frame.append method is deprecated and will be removed from pandas in a future version. Use pandas.concat instead.\n",
      "  df_history = df_history.append(scaled_df, ignore_index = True)\n"
     ]
    },
    {
     "name": "stdout",
     "output_type": "stream",
     "text": [
      "\n",
      "######################\n",
      "candle closed at 2066.61\n",
      "\n",
      "Back Propogate... \n",
      "\n",
      "CORRECT?:  -2.924820899963379 -2.9385457038879395 -2.9429654570304167\n",
      "COUNTBUY:  76 CORRECTBUY:  39 COUNTDONTBUY:  73 CORRECTDONTBUY:  34\n",
      "NEW PRICE:  2066.61 BOUGHT PRICE:  -2.9429654570304167 CHANGE:  4.760000000000218 MONEY:  0.15999999999985448\n",
      "Current Close Scaled:  -2.924820816756892\n",
      "PREDICTION tensor([[-2.9423]], grad_fn=<AddmmBackward0>)\n",
      "DONT BUY\n"
     ]
    },
    {
     "name": "stderr",
     "output_type": "stream",
     "text": [
      "/var/folders/9w/783wdyf54fb3b79gq32y3t4h0000gn/T/ipykernel_19541/692568148.py:107: FutureWarning: The frame.append method is deprecated and will be removed from pandas in a future version. Use pandas.concat instead.\n",
      "  df_history = df_history.append(scaled_df, ignore_index = True)\n"
     ]
    },
    {
     "name": "stdout",
     "output_type": "stream",
     "text": [
      "\n",
      "######################\n",
      "candle closed at 2067.05\n",
      "\n",
      "Back Propogate... \n",
      "\n",
      "CORRECT?:  -2.9231436252593994 -2.942268133163452 -2.924820816756892\n",
      "COUNTBUY:  76 CORRECTBUY:  39 COUNTDONTBUY:  74 CORRECTDONTBUY:  34\n",
      "Current Close Scaled:  -2.923143581101356\n",
      "PREDICTION tensor([[-2.9600]], grad_fn=<AddmmBackward0>)\n",
      "DONT BUY\n"
     ]
    },
    {
     "name": "stderr",
     "output_type": "stream",
     "text": [
      "/var/folders/9w/783wdyf54fb3b79gq32y3t4h0000gn/T/ipykernel_19541/692568148.py:107: FutureWarning: The frame.append method is deprecated and will be removed from pandas in a future version. Use pandas.concat instead.\n",
      "  df_history = df_history.append(scaled_df, ignore_index = True)\n"
     ]
    },
    {
     "name": "stdout",
     "output_type": "stream",
     "text": [
      "\n",
      "######################\n",
      "candle closed at 2069.7\n",
      "\n",
      "Back Propogate... \n",
      "\n",
      "CORRECT?:  -2.9130420684814453 -2.960026741027832 -2.923143581101356\n",
      "COUNTBUY:  76 CORRECTBUY:  39 COUNTDONTBUY:  75 CORRECTDONTBUY:  34\n",
      "Current Close Scaled:  -2.913042048175971\n",
      "PREDICTION tensor([[-2.9355]], grad_fn=<AddmmBackward0>)\n",
      "DONT BUY\n"
     ]
    },
    {
     "name": "stderr",
     "output_type": "stream",
     "text": [
      "/var/folders/9w/783wdyf54fb3b79gq32y3t4h0000gn/T/ipykernel_19541/692568148.py:107: FutureWarning: The frame.append method is deprecated and will be removed from pandas in a future version. Use pandas.concat instead.\n",
      "  df_history = df_history.append(scaled_df, ignore_index = True)\n"
     ]
    },
    {
     "name": "stdout",
     "output_type": "stream",
     "text": [
      "\n",
      "######################\n",
      "candle closed at 2064.33\n",
      "\n",
      "Back Propogate... \n",
      "\n",
      "CORRECT?:  -2.933511972427368 -2.9354870319366455 -2.913042048175971\n",
      "COUNTBUY:  76 CORRECTBUY:  39 COUNTDONTBUY:  76 CORRECTDONTBUY:  35\n",
      "Current Close Scaled:  -2.933511946971942\n",
      "PREDICTION tensor([[-2.9297]], grad_fn=<AddmmBackward0>)\n",
      "BUY AT:  2064.33 TIME:  1652438040000\n"
     ]
    },
    {
     "name": "stderr",
     "output_type": "stream",
     "text": [
      "/var/folders/9w/783wdyf54fb3b79gq32y3t4h0000gn/T/ipykernel_19541/692568148.py:107: FutureWarning: The frame.append method is deprecated and will be removed from pandas in a future version. Use pandas.concat instead.\n",
      "  df_history = df_history.append(scaled_df, ignore_index = True)\n"
     ]
    },
    {
     "name": "stdout",
     "output_type": "stream",
     "text": [
      "\n",
      "######################\n",
      "candle closed at 2071.47\n",
      "\n",
      "Back Propogate... \n",
      "\n",
      "CORRECT?:  -2.90629506111145 -2.929729461669922 -2.933511946971942\n",
      "COUNTBUY:  77 CORRECTBUY:  40 COUNTDONTBUY:  76 CORRECTDONTBUY:  35\n",
      "NEW PRICE:  2071.47 BOUGHT PRICE:  -2.933511946971942 CHANGE:  7.139999999999873 MONEY:  7.299999999999727\n",
      "Current Close Scaled:  -2.9062949865616567\n",
      "PREDICTION tensor([[-2.9158]], grad_fn=<AddmmBackward0>)\n",
      "DONT BUY\n"
     ]
    },
    {
     "name": "stderr",
     "output_type": "stream",
     "text": [
      "/var/folders/9w/783wdyf54fb3b79gq32y3t4h0000gn/T/ipykernel_19541/692568148.py:107: FutureWarning: The frame.append method is deprecated and will be removed from pandas in a future version. Use pandas.concat instead.\n",
      "  df_history = df_history.append(scaled_df, ignore_index = True)\n"
     ]
    },
    {
     "name": "stdout",
     "output_type": "stream",
     "text": [
      "\n",
      "######################\n",
      "candle closed at 2075.29\n",
      "\n",
      "Back Propogate... \n",
      "\n",
      "CORRECT?:  -2.8917336463928223 -2.9157867431640625 -2.9062949865616567\n",
      "COUNTBUY:  77 CORRECTBUY:  40 COUNTDONTBUY:  77 CORRECTDONTBUY:  35\n",
      "Current Close Scaled:  -2.8917335315522315\n",
      "PREDICTION tensor([[-2.8558]], grad_fn=<AddmmBackward0>)\n",
      "BUY AT:  2075.29 TIME:  1652438160000\n"
     ]
    },
    {
     "name": "stderr",
     "output_type": "stream",
     "text": [
      "/var/folders/9w/783wdyf54fb3b79gq32y3t4h0000gn/T/ipykernel_19541/692568148.py:107: FutureWarning: The frame.append method is deprecated and will be removed from pandas in a future version. Use pandas.concat instead.\n",
      "  df_history = df_history.append(scaled_df, ignore_index = True)\n"
     ]
    },
    {
     "name": "stdout",
     "output_type": "stream",
     "text": [
      "\n",
      "######################\n",
      "candle closed at 2075.92\n",
      "\n",
      "Back Propogate... \n",
      "\n",
      "CORRECT?:  -2.8893320560455322 -2.8558053970336914 -2.8917335315522315\n",
      "COUNTBUY:  78 CORRECTBUY:  41 COUNTDONTBUY:  77 CORRECTDONTBUY:  35\n",
      "NEW PRICE:  2075.92 BOUGHT PRICE:  -2.8917335315522315 CHANGE:  0.6300000000001091 MONEY:  7.929999999999836\n",
      "Current Close Scaled:  -2.889332035045441\n",
      "PREDICTION tensor([[-2.8532]], grad_fn=<AddmmBackward0>)\n",
      "BUY AT:  2075.92 TIME:  1652438220000\n"
     ]
    },
    {
     "name": "stderr",
     "output_type": "stream",
     "text": [
      "/var/folders/9w/783wdyf54fb3b79gq32y3t4h0000gn/T/ipykernel_19541/692568148.py:107: FutureWarning: The frame.append method is deprecated and will be removed from pandas in a future version. Use pandas.concat instead.\n",
      "  df_history = df_history.append(scaled_df, ignore_index = True)\n"
     ]
    },
    {
     "name": "stdout",
     "output_type": "stream",
     "text": [
      "\n",
      "######################\n",
      "candle closed at 2081.52\n",
      "\n",
      "Back Propogate... \n",
      "\n",
      "CORRECT?:  -2.867985486984253 -2.853175401687622 -2.889332035045441\n",
      "COUNTBUY:  79 CORRECTBUY:  42 COUNTDONTBUY:  77 CORRECTDONTBUY:  35\n",
      "NEW PRICE:  2081.52 BOUGHT PRICE:  -2.889332035045441 CHANGE:  5.599999999999909 MONEY:  13.529999999999745\n",
      "Current Close Scaled:  -2.867985399429531\n",
      "PREDICTION tensor([[-2.8557]], grad_fn=<AddmmBackward0>)\n",
      "BUY AT:  2081.52 TIME:  1652438280000\n"
     ]
    },
    {
     "name": "stderr",
     "output_type": "stream",
     "text": [
      "/var/folders/9w/783wdyf54fb3b79gq32y3t4h0000gn/T/ipykernel_19541/692568148.py:107: FutureWarning: The frame.append method is deprecated and will be removed from pandas in a future version. Use pandas.concat instead.\n",
      "  df_history = df_history.append(scaled_df, ignore_index = True)\n"
     ]
    },
    {
     "name": "stdout",
     "output_type": "stream",
     "text": [
      "\n",
      "######################\n",
      "candle closed at 2078.64\n",
      "\n",
      "Back Propogate... \n",
      "\n",
      "CORRECT?:  -2.8789637088775635 -2.8557074069976807 -2.867985399429531\n",
      "COUNTBUY:  80 CORRECTBUY:  42 COUNTDONTBUY:  77 CORRECTDONTBUY:  35\n",
      "NEW PRICE:  2078.64 BOUGHT PRICE:  -2.867985399429531 CHANGE:  -2.880000000000109 MONEY:  10.649999999999636\n",
      "Current Close Scaled:  -2.8789636691748566\n",
      "PREDICTION tensor([[-2.8589]], grad_fn=<AddmmBackward0>)\n",
      "BUY AT:  2078.64 TIME:  1652438340000\n"
     ]
    },
    {
     "name": "stderr",
     "output_type": "stream",
     "text": [
      "/var/folders/9w/783wdyf54fb3b79gq32y3t4h0000gn/T/ipykernel_19541/692568148.py:107: FutureWarning: The frame.append method is deprecated and will be removed from pandas in a future version. Use pandas.concat instead.\n",
      "  df_history = df_history.append(scaled_df, ignore_index = True)\n"
     ]
    },
    {
     "name": "stdout",
     "output_type": "stream",
     "text": [
      "\n",
      "######################\n",
      "candle closed at 2079.94\n",
      "\n",
      "Back Propogate... \n",
      "\n",
      "CORRECT?:  -2.8740081787109375 -2.8589131832122803 -2.8789636691748566\n",
      "COUNTBUY:  81 CORRECTBUY:  43 COUNTDONTBUY:  77 CORRECTDONTBUY:  35\n",
      "NEW PRICE:  2079.94 BOUGHT PRICE:  -2.8789636691748566 CHANGE:  1.300000000000182 MONEY:  11.949999999999818\n",
      "Current Close Scaled:  -2.874008200192591\n",
      "PREDICTION tensor([[-2.8626]], grad_fn=<AddmmBackward0>)\n",
      "BUY AT:  2079.94 TIME:  1652438400000\n"
     ]
    },
    {
     "name": "stderr",
     "output_type": "stream",
     "text": [
      "/var/folders/9w/783wdyf54fb3b79gq32y3t4h0000gn/T/ipykernel_19541/692568148.py:107: FutureWarning: The frame.append method is deprecated and will be removed from pandas in a future version. Use pandas.concat instead.\n",
      "  df_history = df_history.append(scaled_df, ignore_index = True)\n"
     ]
    },
    {
     "name": "stdout",
     "output_type": "stream",
     "text": [
      "\n",
      "######################\n",
      "candle closed at 2079.34\n",
      "\n",
      "Back Propogate... \n",
      "\n",
      "CORRECT?:  -2.876295328140259 -2.8625595569610596 -2.874008200192591\n",
      "COUNTBUY:  82 CORRECTBUY:  43 COUNTDONTBUY:  77 CORRECTDONTBUY:  35\n",
      "NEW PRICE:  2079.34 BOUGHT PRICE:  -2.874008200192591 CHANGE:  -0.599999999999909 MONEY:  11.349999999999909\n",
      "Current Close Scaled:  -2.8762953397228666\n",
      "PREDICTION tensor([[-2.8812]], grad_fn=<AddmmBackward0>)\n",
      "DONT BUY\n"
     ]
    },
    {
     "name": "stderr",
     "output_type": "stream",
     "text": [
      "/var/folders/9w/783wdyf54fb3b79gq32y3t4h0000gn/T/ipykernel_19541/692568148.py:107: FutureWarning: The frame.append method is deprecated and will be removed from pandas in a future version. Use pandas.concat instead.\n",
      "  df_history = df_history.append(scaled_df, ignore_index = True)\n"
     ]
    },
    {
     "name": "stdout",
     "output_type": "stream",
     "text": [
      "\n",
      "######################\n",
      "candle closed at 2080.25\n",
      "\n",
      "Back Propogate... \n",
      "\n",
      "CORRECT?:  -2.87282657623291 -2.881239652633667 -2.8762953397228666\n",
      "COUNTBUY:  82 CORRECTBUY:  43 COUNTDONTBUY:  78 CORRECTDONTBUY:  35\n",
      "Current Close Scaled:  -2.8728265114352816\n",
      "PREDICTION tensor([[-2.8148]], grad_fn=<AddmmBackward0>)\n",
      "BUY AT:  2080.25 TIME:  1652438520000\n"
     ]
    },
    {
     "name": "stderr",
     "output_type": "stream",
     "text": [
      "/var/folders/9w/783wdyf54fb3b79gq32y3t4h0000gn/T/ipykernel_19541/692568148.py:107: FutureWarning: The frame.append method is deprecated and will be removed from pandas in a future version. Use pandas.concat instead.\n",
      "  df_history = df_history.append(scaled_df, ignore_index = True)\n"
     ]
    },
    {
     "name": "stdout",
     "output_type": "stream",
     "text": [
      "\n",
      "######################\n",
      "candle closed at 2080.01\n",
      "\n",
      "Back Propogate... \n",
      "\n",
      "CORRECT?:  -2.873741388320923 -2.814829111099243 -2.8728265114352816\n",
      "COUNTBUY:  83 CORRECTBUY:  43 COUNTDONTBUY:  78 CORRECTDONTBUY:  35\n",
      "NEW PRICE:  2080.01 BOUGHT PRICE:  -2.8728265114352816 CHANGE:  -0.23999999999978172 MONEY:  11.110000000000127\n",
      "Current Close Scaled:  -2.8737413672473915\n",
      "PREDICTION tensor([[-2.9529]], grad_fn=<AddmmBackward0>)\n",
      "DONT BUY\n"
     ]
    },
    {
     "name": "stderr",
     "output_type": "stream",
     "text": [
      "/var/folders/9w/783wdyf54fb3b79gq32y3t4h0000gn/T/ipykernel_19541/692568148.py:107: FutureWarning: The frame.append method is deprecated and will be removed from pandas in a future version. Use pandas.concat instead.\n",
      "  df_history = df_history.append(scaled_df, ignore_index = True)\n"
     ]
    },
    {
     "name": "stdout",
     "output_type": "stream",
     "text": [
      "\n",
      "######################\n",
      "candle closed at 2080.69\n",
      "\n",
      "Back Propogate... \n",
      "\n",
      "CORRECT?:  -2.8711493015289307 -2.952863931655884 -2.8737413672473915\n",
      "COUNTBUY:  83 CORRECTBUY:  43 COUNTDONTBUY:  79 CORRECTDONTBUY:  35\n",
      "Current Close Scaled:  -2.8711492757797457\n",
      "PREDICTION tensor([[-2.8919]], grad_fn=<AddmmBackward0>)\n",
      "DONT BUY\n"
     ]
    },
    {
     "name": "stderr",
     "output_type": "stream",
     "text": [
      "/var/folders/9w/783wdyf54fb3b79gq32y3t4h0000gn/T/ipykernel_19541/692568148.py:107: FutureWarning: The frame.append method is deprecated and will be removed from pandas in a future version. Use pandas.concat instead.\n",
      "  df_history = df_history.append(scaled_df, ignore_index = True)\n"
     ]
    },
    {
     "name": "stdout",
     "output_type": "stream",
     "text": [
      "\n",
      "######################\n",
      "candle closed at 2081.46\n",
      "\n",
      "Back Propogate... \n",
      "\n",
      "CORRECT?:  -2.8682141304016113 -2.8918747901916504 -2.8711492757797457\n",
      "COUNTBUY:  83 CORRECTBUY:  43 COUNTDONTBUY:  80 CORRECTDONTBUY:  35\n",
      "Current Close Scaled:  -2.868214113382558\n",
      "PREDICTION tensor([[-2.8998]], grad_fn=<AddmmBackward0>)\n",
      "DONT BUY\n"
     ]
    },
    {
     "name": "stderr",
     "output_type": "stream",
     "text": [
      "/var/folders/9w/783wdyf54fb3b79gq32y3t4h0000gn/T/ipykernel_19541/692568148.py:107: FutureWarning: The frame.append method is deprecated and will be removed from pandas in a future version. Use pandas.concat instead.\n",
      "  df_history = df_history.append(scaled_df, ignore_index = True)\n"
     ]
    },
    {
     "name": "stdout",
     "output_type": "stream",
     "text": [
      "\n",
      "######################\n",
      "candle closed at 2089.65\n",
      "\n",
      "Back Propogate... \n",
      "\n",
      "CORRECT?:  -2.8369946479797363 -2.8998491764068604 -2.868214113382558\n",
      "COUNTBUY:  83 CORRECTBUY:  43 COUNTDONTBUY:  81 CORRECTDONTBUY:  35\n",
      "Current Close Scaled:  -2.8369946587942887\n",
      "PREDICTION tensor([[-2.8778]], grad_fn=<AddmmBackward0>)\n",
      "DONT BUY\n"
     ]
    },
    {
     "name": "stderr",
     "output_type": "stream",
     "text": [
      "/var/folders/9w/783wdyf54fb3b79gq32y3t4h0000gn/T/ipykernel_19541/692568148.py:107: FutureWarning: The frame.append method is deprecated and will be removed from pandas in a future version. Use pandas.concat instead.\n",
      "  df_history = df_history.append(scaled_df, ignore_index = True)\n"
     ]
    },
    {
     "name": "stdout",
     "output_type": "stream",
     "text": [
      "\n",
      "######################\n",
      "candle closed at 2088.5\n",
      "\n",
      "Back Propogate... \n",
      "\n",
      "CORRECT?:  -2.8413784503936768 -2.8778183460235596 -2.8369946587942887\n",
      "COUNTBUY:  83 CORRECTBUY:  43 COUNTDONTBUY:  82 CORRECTDONTBUY:  36\n",
      "Current Close Scaled:  -2.841378342893985\n",
      "PREDICTION tensor([[-2.8763]], grad_fn=<AddmmBackward0>)\n",
      "DONT BUY\n"
     ]
    },
    {
     "name": "stderr",
     "output_type": "stream",
     "text": [
      "/var/folders/9w/783wdyf54fb3b79gq32y3t4h0000gn/T/ipykernel_19541/692568148.py:107: FutureWarning: The frame.append method is deprecated and will be removed from pandas in a future version. Use pandas.concat instead.\n",
      "  df_history = df_history.append(scaled_df, ignore_index = True)\n"
     ]
    },
    {
     "name": "stdout",
     "output_type": "stream",
     "text": [
      "\n",
      "######################\n",
      "candle closed at 2095.69\n",
      "\n",
      "Back Propogate... \n",
      "\n",
      "CORRECT?:  -2.8139708042144775 -2.876276969909668 -2.841378342893985\n",
      "COUNTBUY:  83 CORRECTBUY:  43 COUNTDONTBUY:  83 CORRECTDONTBUY:  36\n",
      "Current Close Scaled:  -2.8139707875228424\n",
      "PREDICTION tensor([[-2.8432]], grad_fn=<AddmmBackward0>)\n",
      "DONT BUY\n"
     ]
    },
    {
     "name": "stderr",
     "output_type": "stream",
     "text": [
      "/var/folders/9w/783wdyf54fb3b79gq32y3t4h0000gn/T/ipykernel_19541/692568148.py:107: FutureWarning: The frame.append method is deprecated and will be removed from pandas in a future version. Use pandas.concat instead.\n",
      "  df_history = df_history.append(scaled_df, ignore_index = True)\n"
     ]
    },
    {
     "name": "stdout",
     "output_type": "stream",
     "text": [
      "\n",
      "######################\n",
      "candle closed at 2095.25\n",
      "\n",
      "Back Propogate... \n",
      "\n",
      "CORRECT?:  -2.815648078918457 -2.8432464599609375 -2.8139707875228424\n",
      "COUNTBUY:  83 CORRECTBUY:  43 COUNTDONTBUY:  84 CORRECTDONTBUY:  37\n",
      "Current Close Scaled:  -2.8156480231783783\n",
      "PREDICTION tensor([[-2.8381]], grad_fn=<AddmmBackward0>)\n",
      "DONT BUY\n"
     ]
    },
    {
     "name": "stderr",
     "output_type": "stream",
     "text": [
      "/var/folders/9w/783wdyf54fb3b79gq32y3t4h0000gn/T/ipykernel_19541/692568148.py:107: FutureWarning: The frame.append method is deprecated and will be removed from pandas in a future version. Use pandas.concat instead.\n",
      "  df_history = df_history.append(scaled_df, ignore_index = True)\n"
     ]
    },
    {
     "name": "stdout",
     "output_type": "stream",
     "text": [
      "\n",
      "######################\n",
      "candle closed at 2104.43\n",
      "\n",
      "Back Propogate... \n",
      "\n",
      "CORRECT?:  -2.7806549072265625 -2.8380701541900635 -2.8156480231783783\n",
      "COUNTBUY:  83 CORRECTBUY:  43 COUNTDONTBUY:  85 CORRECTDONTBUY:  37\n",
      "Current Close Scaled:  -2.7806547883651542\n",
      "PREDICTION tensor([[-2.8138]], grad_fn=<AddmmBackward0>)\n",
      "DONT BUY\n"
     ]
    },
    {
     "name": "stderr",
     "output_type": "stream",
     "text": [
      "/var/folders/9w/783wdyf54fb3b79gq32y3t4h0000gn/T/ipykernel_19541/692568148.py:107: FutureWarning: The frame.append method is deprecated and will be removed from pandas in a future version. Use pandas.concat instead.\n",
      "  df_history = df_history.append(scaled_df, ignore_index = True)\n"
     ]
    },
    {
     "name": "stdout",
     "output_type": "stream",
     "text": [
      "\n",
      "######################\n",
      "candle closed at 2094.99\n",
      "\n",
      "Back Propogate... \n",
      "\n",
      "CORRECT?:  -2.8166391849517822 -2.8138129711151123 -2.7806547883651542\n",
      "COUNTBUY:  83 CORRECTBUY:  43 COUNTDONTBUY:  86 CORRECTDONTBUY:  38\n",
      "Current Close Scaled:  -2.8166391169748324\n",
      "PREDICTION tensor([[-2.7954]], grad_fn=<AddmmBackward0>)\n",
      "BUY AT:  2094.99 TIME:  1652439060000\n"
     ]
    },
    {
     "name": "stderr",
     "output_type": "stream",
     "text": [
      "/var/folders/9w/783wdyf54fb3b79gq32y3t4h0000gn/T/ipykernel_19541/692568148.py:107: FutureWarning: The frame.append method is deprecated and will be removed from pandas in a future version. Use pandas.concat instead.\n",
      "  df_history = df_history.append(scaled_df, ignore_index = True)\n"
     ]
    },
    {
     "name": "stdout",
     "output_type": "stream",
     "text": [
      "\n",
      "######################\n",
      "candle closed at 2089.51\n",
      "\n",
      "Back Propogate... \n",
      "\n",
      "CORRECT?:  -2.8375282287597656 -2.795413017272949 -2.8166391169748324\n",
      "COUNTBUY:  84 CORRECTBUY:  43 COUNTDONTBUY:  86 CORRECTDONTBUY:  38\n",
      "NEW PRICE:  2089.51 BOUGHT PRICE:  -2.8166391169748324 CHANGE:  -5.479999999999563 MONEY:  5.630000000000564\n",
      "Current Close Scaled:  -2.837528324684686\n",
      "PREDICTION tensor([[-2.7821]], grad_fn=<AddmmBackward0>)\n",
      "BUY AT:  2089.51 TIME:  1652439120000\n"
     ]
    },
    {
     "name": "stderr",
     "output_type": "stream",
     "text": [
      "/var/folders/9w/783wdyf54fb3b79gq32y3t4h0000gn/T/ipykernel_19541/692568148.py:107: FutureWarning: The frame.append method is deprecated and will be removed from pandas in a future version. Use pandas.concat instead.\n",
      "  df_history = df_history.append(scaled_df, ignore_index = True)\n"
     ]
    },
    {
     "name": "stdout",
     "output_type": "stream",
     "text": [
      "\n",
      "######################\n",
      "candle closed at 2090.68\n",
      "\n",
      "Back Propogate... \n",
      "\n",
      "CORRECT?:  -2.833068370819092 -2.7821433544158936 -2.837528324684686\n",
      "COUNTBUY:  85 CORRECTBUY:  44 COUNTDONTBUY:  86 CORRECTDONTBUY:  38\n",
      "NEW PRICE:  2090.68 BOUGHT PRICE:  -2.837528324684686 CHANGE:  1.169999999999618 MONEY:  6.800000000000182\n",
      "Current Close Scaled:  -2.8330684026006487\n",
      "PREDICTION tensor([[-2.7565]], grad_fn=<AddmmBackward0>)\n",
      "BUY AT:  2090.68 TIME:  1652439180000\n"
     ]
    },
    {
     "name": "stderr",
     "output_type": "stream",
     "text": [
      "/var/folders/9w/783wdyf54fb3b79gq32y3t4h0000gn/T/ipykernel_19541/692568148.py:107: FutureWarning: The frame.append method is deprecated and will be removed from pandas in a future version. Use pandas.concat instead.\n",
      "  df_history = df_history.append(scaled_df, ignore_index = True)\n"
     ]
    },
    {
     "name": "stdout",
     "output_type": "stream",
     "text": [
      "\n",
      "######################\n",
      "candle closed at 2095.49\n",
      "\n",
      "Back Propogate... \n",
      "\n",
      "CORRECT?:  -2.8147332668304443 -2.756547689437866 -2.8330684026006487\n",
      "COUNTBUY:  86 CORRECTBUY:  45 COUNTDONTBUY:  86 CORRECTDONTBUY:  38\n",
      "NEW PRICE:  2095.49 BOUGHT PRICE:  -2.8330684026006487 CHANGE:  4.809999999999945 MONEY:  11.610000000000127\n",
      "Current Close Scaled:  -2.8147331673662688\n",
      "PREDICTION tensor([[-2.7741]], grad_fn=<AddmmBackward0>)\n",
      "BUY AT:  2095.49 TIME:  1652439240000\n"
     ]
    },
    {
     "name": "stderr",
     "output_type": "stream",
     "text": [
      "/var/folders/9w/783wdyf54fb3b79gq32y3t4h0000gn/T/ipykernel_19541/692568148.py:107: FutureWarning: The frame.append method is deprecated and will be removed from pandas in a future version. Use pandas.concat instead.\n",
      "  df_history = df_history.append(scaled_df, ignore_index = True)\n"
     ]
    },
    {
     "name": "stdout",
     "output_type": "stream",
     "text": [
      "\n",
      "######################\n",
      "candle closed at 2095.0\n",
      "\n",
      "Back Propogate... \n",
      "\n",
      "CORRECT?:  -2.816601037979126 -2.7740774154663086 -2.8147331673662688\n",
      "COUNTBUY:  87 CORRECTBUY:  45 COUNTDONTBUY:  86 CORRECTDONTBUY:  38\n",
      "NEW PRICE:  2095.0 BOUGHT PRICE:  -2.8147331673662688 CHANGE:  -0.4899999999997817 MONEY:  11.120000000000346\n",
      "Current Close Scaled:  -2.8166009979826603\n",
      "PREDICTION tensor([[-2.7771]], grad_fn=<AddmmBackward0>)\n",
      "BUY AT:  2095.0 TIME:  1652439300000\n"
     ]
    },
    {
     "name": "stderr",
     "output_type": "stream",
     "text": [
      "/var/folders/9w/783wdyf54fb3b79gq32y3t4h0000gn/T/ipykernel_19541/692568148.py:107: FutureWarning: The frame.append method is deprecated and will be removed from pandas in a future version. Use pandas.concat instead.\n",
      "  df_history = df_history.append(scaled_df, ignore_index = True)\n"
     ]
    },
    {
     "name": "stdout",
     "output_type": "stream",
     "text": [
      "\n",
      "######################\n",
      "candle closed at 2101.89\n",
      "\n",
      "Back Propogate... \n",
      "\n",
      "CORRECT?:  -2.790337085723877 -2.7771425247192383 -2.8166009979826603\n",
      "COUNTBUY:  88 CORRECTBUY:  46 COUNTDONTBUY:  86 CORRECTDONTBUY:  38\n",
      "NEW PRICE:  2101.89 BOUGHT PRICE:  -2.8166009979826603 CHANGE:  6.889999999999873 MONEY:  18.01000000000022\n",
      "Current Close Scaled:  -2.790337012376656\n",
      "PREDICTION tensor([[-2.7813]], grad_fn=<AddmmBackward0>)\n",
      "BUY AT:  2101.89 TIME:  1652439360000\n"
     ]
    },
    {
     "name": "stderr",
     "output_type": "stream",
     "text": [
      "/var/folders/9w/783wdyf54fb3b79gq32y3t4h0000gn/T/ipykernel_19541/692568148.py:107: FutureWarning: The frame.append method is deprecated and will be removed from pandas in a future version. Use pandas.concat instead.\n",
      "  df_history = df_history.append(scaled_df, ignore_index = True)\n"
     ]
    },
    {
     "name": "stdout",
     "output_type": "stream",
     "text": [
      "\n",
      "######################\n",
      "candle closed at 2103.0\n",
      "\n",
      "Back Propogate... \n",
      "\n",
      "CORRECT?:  -2.7861058712005615 -2.78128719329834 -2.790337012376656\n",
      "COUNTBUY:  89 CORRECTBUY:  47 COUNTDONTBUY:  86 CORRECTDONTBUY:  38\n",
      "NEW PRICE:  2103.0 BOUGHT PRICE:  -2.790337012376656 CHANGE:  1.1100000000001273 MONEY:  19.120000000000346\n",
      "Current Close Scaled:  -2.7861058042456452\n",
      "PREDICTION tensor([[-2.7932]], grad_fn=<AddmmBackward0>)\n",
      "DONT BUY\n"
     ]
    },
    {
     "name": "stderr",
     "output_type": "stream",
     "text": [
      "/var/folders/9w/783wdyf54fb3b79gq32y3t4h0000gn/T/ipykernel_19541/692568148.py:107: FutureWarning: The frame.append method is deprecated and will be removed from pandas in a future version. Use pandas.concat instead.\n",
      "  df_history = df_history.append(scaled_df, ignore_index = True)\n"
     ]
    },
    {
     "name": "stdout",
     "output_type": "stream",
     "text": [
      "\n",
      "######################\n",
      "candle closed at 2099.15\n",
      "\n",
      "Back Propogate... \n",
      "\n",
      "CORRECT?:  -2.800781726837158 -2.7931594848632812 -2.7861058042456452\n",
      "COUNTBUY:  89 CORRECTBUY:  47 COUNTDONTBUY:  87 CORRECTDONTBUY:  39\n",
      "Current Close Scaled:  -2.8007816162315833\n",
      "PREDICTION tensor([[-2.7904]], grad_fn=<AddmmBackward0>)\n",
      "BUY AT:  2099.15 TIME:  1652439480000\n"
     ]
    },
    {
     "name": "stderr",
     "output_type": "stream",
     "text": [
      "/var/folders/9w/783wdyf54fb3b79gq32y3t4h0000gn/T/ipykernel_19541/692568148.py:107: FutureWarning: The frame.append method is deprecated and will be removed from pandas in a future version. Use pandas.concat instead.\n",
      "  df_history = df_history.append(scaled_df, ignore_index = True)\n"
     ]
    },
    {
     "name": "stdout",
     "output_type": "stream",
     "text": [
      "\n",
      "######################\n",
      "candle closed at 2097.04\n",
      "\n",
      "Back Propogate... \n",
      "\n",
      "CORRECT?:  -2.8088247776031494 -2.7903671264648438 -2.8007816162315833\n",
      "COUNTBUY:  90 CORRECTBUY:  47 COUNTDONTBUY:  87 CORRECTDONTBUY:  39\n",
      "NEW PRICE:  2097.04 BOUGHT PRICE:  -2.8007816162315833 CHANGE:  -2.1100000000001273 MONEY:  17.01000000000022\n",
      "Current Close Scaled:  -2.8088247235797215\n",
      "PREDICTION tensor([[-2.8157]], grad_fn=<AddmmBackward0>)\n",
      "DONT BUY\n"
     ]
    },
    {
     "name": "stderr",
     "output_type": "stream",
     "text": [
      "/var/folders/9w/783wdyf54fb3b79gq32y3t4h0000gn/T/ipykernel_19541/692568148.py:107: FutureWarning: The frame.append method is deprecated and will be removed from pandas in a future version. Use pandas.concat instead.\n",
      "  df_history = df_history.append(scaled_df, ignore_index = True)\n"
     ]
    },
    {
     "name": "stdout",
     "output_type": "stream",
     "text": [
      "\n",
      "######################\n",
      "candle closed at 2101.79\n",
      "\n",
      "Back Propogate... \n",
      "\n",
      "CORRECT?:  -2.7907183170318604 -2.8157453536987305 -2.8088247235797215\n",
      "COUNTBUY:  90 CORRECTBUY:  47 COUNTDONTBUY:  88 CORRECTDONTBUY:  39\n",
      "Current Close Scaled:  -2.7907182022983688\n",
      "PREDICTION tensor([[-2.8000]], grad_fn=<AddmmBackward0>)\n",
      "DONT BUY\n"
     ]
    },
    {
     "name": "stderr",
     "output_type": "stream",
     "text": [
      "/var/folders/9w/783wdyf54fb3b79gq32y3t4h0000gn/T/ipykernel_19541/692568148.py:107: FutureWarning: The frame.append method is deprecated and will be removed from pandas in a future version. Use pandas.concat instead.\n",
      "  df_history = df_history.append(scaled_df, ignore_index = True)\n"
     ]
    },
    {
     "name": "stdout",
     "output_type": "stream",
     "text": [
      "\n",
      "######################\n",
      "candle closed at 2105.52\n",
      "\n",
      "Back Propogate... \n",
      "\n",
      "CORRECT?:  -2.7764997482299805 -2.800002336502075 -2.7907182022983688\n",
      "COUNTBUY:  90 CORRECTBUY:  47 COUNTDONTBUY:  89 CORRECTDONTBUY:  39\n",
      "Current Close Scaled:  -2.7764998182184852\n",
      "PREDICTION tensor([[-2.8314]], grad_fn=<AddmmBackward0>)\n",
      "DONT BUY\n"
     ]
    },
    {
     "name": "stderr",
     "output_type": "stream",
     "text": [
      "/var/folders/9w/783wdyf54fb3b79gq32y3t4h0000gn/T/ipykernel_19541/692568148.py:107: FutureWarning: The frame.append method is deprecated and will be removed from pandas in a future version. Use pandas.concat instead.\n",
      "  df_history = df_history.append(scaled_df, ignore_index = True)\n"
     ]
    },
    {
     "name": "stdout",
     "output_type": "stream",
     "text": [
      "\n",
      "######################\n",
      "candle closed at 2106.34\n",
      "\n",
      "Back Propogate... \n",
      "\n",
      "CORRECT?:  -2.773374080657959 -2.831395387649536 -2.7764998182184852\n",
      "COUNTBUY:  90 CORRECTBUY:  47 COUNTDONTBUY:  90 CORRECTDONTBUY:  39\n",
      "Current Close Scaled:  -2.7733740608604407\n",
      "PREDICTION tensor([[-2.7940]], grad_fn=<AddmmBackward0>)\n",
      "DONT BUY\n"
     ]
    },
    {
     "name": "stderr",
     "output_type": "stream",
     "text": [
      "/var/folders/9w/783wdyf54fb3b79gq32y3t4h0000gn/T/ipykernel_19541/692568148.py:107: FutureWarning: The frame.append method is deprecated and will be removed from pandas in a future version. Use pandas.concat instead.\n",
      "  df_history = df_history.append(scaled_df, ignore_index = True)\n"
     ]
    },
    {
     "name": "stdout",
     "output_type": "stream",
     "text": [
      "\n",
      "######################\n",
      "candle closed at 2105.41\n",
      "\n",
      "Back Propogate... \n",
      "\n",
      "CORRECT?:  -2.77691912651062 -2.793968677520752 -2.7733740608604407\n",
      "COUNTBUY:  90 CORRECTBUY:  47 COUNTDONTBUY:  91 CORRECTDONTBUY:  40\n",
      "Current Close Scaled:  -2.77691912713237\n",
      "PREDICTION tensor([[-2.7855]], grad_fn=<AddmmBackward0>)\n",
      "DONT BUY\n"
     ]
    },
    {
     "name": "stderr",
     "output_type": "stream",
     "text": [
      "/var/folders/9w/783wdyf54fb3b79gq32y3t4h0000gn/T/ipykernel_19541/692568148.py:107: FutureWarning: The frame.append method is deprecated and will be removed from pandas in a future version. Use pandas.concat instead.\n",
      "  df_history = df_history.append(scaled_df, ignore_index = True)\n"
     ]
    },
    {
     "name": "stdout",
     "output_type": "stream",
     "text": [
      "\n",
      "######################\n",
      "candle closed at 2101.32\n",
      "\n",
      "Back Propogate... \n",
      "\n",
      "CORRECT?:  -2.7925097942352295 -2.7854580879211426 -2.77691912713237\n",
      "COUNTBUY:  90 CORRECTBUY:  47 COUNTDONTBUY:  92 CORRECTDONTBUY:  41\n",
      "Current Close Scaled:  -2.7925097949304174\n",
      "PREDICTION tensor([[-2.7809]], grad_fn=<AddmmBackward0>)\n",
      "BUY AT:  2101.32 TIME:  1652439840000\n"
     ]
    },
    {
     "name": "stderr",
     "output_type": "stream",
     "text": [
      "/var/folders/9w/783wdyf54fb3b79gq32y3t4h0000gn/T/ipykernel_19541/692568148.py:107: FutureWarning: The frame.append method is deprecated and will be removed from pandas in a future version. Use pandas.concat instead.\n",
      "  df_history = df_history.append(scaled_df, ignore_index = True)\n"
     ]
    },
    {
     "name": "stdout",
     "output_type": "stream",
     "text": [
      "\n",
      "######################\n",
      "candle closed at 2096.95\n",
      "\n",
      "Back Propogate... \n",
      "\n",
      "CORRECT?:  -2.8091678619384766 -2.7809183597564697 -2.7925097949304174\n",
      "COUNTBUY:  91 CORRECTBUY:  47 COUNTDONTBUY:  92 CORRECTDONTBUY:  41\n",
      "NEW PRICE:  2096.95 BOUGHT PRICE:  -2.7925097949304174 CHANGE:  -4.370000000000346 MONEY:  12.639999999999873\n",
      "Current Close Scaled:  -2.8091677945092632\n",
      "PREDICTION tensor([[-2.7788]], grad_fn=<AddmmBackward0>)\n",
      "BUY AT:  2096.95 TIME:  1652439900000\n"
     ]
    },
    {
     "name": "stderr",
     "output_type": "stream",
     "text": [
      "/var/folders/9w/783wdyf54fb3b79gq32y3t4h0000gn/T/ipykernel_19541/692568148.py:107: FutureWarning: The frame.append method is deprecated and will be removed from pandas in a future version. Use pandas.concat instead.\n",
      "  df_history = df_history.append(scaled_df, ignore_index = True)\n"
     ]
    },
    {
     "name": "stdout",
     "output_type": "stream",
     "text": [
      "\n",
      "######################\n",
      "candle closed at 2100.84\n",
      "\n",
      "Back Propogate... \n",
      "\n",
      "CORRECT?:  -2.794339418411255 -2.7787957191467285 -2.8091677945092632\n",
      "COUNTBUY:  92 CORRECTBUY:  48 COUNTDONTBUY:  92 CORRECTDONTBUY:  41\n",
      "NEW PRICE:  2100.84 BOUGHT PRICE:  -2.8091677945092632 CHANGE:  3.8900000000003274 MONEY:  16.5300000000002\n",
      "Current Close Scaled:  -2.7943395065546386\n",
      "PREDICTION tensor([[-2.7774]], grad_fn=<AddmmBackward0>)\n",
      "BUY AT:  2100.84 TIME:  1652439960000\n"
     ]
    },
    {
     "name": "stderr",
     "output_type": "stream",
     "text": [
      "/var/folders/9w/783wdyf54fb3b79gq32y3t4h0000gn/T/ipykernel_19541/692568148.py:107: FutureWarning: The frame.append method is deprecated and will be removed from pandas in a future version. Use pandas.concat instead.\n",
      "  df_history = df_history.append(scaled_df, ignore_index = True)\n"
     ]
    },
    {
     "name": "stdout",
     "output_type": "stream",
     "text": [
      "\n",
      "######################\n",
      "candle closed at 2103.14\n",
      "\n",
      "Back Propogate... \n",
      "\n",
      "CORRECT?:  -2.785572052001953 -2.777369260787964 -2.7943395065546386\n",
      "COUNTBUY:  93 CORRECTBUY:  49 COUNTDONTBUY:  92 CORRECTDONTBUY:  41\n",
      "NEW PRICE:  2103.14 BOUGHT PRICE:  -2.7943395065546386 CHANGE:  2.299999999999727 MONEY:  18.829999999999927\n",
      "Current Close Scaled:  -2.785572138355248\n",
      "PREDICTION tensor([[-2.7790]], grad_fn=<AddmmBackward0>)\n",
      "BUY AT:  2103.14 TIME:  1652440020000\n"
     ]
    },
    {
     "name": "stderr",
     "output_type": "stream",
     "text": [
      "/var/folders/9w/783wdyf54fb3b79gq32y3t4h0000gn/T/ipykernel_19541/692568148.py:107: FutureWarning: The frame.append method is deprecated and will be removed from pandas in a future version. Use pandas.concat instead.\n",
      "  df_history = df_history.append(scaled_df, ignore_index = True)\n"
     ]
    },
    {
     "name": "stdout",
     "output_type": "stream",
     "text": [
      "\n",
      "######################\n",
      "candle closed at 2102.67\n",
      "\n",
      "Back Propogate... \n",
      "\n",
      "CORRECT?:  -2.7873637676239014 -2.7790369987487793 -2.785572138355248\n",
      "COUNTBUY:  94 CORRECTBUY:  49 COUNTDONTBUY:  92 CORRECTDONTBUY:  41\n",
      "NEW PRICE:  2102.67 BOUGHT PRICE:  -2.785572138355248 CHANGE:  -0.4699999999997999 MONEY:  18.360000000000127\n",
      "Current Close Scaled:  -2.7873637309872965\n",
      "PREDICTION tensor([[-2.7803]], grad_fn=<AddmmBackward0>)\n",
      "BUY AT:  2102.67 TIME:  1652440080000\n"
     ]
    },
    {
     "name": "stderr",
     "output_type": "stream",
     "text": [
      "/var/folders/9w/783wdyf54fb3b79gq32y3t4h0000gn/T/ipykernel_19541/692568148.py:107: FutureWarning: The frame.append method is deprecated and will be removed from pandas in a future version. Use pandas.concat instead.\n",
      "  df_history = df_history.append(scaled_df, ignore_index = True)\n"
     ]
    },
    {
     "name": "stdout",
     "output_type": "stream",
     "text": [
      "\n",
      "######################\n",
      "candle closed at 2100.83\n",
      "\n",
      "Back Propogate... \n",
      "\n",
      "CORRECT?:  -2.794377565383911 -2.780311107635498 -2.7873637309872965\n",
      "COUNTBUY:  95 CORRECTBUY:  49 COUNTDONTBUY:  92 CORRECTDONTBUY:  41\n",
      "NEW PRICE:  2100.83 BOUGHT PRICE:  -2.7873637309872965 CHANGE:  -1.8400000000001455 MONEY:  16.519999999999982\n",
      "Current Close Scaled:  -2.7943776255468107\n",
      "PREDICTION tensor([[-2.7736]], grad_fn=<AddmmBackward0>)\n",
      "BUY AT:  2100.83 TIME:  1652440140000\n"
     ]
    },
    {
     "name": "stderr",
     "output_type": "stream",
     "text": [
      "/var/folders/9w/783wdyf54fb3b79gq32y3t4h0000gn/T/ipykernel_19541/692568148.py:107: FutureWarning: The frame.append method is deprecated and will be removed from pandas in a future version. Use pandas.concat instead.\n",
      "  df_history = df_history.append(scaled_df, ignore_index = True)\n"
     ]
    },
    {
     "name": "stdout",
     "output_type": "stream",
     "text": [
      "\n",
      "######################\n",
      "candle closed at 2100.68\n",
      "\n",
      "Back Propogate... \n",
      "\n",
      "CORRECT?:  -2.7949492931365967 -2.7735755443573 -2.7943776255468107\n",
      "COUNTBUY:  96 CORRECTBUY:  49 COUNTDONTBUY:  92 CORRECTDONTBUY:  41\n",
      "NEW PRICE:  2100.68 BOUGHT PRICE:  -2.7943776255468107 CHANGE:  -0.15000000000009095 MONEY:  16.36999999999989\n",
      "Current Close Scaled:  -2.79494941042938\n",
      "PREDICTION tensor([[-2.7999]], grad_fn=<AddmmBackward0>)\n",
      "DONT BUY\n"
     ]
    },
    {
     "name": "stderr",
     "output_type": "stream",
     "text": [
      "/var/folders/9w/783wdyf54fb3b79gq32y3t4h0000gn/T/ipykernel_19541/692568148.py:107: FutureWarning: The frame.append method is deprecated and will be removed from pandas in a future version. Use pandas.concat instead.\n",
      "  df_history = df_history.append(scaled_df, ignore_index = True)\n"
     ]
    },
    {
     "name": "stdout",
     "output_type": "stream",
     "text": [
      "\n",
      "######################\n",
      "candle closed at 2096.89\n",
      "\n",
      "Back Propogate... \n",
      "\n",
      "CORRECT?:  -2.809396505355835 -2.799884796142578 -2.79494941042938\n",
      "COUNTBUY:  96 CORRECTBUY:  49 COUNTDONTBUY:  93 CORRECTDONTBUY:  42\n",
      "Current Close Scaled:  -2.809396508462291\n",
      "PREDICTION tensor([[-2.7913]], grad_fn=<AddmmBackward0>)\n",
      "BUY AT:  2096.89 TIME:  1652440260000\n"
     ]
    },
    {
     "name": "stderr",
     "output_type": "stream",
     "text": [
      "/var/folders/9w/783wdyf54fb3b79gq32y3t4h0000gn/T/ipykernel_19541/692568148.py:107: FutureWarning: The frame.append method is deprecated and will be removed from pandas in a future version. Use pandas.concat instead.\n",
      "  df_history = df_history.append(scaled_df, ignore_index = True)\n"
     ]
    },
    {
     "name": "stdout",
     "output_type": "stream",
     "text": [
      "\n",
      "######################\n",
      "candle closed at 2099.44\n",
      "\n",
      "Back Propogate... \n",
      "\n",
      "CORRECT?:  -2.7996761798858643 -2.791306495666504 -2.809396508462291\n",
      "COUNTBUY:  97 CORRECTBUY:  50 COUNTDONTBUY:  93 CORRECTDONTBUY:  42\n",
      "NEW PRICE:  2099.44 BOUGHT PRICE:  -2.809396508462291 CHANGE:  2.550000000000182 MONEY:  18.920000000000073\n",
      "Current Close Scaled:  -2.7996761654586164\n",
      "PREDICTION tensor([[-2.7961]], grad_fn=<AddmmBackward0>)\n",
      "BUY AT:  2099.44 TIME:  1652440320000\n"
     ]
    },
    {
     "name": "stderr",
     "output_type": "stream",
     "text": [
      "/var/folders/9w/783wdyf54fb3b79gq32y3t4h0000gn/T/ipykernel_19541/692568148.py:107: FutureWarning: The frame.append method is deprecated and will be removed from pandas in a future version. Use pandas.concat instead.\n",
      "  df_history = df_history.append(scaled_df, ignore_index = True)\n"
     ]
    },
    {
     "name": "stdout",
     "output_type": "stream",
     "text": [
      "\n",
      "######################\n",
      "candle closed at 2097.01\n",
      "\n",
      "Back Propogate... \n",
      "\n",
      "CORRECT?:  -2.808938980102539 -2.79606294631958 -2.7996761654586164\n",
      "COUNTBUY:  98 CORRECTBUY:  50 COUNTDONTBUY:  93 CORRECTDONTBUY:  42\n",
      "NEW PRICE:  2097.01 BOUGHT PRICE:  -2.7996761654586164 CHANGE:  -2.4299999999998363 MONEY:  16.490000000000236\n",
      "Current Close Scaled:  -2.808939080556234\n",
      "PREDICTION tensor([[-2.7959]], grad_fn=<AddmmBackward0>)\n",
      "BUY AT:  2097.01 TIME:  1652440380000\n"
     ]
    },
    {
     "name": "stderr",
     "output_type": "stream",
     "text": [
      "/var/folders/9w/783wdyf54fb3b79gq32y3t4h0000gn/T/ipykernel_19541/692568148.py:107: FutureWarning: The frame.append method is deprecated and will be removed from pandas in a future version. Use pandas.concat instead.\n",
      "  df_history = df_history.append(scaled_df, ignore_index = True)\n"
     ]
    },
    {
     "name": "stdout",
     "output_type": "stream",
     "text": [
      "\n",
      "######################\n",
      "candle closed at 2093.9\n",
      "\n",
      "Back Propogate... \n",
      "\n",
      "CORRECT?:  -2.820794105529785 -2.7959253787994385 -2.808939080556234\n",
      "COUNTBUY:  99 CORRECTBUY:  50 COUNTDONTBUY:  93 CORRECTDONTBUY:  42\n",
      "NEW PRICE:  2093.9 BOUGHT PRICE:  -2.808939080556234 CHANGE:  -3.1100000000001273 MONEY:  13.38000000000011\n",
      "Current Close Scaled:  -2.820794087121499\n",
      "PREDICTION tensor([[-2.8085]], grad_fn=<AddmmBackward0>)\n",
      "BUY AT:  2093.9 TIME:  1652440440000\n"
     ]
    },
    {
     "name": "stderr",
     "output_type": "stream",
     "text": [
      "/var/folders/9w/783wdyf54fb3b79gq32y3t4h0000gn/T/ipykernel_19541/692568148.py:107: FutureWarning: The frame.append method is deprecated and will be removed from pandas in a future version. Use pandas.concat instead.\n",
      "  df_history = df_history.append(scaled_df, ignore_index = True)\n"
     ]
    },
    {
     "name": "stdout",
     "output_type": "stream",
     "text": [
      "\n",
      "######################\n",
      "candle closed at 2083.43\n",
      "\n",
      "Back Propogate... \n",
      "\n",
      "CORRECT?:  -2.8607046604156494 -2.8084917068481445 -2.820794087121499\n",
      "COUNTBUY:  100 CORRECTBUY:  50 COUNTDONTBUY:  93 CORRECTDONTBUY:  42\n",
      "NEW PRICE:  2083.43 BOUGHT PRICE:  -2.820794087121499 CHANGE:  -10.470000000000255 MONEY:  2.9099999999998545\n",
      "Current Close Scaled:  -2.860704671924819\n",
      "PREDICTION tensor([[-2.7867]], grad_fn=<AddmmBackward0>)\n",
      "BUY AT:  2083.43 TIME:  1652440500000\n"
     ]
    },
    {
     "name": "stderr",
     "output_type": "stream",
     "text": [
      "/var/folders/9w/783wdyf54fb3b79gq32y3t4h0000gn/T/ipykernel_19541/692568148.py:107: FutureWarning: The frame.append method is deprecated and will be removed from pandas in a future version. Use pandas.concat instead.\n",
      "  df_history = df_history.append(scaled_df, ignore_index = True)\n"
     ]
    },
    {
     "name": "stdout",
     "output_type": "stream",
     "text": [
      "\n",
      "######################\n",
      "candle closed at 2082.22\n",
      "\n",
      "Back Propogate... \n",
      "\n",
      "CORRECT?:  -2.8653171062469482 -2.7866508960723877 -2.860704671924819\n",
      "COUNTBUY:  101 CORRECTBUY:  50 COUNTDONTBUY:  93 CORRECTDONTBUY:  42\n",
      "NEW PRICE:  2082.22 BOUGHT PRICE:  -2.860704671924819 CHANGE:  -1.2100000000000364 MONEY:  1.699999999999818\n",
      "Current Close Scaled:  -2.8653170699775425\n",
      "PREDICTION tensor([[-2.8365]], grad_fn=<AddmmBackward0>)\n",
      "BUY AT:  2082.22 TIME:  1652440560000\n"
     ]
    },
    {
     "name": "stderr",
     "output_type": "stream",
     "text": [
      "/var/folders/9w/783wdyf54fb3b79gq32y3t4h0000gn/T/ipykernel_19541/692568148.py:107: FutureWarning: The frame.append method is deprecated and will be removed from pandas in a future version. Use pandas.concat instead.\n",
      "  df_history = df_history.append(scaled_df, ignore_index = True)\n"
     ]
    },
    {
     "name": "stdout",
     "output_type": "stream",
     "text": [
      "\n",
      "######################\n",
      "candle closed at 2082.0\n",
      "\n",
      "Back Propogate... \n",
      "\n",
      "CORRECT?:  -2.8661556243896484 -2.8365447521209717 -2.8653170699775425\n",
      "COUNTBUY:  102 CORRECTBUY:  50 COUNTDONTBUY:  93 CORRECTDONTBUY:  42\n",
      "NEW PRICE:  2082.0 BOUGHT PRICE:  -2.8653170699775425 CHANGE:  -0.2199999999997999 MONEY:  1.4800000000000182\n",
      "Current Close Scaled:  -2.8661556878053096\n",
      "PREDICTION tensor([[-2.8556]], grad_fn=<AddmmBackward0>)\n",
      "BUY AT:  2082.0 TIME:  1652440620000\n"
     ]
    },
    {
     "name": "stderr",
     "output_type": "stream",
     "text": [
      "/var/folders/9w/783wdyf54fb3b79gq32y3t4h0000gn/T/ipykernel_19541/692568148.py:107: FutureWarning: The frame.append method is deprecated and will be removed from pandas in a future version. Use pandas.concat instead.\n",
      "  df_history = df_history.append(scaled_df, ignore_index = True)\n"
     ]
    },
    {
     "name": "stdout",
     "output_type": "stream",
     "text": [
      "\n",
      "######################\n",
      "candle closed at 2081.07\n",
      "\n",
      "Back Propogate... \n",
      "\n",
      "CORRECT?:  -2.8697006702423096 -2.855635643005371 -2.8661556878053096\n",
      "COUNTBUY:  103 CORRECTBUY:  50 COUNTDONTBUY:  93 CORRECTDONTBUY:  42\n",
      "NEW PRICE:  2081.07 BOUGHT PRICE:  -2.8661556878053096 CHANGE:  -0.9299999999998363 MONEY:  0.5500000000001819\n",
      "Current Close Scaled:  -2.869700754077237\n",
      "PREDICTION tensor([[-2.8685]], grad_fn=<AddmmBackward0>)\n",
      "BUY AT:  2081.07 TIME:  1652440680000\n"
     ]
    },
    {
     "name": "stderr",
     "output_type": "stream",
     "text": [
      "/var/folders/9w/783wdyf54fb3b79gq32y3t4h0000gn/T/ipykernel_19541/692568148.py:107: FutureWarning: The frame.append method is deprecated and will be removed from pandas in a future version. Use pandas.concat instead.\n",
      "  df_history = df_history.append(scaled_df, ignore_index = True)\n"
     ]
    },
    {
     "name": "stdout",
     "output_type": "stream",
     "text": [
      "\n",
      "######################\n",
      "candle closed at 2081.52\n",
      "\n",
      "Back Propogate... \n",
      "\n",
      "CORRECT?:  -2.867985486984253 -2.86849308013916 -2.869700754077237\n",
      "COUNTBUY:  104 CORRECTBUY:  51 COUNTDONTBUY:  93 CORRECTDONTBUY:  42\n",
      "NEW PRICE:  2081.52 BOUGHT PRICE:  -2.869700754077237 CHANGE:  0.4499999999998181 MONEY:  1.0\n",
      "Current Close Scaled:  -2.867985399429531\n",
      "PREDICTION tensor([[-2.8930]], grad_fn=<AddmmBackward0>)\n",
      "DONT BUY\n"
     ]
    },
    {
     "name": "stderr",
     "output_type": "stream",
     "text": [
      "/var/folders/9w/783wdyf54fb3b79gq32y3t4h0000gn/T/ipykernel_19541/692568148.py:107: FutureWarning: The frame.append method is deprecated and will be removed from pandas in a future version. Use pandas.concat instead.\n",
      "  df_history = df_history.append(scaled_df, ignore_index = True)\n"
     ]
    },
    {
     "name": "stdout",
     "output_type": "stream",
     "text": [
      "\n",
      "######################\n",
      "candle closed at 2081.02\n",
      "\n",
      "Back Propogate... \n",
      "\n",
      "CORRECT?:  -2.869891405105591 -2.8930273056030273 -2.867985399429531\n",
      "COUNTBUY:  104 CORRECTBUY:  51 COUNTDONTBUY:  94 CORRECTDONTBUY:  43\n",
      "Current Close Scaled:  -2.869891349038094\n",
      "PREDICTION tensor([[-2.9068]], grad_fn=<AddmmBackward0>)\n",
      "DONT BUY\n"
     ]
    },
    {
     "name": "stderr",
     "output_type": "stream",
     "text": [
      "/var/folders/9w/783wdyf54fb3b79gq32y3t4h0000gn/T/ipykernel_19541/692568148.py:107: FutureWarning: The frame.append method is deprecated and will be removed from pandas in a future version. Use pandas.concat instead.\n",
      "  df_history = df_history.append(scaled_df, ignore_index = True)\n"
     ]
    },
    {
     "name": "stdout",
     "output_type": "stream",
     "text": [
      "\n",
      "######################\n",
      "candle closed at 2079.56\n",
      "\n",
      "Back Propogate... \n",
      "\n",
      "CORRECT?:  -2.8754568099975586 -2.906770706176758 -2.869891349038094\n",
      "COUNTBUY:  104 CORRECTBUY:  51 COUNTDONTBUY:  95 CORRECTDONTBUY:  44\n",
      "Current Close Scaled:  -2.8754567218950995\n",
      "PREDICTION tensor([[-2.8539]], grad_fn=<AddmmBackward0>)\n",
      "BUY AT:  2079.56 TIME:  1652440860000\n"
     ]
    },
    {
     "name": "stderr",
     "output_type": "stream",
     "text": [
      "/var/folders/9w/783wdyf54fb3b79gq32y3t4h0000gn/T/ipykernel_19541/692568148.py:107: FutureWarning: The frame.append method is deprecated and will be removed from pandas in a future version. Use pandas.concat instead.\n",
      "  df_history = df_history.append(scaled_df, ignore_index = True)\n"
     ]
    },
    {
     "name": "stdout",
     "output_type": "stream",
     "text": [
      "\n",
      "######################\n",
      "candle closed at 2080.45\n",
      "\n",
      "Back Propogate... \n",
      "\n",
      "CORRECT?:  -2.8720641136169434 -2.853945732116699 -2.8754567218950995\n",
      "COUNTBUY:  105 CORRECTBUY:  52 COUNTDONTBUY:  95 CORRECTDONTBUY:  44\n",
      "NEW PRICE:  2080.45 BOUGHT PRICE:  -2.8754567218950995 CHANGE:  0.8899999999998727 MONEY:  1.8899999999998727\n",
      "Current Close Scaled:  -2.872064131591857\n",
      "PREDICTION tensor([[-2.9255]], grad_fn=<AddmmBackward0>)\n",
      "DONT BUY\n"
     ]
    },
    {
     "name": "stderr",
     "output_type": "stream",
     "text": [
      "/var/folders/9w/783wdyf54fb3b79gq32y3t4h0000gn/T/ipykernel_19541/692568148.py:107: FutureWarning: The frame.append method is deprecated and will be removed from pandas in a future version. Use pandas.concat instead.\n",
      "  df_history = df_history.append(scaled_df, ignore_index = True)\n"
     ]
    },
    {
     "name": "stdout",
     "output_type": "stream",
     "text": [
      "\n",
      "######################\n",
      "candle closed at 2079.27\n",
      "\n",
      "Back Propogate... \n",
      "\n",
      "CORRECT?:  -2.8765621185302734 -2.9254555702209473 -2.872064131591857\n",
      "COUNTBUY:  105 CORRECTBUY:  52 COUNTDONTBUY:  96 CORRECTDONTBUY:  45\n",
      "Current Close Scaled:  -2.8765621726680664\n",
      "PREDICTION tensor([[-2.6516]], grad_fn=<AddmmBackward0>)\n",
      "BUY AT:  2079.27 TIME:  1652440980000\n"
     ]
    },
    {
     "name": "stderr",
     "output_type": "stream",
     "text": [
      "/var/folders/9w/783wdyf54fb3b79gq32y3t4h0000gn/T/ipykernel_19541/692568148.py:107: FutureWarning: The frame.append method is deprecated and will be removed from pandas in a future version. Use pandas.concat instead.\n",
      "  df_history = df_history.append(scaled_df, ignore_index = True)\n"
     ]
    },
    {
     "name": "stdout",
     "output_type": "stream",
     "text": [
      "\n",
      "######################\n",
      "candle closed at 2080.98\n",
      "\n",
      "Back Propogate... \n",
      "\n",
      "CORRECT?:  -2.8700437545776367 -2.651562452316284 -2.8765621726680664\n",
      "COUNTBUY:  106 CORRECTBUY:  53 COUNTDONTBUY:  96 CORRECTDONTBUY:  45\n",
      "NEW PRICE:  2080.98 BOUGHT PRICE:  -2.8765621726680664 CHANGE:  1.7100000000000364 MONEY:  3.599999999999909\n",
      "Current Close Scaled:  -2.8700438250067792\n",
      "PREDICTION tensor([[-2.9441]], grad_fn=<AddmmBackward0>)\n",
      "DONT BUY\n"
     ]
    },
    {
     "name": "stderr",
     "output_type": "stream",
     "text": [
      "/var/folders/9w/783wdyf54fb3b79gq32y3t4h0000gn/T/ipykernel_19541/692568148.py:107: FutureWarning: The frame.append method is deprecated and will be removed from pandas in a future version. Use pandas.concat instead.\n",
      "  df_history = df_history.append(scaled_df, ignore_index = True)\n"
     ]
    },
    {
     "name": "stdout",
     "output_type": "stream",
     "text": [
      "\n",
      "######################\n",
      "candle closed at 2078.14\n",
      "\n",
      "Back Propogate... \n",
      "\n",
      "CORRECT?:  -2.8808696269989014 -2.944051504135132 -2.8700438250067792\n",
      "COUNTBUY:  106 CORRECTBUY:  53 COUNTDONTBUY:  97 CORRECTDONTBUY:  46\n",
      "Current Close Scaled:  -2.8808696187834197\n",
      "PREDICTION tensor([[-3.0290]], grad_fn=<AddmmBackward0>)\n",
      "DONT BUY\n"
     ]
    },
    {
     "name": "stderr",
     "output_type": "stream",
     "text": [
      "/var/folders/9w/783wdyf54fb3b79gq32y3t4h0000gn/T/ipykernel_19541/692568148.py:107: FutureWarning: The frame.append method is deprecated and will be removed from pandas in a future version. Use pandas.concat instead.\n",
      "  df_history = df_history.append(scaled_df, ignore_index = True)\n"
     ]
    },
    {
     "name": "stdout",
     "output_type": "stream",
     "text": [
      "\n",
      "######################\n",
      "candle closed at 2082.05\n",
      "\n",
      "Back Propogate... \n",
      "\n",
      "CORRECT?:  -2.8659651279449463 -3.0290029048919678 -2.8808696187834197\n",
      "COUNTBUY:  106 CORRECTBUY:  53 COUNTDONTBUY:  98 CORRECTDONTBUY:  46\n",
      "Current Close Scaled:  -2.8659650928444527\n",
      "PREDICTION tensor([[-2.9100]], grad_fn=<AddmmBackward0>)\n",
      "DONT BUY\n"
     ]
    },
    {
     "name": "stderr",
     "output_type": "stream",
     "text": [
      "/var/folders/9w/783wdyf54fb3b79gq32y3t4h0000gn/T/ipykernel_19541/692568148.py:107: FutureWarning: The frame.append method is deprecated and will be removed from pandas in a future version. Use pandas.concat instead.\n",
      "  df_history = df_history.append(scaled_df, ignore_index = True)\n"
     ]
    },
    {
     "name": "stdout",
     "output_type": "stream",
     "text": [
      "\n",
      "######################\n",
      "candle closed at 2087.95\n",
      "\n",
      "Back Propogate... \n",
      "\n",
      "CORRECT?:  -2.843474864959717 -2.9099628925323486 -2.8659650928444527\n",
      "COUNTBUY:  106 CORRECTBUY:  53 COUNTDONTBUY:  99 CORRECTDONTBUY:  46\n",
      "Current Close Scaled:  -2.8434748874634055\n",
      "PREDICTION tensor([[-2.9297]], grad_fn=<AddmmBackward0>)\n",
      "DONT BUY\n"
     ]
    },
    {
     "name": "stderr",
     "output_type": "stream",
     "text": [
      "/var/folders/9w/783wdyf54fb3b79gq32y3t4h0000gn/T/ipykernel_19541/692568148.py:107: FutureWarning: The frame.append method is deprecated and will be removed from pandas in a future version. Use pandas.concat instead.\n",
      "  df_history = df_history.append(scaled_df, ignore_index = True)\n"
     ]
    },
    {
     "name": "stdout",
     "output_type": "stream",
     "text": [
      "\n",
      "######################\n",
      "candle closed at 2087.39\n",
      "\n",
      "Back Propogate... \n",
      "\n",
      "CORRECT?:  -2.845609664916992 -2.929734468460083 -2.8434748874634055\n",
      "COUNTBUY:  106 CORRECTBUY:  53 COUNTDONTBUY:  100 CORRECTDONTBUY:  47\n",
      "Current Close Scaled:  -2.8456095510249964\n",
      "PREDICTION tensor([[-2.8674]], grad_fn=<AddmmBackward0>)\n",
      "DONT BUY\n"
     ]
    },
    {
     "name": "stderr",
     "output_type": "stream",
     "text": [
      "/var/folders/9w/783wdyf54fb3b79gq32y3t4h0000gn/T/ipykernel_19541/692568148.py:107: FutureWarning: The frame.append method is deprecated and will be removed from pandas in a future version. Use pandas.concat instead.\n",
      "  df_history = df_history.append(scaled_df, ignore_index = True)\n"
     ]
    },
    {
     "name": "stdout",
     "output_type": "stream",
     "text": [
      "\n",
      "######################\n",
      "candle closed at 2091.0\n",
      "\n",
      "Back Propogate... \n",
      "\n",
      "CORRECT?:  -2.831848621368408 -2.8674027919769287 -2.8456095510249964\n",
      "COUNTBUY:  106 CORRECTBUY:  53 COUNTDONTBUY:  101 CORRECTDONTBUY:  47\n",
      "Current Close Scaled:  -2.831848594851168\n",
      "PREDICTION tensor([[-2.8223]], grad_fn=<AddmmBackward0>)\n",
      "BUY AT:  2091.0 TIME:  1652441340000\n"
     ]
    },
    {
     "name": "stderr",
     "output_type": "stream",
     "text": [
      "/var/folders/9w/783wdyf54fb3b79gq32y3t4h0000gn/T/ipykernel_19541/692568148.py:107: FutureWarning: The frame.append method is deprecated and will be removed from pandas in a future version. Use pandas.concat instead.\n",
      "  df_history = df_history.append(scaled_df, ignore_index = True)\n"
     ]
    },
    {
     "name": "stdout",
     "output_type": "stream",
     "text": [
      "\n",
      "######################\n",
      "candle closed at 2088.42\n",
      "\n",
      "Back Propogate... \n",
      "\n",
      "CORRECT?:  -2.8416833877563477 -2.822251796722412 -2.831848594851168\n",
      "COUNTBUY:  107 CORRECTBUY:  53 COUNTDONTBUY:  101 CORRECTDONTBUY:  47\n",
      "NEW PRICE:  2088.42 BOUGHT PRICE:  -2.831848594851168 CHANGE:  -2.5799999999999272 MONEY:  1.0199999999999818\n",
      "Current Close Scaled:  -2.8416832948313546\n",
      "PREDICTION tensor([[-2.7864]], grad_fn=<AddmmBackward0>)\n",
      "BUY AT:  2088.42 TIME:  1652441400000\n"
     ]
    },
    {
     "name": "stderr",
     "output_type": "stream",
     "text": [
      "/var/folders/9w/783wdyf54fb3b79gq32y3t4h0000gn/T/ipykernel_19541/692568148.py:107: FutureWarning: The frame.append method is deprecated and will be removed from pandas in a future version. Use pandas.concat instead.\n",
      "  df_history = df_history.append(scaled_df, ignore_index = True)\n"
     ]
    },
    {
     "name": "stdout",
     "output_type": "stream",
     "text": [
      "\n",
      "######################\n",
      "candle closed at 2082.99\n",
      "\n",
      "Back Propogate... \n",
      "\n",
      "CORRECT?:  -2.862381935119629 -2.786421775817871 -2.8416832948313546\n",
      "COUNTBUY:  108 CORRECTBUY:  53 COUNTDONTBUY:  101 CORRECTDONTBUY:  47\n",
      "NEW PRICE:  2082.99 BOUGHT PRICE:  -2.8416832948313546 CHANGE:  -5.430000000000291 MONEY:  -4.410000000000309\n",
      "Current Close Scaled:  -2.862381907580355\n",
      "PREDICTION tensor([[-2.7693]], grad_fn=<AddmmBackward0>)\n",
      "BUY AT:  2082.99 TIME:  1652441460000\n"
     ]
    },
    {
     "name": "stderr",
     "output_type": "stream",
     "text": [
      "/var/folders/9w/783wdyf54fb3b79gq32y3t4h0000gn/T/ipykernel_19541/692568148.py:107: FutureWarning: The frame.append method is deprecated and will be removed from pandas in a future version. Use pandas.concat instead.\n",
      "  df_history = df_history.append(scaled_df, ignore_index = True)\n"
     ]
    },
    {
     "name": "stdout",
     "output_type": "stream",
     "text": [
      "\n",
      "######################\n",
      "candle closed at 2087.88\n",
      "\n",
      "Back Propogate... \n",
      "\n",
      "CORRECT?:  -2.8437416553497314 -2.769298553466797 -2.862381907580355\n",
      "COUNTBUY:  109 CORRECTBUY:  54 COUNTDONTBUY:  101 CORRECTDONTBUY:  47\n",
      "NEW PRICE:  2087.88 BOUGHT PRICE:  -2.862381907580355 CHANGE:  4.890000000000327 MONEY:  0.4800000000000182\n",
      "Current Close Scaled:  -2.843741720408603\n",
      "PREDICTION tensor([[-2.7693]], grad_fn=<AddmmBackward0>)\n",
      "BUY AT:  2087.88 TIME:  1652441520000\n"
     ]
    },
    {
     "name": "stderr",
     "output_type": "stream",
     "text": [
      "/var/folders/9w/783wdyf54fb3b79gq32y3t4h0000gn/T/ipykernel_19541/692568148.py:107: FutureWarning: The frame.append method is deprecated and will be removed from pandas in a future version. Use pandas.concat instead.\n",
      "  df_history = df_history.append(scaled_df, ignore_index = True)\n"
     ]
    },
    {
     "name": "stdout",
     "output_type": "stream",
     "text": [
      "\n",
      "######################\n",
      "candle closed at 2089.51\n",
      "\n",
      "Back Propogate... \n",
      "\n",
      "CORRECT?:  -2.8375282287597656 -2.769280195236206 -2.843741720408603\n",
      "COUNTBUY:  110 CORRECTBUY:  55 COUNTDONTBUY:  101 CORRECTDONTBUY:  47\n",
      "NEW PRICE:  2089.51 BOUGHT PRICE:  -2.843741720408603 CHANGE:  1.6300000000001091 MONEY:  2.1100000000001273\n",
      "Current Close Scaled:  -2.837528324684686\n",
      "PREDICTION tensor([[-2.7840]], grad_fn=<AddmmBackward0>)\n",
      "BUY AT:  2089.51 TIME:  1652441580000\n"
     ]
    },
    {
     "name": "stderr",
     "output_type": "stream",
     "text": [
      "/var/folders/9w/783wdyf54fb3b79gq32y3t4h0000gn/T/ipykernel_19541/692568148.py:107: FutureWarning: The frame.append method is deprecated and will be removed from pandas in a future version. Use pandas.concat instead.\n",
      "  df_history = df_history.append(scaled_df, ignore_index = True)\n"
     ]
    },
    {
     "name": "stdout",
     "output_type": "stream",
     "text": [
      "\n",
      "######################\n",
      "candle closed at 2087.19\n",
      "\n",
      "Back Propogate... \n",
      "\n",
      "CORRECT?:  -2.84637188911438 -2.783982515335083 -2.837528324684686\n",
      "COUNTBUY:  111 CORRECTBUY:  55 COUNTDONTBUY:  101 CORRECTDONTBUY:  47\n",
      "NEW PRICE:  2087.19 BOUGHT PRICE:  -2.837528324684686 CHANGE:  -2.3200000000001637 MONEY:  -0.21000000000003638\n",
      "Current Close Scaled:  -2.846371930868421\n",
      "PREDICTION tensor([[-2.8112]], grad_fn=<AddmmBackward0>)\n",
      "BUY AT:  2087.19 TIME:  1652441640000\n"
     ]
    },
    {
     "name": "stderr",
     "output_type": "stream",
     "text": [
      "/var/folders/9w/783wdyf54fb3b79gq32y3t4h0000gn/T/ipykernel_19541/692568148.py:107: FutureWarning: The frame.append method is deprecated and will be removed from pandas in a future version. Use pandas.concat instead.\n",
      "  df_history = df_history.append(scaled_df, ignore_index = True)\n"
     ]
    },
    {
     "name": "stdout",
     "output_type": "stream",
     "text": [
      "\n",
      "######################\n",
      "candle closed at 2088.1\n",
      "\n",
      "Back Propogate... \n",
      "\n",
      "CORRECT?:  -2.8429031372070312 -2.811211347579956 -2.846371930868421\n",
      "COUNTBUY:  112 CORRECTBUY:  56 COUNTDONTBUY:  101 CORRECTDONTBUY:  47\n",
      "NEW PRICE:  2088.1 BOUGHT PRICE:  -2.846371930868421 CHANGE:  0.9099999999998545 MONEY:  0.6999999999998181\n",
      "Current Close Scaled:  -2.842903102580836\n",
      "PREDICTION tensor([[-2.8476]], grad_fn=<AddmmBackward0>)\n",
      "DONT BUY\n"
     ]
    },
    {
     "name": "stderr",
     "output_type": "stream",
     "text": [
      "/var/folders/9w/783wdyf54fb3b79gq32y3t4h0000gn/T/ipykernel_19541/692568148.py:107: FutureWarning: The frame.append method is deprecated and will be removed from pandas in a future version. Use pandas.concat instead.\n",
      "  df_history = df_history.append(scaled_df, ignore_index = True)\n"
     ]
    },
    {
     "name": "stdout",
     "output_type": "stream",
     "text": [
      "\n",
      "######################\n",
      "candle closed at 2087.14\n",
      "\n",
      "Back Propogate... \n",
      "\n",
      "CORRECT?:  -2.846562623977661 -2.8476099967956543 -2.842903102580836\n",
      "COUNTBUY:  112 CORRECTBUY:  56 COUNTDONTBUY:  102 CORRECTDONTBUY:  48\n",
      "Current Close Scaled:  -2.846562525829278\n",
      "PREDICTION tensor([[-2.9790]], grad_fn=<AddmmBackward0>)\n",
      "DONT BUY\n"
     ]
    },
    {
     "name": "stderr",
     "output_type": "stream",
     "text": [
      "/var/folders/9w/783wdyf54fb3b79gq32y3t4h0000gn/T/ipykernel_19541/692568148.py:107: FutureWarning: The frame.append method is deprecated and will be removed from pandas in a future version. Use pandas.concat instead.\n",
      "  df_history = df_history.append(scaled_df, ignore_index = True)\n"
     ]
    },
    {
     "name": "stdout",
     "output_type": "stream",
     "text": [
      "\n",
      "######################\n",
      "candle closed at 2090.49\n",
      "\n",
      "Back Propogate... \n",
      "\n",
      "CORRECT?:  -2.8337926864624023 -2.978961229324341 -2.846562525829278\n",
      "COUNTBUY:  112 CORRECTBUY:  56 COUNTDONTBUY:  103 CORRECTDONTBUY:  48\n",
      "Current Close Scaled:  -2.833792663451903\n",
      "PREDICTION tensor([[-2.8678]], grad_fn=<AddmmBackward0>)\n",
      "DONT BUY\n"
     ]
    },
    {
     "name": "stderr",
     "output_type": "stream",
     "text": [
      "/var/folders/9w/783wdyf54fb3b79gq32y3t4h0000gn/T/ipykernel_19541/692568148.py:107: FutureWarning: The frame.append method is deprecated and will be removed from pandas in a future version. Use pandas.concat instead.\n",
      "  df_history = df_history.append(scaled_df, ignore_index = True)\n"
     ]
    },
    {
     "name": "stdout",
     "output_type": "stream",
     "text": [
      "\n",
      "######################\n",
      "candle closed at 2090.64\n",
      "\n",
      "Back Propogate... \n",
      "\n",
      "CORRECT?:  -2.833220958709717 -2.8678412437438965 -2.833792663451903\n",
      "COUNTBUY:  112 CORRECTBUY:  56 COUNTDONTBUY:  104 CORRECTDONTBUY:  48\n",
      "Current Close Scaled:  -2.833220878569334\n",
      "PREDICTION tensor([[-2.8637]], grad_fn=<AddmmBackward0>)\n",
      "DONT BUY\n"
     ]
    },
    {
     "name": "stderr",
     "output_type": "stream",
     "text": [
      "/var/folders/9w/783wdyf54fb3b79gq32y3t4h0000gn/T/ipykernel_19541/692568148.py:107: FutureWarning: The frame.append method is deprecated and will be removed from pandas in a future version. Use pandas.concat instead.\n",
      "  df_history = df_history.append(scaled_df, ignore_index = True)\n"
     ]
    },
    {
     "name": "stdout",
     "output_type": "stream",
     "text": [
      "\n",
      "######################\n",
      "candle closed at 2090.83\n",
      "\n",
      "Back Propogate... \n",
      "\n",
      "CORRECT?:  -2.8324966430664062 -2.8636908531188965 -2.833220878569334\n",
      "COUNTBUY:  112 CORRECTBUY:  56 COUNTDONTBUY:  105 CORRECTDONTBUY:  48\n",
      "Current Close Scaled:  -2.8324966177180797\n",
      "PREDICTION tensor([[-2.8514]], grad_fn=<AddmmBackward0>)\n",
      "DONT BUY\n"
     ]
    },
    {
     "name": "stderr",
     "output_type": "stream",
     "text": [
      "/var/folders/9w/783wdyf54fb3b79gq32y3t4h0000gn/T/ipykernel_19541/692568148.py:107: FutureWarning: The frame.append method is deprecated and will be removed from pandas in a future version. Use pandas.concat instead.\n",
      "  df_history = df_history.append(scaled_df, ignore_index = True)\n"
     ]
    },
    {
     "name": "stdout",
     "output_type": "stream",
     "text": [
      "\n",
      "######################\n",
      "candle closed at 2094.37\n",
      "\n",
      "Back Propogate... \n",
      "\n",
      "CORRECT?:  -2.819002389907837 -2.851426601409912 -2.8324966177180797\n",
      "COUNTBUY:  112 CORRECTBUY:  56 COUNTDONTBUY:  106 CORRECTDONTBUY:  48\n",
      "Current Close Scaled:  -2.8190024944894505\n",
      "PREDICTION tensor([[-2.8317]], grad_fn=<AddmmBackward0>)\n",
      "DONT BUY\n"
     ]
    },
    {
     "name": "stderr",
     "output_type": "stream",
     "text": [
      "/var/folders/9w/783wdyf54fb3b79gq32y3t4h0000gn/T/ipykernel_19541/692568148.py:107: FutureWarning: The frame.append method is deprecated and will be removed from pandas in a future version. Use pandas.concat instead.\n",
      "  df_history = df_history.append(scaled_df, ignore_index = True)\n"
     ]
    },
    {
     "name": "stdout",
     "output_type": "stream",
     "text": [
      "\n",
      "######################\n",
      "candle closed at 2093.37\n",
      "\n",
      "Back Propogate... \n",
      "\n",
      "CORRECT?:  -2.822814464569092 -2.831667423248291 -2.8190024944894505\n",
      "COUNTBUY:  112 CORRECTBUY:  56 COUNTDONTBUY:  107 CORRECTDONTBUY:  49\n",
      "Current Close Scaled:  -2.8228143937065773\n",
      "PREDICTION tensor([[-2.8136]], grad_fn=<AddmmBackward0>)\n",
      "BUY AT:  2093.37 TIME:  1652442060000\n"
     ]
    },
    {
     "name": "stderr",
     "output_type": "stream",
     "text": [
      "/var/folders/9w/783wdyf54fb3b79gq32y3t4h0000gn/T/ipykernel_19541/692568148.py:107: FutureWarning: The frame.append method is deprecated and will be removed from pandas in a future version. Use pandas.concat instead.\n",
      "  df_history = df_history.append(scaled_df, ignore_index = True)\n"
     ]
    },
    {
     "name": "stdout",
     "output_type": "stream",
     "text": [
      "\n",
      "######################\n",
      "candle closed at 2093.9\n",
      "\n",
      "Back Propogate... \n",
      "\n",
      "CORRECT?:  -2.820794105529785 -2.8136038780212402 -2.8228143937065773\n",
      "COUNTBUY:  113 CORRECTBUY:  57 COUNTDONTBUY:  107 CORRECTDONTBUY:  49\n",
      "NEW PRICE:  2093.9 BOUGHT PRICE:  -2.8228143937065773 CHANGE:  0.5300000000002001 MONEY:  1.2300000000000182\n",
      "Current Close Scaled:  -2.820794087121499\n",
      "PREDICTION tensor([[-2.8930]], grad_fn=<AddmmBackward0>)\n",
      "DONT BUY\n"
     ]
    },
    {
     "name": "stderr",
     "output_type": "stream",
     "text": [
      "/var/folders/9w/783wdyf54fb3b79gq32y3t4h0000gn/T/ipykernel_19541/692568148.py:107: FutureWarning: The frame.append method is deprecated and will be removed from pandas in a future version. Use pandas.concat instead.\n",
      "  df_history = df_history.append(scaled_df, ignore_index = True)\n"
     ]
    },
    {
     "name": "stdout",
     "output_type": "stream",
     "text": [
      "\n",
      "######################\n",
      "candle closed at 2094.41\n",
      "\n",
      "Back Propogate... \n",
      "\n",
      "CORRECT?:  -2.818850040435791 -2.893024206161499 -2.820794087121499\n",
      "COUNTBUY:  113 CORRECTBUY:  57 COUNTDONTBUY:  108 CORRECTDONTBUY:  49\n",
      "Current Close Scaled:  -2.8188500185207657\n",
      "PREDICTION tensor([[-2.8139]], grad_fn=<AddmmBackward0>)\n",
      "BUY AT:  2094.41 TIME:  1652442180000\n"
     ]
    },
    {
     "name": "stderr",
     "output_type": "stream",
     "text": [
      "/var/folders/9w/783wdyf54fb3b79gq32y3t4h0000gn/T/ipykernel_19541/692568148.py:107: FutureWarning: The frame.append method is deprecated and will be removed from pandas in a future version. Use pandas.concat instead.\n",
      "  df_history = df_history.append(scaled_df, ignore_index = True)\n"
     ]
    },
    {
     "name": "stdout",
     "output_type": "stream",
     "text": [
      "\n",
      "######################\n",
      "candle closed at 2094.07\n",
      "\n",
      "Back Propogate... \n",
      "\n",
      "CORRECT?:  -2.820146083831787 -2.8138504028320312 -2.8188500185207657\n",
      "COUNTBUY:  114 CORRECTBUY:  57 COUNTDONTBUY:  108 CORRECTDONTBUY:  49\n",
      "NEW PRICE:  2094.07 BOUGHT PRICE:  -2.8188500185207657 CHANGE:  -0.33999999999969077 MONEY:  0.8900000000003274\n",
      "Current Close Scaled:  -2.8201460642545877\n",
      "PREDICTION tensor([[-2.7724]], grad_fn=<AddmmBackward0>)\n",
      "BUY AT:  2094.07 TIME:  1652442240000\n"
     ]
    },
    {
     "name": "stderr",
     "output_type": "stream",
     "text": [
      "/var/folders/9w/783wdyf54fb3b79gq32y3t4h0000gn/T/ipykernel_19541/692568148.py:107: FutureWarning: The frame.append method is deprecated and will be removed from pandas in a future version. Use pandas.concat instead.\n",
      "  df_history = df_history.append(scaled_df, ignore_index = True)\n"
     ]
    },
    {
     "name": "stdout",
     "output_type": "stream",
     "text": [
      "\n",
      "######################\n",
      "candle closed at 2093.19\n",
      "\n",
      "Back Propogate... \n",
      "\n",
      "CORRECT?:  -2.823500633239746 -2.7723593711853027 -2.8201460642545877\n",
      "COUNTBUY:  115 CORRECTBUY:  57 COUNTDONTBUY:  108 CORRECTDONTBUY:  49\n",
      "NEW PRICE:  2093.19 BOUGHT PRICE:  -2.8201460642545877 CHANGE:  -0.8800000000001091 MONEY:  0.010000000000218279\n",
      "Current Close Scaled:  -2.8235005355656595\n",
      "PREDICTION tensor([[-2.7702]], grad_fn=<AddmmBackward0>)\n",
      "BUY AT:  2093.19 TIME:  1652442300000\n"
     ]
    },
    {
     "name": "stderr",
     "output_type": "stream",
     "text": [
      "/var/folders/9w/783wdyf54fb3b79gq32y3t4h0000gn/T/ipykernel_19541/692568148.py:107: FutureWarning: The frame.append method is deprecated and will be removed from pandas in a future version. Use pandas.concat instead.\n",
      "  df_history = df_history.append(scaled_df, ignore_index = True)\n"
     ]
    },
    {
     "name": "stdout",
     "output_type": "stream",
     "text": [
      "\n",
      "######################\n",
      "candle closed at 2092.55\n",
      "\n",
      "Back Propogate... \n",
      "\n",
      "CORRECT?:  -2.8259401321411133 -2.7702057361602783 -2.8235005355656595\n",
      "COUNTBUY:  116 CORRECTBUY:  57 COUNTDONTBUY:  108 CORRECTDONTBUY:  49\n",
      "NEW PRICE:  2092.55 BOUGHT PRICE:  -2.8235005355656595 CHANGE:  -0.6399999999998727 MONEY:  -0.6299999999996544\n",
      "Current Close Scaled:  -2.8259401510646205\n",
      "PREDICTION tensor([[-2.7234]], grad_fn=<AddmmBackward0>)\n",
      "BUY AT:  2092.55 TIME:  1652442360000\n"
     ]
    },
    {
     "name": "stderr",
     "output_type": "stream",
     "text": [
      "/var/folders/9w/783wdyf54fb3b79gq32y3t4h0000gn/T/ipykernel_19541/692568148.py:107: FutureWarning: The frame.append method is deprecated and will be removed from pandas in a future version. Use pandas.concat instead.\n",
      "  df_history = df_history.append(scaled_df, ignore_index = True)\n"
     ]
    },
    {
     "name": "stdout",
     "output_type": "stream",
     "text": [
      "\n",
      "######################\n",
      "candle closed at 2096.08\n",
      "\n",
      "Back Propogate... \n",
      "\n",
      "CORRECT?:  -2.8124842643737793 -2.7234435081481934 -2.8259401510646205\n",
      "COUNTBUY:  117 CORRECTBUY:  58 COUNTDONTBUY:  108 CORRECTDONTBUY:  49\n",
      "NEW PRICE:  2096.08 BOUGHT PRICE:  -2.8259401510646205 CHANGE:  3.5299999999997453 MONEY:  2.900000000000091\n",
      "Current Close Scaled:  -2.8124841468281634\n",
      "PREDICTION tensor([[-2.7508]], grad_fn=<AddmmBackward0>)\n",
      "BUY AT:  2096.08 TIME:  1652442420000\n"
     ]
    },
    {
     "name": "stderr",
     "output_type": "stream",
     "text": [
      "/var/folders/9w/783wdyf54fb3b79gq32y3t4h0000gn/T/ipykernel_19541/692568148.py:107: FutureWarning: The frame.append method is deprecated and will be removed from pandas in a future version. Use pandas.concat instead.\n",
      "  df_history = df_history.append(scaled_df, ignore_index = True)\n"
     ]
    },
    {
     "name": "stdout",
     "output_type": "stream",
     "text": [
      "\n",
      "######################\n",
      "candle closed at 2098.0\n",
      "\n",
      "Back Propogate... \n",
      "\n",
      "CORRECT?:  -2.8051652908325195 -2.750810384750366 -2.8124841468281634\n",
      "COUNTBUY:  118 CORRECTBUY:  59 COUNTDONTBUY:  108 CORRECTDONTBUY:  49\n",
      "NEW PRICE:  2098.0 BOUGHT PRICE:  -2.8124841468281634 CHANGE:  1.9200000000000728 MONEY:  4.820000000000164\n",
      "Current Close Scaled:  -2.8051653003312795\n",
      "PREDICTION tensor([[-2.7931]], grad_fn=<AddmmBackward0>)\n",
      "BUY AT:  2098.0 TIME:  1652442480000\n"
     ]
    },
    {
     "name": "stderr",
     "output_type": "stream",
     "text": [
      "/var/folders/9w/783wdyf54fb3b79gq32y3t4h0000gn/T/ipykernel_19541/692568148.py:107: FutureWarning: The frame.append method is deprecated and will be removed from pandas in a future version. Use pandas.concat instead.\n",
      "  df_history = df_history.append(scaled_df, ignore_index = True)\n"
     ]
    },
    {
     "name": "stdout",
     "output_type": "stream",
     "text": [
      "\n",
      "######################\n",
      "candle closed at 2100.26\n",
      "\n",
      "Back Propogate... \n",
      "\n",
      "CORRECT?:  -2.7965505123138428 -2.793124198913574 -2.8051653003312795\n",
      "COUNTBUY:  119 CORRECTBUY:  60 COUNTDONTBUY:  108 CORRECTDONTBUY:  49\n",
      "NEW PRICE:  2100.26 BOUGHT PRICE:  -2.8051653003312795 CHANGE:  2.2600000000002183 MONEY:  7.080000000000382\n",
      "Current Close Scaled:  -2.796550408100572\n",
      "PREDICTION tensor([[-2.8265]], grad_fn=<AddmmBackward0>)\n",
      "DONT BUY\n"
     ]
    },
    {
     "name": "stderr",
     "output_type": "stream",
     "text": [
      "/var/folders/9w/783wdyf54fb3b79gq32y3t4h0000gn/T/ipykernel_19541/692568148.py:107: FutureWarning: The frame.append method is deprecated and will be removed from pandas in a future version. Use pandas.concat instead.\n",
      "  df_history = df_history.append(scaled_df, ignore_index = True)\n"
     ]
    },
    {
     "name": "stdout",
     "output_type": "stream",
     "text": [
      "\n",
      "######################\n",
      "candle closed at 2097.68\n",
      "\n",
      "Back Propogate... \n",
      "\n",
      "CORRECT?:  -2.806385040283203 -2.826549530029297 -2.796550408100572\n",
      "COUNTBUY:  119 CORRECTBUY:  60 COUNTDONTBUY:  109 CORRECTDONTBUY:  50\n",
      "Current Close Scaled:  -2.806385108080761\n",
      "PREDICTION tensor([[-2.8530]], grad_fn=<AddmmBackward0>)\n",
      "DONT BUY\n"
     ]
    },
    {
     "name": "stderr",
     "output_type": "stream",
     "text": [
      "/var/folders/9w/783wdyf54fb3b79gq32y3t4h0000gn/T/ipykernel_19541/692568148.py:107: FutureWarning: The frame.append method is deprecated and will be removed from pandas in a future version. Use pandas.concat instead.\n",
      "  df_history = df_history.append(scaled_df, ignore_index = True)\n"
     ]
    },
    {
     "name": "stdout",
     "output_type": "stream",
     "text": [
      "\n",
      "######################\n",
      "candle closed at 2104.03\n",
      "\n",
      "Back Propogate... \n",
      "\n",
      "CORRECT?:  -2.782179594039917 -2.853025436401367 -2.806385108080761\n",
      "COUNTBUY:  119 CORRECTBUY:  60 COUNTDONTBUY:  110 CORRECTDONTBUY:  50\n",
      "Current Close Scaled:  -2.7821795480520035\n",
      "PREDICTION tensor([[-2.8573]], grad_fn=<AddmmBackward0>)\n",
      "DONT BUY\n"
     ]
    },
    {
     "name": "stderr",
     "output_type": "stream",
     "text": [
      "/var/folders/9w/783wdyf54fb3b79gq32y3t4h0000gn/T/ipykernel_19541/692568148.py:107: FutureWarning: The frame.append method is deprecated and will be removed from pandas in a future version. Use pandas.concat instead.\n",
      "  df_history = df_history.append(scaled_df, ignore_index = True)\n"
     ]
    },
    {
     "name": "stdout",
     "output_type": "stream",
     "text": [
      "\n",
      "######################\n",
      "candle closed at 2112.54\n",
      "\n",
      "Back Propogate... \n",
      "\n",
      "CORRECT?:  -2.7497403621673584 -2.857349395751953 -2.7821795480520035\n",
      "COUNTBUY:  119 CORRECTBUY:  60 COUNTDONTBUY:  111 CORRECTDONTBUY:  50\n",
      "Current Close Scaled:  -2.7497402857142546\n",
      "PREDICTION tensor([[-2.8325]], grad_fn=<AddmmBackward0>)\n",
      "DONT BUY\n"
     ]
    },
    {
     "name": "stderr",
     "output_type": "stream",
     "text": [
      "/var/folders/9w/783wdyf54fb3b79gq32y3t4h0000gn/T/ipykernel_19541/692568148.py:107: FutureWarning: The frame.append method is deprecated and will be removed from pandas in a future version. Use pandas.concat instead.\n",
      "  df_history = df_history.append(scaled_df, ignore_index = True)\n"
     ]
    },
    {
     "name": "stdout",
     "output_type": "stream",
     "text": [
      "\n",
      "######################\n",
      "candle closed at 2113.44\n",
      "\n",
      "Back Propogate... \n",
      "\n",
      "CORRECT?:  -2.746309518814087 -2.83247971534729 -2.7497402857142546\n",
      "COUNTBUY:  119 CORRECTBUY:  60 COUNTDONTBUY:  112 CORRECTDONTBUY:  50\n",
      "Current Close Scaled:  -2.7463095764188403\n",
      "PREDICTION tensor([[-2.7880]], grad_fn=<AddmmBackward0>)\n",
      "DONT BUY\n"
     ]
    },
    {
     "name": "stderr",
     "output_type": "stream",
     "text": [
      "/var/folders/9w/783wdyf54fb3b79gq32y3t4h0000gn/T/ipykernel_19541/692568148.py:107: FutureWarning: The frame.append method is deprecated and will be removed from pandas in a future version. Use pandas.concat instead.\n",
      "  df_history = df_history.append(scaled_df, ignore_index = True)\n"
     ]
    },
    {
     "name": "stdout",
     "output_type": "stream",
     "text": [
      "\n",
      "######################\n",
      "candle closed at 2110.65\n",
      "\n",
      "Back Propogate... \n",
      "\n",
      "CORRECT?:  -2.7569446563720703 -2.7879810333251953 -2.7463095764188403\n",
      "COUNTBUY:  119 CORRECTBUY:  60 COUNTDONTBUY:  113 CORRECTDONTBUY:  51\n",
      "Current Close Scaled:  -2.756944775234624\n",
      "PREDICTION tensor([[-2.7405]], grad_fn=<AddmmBackward0>)\n",
      "BUY AT:  2110.65 TIME:  1652442840000\n"
     ]
    },
    {
     "name": "stderr",
     "output_type": "stream",
     "text": [
      "/var/folders/9w/783wdyf54fb3b79gq32y3t4h0000gn/T/ipykernel_19541/692568148.py:107: FutureWarning: The frame.append method is deprecated and will be removed from pandas in a future version. Use pandas.concat instead.\n",
      "  df_history = df_history.append(scaled_df, ignore_index = True)\n"
     ]
    },
    {
     "name": "stdout",
     "output_type": "stream",
     "text": [
      "\n",
      "######################\n",
      "candle closed at 2105.64\n",
      "\n",
      "Back Propogate... \n",
      "\n",
      "CORRECT?:  -2.7760424613952637 -2.7405102252960205 -2.756944775234624\n",
      "COUNTBUY:  120 CORRECTBUY:  60 COUNTDONTBUY:  113 CORRECTDONTBUY:  51\n",
      "NEW PRICE:  2105.64 BOUGHT PRICE:  -2.756944775234624 CHANGE:  -5.010000000000218 MONEY:  2.0700000000001637\n",
      "Current Close Scaled:  -2.7760423903124307\n",
      "PREDICTION tensor([[-2.7073]], grad_fn=<AddmmBackward0>)\n",
      "BUY AT:  2105.64 TIME:  1652442900000\n"
     ]
    },
    {
     "name": "stderr",
     "output_type": "stream",
     "text": [
      "/var/folders/9w/783wdyf54fb3b79gq32y3t4h0000gn/T/ipykernel_19541/692568148.py:107: FutureWarning: The frame.append method is deprecated and will be removed from pandas in a future version. Use pandas.concat instead.\n",
      "  df_history = df_history.append(scaled_df, ignore_index = True)\n"
     ]
    },
    {
     "name": "stdout",
     "output_type": "stream",
     "text": [
      "\n",
      "######################\n",
      "candle closed at 2104.46\n",
      "\n",
      "Back Propogate... \n",
      "\n",
      "CORRECT?:  -2.7805404663085938 -2.707322120666504 -2.7760423903124307\n",
      "COUNTBUY:  121 CORRECTBUY:  60 COUNTDONTBUY:  113 CORRECTDONTBUY:  51\n",
      "NEW PRICE:  2104.46 BOUGHT PRICE:  -2.7760423903124307 CHANGE:  -1.1799999999998363 MONEY:  0.8900000000003274\n",
      "Current Close Scaled:  -2.7805404313886397\n",
      "PREDICTION tensor([[-2.6984]], grad_fn=<AddmmBackward0>)\n",
      "BUY AT:  2104.46 TIME:  1652442960000\n"
     ]
    },
    {
     "name": "stderr",
     "output_type": "stream",
     "text": [
      "/var/folders/9w/783wdyf54fb3b79gq32y3t4h0000gn/T/ipykernel_19541/692568148.py:107: FutureWarning: The frame.append method is deprecated and will be removed from pandas in a future version. Use pandas.concat instead.\n",
      "  df_history = df_history.append(scaled_df, ignore_index = True)\n"
     ]
    },
    {
     "name": "stdout",
     "output_type": "stream",
     "text": [
      "\n",
      "######################\n",
      "candle closed at 2111.81\n",
      "\n",
      "Back Propogate... \n",
      "\n",
      "CORRECT?:  -2.7525229454040527 -2.6983635425567627 -2.7805404313886397\n",
      "COUNTBUY:  122 CORRECTBUY:  61 COUNTDONTBUY:  113 CORRECTDONTBUY:  51\n",
      "NEW PRICE:  2111.81 BOUGHT PRICE:  -2.7805404313886397 CHANGE:  7.349999999999909 MONEY:  8.240000000000236\n",
      "Current Close Scaled:  -2.7525229721427573\n",
      "PREDICTION tensor([[-2.7016]], grad_fn=<AddmmBackward0>)\n",
      "BUY AT:  2111.81 TIME:  1652443020000\n"
     ]
    },
    {
     "name": "stderr",
     "output_type": "stream",
     "text": [
      "/var/folders/9w/783wdyf54fb3b79gq32y3t4h0000gn/T/ipykernel_19541/692568148.py:107: FutureWarning: The frame.append method is deprecated and will be removed from pandas in a future version. Use pandas.concat instead.\n",
      "  df_history = df_history.append(scaled_df, ignore_index = True)\n"
     ]
    },
    {
     "name": "stdout",
     "output_type": "stream",
     "text": [
      "\n",
      "######################\n",
      "candle closed at 2114.75\n",
      "\n",
      "Back Propogate... \n",
      "\n",
      "CORRECT?:  -2.741316080093384 -2.7015676498413086 -2.7525229721427573\n",
      "COUNTBUY:  123 CORRECTBUY:  62 COUNTDONTBUY:  113 CORRECTDONTBUY:  51\n",
      "NEW PRICE:  2114.75 BOUGHT PRICE:  -2.7525229721427573 CHANGE:  2.9400000000000546 MONEY:  11.180000000000291\n",
      "Current Close Scaled:  -2.7413159884444043\n",
      "PREDICTION tensor([[-2.6969]], grad_fn=<AddmmBackward0>)\n",
      "BUY AT:  2114.75 TIME:  1652443080000\n"
     ]
    },
    {
     "name": "stderr",
     "output_type": "stream",
     "text": [
      "/var/folders/9w/783wdyf54fb3b79gq32y3t4h0000gn/T/ipykernel_19541/692568148.py:107: FutureWarning: The frame.append method is deprecated and will be removed from pandas in a future version. Use pandas.concat instead.\n",
      "  df_history = df_history.append(scaled_df, ignore_index = True)\n"
     ]
    },
    {
     "name": "stdout",
     "output_type": "stream",
     "text": [
      "\n",
      "######################\n",
      "candle closed at 2114.99\n",
      "\n",
      "Back Propogate... \n",
      "\n",
      "CORRECT?:  -2.740401029586792 -2.6968913078308105 -2.7413159884444043\n",
      "COUNTBUY:  124 CORRECTBUY:  63 COUNTDONTBUY:  113 CORRECTDONTBUY:  51\n",
      "NEW PRICE:  2114.99 BOUGHT PRICE:  -2.7413159884444043 CHANGE:  0.23999999999978172 MONEY:  11.420000000000073\n",
      "Current Close Scaled:  -2.7404011326322943\n",
      "PREDICTION tensor([[-2.7127]], grad_fn=<AddmmBackward0>)\n",
      "BUY AT:  2114.99 TIME:  1652443140000\n"
     ]
    },
    {
     "name": "stderr",
     "output_type": "stream",
     "text": [
      "/var/folders/9w/783wdyf54fb3b79gq32y3t4h0000gn/T/ipykernel_19541/692568148.py:107: FutureWarning: The frame.append method is deprecated and will be removed from pandas in a future version. Use pandas.concat instead.\n",
      "  df_history = df_history.append(scaled_df, ignore_index = True)\n"
     ]
    },
    {
     "name": "stdout",
     "output_type": "stream",
     "text": [
      "\n",
      "######################\n",
      "candle closed at 2111.47\n",
      "\n",
      "Back Propogate... \n",
      "\n",
      "CORRECT?:  -2.753818988800049 -2.7127227783203125 -2.7404011326322943\n",
      "COUNTBUY:  125 CORRECTBUY:  63 COUNTDONTBUY:  113 CORRECTDONTBUY:  51\n",
      "NEW PRICE:  2111.47 BOUGHT PRICE:  -2.7404011326322943 CHANGE:  -3.519999999999982 MONEY:  7.900000000000091\n",
      "Current Close Scaled:  -2.753819017876581\n",
      "PREDICTION tensor([[-2.7362]], grad_fn=<AddmmBackward0>)\n",
      "BUY AT:  2111.47 TIME:  1652443200000\n"
     ]
    },
    {
     "name": "stderr",
     "output_type": "stream",
     "text": [
      "/var/folders/9w/783wdyf54fb3b79gq32y3t4h0000gn/T/ipykernel_19541/692568148.py:107: FutureWarning: The frame.append method is deprecated and will be removed from pandas in a future version. Use pandas.concat instead.\n",
      "  df_history = df_history.append(scaled_df, ignore_index = True)\n"
     ]
    },
    {
     "name": "stdout",
     "output_type": "stream",
     "text": [
      "\n",
      "######################\n",
      "candle closed at 2109.78\n",
      "\n",
      "Back Propogate... \n",
      "\n",
      "CORRECT?:  -2.760261058807373 -2.7361655235290527 -2.753819017876581\n",
      "COUNTBUY:  126 CORRECTBUY:  63 COUNTDONTBUY:  113 CORRECTDONTBUY:  51\n",
      "NEW PRICE:  2109.78 BOUGHT PRICE:  -2.753819017876581 CHANGE:  -1.6899999999995998 MONEY:  6.210000000000491\n",
      "Current Close Scaled:  -2.760261127553524\n",
      "PREDICTION tensor([[-2.7772]], grad_fn=<AddmmBackward0>)\n",
      "DONT BUY\n"
     ]
    },
    {
     "name": "stderr",
     "output_type": "stream",
     "text": [
      "/var/folders/9w/783wdyf54fb3b79gq32y3t4h0000gn/T/ipykernel_19541/692568148.py:107: FutureWarning: The frame.append method is deprecated and will be removed from pandas in a future version. Use pandas.concat instead.\n",
      "  df_history = df_history.append(scaled_df, ignore_index = True)\n"
     ]
    },
    {
     "name": "stdout",
     "output_type": "stream",
     "text": [
      "\n",
      "######################\n",
      "candle closed at 2112.04\n",
      "\n",
      "Back Propogate... \n",
      "\n",
      "CORRECT?:  -2.7516462802886963 -2.7772488594055176 -2.760261127553524\n",
      "COUNTBUY:  126 CORRECTBUY:  63 COUNTDONTBUY:  114 CORRECTDONTBUY:  51\n",
      "Current Close Scaled:  -2.751646235322818\n",
      "PREDICTION tensor([[-2.7938]], grad_fn=<AddmmBackward0>)\n",
      "DONT BUY\n"
     ]
    },
    {
     "name": "stderr",
     "output_type": "stream",
     "text": [
      "/var/folders/9w/783wdyf54fb3b79gq32y3t4h0000gn/T/ipykernel_19541/692568148.py:107: FutureWarning: The frame.append method is deprecated and will be removed from pandas in a future version. Use pandas.concat instead.\n",
      "  df_history = df_history.append(scaled_df, ignore_index = True)\n"
     ]
    },
    {
     "name": "stdout",
     "output_type": "stream",
     "text": [
      "\n",
      "######################\n",
      "candle closed at 2109.16\n",
      "\n",
      "Back Propogate... \n",
      "\n",
      "CORRECT?:  -2.762624502182007 -2.7938454151153564 -2.751646235322818\n",
      "COUNTBUY:  126 CORRECTBUY:  63 COUNTDONTBUY:  115 CORRECTDONTBUY:  52\n",
      "Current Close Scaled:  -2.762624505068144\n",
      "PREDICTION tensor([[-2.7479]], grad_fn=<AddmmBackward0>)\n",
      "BUY AT:  2109.16 TIME:  1652443380000\n"
     ]
    },
    {
     "name": "stderr",
     "output_type": "stream",
     "text": [
      "/var/folders/9w/783wdyf54fb3b79gq32y3t4h0000gn/T/ipykernel_19541/692568148.py:107: FutureWarning: The frame.append method is deprecated and will be removed from pandas in a future version. Use pandas.concat instead.\n",
      "  df_history = df_history.append(scaled_df, ignore_index = True)\n"
     ]
    },
    {
     "name": "stdout",
     "output_type": "stream",
     "text": [
      "\n",
      "######################\n",
      "candle closed at 2109.41\n",
      "\n",
      "Back Propogate... \n",
      "\n",
      "CORRECT?:  -2.761671543121338 -2.747912645339966 -2.762624505068144\n",
      "COUNTBUY:  127 CORRECTBUY:  64 COUNTDONTBUY:  115 CORRECTDONTBUY:  52\n",
      "NEW PRICE:  2109.41 BOUGHT PRICE:  -2.762624505068144 CHANGE:  0.25 MONEY:  6.460000000000491\n",
      "Current Close Scaled:  -2.7616715302638624\n",
      "PREDICTION tensor([[-2.8034]], grad_fn=<AddmmBackward0>)\n",
      "DONT BUY\n"
     ]
    },
    {
     "name": "stderr",
     "output_type": "stream",
     "text": [
      "/var/folders/9w/783wdyf54fb3b79gq32y3t4h0000gn/T/ipykernel_19541/692568148.py:107: FutureWarning: The frame.append method is deprecated and will be removed from pandas in a future version. Use pandas.concat instead.\n",
      "  df_history = df_history.append(scaled_df, ignore_index = True)\n"
     ]
    },
    {
     "name": "stdout",
     "output_type": "stream",
     "text": [
      "\n",
      "######################\n",
      "candle closed at 2105.27\n",
      "\n",
      "Back Propogate... \n",
      "\n",
      "CORRECT?:  -2.7774527072906494 -2.803368091583252 -2.7616715302638624\n",
      "COUNTBUY:  127 CORRECTBUY:  64 COUNTDONTBUY:  116 CORRECTDONTBUY:  53\n",
      "Current Close Scaled:  -2.7774527930227673\n",
      "PREDICTION tensor([[-2.8178]], grad_fn=<AddmmBackward0>)\n",
      "DONT BUY\n"
     ]
    },
    {
     "name": "stderr",
     "output_type": "stream",
     "text": [
      "/var/folders/9w/783wdyf54fb3b79gq32y3t4h0000gn/T/ipykernel_19541/692568148.py:107: FutureWarning: The frame.append method is deprecated and will be removed from pandas in a future version. Use pandas.concat instead.\n",
      "  df_history = df_history.append(scaled_df, ignore_index = True)\n"
     ]
    },
    {
     "name": "stdout",
     "output_type": "stream",
     "text": [
      "\n",
      "######################\n",
      "candle closed at 2106.34\n",
      "\n",
      "Back Propogate... \n",
      "\n",
      "CORRECT?:  -2.773374080657959 -2.817844867706299 -2.7774527930227673\n",
      "COUNTBUY:  127 CORRECTBUY:  64 COUNTDONTBUY:  117 CORRECTDONTBUY:  53\n",
      "Current Close Scaled:  -2.7733740608604407\n",
      "PREDICTION tensor([[-2.7641]], grad_fn=<AddmmBackward0>)\n",
      "BUY AT:  2106.34 TIME:  1652443560000\n"
     ]
    },
    {
     "name": "stderr",
     "output_type": "stream",
     "text": [
      "/var/folders/9w/783wdyf54fb3b79gq32y3t4h0000gn/T/ipykernel_19541/692568148.py:107: FutureWarning: The frame.append method is deprecated and will be removed from pandas in a future version. Use pandas.concat instead.\n",
      "  df_history = df_history.append(scaled_df, ignore_index = True)\n"
     ]
    },
    {
     "name": "stdout",
     "output_type": "stream",
     "text": [
      "\n",
      "######################\n",
      "candle closed at 2102.24\n",
      "\n",
      "Back Propogate... \n",
      "\n",
      "CORRECT?:  -2.7890028953552246 -2.764129161834717 -2.7733740608604407\n",
      "COUNTBUY:  128 CORRECTBUY:  64 COUNTDONTBUY:  117 CORRECTDONTBUY:  53\n",
      "NEW PRICE:  2102.24 BOUGHT PRICE:  -2.7733740608604407 CHANGE:  -4.100000000000364 MONEY:  2.3600000000001273\n",
      "Current Close Scaled:  -2.789002847650662\n",
      "PREDICTION tensor([[-2.8159]], grad_fn=<AddmmBackward0>)\n",
      "DONT BUY\n"
     ]
    },
    {
     "name": "stderr",
     "output_type": "stream",
     "text": [
      "/var/folders/9w/783wdyf54fb3b79gq32y3t4h0000gn/T/ipykernel_19541/692568148.py:107: FutureWarning: The frame.append method is deprecated and will be removed from pandas in a future version. Use pandas.concat instead.\n",
      "  df_history = df_history.append(scaled_df, ignore_index = True)\n"
     ]
    },
    {
     "name": "stdout",
     "output_type": "stream",
     "text": [
      "\n",
      "######################\n",
      "candle closed at 2099.76\n",
      "\n",
      "Back Propogate... \n",
      "\n",
      "CORRECT?:  -2.7984564304351807 -2.8159172534942627 -2.789002847650662\n",
      "COUNTBUY:  128 CORRECTBUY:  64 COUNTDONTBUY:  118 CORRECTDONTBUY:  54\n",
      "Current Close Scaled:  -2.7984563577091355\n",
      "PREDICTION tensor([[-2.8141]], grad_fn=<AddmmBackward0>)\n",
      "DONT BUY\n"
     ]
    },
    {
     "name": "stderr",
     "output_type": "stream",
     "text": [
      "/var/folders/9w/783wdyf54fb3b79gq32y3t4h0000gn/T/ipykernel_19541/692568148.py:107: FutureWarning: The frame.append method is deprecated and will be removed from pandas in a future version. Use pandas.concat instead.\n",
      "  df_history = df_history.append(scaled_df, ignore_index = True)\n"
     ]
    },
    {
     "name": "stdout",
     "output_type": "stream",
     "text": [
      "\n",
      "######################\n",
      "candle closed at 2101.21\n",
      "\n",
      "Back Propogate... \n",
      "\n",
      "CORRECT?:  -2.792929172515869 -2.8140883445739746 -2.7984563577091355\n",
      "COUNTBUY:  128 CORRECTBUY:  64 COUNTDONTBUY:  119 CORRECTDONTBUY:  54\n",
      "Current Close Scaled:  -2.792929103844302\n",
      "PREDICTION tensor([[-2.8092]], grad_fn=<AddmmBackward0>)\n",
      "DONT BUY\n"
     ]
    },
    {
     "name": "stderr",
     "output_type": "stream",
     "text": [
      "/var/folders/9w/783wdyf54fb3b79gq32y3t4h0000gn/T/ipykernel_19541/692568148.py:107: FutureWarning: The frame.append method is deprecated and will be removed from pandas in a future version. Use pandas.concat instead.\n",
      "  df_history = df_history.append(scaled_df, ignore_index = True)\n"
     ]
    },
    {
     "name": "stdout",
     "output_type": "stream",
     "text": [
      "\n",
      "######################\n",
      "candle closed at 2099.97\n",
      "\n",
      "Back Propogate... \n",
      "\n",
      "CORRECT?:  -2.7976558208465576 -2.809201240539551 -2.792929103844302\n",
      "COUNTBUY:  128 CORRECTBUY:  64 COUNTDONTBUY:  120 CORRECTDONTBUY:  55\n",
      "Current Close Scaled:  -2.79765585887354\n",
      "PREDICTION tensor([[-2.8031]], grad_fn=<AddmmBackward0>)\n",
      "DONT BUY\n"
     ]
    },
    {
     "name": "stderr",
     "output_type": "stream",
     "text": [
      "/var/folders/9w/783wdyf54fb3b79gq32y3t4h0000gn/T/ipykernel_19541/692568148.py:107: FutureWarning: The frame.append method is deprecated and will be removed from pandas in a future version. Use pandas.concat instead.\n",
      "  df_history = df_history.append(scaled_df, ignore_index = True)\n"
     ]
    },
    {
     "name": "stdout",
     "output_type": "stream",
     "text": [
      "\n",
      "######################\n",
      "candle closed at 2098.74\n",
      "\n",
      "Back Propogate... \n",
      "\n",
      "CORRECT?:  -2.802344560623169 -2.8031318187713623 -2.79765585887354\n",
      "COUNTBUY:  128 CORRECTBUY:  64 COUNTDONTBUY:  121 CORRECTDONTBUY:  56\n",
      "Current Close Scaled:  -2.8023444949106064\n",
      "PREDICTION tensor([[-2.7578]], grad_fn=<AddmmBackward0>)\n",
      "BUY AT:  2098.74 TIME:  1652443860000\n"
     ]
    },
    {
     "name": "stderr",
     "output_type": "stream",
     "text": [
      "/var/folders/9w/783wdyf54fb3b79gq32y3t4h0000gn/T/ipykernel_19541/692568148.py:107: FutureWarning: The frame.append method is deprecated and will be removed from pandas in a future version. Use pandas.concat instead.\n",
      "  df_history = df_history.append(scaled_df, ignore_index = True)\n"
     ]
    },
    {
     "name": "stdout",
     "output_type": "stream",
     "text": [
      "\n",
      "######################\n",
      "candle closed at 2100.81\n",
      "\n",
      "Back Propogate... \n",
      "\n",
      "CORRECT?:  -2.7944538593292236 -2.7577528953552246 -2.8023444949106064\n",
      "COUNTBUY:  129 CORRECTBUY:  65 COUNTDONTBUY:  121 CORRECTDONTBUY:  56\n",
      "NEW PRICE:  2100.81 BOUGHT PRICE:  -2.8023444949106064 CHANGE:  2.0700000000001637 MONEY:  4.430000000000291\n",
      "Current Close Scaled:  -2.794453863531153\n",
      "PREDICTION tensor([[-2.7978]], grad_fn=<AddmmBackward0>)\n",
      "DONT BUY\n"
     ]
    },
    {
     "name": "stderr",
     "output_type": "stream",
     "text": [
      "/var/folders/9w/783wdyf54fb3b79gq32y3t4h0000gn/T/ipykernel_19541/692568148.py:107: FutureWarning: The frame.append method is deprecated and will be removed from pandas in a future version. Use pandas.concat instead.\n",
      "  df_history = df_history.append(scaled_df, ignore_index = True)\n"
     ]
    },
    {
     "name": "stdout",
     "output_type": "stream",
     "text": [
      "\n",
      "######################\n",
      "candle closed at 2100.97\n",
      "\n",
      "Back Propogate... \n",
      "\n",
      "CORRECT?:  -2.793843984603882 -2.797755002975464 -2.794453863531153\n",
      "COUNTBUY:  129 CORRECTBUY:  65 COUNTDONTBUY:  122 CORRECTDONTBUY:  56\n",
      "Current Close Scaled:  -2.7938439596564133\n",
      "PREDICTION tensor([[-2.7630]], grad_fn=<AddmmBackward0>)\n",
      "BUY AT:  2100.97 TIME:  1652443980000\n"
     ]
    },
    {
     "name": "stderr",
     "output_type": "stream",
     "text": [
      "/var/folders/9w/783wdyf54fb3b79gq32y3t4h0000gn/T/ipykernel_19541/692568148.py:107: FutureWarning: The frame.append method is deprecated and will be removed from pandas in a future version. Use pandas.concat instead.\n",
      "  df_history = df_history.append(scaled_df, ignore_index = True)\n"
     ]
    },
    {
     "name": "stdout",
     "output_type": "stream",
     "text": [
      "\n",
      "######################\n",
      "candle closed at 2105.29\n",
      "\n",
      "Back Propogate... \n",
      "\n",
      "CORRECT?:  -2.777376651763916 -2.763026237487793 -2.7938439596564133\n",
      "COUNTBUY:  130 CORRECTBUY:  66 COUNTDONTBUY:  122 CORRECTDONTBUY:  56\n",
      "NEW PRICE:  2105.29 BOUGHT PRICE:  -2.7938439596564133 CHANGE:  4.320000000000164 MONEY:  8.750000000000455\n",
      "Current Close Scaled:  -2.7773765550384244\n",
      "PREDICTION tensor([[-2.7988]], grad_fn=<AddmmBackward0>)\n",
      "DONT BUY\n"
     ]
    },
    {
     "name": "stderr",
     "output_type": "stream",
     "text": [
      "/var/folders/9w/783wdyf54fb3b79gq32y3t4h0000gn/T/ipykernel_19541/692568148.py:107: FutureWarning: The frame.append method is deprecated and will be removed from pandas in a future version. Use pandas.concat instead.\n",
      "  df_history = df_history.append(scaled_df, ignore_index = True)\n"
     ]
    },
    {
     "name": "stdout",
     "output_type": "stream",
     "text": [
      "\n",
      "######################\n",
      "candle closed at 2108.9\n",
      "\n",
      "Back Propogate... \n",
      "\n",
      "CORRECT?:  -2.763615608215332 -2.7987890243530273 -2.7773765550384244\n",
      "COUNTBUY:  130 CORRECTBUY:  66 COUNTDONTBUY:  123 CORRECTDONTBUY:  56\n",
      "Current Close Scaled:  -2.763615598864596\n",
      "PREDICTION tensor([[-2.7952]], grad_fn=<AddmmBackward0>)\n",
      "DONT BUY\n"
     ]
    },
    {
     "name": "stderr",
     "output_type": "stream",
     "text": [
      "/var/folders/9w/783wdyf54fb3b79gq32y3t4h0000gn/T/ipykernel_19541/692568148.py:107: FutureWarning: The frame.append method is deprecated and will be removed from pandas in a future version. Use pandas.concat instead.\n",
      "  df_history = df_history.append(scaled_df, ignore_index = True)\n"
     ]
    },
    {
     "name": "stdout",
     "output_type": "stream",
     "text": [
      "\n",
      "######################\n",
      "candle closed at 2113.71\n",
      "\n",
      "Back Propogate... \n",
      "\n",
      "CORRECT?:  -2.7452802658081055 -2.7952194213867188 -2.763615598864596\n",
      "COUNTBUY:  130 CORRECTBUY:  66 COUNTDONTBUY:  124 CORRECTDONTBUY:  56\n",
      "Current Close Scaled:  -2.745280363630216\n",
      "PREDICTION tensor([[-2.7852]], grad_fn=<AddmmBackward0>)\n",
      "DONT BUY\n"
     ]
    },
    {
     "name": "stderr",
     "output_type": "stream",
     "text": [
      "/var/folders/9w/783wdyf54fb3b79gq32y3t4h0000gn/T/ipykernel_19541/692568148.py:107: FutureWarning: The frame.append method is deprecated and will be removed from pandas in a future version. Use pandas.concat instead.\n",
      "  df_history = df_history.append(scaled_df, ignore_index = True)\n"
     ]
    },
    {
     "name": "stdout",
     "output_type": "stream",
     "text": [
      "\n",
      "######################\n",
      "candle closed at 2117.72\n",
      "\n",
      "Back Propogate... \n",
      "\n",
      "CORRECT?:  -2.729994535446167 -2.785214424133301 -2.745280363630216\n",
      "COUNTBUY:  130 CORRECTBUY:  66 COUNTDONTBUY:  125 CORRECTDONTBUY:  56\n",
      "Current Close Scaled:  -2.729994647769538\n",
      "PREDICTION tensor([[-2.7717]], grad_fn=<AddmmBackward0>)\n",
      "DONT BUY\n"
     ]
    },
    {
     "name": "stderr",
     "output_type": "stream",
     "text": [
      "/var/folders/9w/783wdyf54fb3b79gq32y3t4h0000gn/T/ipykernel_19541/692568148.py:107: FutureWarning: The frame.append method is deprecated and will be removed from pandas in a future version. Use pandas.concat instead.\n",
      "  df_history = df_history.append(scaled_df, ignore_index = True)\n"
     ]
    },
    {
     "name": "stdout",
     "output_type": "stream",
     "text": [
      "\n",
      "######################\n",
      "candle closed at 2118.6\n",
      "\n",
      "Back Propogate... \n",
      "\n",
      "CORRECT?:  -2.726640224456787 -2.771688222885132 -2.729994647769538\n",
      "COUNTBUY:  130 CORRECTBUY:  66 COUNTDONTBUY:  126 CORRECTDONTBUY:  56\n",
      "Current Close Scaled:  -2.726640176458466\n",
      "PREDICTION tensor([[-2.7520]], grad_fn=<AddmmBackward0>)\n",
      "DONT BUY\n"
     ]
    },
    {
     "name": "stderr",
     "output_type": "stream",
     "text": [
      "/var/folders/9w/783wdyf54fb3b79gq32y3t4h0000gn/T/ipykernel_19541/692568148.py:107: FutureWarning: The frame.append method is deprecated and will be removed from pandas in a future version. Use pandas.concat instead.\n",
      "  df_history = df_history.append(scaled_df, ignore_index = True)\n"
     ]
    },
    {
     "name": "stdout",
     "output_type": "stream",
     "text": [
      "\n",
      "######################\n",
      "candle closed at 2111.26\n",
      "\n",
      "Back Propogate... \n",
      "\n",
      "CORRECT?:  -2.754619598388672 -2.751988410949707 -2.726640176458466\n",
      "COUNTBUY:  130 CORRECTBUY:  66 COUNTDONTBUY:  127 CORRECTDONTBUY:  57\n",
      "Current Close Scaled:  -2.754619516712176\n",
      "PREDICTION tensor([[-2.7349]], grad_fn=<AddmmBackward0>)\n",
      "BUY AT:  2111.26 TIME:  1652444340000\n"
     ]
    },
    {
     "name": "stderr",
     "output_type": "stream",
     "text": [
      "/var/folders/9w/783wdyf54fb3b79gq32y3t4h0000gn/T/ipykernel_19541/692568148.py:107: FutureWarning: The frame.append method is deprecated and will be removed from pandas in a future version. Use pandas.concat instead.\n",
      "  df_history = df_history.append(scaled_df, ignore_index = True)\n"
     ]
    },
    {
     "name": "stdout",
     "output_type": "stream",
     "text": [
      "\n",
      "######################\n",
      "candle closed at 2118.32\n",
      "\n",
      "Back Propogate... \n",
      "\n",
      "CORRECT?:  -2.727707624435425 -2.734873056411743 -2.754619516712176\n",
      "COUNTBUY:  131 CORRECTBUY:  67 COUNTDONTBUY:  127 CORRECTDONTBUY:  57\n",
      "NEW PRICE:  2118.32 BOUGHT PRICE:  -2.754619516712176 CHANGE:  7.059999999999945 MONEY:  15.8100000000004\n",
      "Current Close Scaled:  -2.7277075082392606\n",
      "PREDICTION tensor([[-2.7185]], grad_fn=<AddmmBackward0>)\n",
      "BUY AT:  2118.32 TIME:  1652444400000\n"
     ]
    },
    {
     "name": "stderr",
     "output_type": "stream",
     "text": [
      "/var/folders/9w/783wdyf54fb3b79gq32y3t4h0000gn/T/ipykernel_19541/692568148.py:107: FutureWarning: The frame.append method is deprecated and will be removed from pandas in a future version. Use pandas.concat instead.\n",
      "  df_history = df_history.append(scaled_df, ignore_index = True)\n"
     ]
    },
    {
     "name": "stdout",
     "output_type": "stream",
     "text": [
      "\n",
      "######################\n",
      "candle closed at 2112.81\n",
      "\n",
      "Back Propogate... \n",
      "\n",
      "CORRECT?:  -2.748711109161377 -2.7184815406799316 -2.7277075082392606\n",
      "COUNTBUY:  132 CORRECTBUY:  67 COUNTDONTBUY:  127 CORRECTDONTBUY:  57\n",
      "NEW PRICE:  2112.81 BOUGHT PRICE:  -2.7277075082392606 CHANGE:  -5.510000000000218 MONEY:  10.300000000000182\n",
      "Current Close Scaled:  -2.7487110729256305\n",
      "PREDICTION tensor([[-2.7048]], grad_fn=<AddmmBackward0>)\n",
      "BUY AT:  2112.81 TIME:  1652444460000\n"
     ]
    },
    {
     "name": "stderr",
     "output_type": "stream",
     "text": [
      "/var/folders/9w/783wdyf54fb3b79gq32y3t4h0000gn/T/ipykernel_19541/692568148.py:107: FutureWarning: The frame.append method is deprecated and will be removed from pandas in a future version. Use pandas.concat instead.\n",
      "  df_history = df_history.append(scaled_df, ignore_index = True)\n"
     ]
    },
    {
     "name": "stdout",
     "output_type": "stream",
     "text": [
      "\n",
      "######################\n",
      "candle closed at 2113.58\n",
      "\n",
      "Back Propogate... \n",
      "\n",
      "CORRECT?:  -2.7457759380340576 -2.7048234939575195 -2.7487110729256305\n",
      "COUNTBUY:  133 CORRECTBUY:  68 COUNTDONTBUY:  127 CORRECTDONTBUY:  57\n",
      "NEW PRICE:  2113.58 BOUGHT PRICE:  -2.7487110729256305 CHANGE:  0.7699999999999818 MONEY:  11.070000000000164\n",
      "Current Close Scaled:  -2.745775910528443\n",
      "PREDICTION tensor([[-2.7050]], grad_fn=<AddmmBackward0>)\n",
      "BUY AT:  2113.58 TIME:  1652444520000\n"
     ]
    },
    {
     "name": "stderr",
     "output_type": "stream",
     "text": [
      "/var/folders/9w/783wdyf54fb3b79gq32y3t4h0000gn/T/ipykernel_19541/692568148.py:107: FutureWarning: The frame.append method is deprecated and will be removed from pandas in a future version. Use pandas.concat instead.\n",
      "  df_history = df_history.append(scaled_df, ignore_index = True)\n"
     ]
    },
    {
     "name": "stdout",
     "output_type": "stream",
     "text": [
      "\n",
      "######################\n",
      "candle closed at 2110.06\n",
      "\n",
      "Back Propogate... \n",
      "\n",
      "CORRECT?:  -2.7591938972473145 -2.7049551010131836 -2.745775910528443\n",
      "COUNTBUY:  134 CORRECTBUY:  68 COUNTDONTBUY:  127 CORRECTDONTBUY:  57\n",
      "NEW PRICE:  2110.06 BOUGHT PRICE:  -2.745775910528443 CHANGE:  -3.519999999999982 MONEY:  7.550000000000182\n",
      "Current Close Scaled:  -2.7591937957727293\n",
      "PREDICTION tensor([[-2.6922]], grad_fn=<AddmmBackward0>)\n",
      "BUY AT:  2110.06 TIME:  1652444580000\n"
     ]
    },
    {
     "name": "stderr",
     "output_type": "stream",
     "text": [
      "/var/folders/9w/783wdyf54fb3b79gq32y3t4h0000gn/T/ipykernel_19541/692568148.py:107: FutureWarning: The frame.append method is deprecated and will be removed from pandas in a future version. Use pandas.concat instead.\n",
      "  df_history = df_history.append(scaled_df, ignore_index = True)\n"
     ]
    },
    {
     "name": "stdout",
     "output_type": "stream",
     "text": [
      "\n",
      "######################\n",
      "candle closed at 2110.84\n",
      "\n",
      "Back Propogate... \n",
      "\n",
      "CORRECT?:  -2.756220579147339 -2.6922459602355957 -2.7591937957727293\n",
      "COUNTBUY:  135 CORRECTBUY:  69 COUNTDONTBUY:  127 CORRECTDONTBUY:  57\n",
      "NEW PRICE:  2110.84 BOUGHT PRICE:  -2.7591937957727293 CHANGE:  0.7800000000002001 MONEY:  8.330000000000382\n",
      "Current Close Scaled:  -2.7562205143833696\n",
      "PREDICTION tensor([[-2.7222]], grad_fn=<AddmmBackward0>)\n",
      "BUY AT:  2110.84 TIME:  1652444640000\n"
     ]
    },
    {
     "name": "stderr",
     "output_type": "stream",
     "text": [
      "/var/folders/9w/783wdyf54fb3b79gq32y3t4h0000gn/T/ipykernel_19541/692568148.py:107: FutureWarning: The frame.append method is deprecated and will be removed from pandas in a future version. Use pandas.concat instead.\n",
      "  df_history = df_history.append(scaled_df, ignore_index = True)\n"
     ]
    },
    {
     "name": "stdout",
     "output_type": "stream",
     "text": [
      "\n",
      "######################\n",
      "candle closed at 2116.17\n",
      "\n",
      "Back Propogate... \n",
      "\n",
      "CORRECT?:  -2.735903024673462 -2.722153425216675 -2.7562205143833696\n",
      "COUNTBUY:  136 CORRECTBUY:  70 COUNTDONTBUY:  127 CORRECTDONTBUY:  57\n",
      "NEW PRICE:  2116.17 BOUGHT PRICE:  -2.7562205143833696 CHANGE:  5.329999999999927 MONEY:  13.66000000000031\n",
      "Current Close Scaled:  -2.7359030915560836\n",
      "PREDICTION tensor([[-2.7384]], grad_fn=<AddmmBackward0>)\n",
      "DONT BUY\n"
     ]
    },
    {
     "name": "stderr",
     "output_type": "stream",
     "text": [
      "/var/folders/9w/783wdyf54fb3b79gq32y3t4h0000gn/T/ipykernel_19541/692568148.py:107: FutureWarning: The frame.append method is deprecated and will be removed from pandas in a future version. Use pandas.concat instead.\n",
      "  df_history = df_history.append(scaled_df, ignore_index = True)\n"
     ]
    },
    {
     "name": "stdout",
     "output_type": "stream",
     "text": [
      "\n",
      "######################\n",
      "candle closed at 2117.53\n",
      "\n",
      "Back Propogate... \n",
      "\n",
      "CORRECT?:  -2.7307188510894775 -2.738384485244751 -2.7359030915560836\n",
      "COUNTBUY:  136 CORRECTBUY:  70 COUNTDONTBUY:  128 CORRECTDONTBUY:  57\n",
      "Current Close Scaled:  -2.7307189086207906\n",
      "PREDICTION tensor([[-2.7871]], grad_fn=<AddmmBackward0>)\n",
      "DONT BUY\n"
     ]
    },
    {
     "name": "stderr",
     "output_type": "stream",
     "text": [
      "/var/folders/9w/783wdyf54fb3b79gq32y3t4h0000gn/T/ipykernel_19541/692568148.py:107: FutureWarning: The frame.append method is deprecated and will be removed from pandas in a future version. Use pandas.concat instead.\n",
      "  df_history = df_history.append(scaled_df, ignore_index = True)\n"
     ]
    },
    {
     "name": "stdout",
     "output_type": "stream",
     "text": [
      "\n",
      "######################\n",
      "candle closed at 2119.49\n",
      "\n",
      "Back Propogate... \n",
      "\n",
      "CORRECT?:  -2.723247528076172 -2.787094831466675 -2.7307189086207906\n",
      "COUNTBUY:  136 CORRECTBUY:  70 COUNTDONTBUY:  129 CORRECTDONTBUY:  57\n",
      "Current Close Scaled:  -2.7232475861552237\n",
      "PREDICTION tensor([[-2.7849]], grad_fn=<AddmmBackward0>)\n",
      "DONT BUY\n"
     ]
    },
    {
     "name": "stderr",
     "output_type": "stream",
     "text": [
      "/var/folders/9w/783wdyf54fb3b79gq32y3t4h0000gn/T/ipykernel_19541/692568148.py:107: FutureWarning: The frame.append method is deprecated and will be removed from pandas in a future version. Use pandas.concat instead.\n",
      "  df_history = df_history.append(scaled_df, ignore_index = True)\n"
     ]
    },
    {
     "name": "stdout",
     "output_type": "stream",
     "text": [
      "\n",
      "######################\n",
      "candle closed at 2118.57\n",
      "\n",
      "Back Propogate... \n",
      "\n",
      "CORRECT?:  -2.7267544269561768 -2.784937858581543 -2.7232475861552237\n",
      "COUNTBUY:  136 CORRECTBUY:  70 COUNTDONTBUY:  130 CORRECTDONTBUY:  58\n",
      "Current Close Scaled:  -2.726754533434979\n",
      "PREDICTION tensor([[-2.7407]], grad_fn=<AddmmBackward0>)\n",
      "DONT BUY\n"
     ]
    },
    {
     "name": "stderr",
     "output_type": "stream",
     "text": [
      "/var/folders/9w/783wdyf54fb3b79gq32y3t4h0000gn/T/ipykernel_19541/692568148.py:107: FutureWarning: The frame.append method is deprecated and will be removed from pandas in a future version. Use pandas.concat instead.\n",
      "  df_history = df_history.append(scaled_df, ignore_index = True)\n"
     ]
    },
    {
     "name": "stdout",
     "output_type": "stream",
     "text": [
      "\n",
      "######################\n",
      "candle closed at 2117.62\n",
      "\n",
      "Back Propogate... \n",
      "\n",
      "CORRECT?:  -2.7303757667541504 -2.7407007217407227 -2.726754533434979\n",
      "COUNTBUY:  136 CORRECTBUY:  70 COUNTDONTBUY:  131 CORRECTDONTBUY:  59\n",
      "Current Close Scaled:  -2.73037583769125\n",
      "PREDICTION tensor([[-2.8097]], grad_fn=<AddmmBackward0>)\n",
      "DONT BUY\n"
     ]
    },
    {
     "name": "stderr",
     "output_type": "stream",
     "text": [
      "/var/folders/9w/783wdyf54fb3b79gq32y3t4h0000gn/T/ipykernel_19541/692568148.py:107: FutureWarning: The frame.append method is deprecated and will be removed from pandas in a future version. Use pandas.concat instead.\n",
      "  df_history = df_history.append(scaled_df, ignore_index = True)\n"
     ]
    },
    {
     "name": "stdout",
     "output_type": "stream",
     "text": [
      "\n",
      "######################\n",
      "candle closed at 2122.18\n",
      "\n",
      "Back Propogate... \n",
      "\n",
      "CORRECT?:  -2.712993621826172 -2.8096938133239746 -2.73037583769125\n",
      "COUNTBUY:  136 CORRECTBUY:  70 COUNTDONTBUY:  132 CORRECTDONTBUY:  59\n",
      "Current Close Scaled:  -2.7129935772611518\n",
      "PREDICTION tensor([[-2.7120]], grad_fn=<AddmmBackward0>)\n",
      "BUY AT:  2122.18 TIME:  1652445000000\n"
     ]
    },
    {
     "name": "stderr",
     "output_type": "stream",
     "text": [
      "/var/folders/9w/783wdyf54fb3b79gq32y3t4h0000gn/T/ipykernel_19541/692568148.py:107: FutureWarning: The frame.append method is deprecated and will be removed from pandas in a future version. Use pandas.concat instead.\n",
      "  df_history = df_history.append(scaled_df, ignore_index = True)\n"
     ]
    },
    {
     "name": "stdout",
     "output_type": "stream",
     "text": [
      "\n",
      "######################\n",
      "candle closed at 2124.29\n",
      "\n",
      "Back Propogate... \n",
      "\n",
      "CORRECT?:  -2.7049505710601807 -2.711991310119629 -2.7129935772611518\n",
      "COUNTBUY:  137 CORRECTBUY:  71 COUNTDONTBUY:  132 CORRECTDONTBUY:  59\n",
      "NEW PRICE:  2124.29 BOUGHT PRICE:  -2.7129935772611518 CHANGE:  2.1100000000001273 MONEY:  15.770000000000437\n",
      "Current Close Scaled:  -2.7049504699130136\n",
      "PREDICTION tensor([[-2.6968]], grad_fn=<AddmmBackward0>)\n",
      "BUY AT:  2124.29 TIME:  1652445060000\n"
     ]
    },
    {
     "name": "stderr",
     "output_type": "stream",
     "text": [
      "/var/folders/9w/783wdyf54fb3b79gq32y3t4h0000gn/T/ipykernel_19541/692568148.py:107: FutureWarning: The frame.append method is deprecated and will be removed from pandas in a future version. Use pandas.concat instead.\n",
      "  df_history = df_history.append(scaled_df, ignore_index = True)\n"
     ]
    },
    {
     "name": "stdout",
     "output_type": "stream",
     "text": [
      "\n",
      "######################\n",
      "candle closed at 2127.07\n",
      "\n",
      "Back Propogate... \n",
      "\n",
      "CORRECT?:  -2.6943533420562744 -2.696775197982788 -2.7049504699130136\n",
      "COUNTBUY:  138 CORRECTBUY:  72 COUNTDONTBUY:  132 CORRECTDONTBUY:  59\n",
      "NEW PRICE:  2127.07 BOUGHT PRICE:  -2.7049504699130136 CHANGE:  2.7800000000002 MONEY:  18.550000000000637\n",
      "Current Close Scaled:  -2.6943533900894003\n",
      "PREDICTION tensor([[-2.6828]], grad_fn=<AddmmBackward0>)\n",
      "BUY AT:  2127.07 TIME:  1652445120000\n"
     ]
    },
    {
     "name": "stderr",
     "output_type": "stream",
     "text": [
      "/var/folders/9w/783wdyf54fb3b79gq32y3t4h0000gn/T/ipykernel_19541/692568148.py:107: FutureWarning: The frame.append method is deprecated and will be removed from pandas in a future version. Use pandas.concat instead.\n",
      "  df_history = df_history.append(scaled_df, ignore_index = True)\n"
     ]
    },
    {
     "name": "stdout",
     "output_type": "stream",
     "text": [
      "\n",
      "######################\n",
      "candle closed at 2128.84\n",
      "\n",
      "Back Propogate... \n",
      "\n",
      "CORRECT?:  -2.6876063346862793 -2.6828205585479736 -2.6943533900894003\n",
      "COUNTBUY:  139 CORRECTBUY:  73 COUNTDONTBUY:  132 CORRECTDONTBUY:  59\n",
      "NEW PRICE:  2128.84 BOUGHT PRICE:  -2.6943533900894003 CHANGE:  1.7699999999999818 MONEY:  20.32000000000062\n",
      "Current Close Scaled:  -2.6876063284750855\n",
      "PREDICTION tensor([[-2.6710]], grad_fn=<AddmmBackward0>)\n",
      "BUY AT:  2128.84 TIME:  1652445180000\n"
     ]
    },
    {
     "name": "stderr",
     "output_type": "stream",
     "text": [
      "/var/folders/9w/783wdyf54fb3b79gq32y3t4h0000gn/T/ipykernel_19541/692568148.py:107: FutureWarning: The frame.append method is deprecated and will be removed from pandas in a future version. Use pandas.concat instead.\n",
      "  df_history = df_history.append(scaled_df, ignore_index = True)\n"
     ]
    },
    {
     "name": "stdout",
     "output_type": "stream",
     "text": [
      "\n",
      "######################\n",
      "candle closed at 2128.97\n",
      "\n",
      "Back Propogate... \n",
      "\n",
      "CORRECT?:  -2.687110662460327 -2.6710433959960938 -2.6876063284750855\n",
      "COUNTBUY:  140 CORRECTBUY:  74 COUNTDONTBUY:  132 CORRECTDONTBUY:  59\n",
      "NEW PRICE:  2128.97 BOUGHT PRICE:  -2.6876063284750855 CHANGE:  0.1299999999996544 MONEY:  20.450000000000273\n",
      "Current Close Scaled:  -2.6871107815768607\n",
      "PREDICTION tensor([[-2.6147]], grad_fn=<AddmmBackward0>)\n",
      "BUY AT:  2128.97 TIME:  1652445240000\n"
     ]
    },
    {
     "name": "stderr",
     "output_type": "stream",
     "text": [
      "/var/folders/9w/783wdyf54fb3b79gq32y3t4h0000gn/T/ipykernel_19541/692568148.py:107: FutureWarning: The frame.append method is deprecated and will be removed from pandas in a future version. Use pandas.concat instead.\n",
      "  df_history = df_history.append(scaled_df, ignore_index = True)\n"
     ]
    },
    {
     "name": "stdout",
     "output_type": "stream",
     "text": [
      "\n",
      "######################\n",
      "candle closed at 2126.63\n",
      "\n",
      "Back Propogate... \n",
      "\n",
      "CORRECT?:  -2.696030616760254 -2.6146833896636963 -2.6871107815768607\n",
      "COUNTBUY:  141 CORRECTBUY:  74 COUNTDONTBUY:  132 CORRECTDONTBUY:  59\n",
      "NEW PRICE:  2126.63 BOUGHT PRICE:  -2.6871107815768607 CHANGE:  -2.3399999999996908 MONEY:  18.110000000000582\n",
      "Current Close Scaled:  -2.6960306257449362\n",
      "PREDICTION tensor([[-2.6606]], grad_fn=<AddmmBackward0>)\n",
      "BUY AT:  2126.63 TIME:  1652445300000\n"
     ]
    },
    {
     "name": "stderr",
     "output_type": "stream",
     "text": [
      "/var/folders/9w/783wdyf54fb3b79gq32y3t4h0000gn/T/ipykernel_19541/692568148.py:107: FutureWarning: The frame.append method is deprecated and will be removed from pandas in a future version. Use pandas.concat instead.\n",
      "  df_history = df_history.append(scaled_df, ignore_index = True)\n"
     ]
    },
    {
     "name": "stdout",
     "output_type": "stream",
     "text": [
      "\n",
      "######################\n",
      "candle closed at 2122.89\n",
      "\n",
      "Back Propogate... \n",
      "\n",
      "CORRECT?:  -2.710287094116211 -2.660581588745117 -2.6960306257449362\n",
      "COUNTBUY:  142 CORRECTBUY:  74 COUNTDONTBUY:  132 CORRECTDONTBUY:  59\n",
      "NEW PRICE:  2122.89 BOUGHT PRICE:  -2.6960306257449362 CHANGE:  -3.7400000000002365 MONEY:  14.370000000000346\n",
      "Current Close Scaled:  -2.710287128816992\n",
      "PREDICTION tensor([[-2.6998]], grad_fn=<AddmmBackward0>)\n",
      "BUY AT:  2122.89 TIME:  1652445360000\n"
     ]
    },
    {
     "name": "stderr",
     "output_type": "stream",
     "text": [
      "/var/folders/9w/783wdyf54fb3b79gq32y3t4h0000gn/T/ipykernel_19541/692568148.py:107: FutureWarning: The frame.append method is deprecated and will be removed from pandas in a future version. Use pandas.concat instead.\n",
      "  df_history = df_history.append(scaled_df, ignore_index = True)\n"
     ]
    },
    {
     "name": "stdout",
     "output_type": "stream",
     "text": [
      "\n",
      "######################\n",
      "candle closed at 2123.08\n",
      "\n",
      "Back Propogate... \n",
      "\n",
      "CORRECT?:  -2.7095627784729004 -2.699833631515503 -2.710287128816992\n",
      "COUNTBUY:  143 CORRECTBUY:  75 COUNTDONTBUY:  132 CORRECTDONTBUY:  59\n",
      "NEW PRICE:  2123.08 BOUGHT PRICE:  -2.710287128816992 CHANGE:  0.19000000000005457 MONEY:  14.5600000000004\n",
      "Current Close Scaled:  -2.7095628679657375\n",
      "PREDICTION tensor([[-2.6906]], grad_fn=<AddmmBackward0>)\n",
      "BUY AT:  2123.08 TIME:  1652445420000\n"
     ]
    },
    {
     "name": "stderr",
     "output_type": "stream",
     "text": [
      "/var/folders/9w/783wdyf54fb3b79gq32y3t4h0000gn/T/ipykernel_19541/692568148.py:107: FutureWarning: The frame.append method is deprecated and will be removed from pandas in a future version. Use pandas.concat instead.\n",
      "  df_history = df_history.append(scaled_df, ignore_index = True)\n"
     ]
    },
    {
     "name": "stdout",
     "output_type": "stream",
     "text": [
      "\n",
      "######################\n",
      "candle closed at 2122.58\n",
      "\n",
      "Back Propogate... \n",
      "\n",
      "CORRECT?:  -2.7114689350128174 -2.6906497478485107 -2.7095628679657375\n",
      "COUNTBUY:  144 CORRECTBUY:  75 COUNTDONTBUY:  132 CORRECTDONTBUY:  59\n",
      "NEW PRICE:  2122.58 BOUGHT PRICE:  -2.7095628679657375 CHANGE:  -0.5 MONEY:  14.0600000000004\n",
      "Current Close Scaled:  -2.7114688175743007\n",
      "PREDICTION tensor([[-2.7074]], grad_fn=<AddmmBackward0>)\n",
      "BUY AT:  2122.58 TIME:  1652445480000\n"
     ]
    },
    {
     "name": "stderr",
     "output_type": "stream",
     "text": [
      "/var/folders/9w/783wdyf54fb3b79gq32y3t4h0000gn/T/ipykernel_19541/692568148.py:107: FutureWarning: The frame.append method is deprecated and will be removed from pandas in a future version. Use pandas.concat instead.\n",
      "  df_history = df_history.append(scaled_df, ignore_index = True)\n"
     ]
    },
    {
     "name": "stdout",
     "output_type": "stream",
     "text": [
      "\n",
      "######################\n",
      "candle closed at 2114.17\n",
      "\n",
      "Back Propogate... \n",
      "\n",
      "CORRECT?:  -2.7435269355773926 -2.7073841094970703 -2.7114688175743007\n",
      "COUNTBUY:  145 CORRECTBUY:  75 COUNTDONTBUY:  132 CORRECTDONTBUY:  59\n",
      "NEW PRICE:  2114.17 BOUGHT PRICE:  -2.7114688175743007 CHANGE:  -8.409999999999854 MONEY:  5.650000000000546\n",
      "Current Close Scaled:  -2.7435268899903376\n",
      "PREDICTION tensor([[-2.5285]], grad_fn=<AddmmBackward0>)\n",
      "BUY AT:  2114.17 TIME:  1652445540000\n"
     ]
    },
    {
     "name": "stderr",
     "output_type": "stream",
     "text": [
      "/var/folders/9w/783wdyf54fb3b79gq32y3t4h0000gn/T/ipykernel_19541/692568148.py:107: FutureWarning: The frame.append method is deprecated and will be removed from pandas in a future version. Use pandas.concat instead.\n",
      "  df_history = df_history.append(scaled_df, ignore_index = True)\n"
     ]
    },
    {
     "name": "stdout",
     "output_type": "stream",
     "text": [
      "\n",
      "######################\n",
      "candle closed at 2110.36\n",
      "\n",
      "Back Propogate... \n",
      "\n",
      "CORRECT?:  -2.7580502033233643 -2.528470754623413 -2.7435268899903376\n",
      "COUNTBUY:  146 CORRECTBUY:  75 COUNTDONTBUY:  132 CORRECTDONTBUY:  59\n",
      "NEW PRICE:  2110.36 BOUGHT PRICE:  -2.7435268899903376 CHANGE:  -3.8099999999999454 MONEY:  1.8400000000006003\n",
      "Current Close Scaled:  -2.7580502260075908\n",
      "PREDICTION tensor([[-2.7611]], grad_fn=<AddmmBackward0>)\n",
      "DONT BUY\n"
     ]
    },
    {
     "name": "stderr",
     "output_type": "stream",
     "text": [
      "/var/folders/9w/783wdyf54fb3b79gq32y3t4h0000gn/T/ipykernel_19541/692568148.py:107: FutureWarning: The frame.append method is deprecated and will be removed from pandas in a future version. Use pandas.concat instead.\n",
      "  df_history = df_history.append(scaled_df, ignore_index = True)\n"
     ]
    },
    {
     "name": "stdout",
     "output_type": "stream",
     "text": [
      "\n",
      "######################\n",
      "candle closed at 2107.52\n",
      "\n",
      "Back Propogate... \n",
      "\n",
      "CORRECT?:  -2.768876075744629 -2.761096954345703 -2.7580502260075908\n",
      "COUNTBUY:  146 CORRECTBUY:  75 COUNTDONTBUY:  133 CORRECTDONTBUY:  60\n",
      "Current Close Scaled:  -2.7688760197842317\n",
      "PREDICTION tensor([[-2.7487]], grad_fn=<AddmmBackward0>)\n",
      "BUY AT:  2107.52 TIME:  1652445660000\n"
     ]
    },
    {
     "name": "stderr",
     "output_type": "stream",
     "text": [
      "/var/folders/9w/783wdyf54fb3b79gq32y3t4h0000gn/T/ipykernel_19541/692568148.py:107: FutureWarning: The frame.append method is deprecated and will be removed from pandas in a future version. Use pandas.concat instead.\n",
      "  df_history = df_history.append(scaled_df, ignore_index = True)\n"
     ]
    },
    {
     "name": "stdout",
     "output_type": "stream",
     "text": [
      "\n",
      "######################\n",
      "candle closed at 2108.34\n",
      "\n",
      "Back Propogate... \n",
      "\n",
      "CORRECT?:  -2.7657501697540283 -2.748667001724243 -2.7688760197842317\n",
      "COUNTBUY:  147 CORRECTBUY:  76 COUNTDONTBUY:  133 CORRECTDONTBUY:  60\n",
      "NEW PRICE:  2108.34 BOUGHT PRICE:  -2.7688760197842317 CHANGE:  0.8200000000001637 MONEY:  2.660000000000764\n",
      "Current Close Scaled:  -2.7657502624261867\n",
      "PREDICTION tensor([[-2.8074]], grad_fn=<AddmmBackward0>)\n",
      "DONT BUY\n"
     ]
    },
    {
     "name": "stderr",
     "output_type": "stream",
     "text": [
      "/var/folders/9w/783wdyf54fb3b79gq32y3t4h0000gn/T/ipykernel_19541/692568148.py:107: FutureWarning: The frame.append method is deprecated and will be removed from pandas in a future version. Use pandas.concat instead.\n",
      "  df_history = df_history.append(scaled_df, ignore_index = True)\n"
     ]
    },
    {
     "name": "stdout",
     "output_type": "stream",
     "text": [
      "\n",
      "######################\n",
      "candle closed at 2111.41\n",
      "\n",
      "Back Propogate... \n",
      "\n",
      "CORRECT?:  -2.7540476322174072 -2.807439088821411 -2.7657502624261867\n",
      "COUNTBUY:  147 CORRECTBUY:  76 COUNTDONTBUY:  134 CORRECTDONTBUY:  60\n",
      "Current Close Scaled:  -2.7540477318296084\n",
      "PREDICTION tensor([[-2.8353]], grad_fn=<AddmmBackward0>)\n",
      "DONT BUY\n"
     ]
    },
    {
     "name": "stderr",
     "output_type": "stream",
     "text": [
      "/var/folders/9w/783wdyf54fb3b79gq32y3t4h0000gn/T/ipykernel_19541/692568148.py:107: FutureWarning: The frame.append method is deprecated and will be removed from pandas in a future version. Use pandas.concat instead.\n",
      "  df_history = df_history.append(scaled_df, ignore_index = True)\n"
     ]
    },
    {
     "name": "stdout",
     "output_type": "stream",
     "text": [
      "\n",
      "######################\n",
      "candle closed at 2111.71\n",
      "\n",
      "Back Propogate... \n",
      "\n",
      "CORRECT?:  -2.752904176712036 -2.8352701663970947 -2.7540477318296084\n",
      "COUNTBUY:  147 CORRECTBUY:  76 COUNTDONTBUY:  135 CORRECTDONTBUY:  60\n",
      "Current Close Scaled:  -2.75290416206447\n",
      "PREDICTION tensor([[-2.8247]], grad_fn=<AddmmBackward0>)\n",
      "DONT BUY\n"
     ]
    },
    {
     "name": "stderr",
     "output_type": "stream",
     "text": [
      "/var/folders/9w/783wdyf54fb3b79gq32y3t4h0000gn/T/ipykernel_19541/692568148.py:107: FutureWarning: The frame.append method is deprecated and will be removed from pandas in a future version. Use pandas.concat instead.\n",
      "  df_history = df_history.append(scaled_df, ignore_index = True)\n"
     ]
    },
    {
     "name": "stdout",
     "output_type": "stream",
     "text": [
      "\n",
      "######################\n",
      "candle closed at 2112.66\n",
      "\n",
      "Back Propogate... \n",
      "\n",
      "CORRECT?:  -2.7492828369140625 -2.824699640274048 -2.75290416206447\n",
      "COUNTBUY:  147 CORRECTBUY:  76 COUNTDONTBUY:  136 CORRECTDONTBUY:  60\n",
      "Current Close Scaled:  -2.7492828578082\n",
      "PREDICTION tensor([[-2.8180]], grad_fn=<AddmmBackward0>)\n",
      "DONT BUY\n"
     ]
    },
    {
     "name": "stderr",
     "output_type": "stream",
     "text": [
      "/var/folders/9w/783wdyf54fb3b79gq32y3t4h0000gn/T/ipykernel_19541/692568148.py:107: FutureWarning: The frame.append method is deprecated and will be removed from pandas in a future version. Use pandas.concat instead.\n",
      "  df_history = df_history.append(scaled_df, ignore_index = True)\n"
     ]
    },
    {
     "name": "stdout",
     "output_type": "stream",
     "text": [
      "\n",
      "######################\n",
      "candle closed at 2110.06\n",
      "\n",
      "Back Propogate... \n",
      "\n",
      "CORRECT?:  -2.7591938972473145 -2.8179683685302734 -2.7492828578082\n",
      "COUNTBUY:  147 CORRECTBUY:  76 COUNTDONTBUY:  137 CORRECTDONTBUY:  61\n",
      "Current Close Scaled:  -2.7591937957727293\n",
      "PREDICTION tensor([[-2.7776]], grad_fn=<AddmmBackward0>)\n",
      "DONT BUY\n"
     ]
    },
    {
     "name": "stderr",
     "output_type": "stream",
     "text": [
      "/var/folders/9w/783wdyf54fb3b79gq32y3t4h0000gn/T/ipykernel_19541/692568148.py:107: FutureWarning: The frame.append method is deprecated and will be removed from pandas in a future version. Use pandas.concat instead.\n",
      "  df_history = df_history.append(scaled_df, ignore_index = True)\n"
     ]
    },
    {
     "name": "stdout",
     "output_type": "stream",
     "text": [
      "\n",
      "######################\n",
      "candle closed at 2108.06\n",
      "\n",
      "Back Propogate... \n",
      "\n",
      "CORRECT?:  -2.766817569732666 -2.777582883834839 -2.7591937957727293\n",
      "COUNTBUY:  147 CORRECTBUY:  76 COUNTDONTBUY:  138 CORRECTDONTBUY:  62\n",
      "Current Close Scaled:  -2.7668175942069833\n",
      "PREDICTION tensor([[-2.7693]], grad_fn=<AddmmBackward0>)\n",
      "DONT BUY\n"
     ]
    },
    {
     "name": "stderr",
     "output_type": "stream",
     "text": [
      "/var/folders/9w/783wdyf54fb3b79gq32y3t4h0000gn/T/ipykernel_19541/692568148.py:107: FutureWarning: The frame.append method is deprecated and will be removed from pandas in a future version. Use pandas.concat instead.\n",
      "  df_history = df_history.append(scaled_df, ignore_index = True)\n"
     ]
    },
    {
     "name": "stdout",
     "output_type": "stream",
     "text": [
      "\n",
      "######################\n",
      "candle closed at 2109.04\n",
      "\n",
      "Back Propogate... \n",
      "\n",
      "CORRECT?:  -2.7630820274353027 -2.769291400909424 -2.7668175942069833\n",
      "COUNTBUY:  147 CORRECTBUY:  76 COUNTDONTBUY:  139 CORRECTDONTBUY:  62\n",
      "Current Close Scaled:  -2.763081932974199\n",
      "PREDICTION tensor([[-2.7609]], grad_fn=<AddmmBackward0>)\n",
      "BUY AT:  2109.04 TIME:  1652446080000\n"
     ]
    },
    {
     "name": "stderr",
     "output_type": "stream",
     "text": [
      "/var/folders/9w/783wdyf54fb3b79gq32y3t4h0000gn/T/ipykernel_19541/692568148.py:107: FutureWarning: The frame.append method is deprecated and will be removed from pandas in a future version. Use pandas.concat instead.\n",
      "  df_history = df_history.append(scaled_df, ignore_index = True)\n"
     ]
    },
    {
     "name": "stdout",
     "output_type": "stream",
     "text": [
      "\n",
      "######################\n",
      "candle closed at 2107.84\n",
      "\n",
      "Back Propogate... \n",
      "\n",
      "CORRECT?:  -2.7676563262939453 -2.760850667953491 -2.763081932974199\n",
      "COUNTBUY:  148 CORRECTBUY:  76 COUNTDONTBUY:  139 CORRECTDONTBUY:  62\n",
      "NEW PRICE:  2107.84 BOUGHT PRICE:  -2.763081932974199 CHANGE:  -1.199999999999818 MONEY:  1.4600000000009459\n",
      "Current Close Scaled:  -2.7676562120347503\n",
      "PREDICTION tensor([[-2.7534]], grad_fn=<AddmmBackward0>)\n",
      "BUY AT:  2107.84 TIME:  1652446140000\n"
     ]
    },
    {
     "name": "stderr",
     "output_type": "stream",
     "text": [
      "/var/folders/9w/783wdyf54fb3b79gq32y3t4h0000gn/T/ipykernel_19541/692568148.py:107: FutureWarning: The frame.append method is deprecated and will be removed from pandas in a future version. Use pandas.concat instead.\n",
      "  df_history = df_history.append(scaled_df, ignore_index = True)\n"
     ]
    },
    {
     "name": "stdout",
     "output_type": "stream",
     "text": [
      "\n",
      "######################\n",
      "candle closed at 2106.91\n",
      "\n",
      "Back Propogate... \n",
      "\n",
      "CORRECT?:  -2.7712013721466064 -2.753399133682251 -2.7676562120347503\n",
      "COUNTBUY:  149 CORRECTBUY:  76 COUNTDONTBUY:  139 CORRECTDONTBUY:  62\n",
      "NEW PRICE:  2106.91 BOUGHT PRICE:  -2.7676562120347503 CHANGE:  -0.930000000000291 MONEY:  0.5300000000006548\n",
      "Current Close Scaled:  -2.7712012783066795\n",
      "PREDICTION tensor([[-2.7481]], grad_fn=<AddmmBackward0>)\n",
      "BUY AT:  2106.91 TIME:  1652446200000\n"
     ]
    },
    {
     "name": "stderr",
     "output_type": "stream",
     "text": [
      "/var/folders/9w/783wdyf54fb3b79gq32y3t4h0000gn/T/ipykernel_19541/692568148.py:107: FutureWarning: The frame.append method is deprecated and will be removed from pandas in a future version. Use pandas.concat instead.\n",
      "  df_history = df_history.append(scaled_df, ignore_index = True)\n"
     ]
    },
    {
     "name": "stdout",
     "output_type": "stream",
     "text": [
      "\n",
      "######################\n",
      "candle closed at 2109.96\n",
      "\n",
      "Back Propogate... \n",
      "\n",
      "CORRECT?:  -2.7595748901367188 -2.7480664253234863 -2.7712012783066795\n",
      "COUNTBUY:  150 CORRECTBUY:  77 COUNTDONTBUY:  139 CORRECTDONTBUY:  62\n",
      "NEW PRICE:  2109.96 BOUGHT PRICE:  -2.7712012783066795 CHANGE:  3.050000000000182 MONEY:  3.5800000000008367\n",
      "Current Close Scaled:  -2.759574985694442\n",
      "PREDICTION tensor([[-2.7510]], grad_fn=<AddmmBackward0>)\n",
      "BUY AT:  2109.96 TIME:  1652446260000\n"
     ]
    },
    {
     "name": "stderr",
     "output_type": "stream",
     "text": [
      "/var/folders/9w/783wdyf54fb3b79gq32y3t4h0000gn/T/ipykernel_19541/692568148.py:107: FutureWarning: The frame.append method is deprecated and will be removed from pandas in a future version. Use pandas.concat instead.\n",
      "  df_history = df_history.append(scaled_df, ignore_index = True)\n"
     ]
    },
    {
     "name": "stdout",
     "output_type": "stream",
     "text": [
      "\n",
      "######################\n",
      "candle closed at 2111.23\n",
      "\n",
      "Back Propogate... \n",
      "\n",
      "CORRECT?:  -2.7547338008880615 -2.751049041748047 -2.759574985694442\n",
      "COUNTBUY:  151 CORRECTBUY:  78 COUNTDONTBUY:  139 CORRECTDONTBUY:  62\n",
      "NEW PRICE:  2111.23 BOUGHT PRICE:  -2.759574985694442 CHANGE:  1.2699999999999818 MONEY:  4.8500000000008185\n",
      "Current Close Scaled:  -2.7547338736886906\n",
      "PREDICTION tensor([[-2.7410]], grad_fn=<AddmmBackward0>)\n",
      "BUY AT:  2111.23 TIME:  1652446320000\n"
     ]
    },
    {
     "name": "stderr",
     "output_type": "stream",
     "text": [
      "/var/folders/9w/783wdyf54fb3b79gq32y3t4h0000gn/T/ipykernel_19541/692568148.py:107: FutureWarning: The frame.append method is deprecated and will be removed from pandas in a future version. Use pandas.concat instead.\n",
      "  df_history = df_history.append(scaled_df, ignore_index = True)\n"
     ]
    },
    {
     "name": "stdout",
     "output_type": "stream",
     "text": [
      "\n",
      "######################\n",
      "candle closed at 2114.81\n",
      "\n",
      "Back Propogate... \n",
      "\n",
      "CORRECT?:  -2.7410871982574463 -2.741013765335083 -2.7547338736886906\n",
      "COUNTBUY:  152 CORRECTBUY:  79 COUNTDONTBUY:  139 CORRECTDONTBUY:  62\n",
      "NEW PRICE:  2114.81 BOUGHT PRICE:  -2.7547338736886906 CHANGE:  3.5799999999999272 MONEY:  8.430000000000746\n",
      "Current Close Scaled:  -2.7410872744913766\n",
      "PREDICTION tensor([[-2.7380]], grad_fn=<AddmmBackward0>)\n",
      "BUY AT:  2114.81 TIME:  1652446380000\n"
     ]
    },
    {
     "name": "stderr",
     "output_type": "stream",
     "text": [
      "/var/folders/9w/783wdyf54fb3b79gq32y3t4h0000gn/T/ipykernel_19541/692568148.py:107: FutureWarning: The frame.append method is deprecated and will be removed from pandas in a future version. Use pandas.concat instead.\n",
      "  df_history = df_history.append(scaled_df, ignore_index = True)\n"
     ]
    },
    {
     "name": "stdout",
     "output_type": "stream",
     "text": [
      "\n",
      "######################\n",
      "candle closed at 2123.81\n",
      "\n",
      "Back Propogate... \n",
      "\n",
      "CORRECT?:  -2.706780195236206 -2.738032817840576 -2.7410872744913766\n",
      "COUNTBUY:  153 CORRECTBUY:  80 COUNTDONTBUY:  139 CORRECTDONTBUY:  62\n",
      "NEW PRICE:  2123.81 BOUGHT PRICE:  -2.7410872744913766 CHANGE:  9.0 MONEY:  17.430000000000746\n",
      "Current Close Scaled:  -2.7067801815372348\n",
      "PREDICTION tensor([[-2.7259]], grad_fn=<AddmmBackward0>)\n",
      "DONT BUY\n"
     ]
    },
    {
     "name": "stderr",
     "output_type": "stream",
     "text": [
      "/var/folders/9w/783wdyf54fb3b79gq32y3t4h0000gn/T/ipykernel_19541/692568148.py:107: FutureWarning: The frame.append method is deprecated and will be removed from pandas in a future version. Use pandas.concat instead.\n",
      "  df_history = df_history.append(scaled_df, ignore_index = True)\n"
     ]
    },
    {
     "name": "stdout",
     "output_type": "stream",
     "text": [
      "\n",
      "######################\n",
      "candle closed at 2118.99\n",
      "\n",
      "Back Propogate... \n",
      "\n",
      "CORRECT?:  -2.7251534461975098 -2.7258992195129395 -2.7067801815372348\n",
      "COUNTBUY:  153 CORRECTBUY:  80 COUNTDONTBUY:  140 CORRECTDONTBUY:  63\n",
      "Current Close Scaled:  -2.725153535763787\n",
      "PREDICTION tensor([[-2.7286]], grad_fn=<AddmmBackward0>)\n",
      "DONT BUY\n"
     ]
    },
    {
     "name": "stderr",
     "output_type": "stream",
     "text": [
      "/var/folders/9w/783wdyf54fb3b79gq32y3t4h0000gn/T/ipykernel_19541/692568148.py:107: FutureWarning: The frame.append method is deprecated and will be removed from pandas in a future version. Use pandas.concat instead.\n",
      "  df_history = df_history.append(scaled_df, ignore_index = True)\n"
     ]
    },
    {
     "name": "stdout",
     "output_type": "stream",
     "text": [
      "\n",
      "######################\n",
      "candle closed at 2116.37\n",
      "\n",
      "Back Propogate... \n",
      "\n",
      "CORRECT?:  -2.735140800476074 -2.7286477088928223 -2.725153535763787\n",
      "COUNTBUY:  153 CORRECTBUY:  80 COUNTDONTBUY:  141 CORRECTDONTBUY:  64\n",
      "Current Close Scaled:  -2.735140711712659\n",
      "PREDICTION tensor([[-2.7388]], grad_fn=<AddmmBackward0>)\n",
      "DONT BUY\n"
     ]
    },
    {
     "name": "stderr",
     "output_type": "stream",
     "text": [
      "/var/folders/9w/783wdyf54fb3b79gq32y3t4h0000gn/T/ipykernel_19541/692568148.py:107: FutureWarning: The frame.append method is deprecated and will be removed from pandas in a future version. Use pandas.concat instead.\n",
      "  df_history = df_history.append(scaled_df, ignore_index = True)\n"
     ]
    },
    {
     "name": "stdout",
     "output_type": "stream",
     "text": [
      "\n",
      "######################\n",
      "candle closed at 2118.93\n",
      "\n",
      "Back Propogate... \n",
      "\n",
      "CORRECT?:  -2.7253823280334473 -2.7387871742248535 -2.735140711712659\n",
      "COUNTBUY:  153 CORRECTBUY:  80 COUNTDONTBUY:  142 CORRECTDONTBUY:  64\n",
      "Current Close Scaled:  -2.7253822497168145\n",
      "PREDICTION tensor([[-2.7145]], grad_fn=<AddmmBackward0>)\n",
      "BUY AT:  2118.93 TIME:  1652446620000\n"
     ]
    },
    {
     "name": "stderr",
     "output_type": "stream",
     "text": [
      "/var/folders/9w/783wdyf54fb3b79gq32y3t4h0000gn/T/ipykernel_19541/692568148.py:107: FutureWarning: The frame.append method is deprecated and will be removed from pandas in a future version. Use pandas.concat instead.\n",
      "  df_history = df_history.append(scaled_df, ignore_index = True)\n"
     ]
    },
    {
     "name": "stdout",
     "output_type": "stream",
     "text": [
      "\n",
      "######################\n",
      "candle closed at 2123.42\n",
      "\n",
      "Back Propogate... \n",
      "\n",
      "CORRECT?:  -2.7082667350769043 -2.714484691619873 -2.7253822497168145\n",
      "COUNTBUY:  154 CORRECTBUY:  81 COUNTDONTBUY:  142 CORRECTDONTBUY:  64\n",
      "NEW PRICE:  2123.42 BOUGHT PRICE:  -2.7253822497168145 CHANGE:  4.4900000000002365 MONEY:  21.920000000000982\n",
      "Current Close Scaled:  -2.7082668222319137\n",
      "PREDICTION tensor([[-2.7080]], grad_fn=<AddmmBackward0>)\n",
      "BUY AT:  2123.42 TIME:  1652446680000\n"
     ]
    },
    {
     "name": "stderr",
     "output_type": "stream",
     "text": [
      "/var/folders/9w/783wdyf54fb3b79gq32y3t4h0000gn/T/ipykernel_19541/692568148.py:107: FutureWarning: The frame.append method is deprecated and will be removed from pandas in a future version. Use pandas.concat instead.\n",
      "  df_history = df_history.append(scaled_df, ignore_index = True)\n"
     ]
    },
    {
     "name": "stdout",
     "output_type": "stream",
     "text": [
      "\n",
      "######################\n",
      "candle closed at 2120.23\n",
      "\n",
      "Back Propogate... \n",
      "\n",
      "CORRECT?:  -2.7204267978668213 -2.7079858779907227 -2.7082668222319137\n",
      "COUNTBUY:  155 CORRECTBUY:  81 COUNTDONTBUY:  142 CORRECTDONTBUY:  64\n",
      "NEW PRICE:  2120.23 BOUGHT PRICE:  -2.7082668222319137 CHANGE:  -3.1900000000000546 MONEY:  18.730000000000928\n",
      "Current Close Scaled:  -2.720426780734549\n",
      "PREDICTION tensor([[-2.7038]], grad_fn=<AddmmBackward0>)\n",
      "BUY AT:  2120.23 TIME:  1652446740000\n"
     ]
    },
    {
     "name": "stderr",
     "output_type": "stream",
     "text": [
      "/var/folders/9w/783wdyf54fb3b79gq32y3t4h0000gn/T/ipykernel_19541/692568148.py:107: FutureWarning: The frame.append method is deprecated and will be removed from pandas in a future version. Use pandas.concat instead.\n",
      "  df_history = df_history.append(scaled_df, ignore_index = True)\n"
     ]
    },
    {
     "name": "stdout",
     "output_type": "stream",
     "text": [
      "\n",
      "######################\n",
      "candle closed at 2119.01\n",
      "\n",
      "Back Propogate... \n",
      "\n",
      "CORRECT?:  -2.7250773906707764 -2.7037785053253174 -2.720426780734549\n",
      "COUNTBUY:  156 CORRECTBUY:  81 COUNTDONTBUY:  142 CORRECTDONTBUY:  64\n",
      "NEW PRICE:  2119.01 BOUGHT PRICE:  -2.720426780734549 CHANGE:  -1.2199999999998 MONEY:  17.510000000001128\n",
      "Current Close Scaled:  -2.7250772977794426\n",
      "PREDICTION tensor([[-2.7116]], grad_fn=<AddmmBackward0>)\n",
      "BUY AT:  2119.01 TIME:  1652446800000\n"
     ]
    },
    {
     "name": "stderr",
     "output_type": "stream",
     "text": [
      "/var/folders/9w/783wdyf54fb3b79gq32y3t4h0000gn/T/ipykernel_19541/692568148.py:107: FutureWarning: The frame.append method is deprecated and will be removed from pandas in a future version. Use pandas.concat instead.\n",
      "  df_history = df_history.append(scaled_df, ignore_index = True)\n"
     ]
    },
    {
     "name": "stdout",
     "output_type": "stream",
     "text": [
      "\n",
      "######################\n",
      "candle closed at 2114.46\n",
      "\n",
      "Back Propogate... \n",
      "\n",
      "CORRECT?:  -2.7424213886260986 -2.711606502532959 -2.7250772977794426\n",
      "COUNTBUY:  157 CORRECTBUY:  81 COUNTDONTBUY:  142 CORRECTDONTBUY:  64\n",
      "NEW PRICE:  2114.46 BOUGHT PRICE:  -2.7250772977794426 CHANGE:  -4.550000000000182 MONEY:  12.960000000000946\n",
      "Current Close Scaled:  -2.7424214392173707\n",
      "PREDICTION tensor([[-2.7068]], grad_fn=<AddmmBackward0>)\n",
      "BUY AT:  2114.46 TIME:  1652446860000\n"
     ]
    },
    {
     "name": "stderr",
     "output_type": "stream",
     "text": [
      "/var/folders/9w/783wdyf54fb3b79gq32y3t4h0000gn/T/ipykernel_19541/692568148.py:107: FutureWarning: The frame.append method is deprecated and will be removed from pandas in a future version. Use pandas.concat instead.\n",
      "  df_history = df_history.append(scaled_df, ignore_index = True)\n"
     ]
    },
    {
     "name": "stdout",
     "output_type": "stream",
     "text": [
      "\n",
      "######################\n",
      "candle closed at 2121.88\n",
      "\n",
      "Back Propogate... \n",
      "\n",
      "CORRECT?:  -2.714137077331543 -2.7067627906799316 -2.7424214392173707\n",
      "COUNTBUY:  158 CORRECTBUY:  82 COUNTDONTBUY:  142 CORRECTDONTBUY:  64\n",
      "NEW PRICE:  2121.88 BOUGHT PRICE:  -2.7424214392173707 CHANGE:  7.420000000000073 MONEY:  20.38000000000102\n",
      "Current Close Scaled:  -2.714137147026289\n",
      "PREDICTION tensor([[-2.7113]], grad_fn=<AddmmBackward0>)\n",
      "BUY AT:  2121.88 TIME:  1652446920000\n"
     ]
    },
    {
     "name": "stderr",
     "output_type": "stream",
     "text": [
      "/var/folders/9w/783wdyf54fb3b79gq32y3t4h0000gn/T/ipykernel_19541/692568148.py:107: FutureWarning: The frame.append method is deprecated and will be removed from pandas in a future version. Use pandas.concat instead.\n",
      "  df_history = df_history.append(scaled_df, ignore_index = True)\n"
     ]
    },
    {
     "name": "stdout",
     "output_type": "stream",
     "text": [
      "\n",
      "######################\n",
      "candle closed at 2126.46\n",
      "\n",
      "Back Propogate... \n",
      "\n",
      "CORRECT?:  -2.696678638458252 -2.7112672328948975 -2.714137147026289\n",
      "COUNTBUY:  159 CORRECTBUY:  83 COUNTDONTBUY:  142 CORRECTDONTBUY:  64\n",
      "NEW PRICE:  2126.46 BOUGHT PRICE:  -2.714137147026289 CHANGE:  4.579999999999927 MONEY:  24.960000000000946\n",
      "Current Close Scaled:  -2.696678648611848\n",
      "PREDICTION tensor([[-2.6920]], grad_fn=<AddmmBackward0>)\n",
      "BUY AT:  2126.46 TIME:  1652446980000\n"
     ]
    },
    {
     "name": "stderr",
     "output_type": "stream",
     "text": [
      "/var/folders/9w/783wdyf54fb3b79gq32y3t4h0000gn/T/ipykernel_19541/692568148.py:107: FutureWarning: The frame.append method is deprecated and will be removed from pandas in a future version. Use pandas.concat instead.\n",
      "  df_history = df_history.append(scaled_df, ignore_index = True)\n"
     ]
    },
    {
     "name": "stdout",
     "output_type": "stream",
     "text": [
      "\n",
      "######################\n",
      "candle closed at 2124.76\n",
      "\n",
      "Back Propogate... \n",
      "\n",
      "CORRECT?:  -2.7031588554382324 -2.692014217376709 -2.696678648611848\n",
      "COUNTBUY:  160 CORRECTBUY:  83 COUNTDONTBUY:  142 CORRECTDONTBUY:  64\n",
      "NEW PRICE:  2124.76 BOUGHT PRICE:  -2.696678648611848 CHANGE:  -1.699999999999818 MONEY:  23.260000000001128\n",
      "Current Close Scaled:  -2.703158877280963\n",
      "PREDICTION tensor([[-2.7283]], grad_fn=<AddmmBackward0>)\n",
      "DONT BUY\n"
     ]
    },
    {
     "name": "stderr",
     "output_type": "stream",
     "text": [
      "/var/folders/9w/783wdyf54fb3b79gq32y3t4h0000gn/T/ipykernel_19541/692568148.py:107: FutureWarning: The frame.append method is deprecated and will be removed from pandas in a future version. Use pandas.concat instead.\n",
      "  df_history = df_history.append(scaled_df, ignore_index = True)\n"
     ]
    },
    {
     "name": "stdout",
     "output_type": "stream",
     "text": [
      "\n",
      "######################\n",
      "candle closed at 2113.45\n",
      "\n",
      "Back Propogate... \n",
      "\n",
      "CORRECT?:  -2.7462713718414307 -2.728317975997925 -2.703158877280963\n",
      "COUNTBUY:  160 CORRECTBUY:  83 COUNTDONTBUY:  143 CORRECTDONTBUY:  65\n",
      "Current Close Scaled:  -2.7462714574266696\n",
      "PREDICTION tensor([[-2.7220]], grad_fn=<AddmmBackward0>)\n",
      "BUY AT:  2113.45 TIME:  1652447100000\n"
     ]
    },
    {
     "name": "stderr",
     "output_type": "stream",
     "text": [
      "/var/folders/9w/783wdyf54fb3b79gq32y3t4h0000gn/T/ipykernel_19541/692568148.py:107: FutureWarning: The frame.append method is deprecated and will be removed from pandas in a future version. Use pandas.concat instead.\n",
      "  df_history = df_history.append(scaled_df, ignore_index = True)\n"
     ]
    },
    {
     "name": "stdout",
     "output_type": "stream",
     "text": [
      "\n",
      "######################\n",
      "candle closed at 2099.65\n",
      "\n",
      "Back Propogate... \n",
      "\n",
      "CORRECT?:  -2.798875570297241 -2.7219908237457275 -2.7462714574266696\n",
      "COUNTBUY:  161 CORRECTBUY:  83 COUNTDONTBUY:  143 CORRECTDONTBUY:  65\n",
      "NEW PRICE:  2099.65 BOUGHT PRICE:  -2.7462714574266696 CHANGE:  -13.799999999999727 MONEY:  9.4600000000014\n",
      "Current Close Scaled:  -2.7988756666230197\n",
      "PREDICTION tensor([[-2.7388]], grad_fn=<AddmmBackward0>)\n",
      "BUY AT:  2099.65 TIME:  1652447160000\n"
     ]
    },
    {
     "name": "stderr",
     "output_type": "stream",
     "text": [
      "/var/folders/9w/783wdyf54fb3b79gq32y3t4h0000gn/T/ipykernel_19541/692568148.py:107: FutureWarning: The frame.append method is deprecated and will be removed from pandas in a future version. Use pandas.concat instead.\n",
      "  df_history = df_history.append(scaled_df, ignore_index = True)\n"
     ]
    },
    {
     "name": "stdout",
     "output_type": "stream",
     "text": [
      "\n",
      "######################\n",
      "candle closed at 2098.01\n",
      "\n",
      "Back Propogate... \n",
      "\n",
      "CORRECT?:  -2.8051271438598633 -2.738764762878418 -2.7988756666230197\n",
      "COUNTBUY:  162 CORRECTBUY:  83 COUNTDONTBUY:  143 CORRECTDONTBUY:  65\n",
      "NEW PRICE:  2098.01 BOUGHT PRICE:  -2.7988756666230197 CHANGE:  -1.6399999999998727 MONEY:  7.820000000001528\n",
      "Current Close Scaled:  -2.8051271813391074\n",
      "PREDICTION tensor([[-2.7638]], grad_fn=<AddmmBackward0>)\n",
      "BUY AT:  2098.01 TIME:  1652447220000\n"
     ]
    },
    {
     "name": "stderr",
     "output_type": "stream",
     "text": [
      "/var/folders/9w/783wdyf54fb3b79gq32y3t4h0000gn/T/ipykernel_19541/692568148.py:107: FutureWarning: The frame.append method is deprecated and will be removed from pandas in a future version. Use pandas.concat instead.\n",
      "  df_history = df_history.append(scaled_df, ignore_index = True)\n"
     ]
    },
    {
     "name": "stdout",
     "output_type": "stream",
     "text": [
      "\n",
      "######################\n",
      "candle closed at 2100.64\n",
      "\n",
      "Back Propogate... \n",
      "\n",
      "CORRECT?:  -2.7951018810272217 -2.763843059539795 -2.8051271813391074\n",
      "COUNTBUY:  163 CORRECTBUY:  84 COUNTDONTBUY:  143 CORRECTDONTBUY:  65\n",
      "NEW PRICE:  2100.64 BOUGHT PRICE:  -2.8051271813391074 CHANGE:  2.6299999999996544 MONEY:  10.450000000001182\n",
      "Current Close Scaled:  -2.795101886398065\n",
      "PREDICTION tensor([[-2.7910]], grad_fn=<AddmmBackward0>)\n",
      "BUY AT:  2100.64 TIME:  1652447280000\n"
     ]
    },
    {
     "name": "stderr",
     "output_type": "stream",
     "text": [
      "/var/folders/9w/783wdyf54fb3b79gq32y3t4h0000gn/T/ipykernel_19541/692568148.py:107: FutureWarning: The frame.append method is deprecated and will be removed from pandas in a future version. Use pandas.concat instead.\n",
      "  df_history = df_history.append(scaled_df, ignore_index = True)\n"
     ]
    },
    {
     "name": "stdout",
     "output_type": "stream",
     "text": [
      "\n",
      "######################\n",
      "candle closed at 2102.45\n",
      "\n",
      "Back Propogate... \n",
      "\n",
      "CORRECT?:  -2.7882022857666016 -2.791015148162842 -2.795101886398065\n",
      "COUNTBUY:  164 CORRECTBUY:  85 COUNTDONTBUY:  143 CORRECTDONTBUY:  65\n",
      "NEW PRICE:  2102.45 BOUGHT PRICE:  -2.795101886398065 CHANGE:  1.8099999999999454 MONEY:  12.260000000001128\n",
      "Current Close Scaled:  -2.7882023488150653\n",
      "PREDICTION tensor([[-2.7794]], grad_fn=<AddmmBackward0>)\n",
      "BUY AT:  2102.45 TIME:  1652447340000\n"
     ]
    },
    {
     "name": "stderr",
     "output_type": "stream",
     "text": [
      "/var/folders/9w/783wdyf54fb3b79gq32y3t4h0000gn/T/ipykernel_19541/692568148.py:107: FutureWarning: The frame.append method is deprecated and will be removed from pandas in a future version. Use pandas.concat instead.\n",
      "  df_history = df_history.append(scaled_df, ignore_index = True)\n"
     ]
    },
    {
     "name": "stdout",
     "output_type": "stream",
     "text": [
      "\n",
      "######################\n",
      "candle closed at 2096.64\n",
      "\n",
      "Back Propogate... \n",
      "\n",
      "CORRECT?:  -2.810349464416504 -2.77935528755188 -2.7882023488150653\n",
      "COUNTBUY:  165 CORRECTBUY:  85 COUNTDONTBUY:  143 CORRECTDONTBUY:  65\n",
      "NEW PRICE:  2096.64 BOUGHT PRICE:  -2.7882023488150653 CHANGE:  -5.809999999999945 MONEY:  6.450000000001182\n",
      "Current Close Scaled:  -2.8103494832665725\n",
      "PREDICTION tensor([[-2.8536]], grad_fn=<AddmmBackward0>)\n",
      "DONT BUY\n"
     ]
    },
    {
     "name": "stderr",
     "output_type": "stream",
     "text": [
      "/var/folders/9w/783wdyf54fb3b79gq32y3t4h0000gn/T/ipykernel_19541/692568148.py:107: FutureWarning: The frame.append method is deprecated and will be removed from pandas in a future version. Use pandas.concat instead.\n",
      "  df_history = df_history.append(scaled_df, ignore_index = True)\n"
     ]
    },
    {
     "name": "stdout",
     "output_type": "stream",
     "text": [
      "\n",
      "######################\n",
      "candle closed at 2098.05\n",
      "\n",
      "Back Propogate... \n",
      "\n",
      "CORRECT?:  -2.8049747943878174 -2.8536429405212402 -2.8103494832665725\n",
      "COUNTBUY:  165 CORRECTBUY:  85 COUNTDONTBUY:  144 CORRECTDONTBUY:  65\n",
      "Current Close Scaled:  -2.8049747053704226\n",
      "PREDICTION tensor([[-2.8478]], grad_fn=<AddmmBackward0>)\n",
      "DONT BUY\n"
     ]
    },
    {
     "name": "stderr",
     "output_type": "stream",
     "text": [
      "/var/folders/9w/783wdyf54fb3b79gq32y3t4h0000gn/T/ipykernel_19541/692568148.py:107: FutureWarning: The frame.append method is deprecated and will be removed from pandas in a future version. Use pandas.concat instead.\n",
      "  df_history = df_history.append(scaled_df, ignore_index = True)\n"
     ]
    },
    {
     "name": "stdout",
     "output_type": "stream",
     "text": [
      "\n",
      "######################\n",
      "candle closed at 2095.3\n",
      "\n",
      "Back Propogate... \n",
      "\n",
      "CORRECT?:  -2.815457344055176 -2.8477559089660645 -2.8049747053704226\n",
      "COUNTBUY:  165 CORRECTBUY:  85 COUNTDONTBUY:  145 CORRECTDONTBUY:  66\n",
      "Current Close Scaled:  -2.8154574282175213\n",
      "PREDICTION tensor([[-2.8640]], grad_fn=<AddmmBackward0>)\n",
      "DONT BUY\n"
     ]
    },
    {
     "name": "stderr",
     "output_type": "stream",
     "text": [
      "/var/folders/9w/783wdyf54fb3b79gq32y3t4h0000gn/T/ipykernel_19541/692568148.py:107: FutureWarning: The frame.append method is deprecated and will be removed from pandas in a future version. Use pandas.concat instead.\n",
      "  df_history = df_history.append(scaled_df, ignore_index = True)\n"
     ]
    },
    {
     "name": "stdout",
     "output_type": "stream",
     "text": [
      "\n",
      "######################\n",
      "candle closed at 2095.59\n",
      "\n",
      "Back Propogate... \n",
      "\n",
      "CORRECT?:  -2.814352035522461 -2.864039182662964 -2.8154574282175213\n",
      "COUNTBUY:  165 CORRECTBUY:  85 COUNTDONTBUY:  146 CORRECTDONTBUY:  66\n",
      "Current Close Scaled:  -2.814351977444555\n",
      "PREDICTION tensor([[-2.8274]], grad_fn=<AddmmBackward0>)\n",
      "DONT BUY\n"
     ]
    },
    {
     "name": "stderr",
     "output_type": "stream",
     "text": [
      "/var/folders/9w/783wdyf54fb3b79gq32y3t4h0000gn/T/ipykernel_19541/692568148.py:107: FutureWarning: The frame.append method is deprecated and will be removed from pandas in a future version. Use pandas.concat instead.\n",
      "  df_history = df_history.append(scaled_df, ignore_index = True)\n"
     ]
    },
    {
     "name": "stdout",
     "output_type": "stream",
     "text": [
      "\n",
      "######################\n",
      "candle closed at 2094.33\n",
      "\n",
      "Back Propogate... \n",
      "\n",
      "CORRECT?:  -2.819154977798462 -2.8274481296539307 -2.814351977444555\n",
      "COUNTBUY:  165 CORRECTBUY:  85 COUNTDONTBUY:  147 CORRECTDONTBUY:  67\n",
      "Current Close Scaled:  -2.8191549704581353\n",
      "PREDICTION tensor([[-2.8276]], grad_fn=<AddmmBackward0>)\n",
      "DONT BUY\n"
     ]
    },
    {
     "name": "stderr",
     "output_type": "stream",
     "text": [
      "/var/folders/9w/783wdyf54fb3b79gq32y3t4h0000gn/T/ipykernel_19541/692568148.py:107: FutureWarning: The frame.append method is deprecated and will be removed from pandas in a future version. Use pandas.concat instead.\n",
      "  df_history = df_history.append(scaled_df, ignore_index = True)\n"
     ]
    },
    {
     "name": "stdout",
     "output_type": "stream",
     "text": [
      "\n",
      "######################\n",
      "candle closed at 2096.01\n",
      "\n",
      "Back Propogate... \n",
      "\n",
      "CORRECT?:  -2.812751054763794 -2.82757306098938 -2.8191549704581353\n",
      "COUNTBUY:  165 CORRECTBUY:  85 COUNTDONTBUY:  148 CORRECTDONTBUY:  67\n",
      "Current Close Scaled:  -2.812750979773361\n",
      "PREDICTION tensor([[-2.8223]], grad_fn=<AddmmBackward0>)\n",
      "DONT BUY\n"
     ]
    },
    {
     "name": "stderr",
     "output_type": "stream",
     "text": [
      "/var/folders/9w/783wdyf54fb3b79gq32y3t4h0000gn/T/ipykernel_19541/692568148.py:107: FutureWarning: The frame.append method is deprecated and will be removed from pandas in a future version. Use pandas.concat instead.\n",
      "  df_history = df_history.append(scaled_df, ignore_index = True)\n"
     ]
    },
    {
     "name": "stdout",
     "output_type": "stream",
     "text": [
      "\n",
      "######################\n",
      "candle closed at 2089.37\n",
      "\n",
      "Back Propogate... \n",
      "\n",
      "CORRECT?:  -2.838062047958374 -2.8223345279693604 -2.812750979773361\n",
      "COUNTBUY:  165 CORRECTBUY:  85 COUNTDONTBUY:  149 CORRECTDONTBUY:  68\n",
      "Current Close Scaled:  -2.838061990575085\n",
      "PREDICTION tensor([[-2.8581]], grad_fn=<AddmmBackward0>)\n",
      "DONT BUY\n"
     ]
    },
    {
     "name": "stderr",
     "output_type": "stream",
     "text": [
      "/var/folders/9w/783wdyf54fb3b79gq32y3t4h0000gn/T/ipykernel_19541/692568148.py:107: FutureWarning: The frame.append method is deprecated and will be removed from pandas in a future version. Use pandas.concat instead.\n",
      "  df_history = df_history.append(scaled_df, ignore_index = True)\n"
     ]
    },
    {
     "name": "stdout",
     "output_type": "stream",
     "text": [
      "\n",
      "######################\n",
      "candle closed at 2092.67\n",
      "\n",
      "Back Propogate... \n",
      "\n",
      "CORRECT?:  -2.8254826068878174 -2.85811185836792 -2.838061990575085\n",
      "COUNTBUY:  165 CORRECTBUY:  85 COUNTDONTBUY:  150 CORRECTDONTBUY:  68\n",
      "Current Close Scaled:  -2.8254827231585655\n",
      "PREDICTION tensor([[-2.8224]], grad_fn=<AddmmBackward0>)\n",
      "BUY AT:  2092.67 TIME:  1652447820000\n"
     ]
    },
    {
     "name": "stderr",
     "output_type": "stream",
     "text": [
      "/var/folders/9w/783wdyf54fb3b79gq32y3t4h0000gn/T/ipykernel_19541/692568148.py:107: FutureWarning: The frame.append method is deprecated and will be removed from pandas in a future version. Use pandas.concat instead.\n",
      "  df_history = df_history.append(scaled_df, ignore_index = True)\n"
     ]
    },
    {
     "name": "stdout",
     "output_type": "stream",
     "text": [
      "\n",
      "######################\n",
      "candle closed at 2094.8\n",
      "\n",
      "Back Propogate... \n",
      "\n",
      "CORRECT?:  -2.8173632621765137 -2.8224217891693115 -2.8254827231585655\n",
      "COUNTBUY:  166 CORRECTBUY:  86 COUNTDONTBUY:  150 CORRECTDONTBUY:  68\n",
      "NEW PRICE:  2094.8 BOUGHT PRICE:  -2.8254827231585655 CHANGE:  2.130000000000109 MONEY:  8.580000000001291\n",
      "Current Close Scaled:  -2.817363377826085\n",
      "PREDICTION tensor([[-2.8188]], grad_fn=<AddmmBackward0>)\n",
      "DONT BUY\n"
     ]
    },
    {
     "name": "stderr",
     "output_type": "stream",
     "text": [
      "/var/folders/9w/783wdyf54fb3b79gq32y3t4h0000gn/T/ipykernel_19541/692568148.py:107: FutureWarning: The frame.append method is deprecated and will be removed from pandas in a future version. Use pandas.concat instead.\n",
      "  df_history = df_history.append(scaled_df, ignore_index = True)\n"
     ]
    },
    {
     "name": "stdout",
     "output_type": "stream",
     "text": [
      "\n",
      "######################\n",
      "candle closed at 2096.68\n",
      "\n",
      "Back Propogate... \n",
      "\n",
      "CORRECT?:  -2.810197114944458 -2.8187942504882812 -2.817363377826085\n",
      "COUNTBUY:  166 CORRECTBUY:  86 COUNTDONTBUY:  151 CORRECTDONTBUY:  68\n",
      "Current Close Scaled:  -2.8101970072978877\n",
      "PREDICTION tensor([[-2.8064]], grad_fn=<AddmmBackward0>)\n",
      "BUY AT:  2096.68 TIME:  1652447940000\n"
     ]
    },
    {
     "name": "stderr",
     "output_type": "stream",
     "text": [
      "/var/folders/9w/783wdyf54fb3b79gq32y3t4h0000gn/T/ipykernel_19541/692568148.py:107: FutureWarning: The frame.append method is deprecated and will be removed from pandas in a future version. Use pandas.concat instead.\n",
      "  df_history = df_history.append(scaled_df, ignore_index = True)\n"
     ]
    },
    {
     "name": "stdout",
     "output_type": "stream",
     "text": [
      "\n",
      "######################\n",
      "candle closed at 2097.24\n",
      "\n",
      "Back Propogate... \n",
      "\n",
      "CORRECT?:  -2.8080623149871826 -2.8063857555389404 -2.8101970072978877\n",
      "COUNTBUY:  167 CORRECTBUY:  87 COUNTDONTBUY:  151 CORRECTDONTBUY:  68\n",
      "NEW PRICE:  2097.24 BOUGHT PRICE:  -2.8101970072978877 CHANGE:  0.5599999999999454 MONEY:  9.140000000001237\n",
      "Current Close Scaled:  -2.808062343736297\n",
      "PREDICTION tensor([[-2.8009]], grad_fn=<AddmmBackward0>)\n",
      "BUY AT:  2097.24 TIME:  1652448000000\n"
     ]
    },
    {
     "name": "stderr",
     "output_type": "stream",
     "text": [
      "/var/folders/9w/783wdyf54fb3b79gq32y3t4h0000gn/T/ipykernel_19541/692568148.py:107: FutureWarning: The frame.append method is deprecated and will be removed from pandas in a future version. Use pandas.concat instead.\n",
      "  df_history = df_history.append(scaled_df, ignore_index = True)\n"
     ]
    },
    {
     "name": "stdout",
     "output_type": "stream",
     "text": [
      "\n",
      "######################\n",
      "candle closed at 2100.5\n",
      "\n",
      "Back Propogate... \n",
      "\n",
      "CORRECT?:  -2.795635461807251 -2.8008971214294434 -2.808062343736297\n",
      "COUNTBUY:  168 CORRECTBUY:  88 COUNTDONTBUY:  151 CORRECTDONTBUY:  68\n",
      "NEW PRICE:  2100.5 BOUGHT PRICE:  -2.808062343736297 CHANGE:  3.2600000000002183 MONEY:  12.400000000001455\n",
      "Current Close Scaled:  -2.7956355522884624\n",
      "PREDICTION tensor([[-2.7943]], grad_fn=<AddmmBackward0>)\n",
      "BUY AT:  2100.5 TIME:  1652448060000\n"
     ]
    },
    {
     "name": "stderr",
     "output_type": "stream",
     "text": [
      "/var/folders/9w/783wdyf54fb3b79gq32y3t4h0000gn/T/ipykernel_19541/692568148.py:107: FutureWarning: The frame.append method is deprecated and will be removed from pandas in a future version. Use pandas.concat instead.\n",
      "  df_history = df_history.append(scaled_df, ignore_index = True)\n"
     ]
    },
    {
     "name": "stdout",
     "output_type": "stream",
     "text": [
      "\n",
      "######################\n",
      "candle closed at 2102.24\n",
      "\n",
      "Back Propogate... \n",
      "\n",
      "CORRECT?:  -2.7890028953552246 -2.794285774230957 -2.7956355522884624\n",
      "COUNTBUY:  169 CORRECTBUY:  89 COUNTDONTBUY:  151 CORRECTDONTBUY:  68\n",
      "NEW PRICE:  2102.24 BOUGHT PRICE:  -2.7956355522884624 CHANGE:  1.7399999999997817 MONEY:  14.140000000001237\n",
      "Current Close Scaled:  -2.789002847650662\n",
      "PREDICTION tensor([[-2.7514]], grad_fn=<AddmmBackward0>)\n",
      "BUY AT:  2102.24 TIME:  1652448120000\n"
     ]
    },
    {
     "name": "stderr",
     "output_type": "stream",
     "text": [
      "/var/folders/9w/783wdyf54fb3b79gq32y3t4h0000gn/T/ipykernel_19541/692568148.py:107: FutureWarning: The frame.append method is deprecated and will be removed from pandas in a future version. Use pandas.concat instead.\n",
      "  df_history = df_history.append(scaled_df, ignore_index = True)\n"
     ]
    },
    {
     "name": "stdout",
     "output_type": "stream",
     "text": [
      "\n",
      "######################\n",
      "candle closed at 2102.01\n",
      "\n",
      "Back Propogate... \n",
      "\n",
      "CORRECT?:  -2.789879560470581 -2.7513508796691895 -2.789002847650662\n",
      "COUNTBUY:  170 CORRECTBUY:  89 COUNTDONTBUY:  151 CORRECTDONTBUY:  68\n",
      "NEW PRICE:  2102.01 BOUGHT PRICE:  -2.789002847650662 CHANGE:  -0.22999999999956344 MONEY:  13.910000000001673\n",
      "Current Close Scaled:  -2.7898795844706\n",
      "PREDICTION tensor([[-2.8038]], grad_fn=<AddmmBackward0>)\n",
      "DONT BUY\n"
     ]
    },
    {
     "name": "stderr",
     "output_type": "stream",
     "text": [
      "/var/folders/9w/783wdyf54fb3b79gq32y3t4h0000gn/T/ipykernel_19541/692568148.py:107: FutureWarning: The frame.append method is deprecated and will be removed from pandas in a future version. Use pandas.concat instead.\n",
      "  df_history = df_history.append(scaled_df, ignore_index = True)\n"
     ]
    },
    {
     "name": "stdout",
     "output_type": "stream",
     "text": [
      "\n",
      "######################\n",
      "candle closed at 2095.55\n",
      "\n",
      "Back Propogate... \n",
      "\n",
      "CORRECT?:  -2.814504384994507 -2.803823709487915 -2.7898795844706\n",
      "COUNTBUY:  170 CORRECTBUY:  89 COUNTDONTBUY:  152 CORRECTDONTBUY:  69\n",
      "Current Close Scaled:  -2.8145044534132397\n",
      "PREDICTION tensor([[-2.8047]], grad_fn=<AddmmBackward0>)\n",
      "BUY AT:  2095.55 TIME:  1652448240000\n"
     ]
    },
    {
     "name": "stderr",
     "output_type": "stream",
     "text": [
      "/var/folders/9w/783wdyf54fb3b79gq32y3t4h0000gn/T/ipykernel_19541/692568148.py:107: FutureWarning: The frame.append method is deprecated and will be removed from pandas in a future version. Use pandas.concat instead.\n",
      "  df_history = df_history.append(scaled_df, ignore_index = True)\n"
     ]
    },
    {
     "name": "stdout",
     "output_type": "stream",
     "text": [
      "\n",
      "######################\n",
      "candle closed at 2094.88\n",
      "\n",
      "Back Propogate... \n",
      "\n",
      "CORRECT?:  -2.8170583248138428 -2.804656982421875 -2.8145044534132397\n",
      "COUNTBUY:  171 CORRECTBUY:  89 COUNTDONTBUY:  152 CORRECTDONTBUY:  69\n",
      "NEW PRICE:  2094.88 BOUGHT PRICE:  -2.8145044534132397 CHANGE:  -0.6700000000000728 MONEY:  13.2400000000016\n",
      "Current Close Scaled:  -2.817058425888715\n",
      "PREDICTION tensor([[-2.8130]], grad_fn=<AddmmBackward0>)\n",
      "BUY AT:  2094.88 TIME:  1652448300000\n"
     ]
    },
    {
     "name": "stderr",
     "output_type": "stream",
     "text": [
      "/var/folders/9w/783wdyf54fb3b79gq32y3t4h0000gn/T/ipykernel_19541/692568148.py:107: FutureWarning: The frame.append method is deprecated and will be removed from pandas in a future version. Use pandas.concat instead.\n",
      "  df_history = df_history.append(scaled_df, ignore_index = True)\n"
     ]
    },
    {
     "name": "stdout",
     "output_type": "stream",
     "text": [
      "\n",
      "######################\n",
      "candle closed at 2100.4\n",
      "\n",
      "Back Propogate... \n",
      "\n",
      "CORRECT?:  -2.7960166931152344 -2.8130013942718506 -2.817058425888715\n",
      "COUNTBUY:  172 CORRECTBUY:  90 COUNTDONTBUY:  152 CORRECTDONTBUY:  69\n",
      "NEW PRICE:  2100.4 BOUGHT PRICE:  -2.817058425888715 CHANGE:  5.519999999999982 MONEY:  18.760000000001583\n",
      "Current Close Scaled:  -2.7960167422101745\n",
      "PREDICTION tensor([[-2.8067]], grad_fn=<AddmmBackward0>)\n",
      "DONT BUY\n"
     ]
    },
    {
     "name": "stderr",
     "output_type": "stream",
     "text": [
      "/var/folders/9w/783wdyf54fb3b79gq32y3t4h0000gn/T/ipykernel_19541/692568148.py:107: FutureWarning: The frame.append method is deprecated and will be removed from pandas in a future version. Use pandas.concat instead.\n",
      "  df_history = df_history.append(scaled_df, ignore_index = True)\n"
     ]
    },
    {
     "name": "stdout",
     "output_type": "stream",
     "text": [
      "\n",
      "######################\n",
      "candle closed at 2098.28\n",
      "\n",
      "Back Propogate... \n",
      "\n",
      "CORRECT?:  -2.804097890853882 -2.8066866397857666 -2.7960167422101745\n",
      "COUNTBUY:  172 CORRECTBUY:  90 COUNTDONTBUY:  153 CORRECTDONTBUY:  70\n",
      "Current Close Scaled:  -2.804097968550483\n",
      "PREDICTION tensor([[-2.8198]], grad_fn=<AddmmBackward0>)\n",
      "DONT BUY\n"
     ]
    },
    {
     "name": "stderr",
     "output_type": "stream",
     "text": [
      "/var/folders/9w/783wdyf54fb3b79gq32y3t4h0000gn/T/ipykernel_19541/692568148.py:107: FutureWarning: The frame.append method is deprecated and will be removed from pandas in a future version. Use pandas.concat instead.\n",
      "  df_history = df_history.append(scaled_df, ignore_index = True)\n"
     ]
    },
    {
     "name": "stdout",
     "output_type": "stream",
     "text": [
      "\n",
      "######################\n",
      "candle closed at 2096.0\n",
      "\n",
      "Back Propogate... \n",
      "\n",
      "CORRECT?:  -2.81278920173645 -2.8197743892669678 -2.804097968550483\n",
      "COUNTBUY:  172 CORRECTBUY:  90 COUNTDONTBUY:  154 CORRECTDONTBUY:  71\n",
      "Current Close Scaled:  -2.812789098765533\n",
      "PREDICTION tensor([[-2.8196]], grad_fn=<AddmmBackward0>)\n",
      "DONT BUY\n"
     ]
    },
    {
     "name": "stderr",
     "output_type": "stream",
     "text": [
      "/var/folders/9w/783wdyf54fb3b79gq32y3t4h0000gn/T/ipykernel_19541/692568148.py:107: FutureWarning: The frame.append method is deprecated and will be removed from pandas in a future version. Use pandas.concat instead.\n",
      "  df_history = df_history.append(scaled_df, ignore_index = True)\n"
     ]
    },
    {
     "name": "stdout",
     "output_type": "stream",
     "text": [
      "\n",
      "######################\n",
      "candle closed at 2097.8\n",
      "\n",
      "Back Propogate... \n",
      "\n",
      "CORRECT?:  -2.8059277534484863 -2.8195745944976807 -2.812789098765533\n",
      "COUNTBUY:  172 CORRECTBUY:  90 COUNTDONTBUY:  155 CORRECTDONTBUY:  71\n",
      "Current Close Scaled:  -2.805927680174704\n",
      "PREDICTION tensor([[-2.8065]], grad_fn=<AddmmBackward0>)\n",
      "DONT BUY\n"
     ]
    },
    {
     "name": "stderr",
     "output_type": "stream",
     "text": [
      "/var/folders/9w/783wdyf54fb3b79gq32y3t4h0000gn/T/ipykernel_19541/692568148.py:107: FutureWarning: The frame.append method is deprecated and will be removed from pandas in a future version. Use pandas.concat instead.\n",
      "  df_history = df_history.append(scaled_df, ignore_index = True)\n"
     ]
    },
    {
     "name": "stdout",
     "output_type": "stream",
     "text": [
      "\n",
      "######################\n",
      "candle closed at 2107.23\n",
      "\n",
      "Back Propogate... \n",
      "\n",
      "CORRECT?:  -2.7699813842773438 -2.8065476417541504 -2.805927680174704\n",
      "COUNTBUY:  172 CORRECTBUY:  90 COUNTDONTBUY:  156 CORRECTDONTBUY:  71\n",
      "Current Close Scaled:  -2.769981470557198\n",
      "PREDICTION tensor([[-2.8013]], grad_fn=<AddmmBackward0>)\n",
      "DONT BUY\n"
     ]
    },
    {
     "name": "stderr",
     "output_type": "stream",
     "text": [
      "/var/folders/9w/783wdyf54fb3b79gq32y3t4h0000gn/T/ipykernel_19541/692568148.py:107: FutureWarning: The frame.append method is deprecated and will be removed from pandas in a future version. Use pandas.concat instead.\n",
      "  df_history = df_history.append(scaled_df, ignore_index = True)\n"
     ]
    },
    {
     "name": "stdout",
     "output_type": "stream",
     "text": [
      "\n",
      "######################\n",
      "candle closed at 2114.15\n",
      "\n",
      "Back Propogate... \n",
      "\n",
      "CORRECT?:  -2.743603229522705 -2.801288604736328 -2.769981470557198\n",
      "COUNTBUY:  172 CORRECTBUY:  90 COUNTDONTBUY:  157 CORRECTDONTBUY:  71\n",
      "Current Close Scaled:  -2.74360312797468\n",
      "PREDICTION tensor([[-2.7909]], grad_fn=<AddmmBackward0>)\n",
      "DONT BUY\n"
     ]
    },
    {
     "name": "stderr",
     "output_type": "stream",
     "text": [
      "/var/folders/9w/783wdyf54fb3b79gq32y3t4h0000gn/T/ipykernel_19541/692568148.py:107: FutureWarning: The frame.append method is deprecated and will be removed from pandas in a future version. Use pandas.concat instead.\n",
      "  df_history = df_history.append(scaled_df, ignore_index = True)\n"
     ]
    },
    {
     "name": "stdout",
     "output_type": "stream",
     "text": [
      "\n",
      "######################\n",
      "candle closed at 2101.62\n",
      "\n",
      "Back Propogate... \n",
      "\n",
      "CORRECT?:  -2.7913663387298584 -2.7908830642700195 -2.74360312797468\n",
      "COUNTBUY:  172 CORRECTBUY:  90 COUNTDONTBUY:  158 CORRECTDONTBUY:  72\n",
      "Current Close Scaled:  -2.7913662251652807\n",
      "PREDICTION tensor([[-2.7816]], grad_fn=<AddmmBackward0>)\n",
      "BUY AT:  2101.62 TIME:  1652448720000\n"
     ]
    },
    {
     "name": "stderr",
     "output_type": "stream",
     "text": [
      "/var/folders/9w/783wdyf54fb3b79gq32y3t4h0000gn/T/ipykernel_19541/692568148.py:107: FutureWarning: The frame.append method is deprecated and will be removed from pandas in a future version. Use pandas.concat instead.\n",
      "  df_history = df_history.append(scaled_df, ignore_index = True)\n"
     ]
    },
    {
     "name": "stdout",
     "output_type": "stream",
     "text": [
      "\n",
      "######################\n",
      "candle closed at 2096.18\n",
      "\n",
      "Back Propogate... \n",
      "\n",
      "CORRECT?:  -2.812103033065796 -2.781646251678467 -2.7913662251652807\n",
      "COUNTBUY:  173 CORRECTBUY:  90 COUNTDONTBUY:  158 CORRECTDONTBUY:  72\n",
      "NEW PRICE:  2096.18 BOUGHT PRICE:  -2.7913662251652807 CHANGE:  -5.440000000000055 MONEY:  13.320000000001528\n",
      "Current Close Scaled:  -2.812102956906451\n",
      "PREDICTION tensor([[-2.7764]], grad_fn=<AddmmBackward0>)\n",
      "BUY AT:  2096.18 TIME:  1652448780000\n"
     ]
    },
    {
     "name": "stderr",
     "output_type": "stream",
     "text": [
      "/var/folders/9w/783wdyf54fb3b79gq32y3t4h0000gn/T/ipykernel_19541/692568148.py:107: FutureWarning: The frame.append method is deprecated and will be removed from pandas in a future version. Use pandas.concat instead.\n",
      "  df_history = df_history.append(scaled_df, ignore_index = True)\n"
     ]
    },
    {
     "name": "stdout",
     "output_type": "stream",
     "text": [
      "\n",
      "######################\n",
      "candle closed at 2084.49\n",
      "\n",
      "Back Propogate... \n",
      "\n",
      "CORRECT?:  -2.856663942337036 -2.776414632797241 -2.812102956906451\n",
      "COUNTBUY:  174 CORRECTBUY:  90 COUNTDONTBUY:  158 CORRECTDONTBUY:  72\n",
      "NEW PRICE:  2084.49 BOUGHT PRICE:  -2.812102956906451 CHANGE:  -11.690000000000055 MONEY:  1.6300000000014734\n",
      "Current Close Scaled:  -2.8566640587546646\n",
      "PREDICTION tensor([[-2.7805]], grad_fn=<AddmmBackward0>)\n",
      "BUY AT:  2084.49 TIME:  1652448840000\n"
     ]
    },
    {
     "name": "stderr",
     "output_type": "stream",
     "text": [
      "/var/folders/9w/783wdyf54fb3b79gq32y3t4h0000gn/T/ipykernel_19541/692568148.py:107: FutureWarning: The frame.append method is deprecated and will be removed from pandas in a future version. Use pandas.concat instead.\n",
      "  df_history = df_history.append(scaled_df, ignore_index = True)\n"
     ]
    },
    {
     "name": "stdout",
     "output_type": "stream",
     "text": [
      "\n",
      "######################\n",
      "candle closed at 2093.15\n",
      "\n",
      "Back Propogate... \n",
      "\n",
      "CORRECT?:  -2.823652982711792 -2.7804720401763916 -2.8566640587546646\n",
      "COUNTBUY:  175 CORRECTBUY:  91 COUNTDONTBUY:  158 CORRECTDONTBUY:  72\n",
      "NEW PRICE:  2093.15 BOUGHT PRICE:  -2.8566640587546646 CHANGE:  8.66000000000031 MONEY:  10.290000000001783\n",
      "Current Close Scaled:  -2.8236530115343443\n",
      "PREDICTION tensor([[-2.7866]], grad_fn=<AddmmBackward0>)\n",
      "BUY AT:  2093.15 TIME:  1652448900000\n"
     ]
    },
    {
     "name": "stderr",
     "output_type": "stream",
     "text": [
      "/var/folders/9w/783wdyf54fb3b79gq32y3t4h0000gn/T/ipykernel_19541/692568148.py:107: FutureWarning: The frame.append method is deprecated and will be removed from pandas in a future version. Use pandas.concat instead.\n",
      "  df_history = df_history.append(scaled_df, ignore_index = True)\n"
     ]
    },
    {
     "name": "stdout",
     "output_type": "stream",
     "text": [
      "\n",
      "######################\n",
      "candle closed at 2095.75\n",
      "\n",
      "Back Propogate... \n",
      "\n",
      "CORRECT?:  -2.813742160797119 -2.786571502685547 -2.8236530115343443\n",
      "COUNTBUY:  176 CORRECTBUY:  92 COUNTDONTBUY:  158 CORRECTDONTBUY:  72\n",
      "NEW PRICE:  2095.75 BOUGHT PRICE:  -2.8236530115343443 CHANGE:  2.599999999999909 MONEY:  12.890000000001692\n",
      "Current Close Scaled:  -2.813742073569815\n",
      "PREDICTION tensor([[-2.7953]], grad_fn=<AddmmBackward0>)\n",
      "BUY AT:  2095.75 TIME:  1652448960000\n"
     ]
    },
    {
     "name": "stderr",
     "output_type": "stream",
     "text": [
      "/var/folders/9w/783wdyf54fb3b79gq32y3t4h0000gn/T/ipykernel_19541/692568148.py:107: FutureWarning: The frame.append method is deprecated and will be removed from pandas in a future version. Use pandas.concat instead.\n",
      "  df_history = df_history.append(scaled_df, ignore_index = True)\n"
     ]
    },
    {
     "name": "stdout",
     "output_type": "stream",
     "text": [
      "\n",
      "######################\n",
      "candle closed at 2107.07\n",
      "\n",
      "Back Propogate... \n",
      "\n",
      "CORRECT?:  -2.7705912590026855 -2.795295238494873 -2.813742073569815\n",
      "COUNTBUY:  177 CORRECTBUY:  93 COUNTDONTBUY:  158 CORRECTDONTBUY:  72\n",
      "NEW PRICE:  2107.07 BOUGHT PRICE:  -2.813742073569815 CHANGE:  11.320000000000164 MONEY:  24.210000000001855\n",
      "Current Close Scaled:  -2.770591374431938\n",
      "PREDICTION tensor([[-2.8007]], grad_fn=<AddmmBackward0>)\n",
      "DONT BUY\n"
     ]
    },
    {
     "name": "stderr",
     "output_type": "stream",
     "text": [
      "/var/folders/9w/783wdyf54fb3b79gq32y3t4h0000gn/T/ipykernel_19541/692568148.py:107: FutureWarning: The frame.append method is deprecated and will be removed from pandas in a future version. Use pandas.concat instead.\n",
      "  df_history = df_history.append(scaled_df, ignore_index = True)\n"
     ]
    },
    {
     "name": "stdout",
     "output_type": "stream",
     "text": [
      "\n",
      "######################\n",
      "candle closed at 2100.75\n",
      "\n",
      "Back Propogate... \n",
      "\n",
      "CORRECT?:  -2.794682502746582 -2.8007495403289795 -2.770591374431938\n",
      "COUNTBUY:  177 CORRECTBUY:  93 COUNTDONTBUY:  159 CORRECTDONTBUY:  73\n",
      "Current Close Scaled:  -2.7946825774841804\n",
      "PREDICTION tensor([[-2.8050]], grad_fn=<AddmmBackward0>)\n",
      "DONT BUY\n"
     ]
    },
    {
     "name": "stderr",
     "output_type": "stream",
     "text": [
      "/var/folders/9w/783wdyf54fb3b79gq32y3t4h0000gn/T/ipykernel_19541/692568148.py:107: FutureWarning: The frame.append method is deprecated and will be removed from pandas in a future version. Use pandas.concat instead.\n",
      "  df_history = df_history.append(scaled_df, ignore_index = True)\n"
     ]
    },
    {
     "name": "stdout",
     "output_type": "stream",
     "text": [
      "\n",
      "######################\n",
      "candle closed at 2098.32\n",
      "\n",
      "Back Propogate... \n",
      "\n",
      "CORRECT?:  -2.803945541381836 -2.805046558380127 -2.7946825774841804\n",
      "COUNTBUY:  177 CORRECTBUY:  93 COUNTDONTBUY:  160 CORRECTDONTBUY:  74\n",
      "Current Close Scaled:  -2.803945492581798\n",
      "PREDICTION tensor([[-2.8088]], grad_fn=<AddmmBackward0>)\n",
      "DONT BUY\n"
     ]
    },
    {
     "name": "stderr",
     "output_type": "stream",
     "text": [
      "/var/folders/9w/783wdyf54fb3b79gq32y3t4h0000gn/T/ipykernel_19541/692568148.py:107: FutureWarning: The frame.append method is deprecated and will be removed from pandas in a future version. Use pandas.concat instead.\n",
      "  df_history = df_history.append(scaled_df, ignore_index = True)\n"
     ]
    },
    {
     "name": "stdout",
     "output_type": "stream",
     "text": [
      "\n",
      "######################\n",
      "candle closed at 2107.28\n",
      "\n",
      "Back Propogate... \n",
      "\n",
      "CORRECT?:  -2.7697908878326416 -2.808774948120117 -2.803945492581798\n",
      "COUNTBUY:  177 CORRECTBUY:  93 COUNTDONTBUY:  161 CORRECTDONTBUY:  74\n",
      "Current Close Scaled:  -2.769790875596341\n",
      "PREDICTION tensor([[-2.8086]], grad_fn=<AddmmBackward0>)\n",
      "DONT BUY\n"
     ]
    },
    {
     "name": "stderr",
     "output_type": "stream",
     "text": [
      "/var/folders/9w/783wdyf54fb3b79gq32y3t4h0000gn/T/ipykernel_19541/692568148.py:107: FutureWarning: The frame.append method is deprecated and will be removed from pandas in a future version. Use pandas.concat instead.\n",
      "  df_history = df_history.append(scaled_df, ignore_index = True)\n"
     ]
    },
    {
     "name": "stdout",
     "output_type": "stream",
     "text": [
      "\n",
      "######################\n",
      "candle closed at 2109.2\n",
      "\n",
      "Back Propogate... \n",
      "\n",
      "CORRECT?:  -2.762471914291382 -2.808598518371582 -2.769790875596341\n",
      "COUNTBUY:  177 CORRECTBUY:  93 COUNTDONTBUY:  162 CORRECTDONTBUY:  74\n",
      "Current Close Scaled:  -2.762472029099459\n",
      "PREDICTION tensor([[-2.8043]], grad_fn=<AddmmBackward0>)\n",
      "DONT BUY\n"
     ]
    },
    {
     "name": "stderr",
     "output_type": "stream",
     "text": [
      "/var/folders/9w/783wdyf54fb3b79gq32y3t4h0000gn/T/ipykernel_19541/692568148.py:107: FutureWarning: The frame.append method is deprecated and will be removed from pandas in a future version. Use pandas.concat instead.\n",
      "  df_history = df_history.append(scaled_df, ignore_index = True)\n"
     ]
    },
    {
     "name": "stdout",
     "output_type": "stream",
     "text": [
      "\n",
      "######################\n",
      "candle closed at 2114.28\n",
      "\n",
      "Back Propogate... \n",
      "\n",
      "CORRECT?:  -2.743107557296753 -2.804328203201294 -2.762472029099459\n",
      "COUNTBUY:  177 CORRECTBUY:  93 COUNTDONTBUY:  163 CORRECTDONTBUY:  74\n",
      "Current Close Scaled:  -2.743107581076453\n",
      "PREDICTION tensor([[-2.7998]], grad_fn=<AddmmBackward0>)\n",
      "DONT BUY\n"
     ]
    },
    {
     "name": "stderr",
     "output_type": "stream",
     "text": [
      "/var/folders/9w/783wdyf54fb3b79gq32y3t4h0000gn/T/ipykernel_19541/692568148.py:107: FutureWarning: The frame.append method is deprecated and will be removed from pandas in a future version. Use pandas.concat instead.\n",
      "  df_history = df_history.append(scaled_df, ignore_index = True)\n"
     ]
    },
    {
     "name": "stdout",
     "output_type": "stream",
     "text": [
      "\n",
      "######################\n",
      "candle closed at 2110.92\n",
      "\n",
      "Back Propogate... \n",
      "\n",
      "CORRECT?:  -2.755915641784668 -2.799772262573242 -2.743107581076453\n",
      "COUNTBUY:  177 CORRECTBUY:  93 COUNTDONTBUY:  164 CORRECTDONTBUY:  75\n",
      "Current Close Scaled:  -2.755915562446\n",
      "PREDICTION tensor([[-2.7830]], grad_fn=<AddmmBackward0>)\n",
      "DONT BUY\n"
     ]
    },
    {
     "name": "stderr",
     "output_type": "stream",
     "text": [
      "/var/folders/9w/783wdyf54fb3b79gq32y3t4h0000gn/T/ipykernel_19541/692568148.py:107: FutureWarning: The frame.append method is deprecated and will be removed from pandas in a future version. Use pandas.concat instead.\n",
      "  df_history = df_history.append(scaled_df, ignore_index = True)\n"
     ]
    },
    {
     "name": "stdout",
     "output_type": "stream",
     "text": [
      "\n",
      "######################\n",
      "candle closed at 2116.58\n",
      "\n",
      "Back Propogate... \n",
      "\n",
      "CORRECT?:  -2.734340190887451 -2.7829856872558594 -2.755915562446\n",
      "COUNTBUY:  177 CORRECTBUY:  93 COUNTDONTBUY:  165 CORRECTDONTBUY:  75\n",
      "Current Close Scaled:  -2.734340212877062\n",
      "PREDICTION tensor([[-2.7330]], grad_fn=<AddmmBackward0>)\n",
      "BUY AT:  2116.58 TIME:  1652449440000\n"
     ]
    },
    {
     "name": "stderr",
     "output_type": "stream",
     "text": [
      "/var/folders/9w/783wdyf54fb3b79gq32y3t4h0000gn/T/ipykernel_19541/692568148.py:107: FutureWarning: The frame.append method is deprecated and will be removed from pandas in a future version. Use pandas.concat instead.\n",
      "  df_history = df_history.append(scaled_df, ignore_index = True)\n"
     ]
    },
    {
     "name": "stdout",
     "output_type": "stream",
     "text": [
      "\n",
      "######################\n",
      "candle closed at 2113.72\n",
      "\n",
      "Back Propogate... \n",
      "\n",
      "CORRECT?:  -2.7452423572540283 -2.732992172241211 -2.734340212877062\n",
      "COUNTBUY:  178 CORRECTBUY:  93 COUNTDONTBUY:  165 CORRECTDONTBUY:  75\n",
      "NEW PRICE:  2113.72 BOUGHT PRICE:  -2.734340212877062 CHANGE:  -2.8600000000001273 MONEY:  21.350000000001728\n",
      "Current Close Scaled:  -2.7452422446380456\n",
      "PREDICTION tensor([[-2.7586]], grad_fn=<AddmmBackward0>)\n",
      "DONT BUY\n"
     ]
    },
    {
     "name": "stderr",
     "output_type": "stream",
     "text": [
      "/var/folders/9w/783wdyf54fb3b79gq32y3t4h0000gn/T/ipykernel_19541/692568148.py:107: FutureWarning: The frame.append method is deprecated and will be removed from pandas in a future version. Use pandas.concat instead.\n",
      "  df_history = df_history.append(scaled_df, ignore_index = True)\n"
     ]
    },
    {
     "name": "stdout",
     "output_type": "stream",
     "text": [
      "\n",
      "######################\n",
      "candle closed at 2119.48\n",
      "\n",
      "Back Propogate... \n",
      "\n",
      "CORRECT?:  -2.723285675048828 -2.7585794925689697 -2.7452422446380456\n",
      "COUNTBUY:  178 CORRECTBUY:  93 COUNTDONTBUY:  166 CORRECTDONTBUY:  75\n",
      "Current Close Scaled:  -2.723285705147394\n",
      "PREDICTION tensor([[-2.7407]], grad_fn=<AddmmBackward0>)\n",
      "DONT BUY\n"
     ]
    },
    {
     "name": "stderr",
     "output_type": "stream",
     "text": [
      "/var/folders/9w/783wdyf54fb3b79gq32y3t4h0000gn/T/ipykernel_19541/692568148.py:107: FutureWarning: The frame.append method is deprecated and will be removed from pandas in a future version. Use pandas.concat instead.\n",
      "  df_history = df_history.append(scaled_df, ignore_index = True)\n"
     ]
    },
    {
     "name": "stdout",
     "output_type": "stream",
     "text": [
      "\n",
      "######################\n",
      "candle closed at 2117.65\n",
      "\n",
      "Back Propogate... \n",
      "\n",
      "CORRECT?:  -2.7302615642547607 -2.7407119274139404 -2.723285705147394\n",
      "COUNTBUY:  178 CORRECTBUY:  93 COUNTDONTBUY:  167 CORRECTDONTBUY:  76\n",
      "Current Close Scaled:  -2.7302614807147356\n",
      "PREDICTION tensor([[-2.7284]], grad_fn=<AddmmBackward0>)\n",
      "BUY AT:  2117.65 TIME:  1652449620000\n"
     ]
    },
    {
     "name": "stderr",
     "output_type": "stream",
     "text": [
      "/var/folders/9w/783wdyf54fb3b79gq32y3t4h0000gn/T/ipykernel_19541/692568148.py:107: FutureWarning: The frame.append method is deprecated and will be removed from pandas in a future version. Use pandas.concat instead.\n",
      "  df_history = df_history.append(scaled_df, ignore_index = True)\n"
     ]
    },
    {
     "name": "stdout",
     "output_type": "stream",
     "text": [
      "\n",
      "######################\n",
      "candle closed at 2112.59\n",
      "\n",
      "Back Propogate... \n",
      "\n",
      "CORRECT?:  -2.749549627304077 -2.7283670902252197 -2.7302614807147356\n",
      "COUNTBUY:  179 CORRECTBUY:  93 COUNTDONTBUY:  167 CORRECTDONTBUY:  76\n",
      "NEW PRICE:  2112.59 BOUGHT PRICE:  -2.7302614807147356 CHANGE:  -5.059999999999945 MONEY:  16.290000000001783\n",
      "Current Close Scaled:  -2.7495496907533976\n",
      "PREDICTION tensor([[-2.7174]], grad_fn=<AddmmBackward0>)\n",
      "BUY AT:  2112.59 TIME:  1652449680000\n"
     ]
    },
    {
     "name": "stderr",
     "output_type": "stream",
     "text": [
      "/var/folders/9w/783wdyf54fb3b79gq32y3t4h0000gn/T/ipykernel_19541/692568148.py:107: FutureWarning: The frame.append method is deprecated and will be removed from pandas in a future version. Use pandas.concat instead.\n",
      "  df_history = df_history.append(scaled_df, ignore_index = True)\n"
     ]
    },
    {
     "name": "stdout",
     "output_type": "stream",
     "text": [
      "\n",
      "######################\n",
      "candle closed at 2111.48\n",
      "\n",
      "Back Propogate... \n",
      "\n",
      "CORRECT?:  -2.7537808418273926 -2.7174265384674072 -2.7495496907533976\n",
      "COUNTBUY:  180 CORRECTBUY:  93 COUNTDONTBUY:  167 CORRECTDONTBUY:  76\n",
      "NEW PRICE:  2111.48 BOUGHT PRICE:  -2.7495496907533976 CHANGE:  -1.1100000000001273 MONEY:  15.180000000001655\n",
      "Current Close Scaled:  -2.753780898884409\n",
      "PREDICTION tensor([[-2.7098]], grad_fn=<AddmmBackward0>)\n",
      "BUY AT:  2111.48 TIME:  1652449740000\n"
     ]
    },
    {
     "name": "stderr",
     "output_type": "stream",
     "text": [
      "/var/folders/9w/783wdyf54fb3b79gq32y3t4h0000gn/T/ipykernel_19541/692568148.py:107: FutureWarning: The frame.append method is deprecated and will be removed from pandas in a future version. Use pandas.concat instead.\n",
      "  df_history = df_history.append(scaled_df, ignore_index = True)\n"
     ]
    },
    {
     "name": "stdout",
     "output_type": "stream",
     "text": [
      "\n",
      "######################\n",
      "candle closed at 2118.0\n",
      "\n",
      "Back Propogate... \n",
      "\n",
      "CORRECT?:  -2.7289273738861084 -2.7097971439361572 -2.753780898884409\n",
      "COUNTBUY:  181 CORRECTBUY:  94 COUNTDONTBUY:  167 CORRECTDONTBUY:  76\n",
      "NEW PRICE:  2118.0 BOUGHT PRICE:  -2.753780898884409 CHANGE:  6.519999999999982 MONEY:  21.700000000001637\n",
      "Current Close Scaled:  -2.728927315988742\n",
      "PREDICTION tensor([[-2.7064]], grad_fn=<AddmmBackward0>)\n",
      "BUY AT:  2118.0 TIME:  1652449800000\n"
     ]
    },
    {
     "name": "stderr",
     "output_type": "stream",
     "text": [
      "/var/folders/9w/783wdyf54fb3b79gq32y3t4h0000gn/T/ipykernel_19541/692568148.py:107: FutureWarning: The frame.append method is deprecated and will be removed from pandas in a future version. Use pandas.concat instead.\n",
      "  df_history = df_history.append(scaled_df, ignore_index = True)\n"
     ]
    },
    {
     "name": "stdout",
     "output_type": "stream",
     "text": [
      "\n",
      "######################\n",
      "candle closed at 2114.46\n",
      "\n",
      "Back Propogate... \n",
      "\n",
      "CORRECT?:  -2.7424213886260986 -2.7064478397369385 -2.728927315988742\n",
      "COUNTBUY:  182 CORRECTBUY:  94 COUNTDONTBUY:  167 CORRECTDONTBUY:  76\n",
      "NEW PRICE:  2114.46 BOUGHT PRICE:  -2.728927315988742 CHANGE:  -3.5399999999999636 MONEY:  18.160000000001673\n",
      "Current Close Scaled:  -2.7424214392173707\n",
      "PREDICTION tensor([[-2.7067]], grad_fn=<AddmmBackward0>)\n",
      "BUY AT:  2114.46 TIME:  1652449860000\n"
     ]
    },
    {
     "name": "stderr",
     "output_type": "stream",
     "text": [
      "/var/folders/9w/783wdyf54fb3b79gq32y3t4h0000gn/T/ipykernel_19541/692568148.py:107: FutureWarning: The frame.append method is deprecated and will be removed from pandas in a future version. Use pandas.concat instead.\n",
      "  df_history = df_history.append(scaled_df, ignore_index = True)\n"
     ]
    },
    {
     "name": "stdout",
     "output_type": "stream",
     "text": [
      "\n",
      "######################\n",
      "candle closed at 2119.77\n",
      "\n",
      "Back Propogate... \n",
      "\n",
      "CORRECT?:  -2.7221803665161133 -2.706690549850464 -2.7424214392173707\n",
      "COUNTBUY:  183 CORRECTBUY:  95 COUNTDONTBUY:  167 CORRECTDONTBUY:  76\n",
      "NEW PRICE:  2119.77 BOUGHT PRICE:  -2.7424214392173707 CHANGE:  5.309999999999945 MONEY:  23.47000000000162\n",
      "Current Close Scaled:  -2.722180254374427\n",
      "PREDICTION tensor([[-2.7197]], grad_fn=<AddmmBackward0>)\n",
      "BUY AT:  2119.77 TIME:  1652449920000\n"
     ]
    },
    {
     "name": "stderr",
     "output_type": "stream",
     "text": [
      "/var/folders/9w/783wdyf54fb3b79gq32y3t4h0000gn/T/ipykernel_19541/692568148.py:107: FutureWarning: The frame.append method is deprecated and will be removed from pandas in a future version. Use pandas.concat instead.\n",
      "  df_history = df_history.append(scaled_df, ignore_index = True)\n"
     ]
    },
    {
     "name": "stdout",
     "output_type": "stream",
     "text": [
      "\n",
      "######################\n",
      "candle closed at 2125.99\n",
      "\n",
      "Back Propogate... \n",
      "\n",
      "CORRECT?:  -2.6984703540802 -2.7197210788726807 -2.722180254374427\n",
      "COUNTBUY:  184 CORRECTBUY:  96 COUNTDONTBUY:  167 CORRECTDONTBUY:  76\n",
      "NEW PRICE:  2125.99 BOUGHT PRICE:  -2.722180254374427 CHANGE:  6.2199999999998 MONEY:  29.69000000000142\n",
      "Current Close Scaled:  -2.6984702412438986\n",
      "PREDICTION tensor([[-2.7083]], grad_fn=<AddmmBackward0>)\n",
      "DONT BUY\n"
     ]
    },
    {
     "name": "stderr",
     "output_type": "stream",
     "text": [
      "/var/folders/9w/783wdyf54fb3b79gq32y3t4h0000gn/T/ipykernel_19541/692568148.py:107: FutureWarning: The frame.append method is deprecated and will be removed from pandas in a future version. Use pandas.concat instead.\n",
      "  df_history = df_history.append(scaled_df, ignore_index = True)\n"
     ]
    },
    {
     "name": "stdout",
     "output_type": "stream",
     "text": [
      "\n",
      "######################\n",
      "candle closed at 2129.93\n",
      "\n",
      "Back Propogate... \n",
      "\n",
      "CORRECT?:  -2.6834514141082764 -2.708268165588379 -2.6984702412438986\n",
      "COUNTBUY:  184 CORRECTBUY:  96 COUNTDONTBUY:  168 CORRECTDONTBUY:  76\n",
      "Current Close Scaled:  -2.6834513583284187\n",
      "PREDICTION tensor([[-2.7057]], grad_fn=<AddmmBackward0>)\n",
      "DONT BUY\n"
     ]
    },
    {
     "name": "stderr",
     "output_type": "stream",
     "text": [
      "/var/folders/9w/783wdyf54fb3b79gq32y3t4h0000gn/T/ipykernel_19541/692568148.py:107: FutureWarning: The frame.append method is deprecated and will be removed from pandas in a future version. Use pandas.concat instead.\n",
      "  df_history = df_history.append(scaled_df, ignore_index = True)\n"
     ]
    },
    {
     "name": "stdout",
     "output_type": "stream",
     "text": [
      "\n",
      "######################\n",
      "candle closed at 2127.37\n",
      "\n",
      "Back Propogate... \n",
      "\n",
      "CORRECT?:  -2.6932098865509033 -2.705674648284912 -2.6834513583284187\n",
      "COUNTBUY:  184 CORRECTBUY:  96 COUNTDONTBUY:  169 CORRECTDONTBUY:  77\n",
      "Current Close Scaled:  -2.693209820324263\n",
      "PREDICTION tensor([[-2.7022]], grad_fn=<AddmmBackward0>)\n",
      "DONT BUY\n"
     ]
    },
    {
     "name": "stderr",
     "output_type": "stream",
     "text": [
      "/var/folders/9w/783wdyf54fb3b79gq32y3t4h0000gn/T/ipykernel_19541/692568148.py:107: FutureWarning: The frame.append method is deprecated and will be removed from pandas in a future version. Use pandas.concat instead.\n",
      "  df_history = df_history.append(scaled_df, ignore_index = True)\n"
     ]
    },
    {
     "name": "stdout",
     "output_type": "stream",
     "text": [
      "\n",
      "######################\n",
      "candle closed at 2125.96\n",
      "\n",
      "Back Propogate... \n",
      "\n",
      "CORRECT?:  -2.69858455657959 -2.702180862426758 -2.693209820324263\n",
      "COUNTBUY:  184 CORRECTBUY:  96 COUNTDONTBUY:  170 CORRECTDONTBUY:  78\n",
      "Current Close Scaled:  -2.6985845982204117\n",
      "PREDICTION tensor([[-2.7169]], grad_fn=<AddmmBackward0>)\n",
      "DONT BUY\n"
     ]
    },
    {
     "name": "stderr",
     "output_type": "stream",
     "text": [
      "/var/folders/9w/783wdyf54fb3b79gq32y3t4h0000gn/T/ipykernel_19541/692568148.py:107: FutureWarning: The frame.append method is deprecated and will be removed from pandas in a future version. Use pandas.concat instead.\n",
      "  df_history = df_history.append(scaled_df, ignore_index = True)\n"
     ]
    },
    {
     "name": "stdout",
     "output_type": "stream",
     "text": [
      "\n",
      "######################\n",
      "candle closed at 2131.59\n",
      "\n",
      "Back Propogate... \n",
      "\n",
      "CORRECT?:  -2.677123546600342 -2.7169272899627686 -2.6985845982204117\n",
      "COUNTBUY:  184 CORRECTBUY:  96 COUNTDONTBUY:  171 CORRECTDONTBUY:  78\n",
      "Current Close Scaled:  -2.677123605627987\n",
      "PREDICTION tensor([[-2.6930]], grad_fn=<AddmmBackward0>)\n",
      "DONT BUY\n"
     ]
    },
    {
     "name": "stderr",
     "output_type": "stream",
     "text": [
      "/var/folders/9w/783wdyf54fb3b79gq32y3t4h0000gn/T/ipykernel_19541/692568148.py:107: FutureWarning: The frame.append method is deprecated and will be removed from pandas in a future version. Use pandas.concat instead.\n",
      "  df_history = df_history.append(scaled_df, ignore_index = True)\n"
     ]
    },
    {
     "name": "stdout",
     "output_type": "stream",
     "text": [
      "\n",
      "######################\n",
      "candle closed at 2125.95\n",
      "\n",
      "Back Propogate... \n",
      "\n",
      "CORRECT?:  -2.698622703552246 -2.692993640899658 -2.677123605627987\n",
      "COUNTBUY:  184 CORRECTBUY:  96 COUNTDONTBUY:  172 CORRECTDONTBUY:  79\n",
      "Current Close Scaled:  -2.698622717212584\n",
      "PREDICTION tensor([[-2.7067]], grad_fn=<AddmmBackward0>)\n",
      "DONT BUY\n"
     ]
    },
    {
     "name": "stderr",
     "output_type": "stream",
     "text": [
      "/var/folders/9w/783wdyf54fb3b79gq32y3t4h0000gn/T/ipykernel_19541/692568148.py:107: FutureWarning: The frame.append method is deprecated and will be removed from pandas in a future version. Use pandas.concat instead.\n",
      "  df_history = df_history.append(scaled_df, ignore_index = True)\n"
     ]
    },
    {
     "name": "stdout",
     "output_type": "stream",
     "text": [
      "\n",
      "######################\n",
      "candle closed at 2124.73\n",
      "\n",
      "Back Propogate... \n",
      "\n",
      "CORRECT?:  -2.703273296356201 -2.7067224979400635 -2.698622717212584\n",
      "COUNTBUY:  184 CORRECTBUY:  96 COUNTDONTBUY:  173 CORRECTDONTBUY:  80\n",
      "Current Close Scaled:  -2.7032732342574777\n",
      "PREDICTION tensor([[-2.7023]], grad_fn=<AddmmBackward0>)\n",
      "BUY AT:  2124.73 TIME:  1652450340000\n"
     ]
    },
    {
     "name": "stderr",
     "output_type": "stream",
     "text": [
      "/var/folders/9w/783wdyf54fb3b79gq32y3t4h0000gn/T/ipykernel_19541/692568148.py:107: FutureWarning: The frame.append method is deprecated and will be removed from pandas in a future version. Use pandas.concat instead.\n",
      "  df_history = df_history.append(scaled_df, ignore_index = True)\n"
     ]
    },
    {
     "name": "stdout",
     "output_type": "stream",
     "text": [
      "\n",
      "######################\n",
      "candle closed at 2127.41\n",
      "\n",
      "Back Propogate... \n",
      "\n",
      "CORRECT?:  -2.6930572986602783 -2.7023074626922607 -2.7032732342574777\n",
      "COUNTBUY:  185 CORRECTBUY:  97 COUNTDONTBUY:  173 CORRECTDONTBUY:  80\n",
      "NEW PRICE:  2127.41 BOUGHT PRICE:  -2.7032732342574777 CHANGE:  2.6799999999998363 MONEY:  32.370000000001255\n",
      "Current Close Scaled:  -2.6930573443555783\n",
      "PREDICTION tensor([[-2.6976]], grad_fn=<AddmmBackward0>)\n",
      "DONT BUY\n"
     ]
    },
    {
     "name": "stderr",
     "output_type": "stream",
     "text": [
      "/var/folders/9w/783wdyf54fb3b79gq32y3t4h0000gn/T/ipykernel_19541/692568148.py:107: FutureWarning: The frame.append method is deprecated and will be removed from pandas in a future version. Use pandas.concat instead.\n",
      "  df_history = df_history.append(scaled_df, ignore_index = True)\n"
     ]
    },
    {
     "name": "stdout",
     "output_type": "stream",
     "text": [
      "\n",
      "######################\n",
      "candle closed at 2130.18\n",
      "\n",
      "Back Propogate... \n",
      "\n",
      "CORRECT?:  -2.6824984550476074 -2.6976449489593506 -2.6930573443555783\n",
      "COUNTBUY:  185 CORRECTBUY:  97 COUNTDONTBUY:  174 CORRECTDONTBUY:  80\n",
      "Current Close Scaled:  -2.6824983835241367\n",
      "PREDICTION tensor([[-2.6747]], grad_fn=<AddmmBackward0>)\n",
      "BUY AT:  2130.18 TIME:  1652450460000\n"
     ]
    },
    {
     "name": "stderr",
     "output_type": "stream",
     "text": [
      "/var/folders/9w/783wdyf54fb3b79gq32y3t4h0000gn/T/ipykernel_19541/692568148.py:107: FutureWarning: The frame.append method is deprecated and will be removed from pandas in a future version. Use pandas.concat instead.\n",
      "  df_history = df_history.append(scaled_df, ignore_index = True)\n"
     ]
    },
    {
     "name": "stdout",
     "output_type": "stream",
     "text": [
      "\n",
      "######################\n",
      "candle closed at 2141.21\n",
      "\n",
      "Back Propogate... \n",
      "\n",
      "CORRECT?:  -2.6404531002044678 -2.6746950149536133 -2.6824983835241367\n",
      "COUNTBUY:  186 CORRECTBUY:  98 COUNTDONTBUY:  174 CORRECTDONTBUY:  80\n",
      "NEW PRICE:  2141.21 BOUGHT PRICE:  -2.6824983835241367 CHANGE:  11.0300000000002 MONEY:  43.400000000001455\n",
      "Current Close Scaled:  -2.6404531351592264\n",
      "PREDICTION tensor([[-2.6666]], grad_fn=<AddmmBackward0>)\n",
      "DONT BUY\n"
     ]
    },
    {
     "name": "stderr",
     "output_type": "stream",
     "text": [
      "/var/folders/9w/783wdyf54fb3b79gq32y3t4h0000gn/T/ipykernel_19541/692568148.py:107: FutureWarning: The frame.append method is deprecated and will be removed from pandas in a future version. Use pandas.concat instead.\n",
      "  df_history = df_history.append(scaled_df, ignore_index = True)\n"
     ]
    },
    {
     "name": "stdout",
     "output_type": "stream",
     "text": [
      "\n",
      "######################\n",
      "candle closed at 2133.26\n",
      "\n",
      "Back Propogate... \n",
      "\n",
      "CORRECT?:  -2.67075777053833 -2.666581869125366 -2.6404531351592264\n",
      "COUNTBUY:  186 CORRECTBUY:  98 COUNTDONTBUY:  175 CORRECTDONTBUY:  81\n",
      "Current Close Scaled:  -2.6707577339353845\n",
      "PREDICTION tensor([[-2.6598]], grad_fn=<AddmmBackward0>)\n",
      "BUY AT:  2133.26 TIME:  1652450580000\n"
     ]
    },
    {
     "name": "stderr",
     "output_type": "stream",
     "text": [
      "/var/folders/9w/783wdyf54fb3b79gq32y3t4h0000gn/T/ipykernel_19541/692568148.py:107: FutureWarning: The frame.append method is deprecated and will be removed from pandas in a future version. Use pandas.concat instead.\n",
      "  df_history = df_history.append(scaled_df, ignore_index = True)\n"
     ]
    },
    {
     "name": "stdout",
     "output_type": "stream",
     "text": [
      "\n",
      "######################\n",
      "candle closed at 2132.22\n",
      "\n",
      "Back Propogate... \n",
      "\n",
      "CORRECT?:  -2.674722194671631 -2.659801483154297 -2.6707577339353845\n",
      "COUNTBUY:  187 CORRECTBUY:  98 COUNTDONTBUY:  175 CORRECTDONTBUY:  81\n",
      "NEW PRICE:  2132.22 BOUGHT PRICE:  -2.6707577339353845 CHANGE:  -1.0400000000004184 MONEY:  42.36000000000104\n",
      "Current Close Scaled:  -2.6747221091211983\n",
      "PREDICTION tensor([[-2.6745]], grad_fn=<AddmmBackward0>)\n",
      "BUY AT:  2132.22 TIME:  1652450640000\n"
     ]
    },
    {
     "name": "stderr",
     "output_type": "stream",
     "text": [
      "/var/folders/9w/783wdyf54fb3b79gq32y3t4h0000gn/T/ipykernel_19541/692568148.py:107: FutureWarning: The frame.append method is deprecated and will be removed from pandas in a future version. Use pandas.concat instead.\n",
      "  df_history = df_history.append(scaled_df, ignore_index = True)\n"
     ]
    },
    {
     "name": "stdout",
     "output_type": "stream",
     "text": [
      "\n",
      "######################\n",
      "candle closed at 2129.43\n",
      "\n",
      "Back Propogate... \n",
      "\n",
      "CORRECT?:  -2.6853573322296143 -2.674546957015991 -2.6747221091211983\n",
      "COUNTBUY:  188 CORRECTBUY:  98 COUNTDONTBUY:  175 CORRECTDONTBUY:  81\n",
      "NEW PRICE:  2129.43 BOUGHT PRICE:  -2.6747221091211983 CHANGE:  -2.7899999999999636 MONEY:  39.57000000000107\n",
      "Current Close Scaled:  -2.685357307936982\n",
      "PREDICTION tensor([[-2.6714]], grad_fn=<AddmmBackward0>)\n",
      "BUY AT:  2129.43 TIME:  1652450700000\n"
     ]
    },
    {
     "name": "stderr",
     "output_type": "stream",
     "text": [
      "/var/folders/9w/783wdyf54fb3b79gq32y3t4h0000gn/T/ipykernel_19541/692568148.py:107: FutureWarning: The frame.append method is deprecated and will be removed from pandas in a future version. Use pandas.concat instead.\n",
      "  df_history = df_history.append(scaled_df, ignore_index = True)\n"
     ]
    },
    {
     "name": "stdout",
     "output_type": "stream",
     "text": [
      "\n",
      "######################\n",
      "candle closed at 2133.51\n",
      "\n",
      "Back Propogate... \n",
      "\n",
      "CORRECT?:  -2.669804811477661 -2.6713554859161377 -2.685357307936982\n",
      "COUNTBUY:  189 CORRECTBUY:  99 COUNTDONTBUY:  175 CORRECTDONTBUY:  81\n",
      "NEW PRICE:  2133.51 BOUGHT PRICE:  -2.685357307936982 CHANGE:  4.080000000000382 MONEY:  43.650000000001455\n",
      "Current Close Scaled:  -2.669804759131103\n",
      "PREDICTION tensor([[-2.6683]], grad_fn=<AddmmBackward0>)\n",
      "BUY AT:  2133.51 TIME:  1652450760000\n"
     ]
    },
    {
     "name": "stderr",
     "output_type": "stream",
     "text": [
      "/var/folders/9w/783wdyf54fb3b79gq32y3t4h0000gn/T/ipykernel_19541/692568148.py:107: FutureWarning: The frame.append method is deprecated and will be removed from pandas in a future version. Use pandas.concat instead.\n",
      "  df_history = df_history.append(scaled_df, ignore_index = True)\n"
     ]
    },
    {
     "name": "stdout",
     "output_type": "stream",
     "text": [
      "\n",
      "######################\n",
      "candle closed at 2132.72\n",
      "\n",
      "Back Propogate... \n",
      "\n",
      "CORRECT?:  -2.672816276550293 -2.668339252471924 -2.669804759131103\n",
      "COUNTBUY:  190 CORRECTBUY:  99 COUNTDONTBUY:  175 CORRECTDONTBUY:  81\n",
      "NEW PRICE:  2132.72 BOUGHT PRICE:  -2.669804759131103 CHANGE:  -0.7900000000004184 MONEY:  42.86000000000104\n",
      "Current Close Scaled:  -2.6728161595126347\n",
      "PREDICTION tensor([[-2.6660]], grad_fn=<AddmmBackward0>)\n",
      "BUY AT:  2132.72 TIME:  1652450820000\n"
     ]
    },
    {
     "name": "stderr",
     "output_type": "stream",
     "text": [
      "/var/folders/9w/783wdyf54fb3b79gq32y3t4h0000gn/T/ipykernel_19541/692568148.py:107: FutureWarning: The frame.append method is deprecated and will be removed from pandas in a future version. Use pandas.concat instead.\n",
      "  df_history = df_history.append(scaled_df, ignore_index = True)\n"
     ]
    },
    {
     "name": "stdout",
     "output_type": "stream",
     "text": [
      "\n",
      "######################\n",
      "candle closed at 2133.2\n",
      "\n",
      "Back Propogate... \n",
      "\n",
      "CORRECT?:  -2.6709864139556885 -2.665969133377075 -2.6728161595126347\n",
      "COUNTBUY:  191 CORRECTBUY:  100 COUNTDONTBUY:  175 CORRECTDONTBUY:  81\n",
      "NEW PRICE:  2133.2 BOUGHT PRICE:  -2.6728161595126347 CHANGE:  0.4800000000000182 MONEY:  43.340000000001055\n",
      "Current Close Scaled:  -2.6709864478884136\n",
      "PREDICTION tensor([[-2.6642]], grad_fn=<AddmmBackward0>)\n",
      "BUY AT:  2133.2 TIME:  1652450880000\n"
     ]
    },
    {
     "name": "stderr",
     "output_type": "stream",
     "text": [
      "/var/folders/9w/783wdyf54fb3b79gq32y3t4h0000gn/T/ipykernel_19541/692568148.py:107: FutureWarning: The frame.append method is deprecated and will be removed from pandas in a future version. Use pandas.concat instead.\n",
      "  df_history = df_history.append(scaled_df, ignore_index = True)\n"
     ]
    },
    {
     "name": "stdout",
     "output_type": "stream",
     "text": [
      "\n",
      "######################\n",
      "candle closed at 2134.89\n",
      "\n",
      "Back Propogate... \n",
      "\n",
      "CORRECT?:  -2.6645443439483643 -2.664222478866577 -2.6709864478884136\n",
      "COUNTBUY:  192 CORRECTBUY:  101 COUNTDONTBUY:  175 CORRECTDONTBUY:  81\n",
      "NEW PRICE:  2134.89 BOUGHT PRICE:  -2.6709864478884136 CHANGE:  1.6900000000000546 MONEY:  45.03000000000111\n",
      "Current Close Scaled:  -2.6645443382114693\n",
      "PREDICTION tensor([[-2.6627]], grad_fn=<AddmmBackward0>)\n",
      "BUY AT:  2134.89 TIME:  1652450940000\n"
     ]
    },
    {
     "name": "stderr",
     "output_type": "stream",
     "text": [
      "/var/folders/9w/783wdyf54fb3b79gq32y3t4h0000gn/T/ipykernel_19541/692568148.py:107: FutureWarning: The frame.append method is deprecated and will be removed from pandas in a future version. Use pandas.concat instead.\n",
      "  df_history = df_history.append(scaled_df, ignore_index = True)\n"
     ]
    },
    {
     "name": "stdout",
     "output_type": "stream",
     "text": [
      "\n",
      "######################\n",
      "candle closed at 2135.03\n",
      "\n",
      "Back Propogate... \n",
      "\n",
      "CORRECT?:  -2.664010763168335 -2.6626763343811035 -2.6645443382114693\n",
      "COUNTBUY:  193 CORRECTBUY:  102 COUNTDONTBUY:  175 CORRECTDONTBUY:  81\n",
      "NEW PRICE:  2135.03 BOUGHT PRICE:  -2.6645443382114693 CHANGE:  0.14000000000032742 MONEY:  45.17000000000144\n",
      "Current Close Scaled:  -2.66401067232107\n",
      "PREDICTION tensor([[-2.6614]], grad_fn=<AddmmBackward0>)\n",
      "BUY AT:  2135.03 TIME:  1652451000000\n"
     ]
    },
    {
     "name": "stderr",
     "output_type": "stream",
     "text": [
      "/var/folders/9w/783wdyf54fb3b79gq32y3t4h0000gn/T/ipykernel_19541/692568148.py:107: FutureWarning: The frame.append method is deprecated and will be removed from pandas in a future version. Use pandas.concat instead.\n",
      "  df_history = df_history.append(scaled_df, ignore_index = True)\n"
     ]
    },
    {
     "name": "stdout",
     "output_type": "stream",
     "text": [
      "\n",
      "######################\n",
      "candle closed at 2134.41\n",
      "\n",
      "Back Propogate... \n",
      "\n",
      "CORRECT?:  -2.6663739681243896 -2.6613881587982178 -2.66401067232107\n",
      "COUNTBUY:  194 CORRECTBUY:  102 COUNTDONTBUY:  175 CORRECTDONTBUY:  81\n",
      "NEW PRICE:  2134.41 BOUGHT PRICE:  -2.66401067232107 CHANGE:  -0.6200000000003456 MONEY:  44.55000000000109\n",
      "Current Close Scaled:  -2.66637404983569\n",
      "PREDICTION tensor([[-2.6606]], grad_fn=<AddmmBackward0>)\n",
      "BUY AT:  2134.41 TIME:  1652451060000\n"
     ]
    },
    {
     "name": "stderr",
     "output_type": "stream",
     "text": [
      "/var/folders/9w/783wdyf54fb3b79gq32y3t4h0000gn/T/ipykernel_19541/692568148.py:107: FutureWarning: The frame.append method is deprecated and will be removed from pandas in a future version. Use pandas.concat instead.\n",
      "  df_history = df_history.append(scaled_df, ignore_index = True)\n"
     ]
    },
    {
     "name": "stdout",
     "output_type": "stream",
     "text": [
      "\n",
      "######################\n",
      "candle closed at 2124.49\n",
      "\n",
      "Back Propogate... \n",
      "\n",
      "CORRECT?:  -2.704188108444214 -2.6606128215789795 -2.66637404983569\n",
      "COUNTBUY:  195 CORRECTBUY:  102 COUNTDONTBUY:  175 CORRECTDONTBUY:  81\n",
      "NEW PRICE:  2124.49 BOUGHT PRICE:  -2.66637404983569 CHANGE:  -9.920000000000073 MONEY:  34.63000000000102\n",
      "Current Close Scaled:  -2.704188090069589\n",
      "PREDICTION tensor([[-2.6633]], grad_fn=<AddmmBackward0>)\n",
      "BUY AT:  2124.49 TIME:  1652451120000\n"
     ]
    },
    {
     "name": "stderr",
     "output_type": "stream",
     "text": [
      "/var/folders/9w/783wdyf54fb3b79gq32y3t4h0000gn/T/ipykernel_19541/692568148.py:107: FutureWarning: The frame.append method is deprecated and will be removed from pandas in a future version. Use pandas.concat instead.\n",
      "  df_history = df_history.append(scaled_df, ignore_index = True)\n"
     ]
    },
    {
     "name": "stdout",
     "output_type": "stream",
     "text": [
      "\n",
      "######################\n",
      "candle closed at 2121.89\n",
      "\n",
      "Back Propogate... \n",
      "\n",
      "CORRECT?:  -2.7140989303588867 -2.663262367248535 -2.704188090069589\n",
      "COUNTBUY:  196 CORRECTBUY:  102 COUNTDONTBUY:  175 CORRECTDONTBUY:  81\n",
      "NEW PRICE:  2121.89 BOUGHT PRICE:  -2.704188090069589 CHANGE:  -2.599999999999909 MONEY:  32.03000000000111\n",
      "Current Close Scaled:  -2.7140990280341186\n",
      "PREDICTION tensor([[-2.6695]], grad_fn=<AddmmBackward0>)\n",
      "BUY AT:  2121.89 TIME:  1652451180000\n"
     ]
    },
    {
     "name": "stderr",
     "output_type": "stream",
     "text": [
      "/var/folders/9w/783wdyf54fb3b79gq32y3t4h0000gn/T/ipykernel_19541/692568148.py:107: FutureWarning: The frame.append method is deprecated and will be removed from pandas in a future version. Use pandas.concat instead.\n",
      "  df_history = df_history.append(scaled_df, ignore_index = True)\n"
     ]
    },
    {
     "name": "stdout",
     "output_type": "stream",
     "text": [
      "\n",
      "######################\n",
      "candle closed at 2120.2\n",
      "\n",
      "Back Propogate... \n",
      "\n",
      "CORRECT?:  -2.72054123878479 -2.669520378112793 -2.7140990280341186\n",
      "COUNTBUY:  197 CORRECTBUY:  102 COUNTDONTBUY:  175 CORRECTDONTBUY:  81\n",
      "NEW PRICE:  2120.2 BOUGHT PRICE:  -2.7140990280341186 CHANGE:  -1.6900000000000546 MONEY:  30.340000000001055\n",
      "Current Close Scaled:  -2.7205411377110633\n",
      "PREDICTION tensor([[-2.6790]], grad_fn=<AddmmBackward0>)\n",
      "BUY AT:  2120.2 TIME:  1652451240000\n"
     ]
    },
    {
     "name": "stderr",
     "output_type": "stream",
     "text": [
      "/var/folders/9w/783wdyf54fb3b79gq32y3t4h0000gn/T/ipykernel_19541/692568148.py:107: FutureWarning: The frame.append method is deprecated and will be removed from pandas in a future version. Use pandas.concat instead.\n",
      "  df_history = df_history.append(scaled_df, ignore_index = True)\n"
     ]
    },
    {
     "name": "stdout",
     "output_type": "stream",
     "text": [
      "\n",
      "######################\n",
      "candle closed at 2118.86\n",
      "\n",
      "Back Propogate... \n",
      "\n",
      "CORRECT?:  -2.725649118423462 -2.678990602493286 -2.7205411377110633\n",
      "COUNTBUY:  198 CORRECTBUY:  102 COUNTDONTBUY:  175 CORRECTDONTBUY:  81\n",
      "NEW PRICE:  2118.86 BOUGHT PRICE:  -2.7205411377110633 CHANGE:  -1.3399999999996908 MONEY:  29.000000000001364\n",
      "Current Close Scaled:  -2.725649082662012\n",
      "PREDICTION tensor([[-2.6910]], grad_fn=<AddmmBackward0>)\n",
      "BUY AT:  2118.86 TIME:  1652451300000\n"
     ]
    },
    {
     "name": "stderr",
     "output_type": "stream",
     "text": [
      "/var/folders/9w/783wdyf54fb3b79gq32y3t4h0000gn/T/ipykernel_19541/692568148.py:107: FutureWarning: The frame.append method is deprecated and will be removed from pandas in a future version. Use pandas.concat instead.\n",
      "  df_history = df_history.append(scaled_df, ignore_index = True)\n"
     ]
    },
    {
     "name": "stdout",
     "output_type": "stream",
     "text": [
      "\n",
      "######################\n",
      "candle closed at 2116.84\n",
      "\n",
      "Back Propogate... \n",
      "\n",
      "CORRECT?:  -2.733349084854126 -2.690990686416626 -2.725649082662012\n",
      "COUNTBUY:  199 CORRECTBUY:  102 COUNTDONTBUY:  175 CORRECTDONTBUY:  81\n",
      "NEW PRICE:  2116.84 BOUGHT PRICE:  -2.725649082662012 CHANGE:  -2.019999999999982 MONEY:  26.980000000001382\n",
      "Current Close Scaled:  -2.7333491190806085\n",
      "PREDICTION tensor([[-2.7050]], grad_fn=<AddmmBackward0>)\n",
      "BUY AT:  2116.84 TIME:  1652451360000\n"
     ]
    },
    {
     "name": "stderr",
     "output_type": "stream",
     "text": [
      "/var/folders/9w/783wdyf54fb3b79gq32y3t4h0000gn/T/ipykernel_19541/692568148.py:107: FutureWarning: The frame.append method is deprecated and will be removed from pandas in a future version. Use pandas.concat instead.\n",
      "  df_history = df_history.append(scaled_df, ignore_index = True)\n"
     ]
    },
    {
     "name": "stdout",
     "output_type": "stream",
     "text": [
      "\n",
      "######################\n",
      "candle closed at 2116.72\n",
      "\n",
      "Back Propogate... \n",
      "\n",
      "CORRECT?:  -2.733806610107422 -2.704962730407715 -2.7333491190806085\n",
      "COUNTBUY:  200 CORRECTBUY:  102 COUNTDONTBUY:  175 CORRECTDONTBUY:  81\n",
      "NEW PRICE:  2116.72 BOUGHT PRICE:  -2.7333491190806085 CHANGE:  -0.12000000000034561 MONEY:  26.860000000001037\n",
      "Current Close Scaled:  -2.733806546986665\n",
      "PREDICTION tensor([[-2.7198]], grad_fn=<AddmmBackward0>)\n",
      "BUY AT:  2116.72 TIME:  1652451420000\n"
     ]
    },
    {
     "name": "stderr",
     "output_type": "stream",
     "text": [
      "/var/folders/9w/783wdyf54fb3b79gq32y3t4h0000gn/T/ipykernel_19541/692568148.py:107: FutureWarning: The frame.append method is deprecated and will be removed from pandas in a future version. Use pandas.concat instead.\n",
      "  df_history = df_history.append(scaled_df, ignore_index = True)\n"
     ]
    },
    {
     "name": "stdout",
     "output_type": "stream",
     "text": [
      "\n",
      "######################\n",
      "candle closed at 2114.31\n",
      "\n",
      "Back Propogate... \n",
      "\n",
      "CORRECT?:  -2.742993116378784 -2.7197539806365967 -2.733806546986665\n",
      "COUNTBUY:  201 CORRECTBUY:  102 COUNTDONTBUY:  175 CORRECTDONTBUY:  81\n",
      "NEW PRICE:  2114.31 BOUGHT PRICE:  -2.733806546986665 CHANGE:  -2.4099999999998545 MONEY:  24.450000000001182\n",
      "Current Close Scaled:  -2.74299322409994\n",
      "PREDICTION tensor([[-2.7349]], grad_fn=<AddmmBackward0>)\n",
      "BUY AT:  2114.31 TIME:  1652451480000\n"
     ]
    },
    {
     "name": "stderr",
     "output_type": "stream",
     "text": [
      "/var/folders/9w/783wdyf54fb3b79gq32y3t4h0000gn/T/ipykernel_19541/692568148.py:107: FutureWarning: The frame.append method is deprecated and will be removed from pandas in a future version. Use pandas.concat instead.\n",
      "  df_history = df_history.append(scaled_df, ignore_index = True)\n"
     ]
    },
    {
     "name": "stdout",
     "output_type": "stream",
     "text": [
      "\n",
      "######################\n",
      "candle closed at 2113.0\n",
      "\n",
      "Back Propogate... \n",
      "\n",
      "CORRECT?:  -2.7479867935180664 -2.73494815826416 -2.74299322409994\n",
      "COUNTBUY:  202 CORRECTBUY:  102 COUNTDONTBUY:  175 CORRECTDONTBUY:  81\n",
      "NEW PRICE:  2113.0 BOUGHT PRICE:  -2.74299322409994 CHANGE:  -1.3099999999999454 MONEY:  23.140000000001237\n",
      "Current Close Scaled:  -2.7479868120743762\n",
      "PREDICTION tensor([[-2.7498]], grad_fn=<AddmmBackward0>)\n",
      "DONT BUY\n"
     ]
    },
    {
     "name": "stderr",
     "output_type": "stream",
     "text": [
      "/var/folders/9w/783wdyf54fb3b79gq32y3t4h0000gn/T/ipykernel_19541/692568148.py:107: FutureWarning: The frame.append method is deprecated and will be removed from pandas in a future version. Use pandas.concat instead.\n",
      "  df_history = df_history.append(scaled_df, ignore_index = True)\n"
     ]
    },
    {
     "name": "stdout",
     "output_type": "stream",
     "text": [
      "\n",
      "######################\n",
      "candle closed at 2122.84\n",
      "\n",
      "Back Propogate... \n",
      "\n",
      "CORRECT?:  -2.710477828979492 -2.7497811317443848 -2.7479868120743762\n",
      "COUNTBUY:  202 CORRECTBUY:  102 COUNTDONTBUY:  176 CORRECTDONTBUY:  81\n",
      "Current Close Scaled:  -2.710477723777847\n",
      "PREDICTION tensor([[-2.7598]], grad_fn=<AddmmBackward0>)\n",
      "DONT BUY\n"
     ]
    },
    {
     "name": "stderr",
     "output_type": "stream",
     "text": [
      "/var/folders/9w/783wdyf54fb3b79gq32y3t4h0000gn/T/ipykernel_19541/692568148.py:107: FutureWarning: The frame.append method is deprecated and will be removed from pandas in a future version. Use pandas.concat instead.\n",
      "  df_history = df_history.append(scaled_df, ignore_index = True)\n"
     ]
    },
    {
     "name": "stdout",
     "output_type": "stream",
     "text": [
      "\n",
      "######################\n",
      "candle closed at 2122.82\n",
      "\n",
      "Back Propogate... \n",
      "\n",
      "CORRECT?:  -2.7105538845062256 -2.7597920894622803 -2.710477723777847\n",
      "COUNTBUY:  202 CORRECTBUY:  102 COUNTDONTBUY:  177 CORRECTDONTBUY:  82\n",
      "Current Close Scaled:  -2.7105539617621894\n",
      "PREDICTION tensor([[-2.7644]], grad_fn=<AddmmBackward0>)\n",
      "DONT BUY\n"
     ]
    },
    {
     "name": "stderr",
     "output_type": "stream",
     "text": [
      "/var/folders/9w/783wdyf54fb3b79gq32y3t4h0000gn/T/ipykernel_19541/692568148.py:107: FutureWarning: The frame.append method is deprecated and will be removed from pandas in a future version. Use pandas.concat instead.\n",
      "  df_history = df_history.append(scaled_df, ignore_index = True)\n"
     ]
    },
    {
     "name": "stdout",
     "output_type": "stream",
     "text": [
      "\n",
      "######################\n",
      "candle closed at 2134.59\n",
      "\n",
      "Back Propogate... \n",
      "\n",
      "CORRECT?:  -2.6656877994537354 -2.7643868923187256 -2.7105539617621894\n",
      "COUNTBUY:  202 CORRECTBUY:  102 COUNTDONTBUY:  178 CORRECTDONTBUY:  82\n",
      "Current Close Scaled:  -2.665687907976606\n",
      "PREDICTION tensor([[-2.7598]], grad_fn=<AddmmBackward0>)\n",
      "DONT BUY\n"
     ]
    },
    {
     "name": "stderr",
     "output_type": "stream",
     "text": [
      "/var/folders/9w/783wdyf54fb3b79gq32y3t4h0000gn/T/ipykernel_19541/692568148.py:107: FutureWarning: The frame.append method is deprecated and will be removed from pandas in a future version. Use pandas.concat instead.\n",
      "  df_history = df_history.append(scaled_df, ignore_index = True)\n"
     ]
    },
    {
     "name": "stdout",
     "output_type": "stream",
     "text": [
      "\n",
      "######################\n",
      "candle closed at 2134.44\n",
      "\n",
      "Back Propogate... \n",
      "\n",
      "CORRECT?:  -2.666259765625 -2.759765386581421 -2.665687907976606\n",
      "COUNTBUY:  202 CORRECTBUY:  102 COUNTDONTBUY:  179 CORRECTDONTBUY:  83\n",
      "Current Close Scaled:  -2.6662596928591755\n",
      "PREDICTION tensor([[-2.7480]], grad_fn=<AddmmBackward0>)\n",
      "DONT BUY\n"
     ]
    },
    {
     "name": "stderr",
     "output_type": "stream",
     "text": [
      "/var/folders/9w/783wdyf54fb3b79gq32y3t4h0000gn/T/ipykernel_19541/692568148.py:107: FutureWarning: The frame.append method is deprecated and will be removed from pandas in a future version. Use pandas.concat instead.\n",
      "  df_history = df_history.append(scaled_df, ignore_index = True)\n"
     ]
    },
    {
     "name": "stdout",
     "output_type": "stream",
     "text": [
      "\n",
      "######################\n",
      "candle closed at 2131.98\n",
      "\n",
      "Back Propogate... \n",
      "\n",
      "CORRECT?:  -2.6756370067596436 -2.747997283935547 -2.6662596928591755\n",
      "COUNTBUY:  202 CORRECTBUY:  102 COUNTDONTBUY:  180 CORRECTDONTBUY:  84\n",
      "Current Close Scaled:  -2.675636964933308\n",
      "PREDICTION tensor([[-2.7325]], grad_fn=<AddmmBackward0>)\n",
      "DONT BUY\n"
     ]
    },
    {
     "name": "stderr",
     "output_type": "stream",
     "text": [
      "/var/folders/9w/783wdyf54fb3b79gq32y3t4h0000gn/T/ipykernel_19541/692568148.py:107: FutureWarning: The frame.append method is deprecated and will be removed from pandas in a future version. Use pandas.concat instead.\n",
      "  df_history = df_history.append(scaled_df, ignore_index = True)\n"
     ]
    },
    {
     "name": "stdout",
     "output_type": "stream",
     "text": [
      "\n",
      "######################\n",
      "candle closed at 2131.84\n",
      "\n",
      "Back Propogate... \n",
      "\n",
      "CORRECT?:  -2.676170587539673 -2.7325198650360107 -2.675636964933308\n",
      "COUNTBUY:  202 CORRECTBUY:  102 COUNTDONTBUY:  181 CORRECTDONTBUY:  85\n",
      "Current Close Scaled:  -2.676170630823705\n",
      "PREDICTION tensor([[-2.7157]], grad_fn=<AddmmBackward0>)\n",
      "DONT BUY\n"
     ]
    },
    {
     "name": "stderr",
     "output_type": "stream",
     "text": [
      "/var/folders/9w/783wdyf54fb3b79gq32y3t4h0000gn/T/ipykernel_19541/692568148.py:107: FutureWarning: The frame.append method is deprecated and will be removed from pandas in a future version. Use pandas.concat instead.\n",
      "  df_history = df_history.append(scaled_df, ignore_index = True)\n"
     ]
    },
    {
     "name": "stdout",
     "output_type": "stream",
     "text": [
      "\n",
      "######################\n",
      "candle closed at 2139.38\n",
      "\n",
      "Back Propogate... \n",
      "\n",
      "CORRECT?:  -2.6474289894104004 -2.7157044410705566 -2.676170630823705\n",
      "COUNTBUY:  202 CORRECTBUY:  102 COUNTDONTBUY:  182 CORRECTDONTBUY:  85\n",
      "Current Close Scaled:  -2.6474289107265685\n",
      "PREDICTION tensor([[-2.6976]], grad_fn=<AddmmBackward0>)\n",
      "DONT BUY\n"
     ]
    },
    {
     "name": "stderr",
     "output_type": "stream",
     "text": [
      "/var/folders/9w/783wdyf54fb3b79gq32y3t4h0000gn/T/ipykernel_19541/692568148.py:107: FutureWarning: The frame.append method is deprecated and will be removed from pandas in a future version. Use pandas.concat instead.\n",
      "  df_history = df_history.append(scaled_df, ignore_index = True)\n"
     ]
    },
    {
     "name": "stdout",
     "output_type": "stream",
     "text": [
      "\n",
      "######################\n",
      "candle closed at 2139.18\n",
      "\n",
      "Back Propogate... \n",
      "\n",
      "CORRECT?:  -2.648191213607788 -2.697599411010742 -2.6474289107265685\n",
      "COUNTBUY:  202 CORRECTBUY:  102 COUNTDONTBUY:  183 CORRECTDONTBUY:  86\n",
      "Current Close Scaled:  -2.648191290569995\n",
      "PREDICTION tensor([[-2.6800]], grad_fn=<AddmmBackward0>)\n",
      "DONT BUY\n"
     ]
    },
    {
     "name": "stderr",
     "output_type": "stream",
     "text": [
      "/var/folders/9w/783wdyf54fb3b79gq32y3t4h0000gn/T/ipykernel_19541/692568148.py:107: FutureWarning: The frame.append method is deprecated and will be removed from pandas in a future version. Use pandas.concat instead.\n",
      "  df_history = df_history.append(scaled_df, ignore_index = True)\n"
     ]
    },
    {
     "name": "stdout",
     "output_type": "stream",
     "text": [
      "\n",
      "######################\n",
      "candle closed at 2141.44\n",
      "\n",
      "Back Propogate... \n",
      "\n",
      "CORRECT?:  -2.6395764350891113 -2.679962635040283 -2.648191290569995\n",
      "COUNTBUY:  202 CORRECTBUY:  102 COUNTDONTBUY:  184 CORRECTDONTBUY:  86\n",
      "Current Close Scaled:  -2.6395763983392873\n",
      "PREDICTION tensor([[-2.6634]], grad_fn=<AddmmBackward0>)\n",
      "DONT BUY\n"
     ]
    },
    {
     "name": "stderr",
     "output_type": "stream",
     "text": [
      "/var/folders/9w/783wdyf54fb3b79gq32y3t4h0000gn/T/ipykernel_19541/692568148.py:107: FutureWarning: The frame.append method is deprecated and will be removed from pandas in a future version. Use pandas.concat instead.\n",
      "  df_history = df_history.append(scaled_df, ignore_index = True)\n"
     ]
    },
    {
     "name": "stdout",
     "output_type": "stream",
     "text": [
      "\n",
      "######################\n",
      "candle closed at 2134.33\n",
      "\n",
      "Back Propogate... \n",
      "\n",
      "CORRECT?:  -2.6666789054870605 -2.6634178161621094 -2.6395763983392873\n",
      "COUNTBUY:  202 CORRECTBUY:  102 COUNTDONTBUY:  185 CORRECTDONTBUY:  87\n",
      "Current Close Scaled:  -2.6666790017730597\n",
      "PREDICTION tensor([[-2.6498]], grad_fn=<AddmmBackward0>)\n",
      "BUY AT:  2134.33 TIME:  1652452140000\n"
     ]
    },
    {
     "name": "stderr",
     "output_type": "stream",
     "text": [
      "/var/folders/9w/783wdyf54fb3b79gq32y3t4h0000gn/T/ipykernel_19541/692568148.py:107: FutureWarning: The frame.append method is deprecated and will be removed from pandas in a future version. Use pandas.concat instead.\n",
      "  df_history = df_history.append(scaled_df, ignore_index = True)\n"
     ]
    },
    {
     "name": "stdout",
     "output_type": "stream",
     "text": [
      "\n",
      "######################\n",
      "candle closed at 2131.62\n",
      "\n",
      "Back Propogate... \n",
      "\n",
      "CORRECT?:  -2.677009344100952 -2.649846076965332 -2.6666790017730597\n",
      "COUNTBUY:  203 CORRECTBUY:  102 COUNTDONTBUY:  185 CORRECTDONTBUY:  87\n",
      "NEW PRICE:  2131.62 BOUGHT PRICE:  -2.6666790017730597 CHANGE:  -2.7100000000000364 MONEY:  20.4300000000012\n",
      "Current Close Scaled:  -2.677009248651474\n",
      "PREDICTION tensor([[-2.6398]], grad_fn=<AddmmBackward0>)\n",
      "BUY AT:  2131.62 TIME:  1652452200000\n"
     ]
    },
    {
     "name": "stderr",
     "output_type": "stream",
     "text": [
      "/var/folders/9w/783wdyf54fb3b79gq32y3t4h0000gn/T/ipykernel_19541/692568148.py:107: FutureWarning: The frame.append method is deprecated and will be removed from pandas in a future version. Use pandas.concat instead.\n",
      "  df_history = df_history.append(scaled_df, ignore_index = True)\n"
     ]
    },
    {
     "name": "stdout",
     "output_type": "stream",
     "text": [
      "\n",
      "######################\n",
      "candle closed at 2135.67\n",
      "\n",
      "Back Propogate... \n",
      "\n",
      "CORRECT?:  -2.6615710258483887 -2.6397500038146973 -2.677009248651474\n",
      "COUNTBUY:  204 CORRECTBUY:  103 COUNTDONTBUY:  185 CORRECTDONTBUY:  87\n",
      "NEW PRICE:  2135.67 BOUGHT PRICE:  -2.677009248651474 CHANGE:  4.050000000000182 MONEY:  24.480000000001382\n",
      "Current Close Scaled:  -2.661571056822109\n",
      "PREDICTION tensor([[-2.6323]], grad_fn=<AddmmBackward0>)\n",
      "BUY AT:  2135.67 TIME:  1652452260000\n"
     ]
    },
    {
     "name": "stderr",
     "output_type": "stream",
     "text": [
      "/var/folders/9w/783wdyf54fb3b79gq32y3t4h0000gn/T/ipykernel_19541/692568148.py:107: FutureWarning: The frame.append method is deprecated and will be removed from pandas in a future version. Use pandas.concat instead.\n",
      "  df_history = df_history.append(scaled_df, ignore_index = True)\n"
     ]
    },
    {
     "name": "stdout",
     "output_type": "stream",
     "text": [
      "\n",
      "######################\n",
      "candle closed at 2143.01\n",
      "\n",
      "Back Propogate... \n",
      "\n",
      "CORRECT?:  -2.633591651916504 -2.6323256492614746 -2.661571056822109\n",
      "COUNTBUY:  205 CORRECTBUY:  104 COUNTDONTBUY:  185 CORRECTDONTBUY:  87\n",
      "NEW PRICE:  2143.01 BOUGHT PRICE:  -2.661571056822109 CHANGE:  7.3400000000001455 MONEY:  31.820000000001528\n",
      "Current Close Scaled:  -2.6335917165683975\n",
      "PREDICTION tensor([[-2.6263]], grad_fn=<AddmmBackward0>)\n",
      "BUY AT:  2143.01 TIME:  1652452320000\n"
     ]
    },
    {
     "name": "stderr",
     "output_type": "stream",
     "text": [
      "/var/folders/9w/783wdyf54fb3b79gq32y3t4h0000gn/T/ipykernel_19541/692568148.py:107: FutureWarning: The frame.append method is deprecated and will be removed from pandas in a future version. Use pandas.concat instead.\n",
      "  df_history = df_history.append(scaled_df, ignore_index = True)\n"
     ]
    },
    {
     "name": "stdout",
     "output_type": "stream",
     "text": [
      "\n",
      "######################\n",
      "candle closed at 2137.24\n",
      "\n",
      "Back Propogate... \n",
      "\n",
      "CORRECT?:  -2.6555864810943604 -2.626279592514038 -2.6335917165683975\n",
      "COUNTBUY:  206 CORRECTBUY:  104 COUNTDONTBUY:  185 CORRECTDONTBUY:  87\n",
      "NEW PRICE:  2137.24 BOUGHT PRICE:  -2.6335917165683975 CHANGE:  -5.770000000000437 MONEY:  26.05000000000109\n",
      "Current Close Scaled:  -2.655586375051221\n",
      "PREDICTION tensor([[-2.6226]], grad_fn=<AddmmBackward0>)\n",
      "BUY AT:  2137.24 TIME:  1652452380000\n"
     ]
    },
    {
     "name": "stderr",
     "output_type": "stream",
     "text": [
      "/var/folders/9w/783wdyf54fb3b79gq32y3t4h0000gn/T/ipykernel_19541/692568148.py:107: FutureWarning: The frame.append method is deprecated and will be removed from pandas in a future version. Use pandas.concat instead.\n",
      "  df_history = df_history.append(scaled_df, ignore_index = True)\n"
     ]
    },
    {
     "name": "stdout",
     "output_type": "stream",
     "text": [
      "\n",
      "######################\n",
      "candle closed at 2138.81\n",
      "\n",
      "Back Propogate... \n",
      "\n",
      "CORRECT?:  -2.649601697921753 -2.6225879192352295 -2.655586375051221\n",
      "COUNTBUY:  207 CORRECTBUY:  105 COUNTDONTBUY:  185 CORRECTDONTBUY:  87\n",
      "NEW PRICE:  2138.81 BOUGHT PRICE:  -2.655586375051221 CHANGE:  1.5700000000001637 MONEY:  27.620000000001255\n",
      "Current Close Scaled:  -2.6496016932803315\n",
      "PREDICTION tensor([[-2.6211]], grad_fn=<AddmmBackward0>)\n",
      "BUY AT:  2138.81 TIME:  1652452440000\n"
     ]
    },
    {
     "name": "stderr",
     "output_type": "stream",
     "text": [
      "/var/folders/9w/783wdyf54fb3b79gq32y3t4h0000gn/T/ipykernel_19541/692568148.py:107: FutureWarning: The frame.append method is deprecated and will be removed from pandas in a future version. Use pandas.concat instead.\n",
      "  df_history = df_history.append(scaled_df, ignore_index = True)\n"
     ]
    },
    {
     "name": "stdout",
     "output_type": "stream",
     "text": [
      "\n",
      "######################\n",
      "candle closed at 2142.01\n",
      "\n",
      "Back Propogate... \n",
      "\n",
      "CORRECT?:  -2.637403726577759 -2.6210639476776123 -2.6496016932803315\n",
      "COUNTBUY:  208 CORRECTBUY:  106 COUNTDONTBUY:  185 CORRECTDONTBUY:  87\n",
      "NEW PRICE:  2142.01 BOUGHT PRICE:  -2.6496016932803315 CHANGE:  3.200000000000273 MONEY:  30.820000000001528\n",
      "Current Close Scaled:  -2.6374036157855243\n",
      "PREDICTION tensor([[-2.6204]], grad_fn=<AddmmBackward0>)\n",
      "BUY AT:  2142.01 TIME:  1652452500000\n"
     ]
    },
    {
     "name": "stderr",
     "output_type": "stream",
     "text": [
      "/var/folders/9w/783wdyf54fb3b79gq32y3t4h0000gn/T/ipykernel_19541/692568148.py:107: FutureWarning: The frame.append method is deprecated and will be removed from pandas in a future version. Use pandas.concat instead.\n",
      "  df_history = df_history.append(scaled_df, ignore_index = True)\n"
     ]
    },
    {
     "name": "stdout",
     "output_type": "stream",
     "text": [
      "\n",
      "######################\n",
      "candle closed at 2141.62\n",
      "\n",
      "Back Propogate... \n",
      "\n",
      "CORRECT?:  -2.638890266418457 -2.6204404830932617 -2.6374036157855243\n",
      "COUNTBUY:  209 CORRECTBUY:  106 COUNTDONTBUY:  185 CORRECTDONTBUY:  87\n",
      "NEW PRICE:  2141.62 BOUGHT PRICE:  -2.6374036157855243 CHANGE:  -0.3900000000003274 MONEY:  30.4300000000012\n",
      "Current Close Scaled:  -2.638890256480205\n",
      "PREDICTION tensor([[-2.6212]], grad_fn=<AddmmBackward0>)\n",
      "BUY AT:  2141.62 TIME:  1652452560000\n"
     ]
    },
    {
     "name": "stderr",
     "output_type": "stream",
     "text": [
      "/var/folders/9w/783wdyf54fb3b79gq32y3t4h0000gn/T/ipykernel_19541/692568148.py:107: FutureWarning: The frame.append method is deprecated and will be removed from pandas in a future version. Use pandas.concat instead.\n",
      "  df_history = df_history.append(scaled_df, ignore_index = True)\n"
     ]
    },
    {
     "name": "stdout",
     "output_type": "stream",
     "text": [
      "\n",
      "######################\n",
      "candle closed at 2142.95\n",
      "\n",
      "Back Propogate... \n",
      "\n",
      "CORRECT?:  -2.6338205337524414 -2.621246814727783 -2.638890256480205\n",
      "COUNTBUY:  210 CORRECTBUY:  107 COUNTDONTBUY:  185 CORRECTDONTBUY:  87\n",
      "NEW PRICE:  2142.95 BOUGHT PRICE:  -2.638890256480205 CHANGE:  1.3299999999999272 MONEY:  31.760000000001128\n",
      "Current Close Scaled:  -2.6338204305214266\n",
      "PREDICTION tensor([[-2.6229]], grad_fn=<AddmmBackward0>)\n",
      "BUY AT:  2142.95 TIME:  1652452620000\n"
     ]
    },
    {
     "name": "stderr",
     "output_type": "stream",
     "text": [
      "/var/folders/9w/783wdyf54fb3b79gq32y3t4h0000gn/T/ipykernel_19541/692568148.py:107: FutureWarning: The frame.append method is deprecated and will be removed from pandas in a future version. Use pandas.concat instead.\n",
      "  df_history = df_history.append(scaled_df, ignore_index = True)\n"
     ]
    },
    {
     "name": "stdout",
     "output_type": "stream",
     "text": [
      "\n",
      "######################\n",
      "candle closed at 2140.81\n",
      "\n",
      "Back Propogate... \n",
      "\n",
      "CORRECT?:  -2.6419777870178223 -2.6228854656219482 -2.6338204305214266\n",
      "COUNTBUY:  211 CORRECTBUY:  107 COUNTDONTBUY:  185 CORRECTDONTBUY:  87\n",
      "NEW PRICE:  2140.81 BOUGHT PRICE:  -2.6338204305214266 CHANGE:  -2.1399999999998727 MONEY:  29.620000000001255\n",
      "Current Close Scaled:  -2.6419778948460775\n",
      "PREDICTION tensor([[-2.6256]], grad_fn=<AddmmBackward0>)\n",
      "BUY AT:  2140.81 TIME:  1652452680000\n"
     ]
    },
    {
     "name": "stderr",
     "output_type": "stream",
     "text": [
      "/var/folders/9w/783wdyf54fb3b79gq32y3t4h0000gn/T/ipykernel_19541/692568148.py:107: FutureWarning: The frame.append method is deprecated and will be removed from pandas in a future version. Use pandas.concat instead.\n",
      "  df_history = df_history.append(scaled_df, ignore_index = True)\n"
     ]
    },
    {
     "name": "stdout",
     "output_type": "stream",
     "text": [
      "\n",
      "######################\n",
      "candle closed at 2140.3\n",
      "\n",
      "Back Propogate... \n",
      "\n",
      "CORRECT?:  -2.6439218521118164 -2.625622272491455 -2.6419778948460775\n",
      "COUNTBUY:  212 CORRECTBUY:  107 COUNTDONTBUY:  185 CORRECTDONTBUY:  87\n",
      "NEW PRICE:  2140.3 BOUGHT PRICE:  -2.6419778948460775 CHANGE:  -0.5099999999997635 MONEY:  29.11000000000149\n",
      "Current Close Scaled:  -2.6439219634468114\n",
      "PREDICTION tensor([[-2.6294]], grad_fn=<AddmmBackward0>)\n",
      "BUY AT:  2140.3 TIME:  1652452740000\n"
     ]
    },
    {
     "name": "stderr",
     "output_type": "stream",
     "text": [
      "/var/folders/9w/783wdyf54fb3b79gq32y3t4h0000gn/T/ipykernel_19541/692568148.py:107: FutureWarning: The frame.append method is deprecated and will be removed from pandas in a future version. Use pandas.concat instead.\n",
      "  df_history = df_history.append(scaled_df, ignore_index = True)\n"
     ]
    },
    {
     "name": "stdout",
     "output_type": "stream",
     "text": [
      "\n",
      "######################\n",
      "candle closed at 2142.33\n",
      "\n",
      "Back Propogate... \n",
      "\n",
      "CORRECT?:  -2.636183738708496 -2.629396677017212 -2.6439219634468114\n",
      "COUNTBUY:  213 CORRECTBUY:  108 COUNTDONTBUY:  185 CORRECTDONTBUY:  87\n",
      "NEW PRICE:  2142.33 BOUGHT PRICE:  -2.6439219634468114 CHANGE:  2.0299999999997453 MONEY:  31.140000000001237\n",
      "Current Close Scaled:  -2.6361838080360447\n",
      "PREDICTION tensor([[-2.6334]], grad_fn=<AddmmBackward0>)\n",
      "BUY AT:  2142.33 TIME:  1652452800000\n"
     ]
    },
    {
     "name": "stderr",
     "output_type": "stream",
     "text": [
      "/var/folders/9w/783wdyf54fb3b79gq32y3t4h0000gn/T/ipykernel_19541/692568148.py:107: FutureWarning: The frame.append method is deprecated and will be removed from pandas in a future version. Use pandas.concat instead.\n",
      "  df_history = df_history.append(scaled_df, ignore_index = True)\n"
     ]
    },
    {
     "name": "stdout",
     "output_type": "stream",
     "text": [
      "\n",
      "######################\n",
      "candle closed at 2144.96\n",
      "\n",
      "Back Propogate... \n",
      "\n",
      "CORRECT?:  -2.6261584758758545 -2.6333532333374023 -2.6361838080360447\n",
      "COUNTBUY:  214 CORRECTBUY:  109 COUNTDONTBUY:  185 CORRECTDONTBUY:  87\n",
      "NEW PRICE:  2144.96 BOUGHT PRICE:  -2.6361838080360447 CHANGE:  2.630000000000109 MONEY:  33.770000000001346\n",
      "Current Close Scaled:  -2.626158513095001\n",
      "PREDICTION tensor([[-2.6872]], grad_fn=<AddmmBackward0>)\n",
      "DONT BUY\n"
     ]
    },
    {
     "name": "stderr",
     "output_type": "stream",
     "text": [
      "/var/folders/9w/783wdyf54fb3b79gq32y3t4h0000gn/T/ipykernel_19541/692568148.py:107: FutureWarning: The frame.append method is deprecated and will be removed from pandas in a future version. Use pandas.concat instead.\n",
      "  df_history = df_history.append(scaled_df, ignore_index = True)\n"
     ]
    },
    {
     "name": "stdout",
     "output_type": "stream",
     "text": [
      "\n",
      "######################\n",
      "candle closed at 2145.36\n",
      "\n",
      "Back Propogate... \n",
      "\n",
      "CORRECT?:  -2.6246337890625 -2.6872079372406006 -2.626158513095001\n",
      "COUNTBUY:  214 CORRECTBUY:  109 COUNTDONTBUY:  186 CORRECTDONTBUY:  87\n",
      "Current Close Scaled:  -2.6246337534081494\n",
      "PREDICTION tensor([[-2.6834]], grad_fn=<AddmmBackward0>)\n",
      "DONT BUY\n"
     ]
    },
    {
     "name": "stderr",
     "output_type": "stream",
     "text": [
      "/var/folders/9w/783wdyf54fb3b79gq32y3t4h0000gn/T/ipykernel_19541/692568148.py:107: FutureWarning: The frame.append method is deprecated and will be removed from pandas in a future version. Use pandas.concat instead.\n",
      "  df_history = df_history.append(scaled_df, ignore_index = True)\n"
     ]
    },
    {
     "name": "stdout",
     "output_type": "stream",
     "text": [
      "\n",
      "######################\n",
      "candle closed at 2141.48\n",
      "\n",
      "Back Propogate... \n",
      "\n",
      "CORRECT?:  -2.6394238471984863 -2.683357000350952 -2.6246337534081494\n",
      "COUNTBUY:  214 CORRECTBUY:  109 COUNTDONTBUY:  187 CORRECTDONTBUY:  88\n",
      "Current Close Scaled:  -2.6394239223706024\n",
      "PREDICTION tensor([[-2.6735]], grad_fn=<AddmmBackward0>)\n",
      "DONT BUY\n"
     ]
    },
    {
     "name": "stderr",
     "output_type": "stream",
     "text": [
      "/var/folders/9w/783wdyf54fb3b79gq32y3t4h0000gn/T/ipykernel_19541/692568148.py:107: FutureWarning: The frame.append method is deprecated and will be removed from pandas in a future version. Use pandas.concat instead.\n",
      "  df_history = df_history.append(scaled_df, ignore_index = True)\n"
     ]
    },
    {
     "name": "stdout",
     "output_type": "stream",
     "text": [
      "\n",
      "######################\n",
      "candle closed at 2140.09\n",
      "\n",
      "Back Propogate... \n",
      "\n",
      "CORRECT?:  -2.6447224617004395 -2.673497438430786 -2.6394239223706024\n",
      "COUNTBUY:  214 CORRECTBUY:  109 COUNTDONTBUY:  188 CORRECTDONTBUY:  89\n",
      "Current Close Scaled:  -2.644722462282408\n",
      "PREDICTION tensor([[-2.6606]], grad_fn=<AddmmBackward0>)\n",
      "DONT BUY\n"
     ]
    },
    {
     "name": "stderr",
     "output_type": "stream",
     "text": [
      "/var/folders/9w/783wdyf54fb3b79gq32y3t4h0000gn/T/ipykernel_19541/692568148.py:107: FutureWarning: The frame.append method is deprecated and will be removed from pandas in a future version. Use pandas.concat instead.\n",
      "  df_history = df_history.append(scaled_df, ignore_index = True)\n"
     ]
    },
    {
     "name": "stdout",
     "output_type": "stream",
     "text": [
      "\n",
      "######################\n",
      "candle closed at 2124.82\n",
      "\n",
      "Back Propogate... \n",
      "\n",
      "CORRECT?:  -2.702930212020874 -2.660568952560425 -2.644722462282408\n",
      "COUNTBUY:  214 CORRECTBUY:  109 COUNTDONTBUY:  189 CORRECTDONTBUY:  90\n",
      "Current Close Scaled:  -2.702930163327936\n",
      "PREDICTION tensor([[-2.6549]], grad_fn=<AddmmBackward0>)\n",
      "BUY AT:  2124.82 TIME:  1652453100000\n"
     ]
    },
    {
     "name": "stderr",
     "output_type": "stream",
     "text": [
      "/var/folders/9w/783wdyf54fb3b79gq32y3t4h0000gn/T/ipykernel_19541/692568148.py:107: FutureWarning: The frame.append method is deprecated and will be removed from pandas in a future version. Use pandas.concat instead.\n",
      "  df_history = df_history.append(scaled_df, ignore_index = True)\n"
     ]
    },
    {
     "name": "stdout",
     "output_type": "stream",
     "text": [
      "\n",
      "######################\n",
      "candle closed at 2127.13\n",
      "\n",
      "Back Propogate... \n",
      "\n",
      "CORRECT?:  -2.694124698638916 -2.654909133911133 -2.702930163327936\n",
      "COUNTBUY:  215 CORRECTBUY:  110 COUNTDONTBUY:  189 CORRECTDONTBUY:  90\n",
      "NEW PRICE:  2127.13 BOUGHT PRICE:  -2.702930163327936 CHANGE:  2.3099999999999454 MONEY:  36.08000000000129\n",
      "Current Close Scaled:  -2.6941246761363726\n",
      "PREDICTION tensor([[-2.6553]], grad_fn=<AddmmBackward0>)\n",
      "BUY AT:  2127.13 TIME:  1652453160000\n"
     ]
    },
    {
     "name": "stderr",
     "output_type": "stream",
     "text": [
      "/var/folders/9w/783wdyf54fb3b79gq32y3t4h0000gn/T/ipykernel_19541/692568148.py:107: FutureWarning: The frame.append method is deprecated and will be removed from pandas in a future version. Use pandas.concat instead.\n",
      "  df_history = df_history.append(scaled_df, ignore_index = True)\n"
     ]
    },
    {
     "name": "stdout",
     "output_type": "stream",
     "text": [
      "\n",
      "######################\n",
      "candle closed at 2130.54\n",
      "\n",
      "Back Propogate... \n",
      "\n",
      "CORRECT?:  -2.681126117706299 -2.6552679538726807 -2.6941246761363726\n",
      "COUNTBUY:  216 CORRECTBUY:  111 COUNTDONTBUY:  189 CORRECTDONTBUY:  90\n",
      "NEW PRICE:  2130.54 BOUGHT PRICE:  -2.6941246761363726 CHANGE:  3.4099999999998545 MONEY:  39.490000000001146\n",
      "Current Close Scaled:  -2.6811260998059705\n",
      "PREDICTION tensor([[-2.6678]], grad_fn=<AddmmBackward0>)\n",
      "BUY AT:  2130.54 TIME:  1652453220000\n"
     ]
    },
    {
     "name": "stderr",
     "output_type": "stream",
     "text": [
      "/var/folders/9w/783wdyf54fb3b79gq32y3t4h0000gn/T/ipykernel_19541/692568148.py:107: FutureWarning: The frame.append method is deprecated and will be removed from pandas in a future version. Use pandas.concat instead.\n",
      "  df_history = df_history.append(scaled_df, ignore_index = True)\n"
     ]
    },
    {
     "name": "stdout",
     "output_type": "stream",
     "text": [
      "\n",
      "######################\n",
      "candle closed at 2134.15\n",
      "\n",
      "Back Propogate... \n",
      "\n",
      "CORRECT?:  -2.667365074157715 -2.667790412902832 -2.6811260998059705\n",
      "COUNTBUY:  217 CORRECTBUY:  112 COUNTDONTBUY:  189 CORRECTDONTBUY:  90\n",
      "NEW PRICE:  2134.15 BOUGHT PRICE:  -2.6811260998059705 CHANGE:  3.6100000000001273 MONEY:  43.10000000000127\n",
      "Current Close Scaled:  -2.667365143632142\n",
      "PREDICTION tensor([[-2.6664]], grad_fn=<AddmmBackward0>)\n",
      "BUY AT:  2134.15 TIME:  1652453280000\n"
     ]
    },
    {
     "name": "stderr",
     "output_type": "stream",
     "text": [
      "/var/folders/9w/783wdyf54fb3b79gq32y3t4h0000gn/T/ipykernel_19541/692568148.py:107: FutureWarning: The frame.append method is deprecated and will be removed from pandas in a future version. Use pandas.concat instead.\n",
      "  df_history = df_history.append(scaled_df, ignore_index = True)\n"
     ]
    },
    {
     "name": "stdout",
     "output_type": "stream",
     "text": [
      "\n",
      "######################\n",
      "candle closed at 2133.4\n",
      "\n",
      "Back Propogate... \n",
      "\n",
      "CORRECT?:  -2.6702239513397217 -2.666377067565918 -2.667365143632142\n",
      "COUNTBUY:  218 CORRECTBUY:  112 COUNTDONTBUY:  189 CORRECTDONTBUY:  90\n",
      "NEW PRICE:  2133.4 BOUGHT PRICE:  -2.667365143632142 CHANGE:  -0.75 MONEY:  42.35000000000127\n",
      "Current Close Scaled:  -2.670224068044987\n",
      "PREDICTION tensor([[-2.7111]], grad_fn=<AddmmBackward0>)\n",
      "DONT BUY\n"
     ]
    },
    {
     "name": "stderr",
     "output_type": "stream",
     "text": [
      "/var/folders/9w/783wdyf54fb3b79gq32y3t4h0000gn/T/ipykernel_19541/692568148.py:107: FutureWarning: The frame.append method is deprecated and will be removed from pandas in a future version. Use pandas.concat instead.\n",
      "  df_history = df_history.append(scaled_df, ignore_index = True)\n"
     ]
    },
    {
     "name": "stdout",
     "output_type": "stream",
     "text": [
      "\n",
      "######################\n",
      "candle closed at 2131.27\n",
      "\n",
      "Back Propogate... \n",
      "\n",
      "CORRECT?:  -2.6783432960510254 -2.7110648155212402 -2.670224068044987\n",
      "COUNTBUY:  218 CORRECTBUY:  112 COUNTDONTBUY:  190 CORRECTDONTBUY:  91\n",
      "Current Close Scaled:  -2.678343413377468\n",
      "PREDICTION tensor([[-2.6912]], grad_fn=<AddmmBackward0>)\n",
      "DONT BUY\n"
     ]
    },
    {
     "name": "stderr",
     "output_type": "stream",
     "text": [
      "/var/folders/9w/783wdyf54fb3b79gq32y3t4h0000gn/T/ipykernel_19541/692568148.py:107: FutureWarning: The frame.append method is deprecated and will be removed from pandas in a future version. Use pandas.concat instead.\n",
      "  df_history = df_history.append(scaled_df, ignore_index = True)\n"
     ]
    },
    {
     "name": "stdout",
     "output_type": "stream",
     "text": [
      "\n",
      "######################\n",
      "candle closed at 2130.37\n",
      "\n",
      "Back Propogate... \n",
      "\n",
      "CORRECT?:  -2.681774139404297 -2.691195249557495 -2.678343413377468\n",
      "COUNTBUY:  218 CORRECTBUY:  112 COUNTDONTBUY:  191 CORRECTDONTBUY:  92\n",
      "Current Close Scaled:  -2.6817741226728824\n",
      "PREDICTION tensor([[-2.6734]], grad_fn=<AddmmBackward0>)\n",
      "BUY AT:  2130.37 TIME:  1652453460000\n"
     ]
    },
    {
     "name": "stderr",
     "output_type": "stream",
     "text": [
      "/var/folders/9w/783wdyf54fb3b79gq32y3t4h0000gn/T/ipykernel_19541/692568148.py:107: FutureWarning: The frame.append method is deprecated and will be removed from pandas in a future version. Use pandas.concat instead.\n",
      "  df_history = df_history.append(scaled_df, ignore_index = True)\n"
     ]
    },
    {
     "name": "stdout",
     "output_type": "stream",
     "text": [
      "\n",
      "######################\n",
      "candle closed at 2133.77\n",
      "\n",
      "Back Propogate... \n",
      "\n",
      "CORRECT?:  -2.668813705444336 -2.6733598709106445 -2.6817741226728824\n",
      "COUNTBUY:  219 CORRECTBUY:  113 COUNTDONTBUY:  191 CORRECTDONTBUY:  92\n",
      "NEW PRICE:  2133.77 BOUGHT PRICE:  -2.6817741226728824 CHANGE:  3.400000000000091 MONEY:  45.750000000001364\n",
      "Current Close Scaled:  -2.6688136653346506\n",
      "PREDICTION tensor([[-2.6899]], grad_fn=<AddmmBackward0>)\n",
      "DONT BUY\n"
     ]
    },
    {
     "name": "stderr",
     "output_type": "stream",
     "text": [
      "/var/folders/9w/783wdyf54fb3b79gq32y3t4h0000gn/T/ipykernel_19541/692568148.py:107: FutureWarning: The frame.append method is deprecated and will be removed from pandas in a future version. Use pandas.concat instead.\n",
      "  df_history = df_history.append(scaled_df, ignore_index = True)\n"
     ]
    },
    {
     "name": "stdout",
     "output_type": "stream",
     "text": [
      "\n",
      "######################\n",
      "candle closed at 2134.68\n",
      "\n",
      "Back Propogate... \n",
      "\n",
      "CORRECT?:  -2.6653449535369873 -2.6898791790008545 -2.6688136653346506\n",
      "COUNTBUY:  219 CORRECTBUY:  113 COUNTDONTBUY:  192 CORRECTDONTBUY:  92\n",
      "Current Close Scaled:  -2.665344837047066\n",
      "PREDICTION tensor([[-2.6754]], grad_fn=<AddmmBackward0>)\n",
      "DONT BUY\n"
     ]
    },
    {
     "name": "stderr",
     "output_type": "stream",
     "text": [
      "/var/folders/9w/783wdyf54fb3b79gq32y3t4h0000gn/T/ipykernel_19541/692568148.py:107: FutureWarning: The frame.append method is deprecated and will be removed from pandas in a future version. Use pandas.concat instead.\n",
      "  df_history = df_history.append(scaled_df, ignore_index = True)\n"
     ]
    },
    {
     "name": "stdout",
     "output_type": "stream",
     "text": [
      "\n",
      "######################\n",
      "candle closed at 2137.97\n",
      "\n",
      "Back Propogate... \n",
      "\n",
      "CORRECT?:  -2.652803659439087 -2.675401449203491 -2.665344837047066\n",
      "COUNTBUY:  219 CORRECTBUY:  113 COUNTDONTBUY:  193 CORRECTDONTBUY:  92\n",
      "Current Close Scaled:  -2.6528036886227184\n",
      "PREDICTION tensor([[-2.6557]], grad_fn=<AddmmBackward0>)\n",
      "DONT BUY\n"
     ]
    },
    {
     "name": "stderr",
     "output_type": "stream",
     "text": [
      "/var/folders/9w/783wdyf54fb3b79gq32y3t4h0000gn/T/ipykernel_19541/692568148.py:107: FutureWarning: The frame.append method is deprecated and will be removed from pandas in a future version. Use pandas.concat instead.\n",
      "  df_history = df_history.append(scaled_df, ignore_index = True)\n"
     ]
    },
    {
     "name": "stdout",
     "output_type": "stream",
     "text": [
      "\n",
      "######################\n",
      "candle closed at 2138.71\n",
      "\n",
      "Back Propogate... \n",
      "\n",
      "CORRECT?:  -2.6499829292297363 -2.6556742191314697 -2.6528036886227184\n",
      "COUNTBUY:  219 CORRECTBUY:  113 COUNTDONTBUY:  194 CORRECTDONTBUY:  92\n",
      "Current Close Scaled:  -2.6499828832020436\n",
      "PREDICTION tensor([[-2.6379]], grad_fn=<AddmmBackward0>)\n",
      "BUY AT:  2138.71 TIME:  1652453700000\n"
     ]
    },
    {
     "name": "stderr",
     "output_type": "stream",
     "text": [
      "/var/folders/9w/783wdyf54fb3b79gq32y3t4h0000gn/T/ipykernel_19541/692568148.py:107: FutureWarning: The frame.append method is deprecated and will be removed from pandas in a future version. Use pandas.concat instead.\n",
      "  df_history = df_history.append(scaled_df, ignore_index = True)\n"
     ]
    },
    {
     "name": "stdout",
     "output_type": "stream",
     "text": [
      "\n",
      "######################\n",
      "candle closed at 2132.57\n",
      "\n",
      "Back Propogate... \n",
      "\n",
      "CORRECT?:  -2.6733880043029785 -2.6379456520080566 -2.6499828832020436\n",
      "COUNTBUY:  220 CORRECTBUY:  113 COUNTDONTBUY:  194 CORRECTDONTBUY:  92\n",
      "NEW PRICE:  2132.57 BOUGHT PRICE:  -2.6499828832020436 CHANGE:  -6.139999999999873 MONEY:  39.61000000000149\n",
      "Current Close Scaled:  -2.6733879443952024\n",
      "PREDICTION tensor([[-2.6297]], grad_fn=<AddmmBackward0>)\n",
      "BUY AT:  2132.57 TIME:  1652453760000\n"
     ]
    },
    {
     "name": "stderr",
     "output_type": "stream",
     "text": [
      "/var/folders/9w/783wdyf54fb3b79gq32y3t4h0000gn/T/ipykernel_19541/692568148.py:107: FutureWarning: The frame.append method is deprecated and will be removed from pandas in a future version. Use pandas.concat instead.\n",
      "  df_history = df_history.append(scaled_df, ignore_index = True)\n"
     ]
    },
    {
     "name": "stdout",
     "output_type": "stream",
     "text": [
      "\n",
      "######################\n",
      "candle closed at 2129.78\n",
      "\n",
      "Back Propogate... \n",
      "\n",
      "CORRECT?:  -2.684023141860962 -2.6296560764312744 -2.6733879443952024\n",
      "COUNTBUY:  221 CORRECTBUY:  113 COUNTDONTBUY:  194 CORRECTDONTBUY:  92\n",
      "NEW PRICE:  2129.78 BOUGHT PRICE:  -2.6733879443952024 CHANGE:  -2.7899999999999636 MONEY:  36.82000000000153\n",
      "Current Close Scaled:  -2.6840231432109865\n",
      "PREDICTION tensor([[-2.6399]], grad_fn=<AddmmBackward0>)\n",
      "BUY AT:  2129.78 TIME:  1652453820000\n"
     ]
    },
    {
     "name": "stderr",
     "output_type": "stream",
     "text": [
      "/var/folders/9w/783wdyf54fb3b79gq32y3t4h0000gn/T/ipykernel_19541/692568148.py:107: FutureWarning: The frame.append method is deprecated and will be removed from pandas in a future version. Use pandas.concat instead.\n",
      "  df_history = df_history.append(scaled_df, ignore_index = True)\n"
     ]
    },
    {
     "name": "stdout",
     "output_type": "stream",
     "text": [
      "\n",
      "######################\n",
      "candle closed at 2129.02\n",
      "\n",
      "Back Propogate... \n",
      "\n",
      "CORRECT?:  -2.686920166015625 -2.6399097442626953 -2.6840231432109865\n",
      "COUNTBUY:  222 CORRECTBUY:  113 COUNTDONTBUY:  194 CORRECTDONTBUY:  92\n",
      "NEW PRICE:  2129.02 BOUGHT PRICE:  -2.6840231432109865 CHANGE:  -0.7600000000002183 MONEY:  36.06000000000131\n",
      "Current Close Scaled:  -2.6869201866160033\n",
      "PREDICTION tensor([[-2.6626]], grad_fn=<AddmmBackward0>)\n",
      "BUY AT:  2129.02 TIME:  1652453880000\n"
     ]
    },
    {
     "name": "stderr",
     "output_type": "stream",
     "text": [
      "/var/folders/9w/783wdyf54fb3b79gq32y3t4h0000gn/T/ipykernel_19541/692568148.py:107: FutureWarning: The frame.append method is deprecated and will be removed from pandas in a future version. Use pandas.concat instead.\n",
      "  df_history = df_history.append(scaled_df, ignore_index = True)\n"
     ]
    },
    {
     "name": "stdout",
     "output_type": "stream",
     "text": [
      "\n",
      "######################\n",
      "candle closed at 2127.83\n",
      "\n",
      "Back Propogate... \n",
      "\n",
      "CORRECT?:  -2.6914563179016113 -2.6625521183013916 -2.6869201866160033\n",
      "COUNTBUY:  223 CORRECTBUY:  113 COUNTDONTBUY:  194 CORRECTDONTBUY:  92\n",
      "NEW PRICE:  2127.83 BOUGHT PRICE:  -2.6869201866160033 CHANGE:  -1.1900000000000546 MONEY:  34.870000000001255\n",
      "Current Close Scaled:  -2.691456346684385\n",
      "PREDICTION tensor([[-2.6999]], grad_fn=<AddmmBackward0>)\n",
      "DONT BUY\n"
     ]
    },
    {
     "name": "stderr",
     "output_type": "stream",
     "text": [
      "/var/folders/9w/783wdyf54fb3b79gq32y3t4h0000gn/T/ipykernel_19541/692568148.py:107: FutureWarning: The frame.append method is deprecated and will be removed from pandas in a future version. Use pandas.concat instead.\n",
      "  df_history = df_history.append(scaled_df, ignore_index = True)\n"
     ]
    },
    {
     "name": "stdout",
     "output_type": "stream",
     "text": [
      "\n",
      "######################\n",
      "candle closed at 2124.17\n",
      "\n",
      "Back Propogate... \n",
      "\n",
      "CORRECT?:  -2.7054078578948975 -2.6999101638793945 -2.691456346684385\n",
      "COUNTBUY:  223 CORRECTBUY:  113 COUNTDONTBUY:  195 CORRECTDONTBUY:  93\n",
      "Current Close Scaled:  -2.7054078978190685\n",
      "PREDICTION tensor([[-2.6752]], grad_fn=<AddmmBackward0>)\n",
      "BUY AT:  2124.17 TIME:  1652454000000\n"
     ]
    },
    {
     "name": "stderr",
     "output_type": "stream",
     "text": [
      "/var/folders/9w/783wdyf54fb3b79gq32y3t4h0000gn/T/ipykernel_19541/692568148.py:107: FutureWarning: The frame.append method is deprecated and will be removed from pandas in a future version. Use pandas.concat instead.\n",
      "  df_history = df_history.append(scaled_df, ignore_index = True)\n"
     ]
    },
    {
     "name": "stdout",
     "output_type": "stream",
     "text": [
      "\n",
      "######################\n",
      "candle closed at 2123.09\n",
      "\n",
      "Back Propogate... \n",
      "\n",
      "CORRECT?:  -2.709524631500244 -2.6751887798309326 -2.7054078978190685\n",
      "COUNTBUY:  224 CORRECTBUY:  113 COUNTDONTBUY:  195 CORRECTDONTBUY:  93\n",
      "NEW PRICE:  2123.09 BOUGHT PRICE:  -2.7054078978190685 CHANGE:  -1.0799999999999272 MONEY:  33.79000000000133\n",
      "Current Close Scaled:  -2.7095247489735654\n",
      "PREDICTION tensor([[-2.6402]], grad_fn=<AddmmBackward0>)\n",
      "BUY AT:  2123.09 TIME:  1652454060000\n"
     ]
    },
    {
     "name": "stderr",
     "output_type": "stream",
     "text": [
      "/var/folders/9w/783wdyf54fb3b79gq32y3t4h0000gn/T/ipykernel_19541/692568148.py:107: FutureWarning: The frame.append method is deprecated and will be removed from pandas in a future version. Use pandas.concat instead.\n",
      "  df_history = df_history.append(scaled_df, ignore_index = True)\n"
     ]
    },
    {
     "name": "stdout",
     "output_type": "stream",
     "text": [
      "\n",
      "######################\n",
      "candle closed at 2122.03\n",
      "\n",
      "Back Propogate... \n",
      "\n",
      "CORRECT?:  -2.7135653495788574 -2.640183448791504 -2.7095247489735654\n",
      "COUNTBUY:  225 CORRECTBUY:  113 COUNTDONTBUY:  195 CORRECTDONTBUY:  93\n",
      "NEW PRICE:  2122.03 BOUGHT PRICE:  -2.7095247489735654 CHANGE:  -1.0599999999999454 MONEY:  32.73000000000138\n",
      "Current Close Scaled:  -2.7135653621437195\n",
      "PREDICTION tensor([[-2.6667]], grad_fn=<AddmmBackward0>)\n",
      "BUY AT:  2122.03 TIME:  1652454120000\n"
     ]
    },
    {
     "name": "stderr",
     "output_type": "stream",
     "text": [
      "/var/folders/9w/783wdyf54fb3b79gq32y3t4h0000gn/T/ipykernel_19541/692568148.py:107: FutureWarning: The frame.append method is deprecated and will be removed from pandas in a future version. Use pandas.concat instead.\n",
      "  df_history = df_history.append(scaled_df, ignore_index = True)\n"
     ]
    },
    {
     "name": "stdout",
     "output_type": "stream",
     "text": [
      "\n",
      "######################\n",
      "candle closed at 2121.01\n",
      "\n",
      "Back Propogate... \n",
      "\n",
      "CORRECT?:  -2.7174534797668457 -2.666715383529663 -2.7135653621437195\n",
      "COUNTBUY:  226 CORRECTBUY:  113 COUNTDONTBUY:  195 CORRECTDONTBUY:  93\n",
      "NEW PRICE:  2121.01 BOUGHT PRICE:  -2.7135653621437195 CHANGE:  -1.0199999999999818 MONEY:  31.7100000000014\n",
      "Current Close Scaled:  -2.717453499345189\n",
      "PREDICTION tensor([[-2.6882]], grad_fn=<AddmmBackward0>)\n",
      "BUY AT:  2121.01 TIME:  1652454180000\n"
     ]
    },
    {
     "name": "stderr",
     "output_type": "stream",
     "text": [
      "/var/folders/9w/783wdyf54fb3b79gq32y3t4h0000gn/T/ipykernel_19541/692568148.py:107: FutureWarning: The frame.append method is deprecated and will be removed from pandas in a future version. Use pandas.concat instead.\n",
      "  df_history = df_history.append(scaled_df, ignore_index = True)\n"
     ]
    },
    {
     "name": "stdout",
     "output_type": "stream",
     "text": [
      "\n",
      "######################\n",
      "candle closed at 2119.95\n",
      "\n",
      "Back Propogate... \n",
      "\n",
      "CORRECT?:  -2.721494197845459 -2.688169479370117 -2.717453499345189\n",
      "COUNTBUY:  227 CORRECTBUY:  113 COUNTDONTBUY:  195 CORRECTDONTBUY:  93\n",
      "NEW PRICE:  2119.95 BOUGHT PRICE:  -2.717453499345189 CHANGE:  -1.0600000000004002 MONEY:  30.650000000001\n",
      "Current Close Scaled:  -2.721494112515345\n",
      "PREDICTION tensor([[-2.6983]], grad_fn=<AddmmBackward0>)\n",
      "BUY AT:  2119.95 TIME:  1652454240000\n"
     ]
    },
    {
     "name": "stderr",
     "output_type": "stream",
     "text": [
      "/var/folders/9w/783wdyf54fb3b79gq32y3t4h0000gn/T/ipykernel_19541/692568148.py:107: FutureWarning: The frame.append method is deprecated and will be removed from pandas in a future version. Use pandas.concat instead.\n",
      "  df_history = df_history.append(scaled_df, ignore_index = True)\n"
     ]
    },
    {
     "name": "stdout",
     "output_type": "stream",
     "text": [
      "\n",
      "######################\n",
      "candle closed at 2122.53\n",
      "\n",
      "Back Propogate... \n",
      "\n",
      "CORRECT?:  -2.7116594314575195 -2.698307752609253 -2.721494112515345\n",
      "COUNTBUY:  228 CORRECTBUY:  114 COUNTDONTBUY:  195 CORRECTDONTBUY:  93\n",
      "NEW PRICE:  2122.53 BOUGHT PRICE:  -2.721494112515345 CHANGE:  2.580000000000382 MONEY:  33.23000000000138\n",
      "Current Close Scaled:  -2.7116594125351563\n",
      "PREDICTION tensor([[-2.7214]], grad_fn=<AddmmBackward0>)\n",
      "DONT BUY\n"
     ]
    },
    {
     "name": "stderr",
     "output_type": "stream",
     "text": [
      "/var/folders/9w/783wdyf54fb3b79gq32y3t4h0000gn/T/ipykernel_19541/692568148.py:107: FutureWarning: The frame.append method is deprecated and will be removed from pandas in a future version. Use pandas.concat instead.\n",
      "  df_history = df_history.append(scaled_df, ignore_index = True)\n"
     ]
    },
    {
     "name": "stdout",
     "output_type": "stream",
     "text": [
      "\n",
      "######################\n",
      "candle closed at 2125.06\n",
      "\n",
      "Back Propogate... \n",
      "\n",
      "CORRECT?:  -2.7020153999328613 -2.7214109897613525 -2.7116594125351563\n",
      "COUNTBUY:  228 CORRECTBUY:  114 COUNTDONTBUY:  196 CORRECTDONTBUY:  93\n",
      "Current Close Scaled:  -2.702015307515826\n",
      "PREDICTION tensor([[-2.7406]], grad_fn=<AddmmBackward0>)\n",
      "DONT BUY\n"
     ]
    },
    {
     "name": "stderr",
     "output_type": "stream",
     "text": [
      "/var/folders/9w/783wdyf54fb3b79gq32y3t4h0000gn/T/ipykernel_19541/692568148.py:107: FutureWarning: The frame.append method is deprecated and will be removed from pandas in a future version. Use pandas.concat instead.\n",
      "  df_history = df_history.append(scaled_df, ignore_index = True)\n"
     ]
    },
    {
     "name": "stdout",
     "output_type": "stream",
     "text": [
      "\n",
      "######################\n",
      "candle closed at 2123.63\n",
      "\n",
      "Back Propogate... \n",
      "\n",
      "CORRECT?:  -2.7074663639068604 -2.7406108379364014 -2.702015307515826\n",
      "COUNTBUY:  228 CORRECTBUY:  114 COUNTDONTBUY:  197 CORRECTDONTBUY:  94\n",
      "Current Close Scaled:  -2.707466323396317\n",
      "PREDICTION tensor([[-2.7532]], grad_fn=<AddmmBackward0>)\n",
      "DONT BUY\n"
     ]
    },
    {
     "name": "stderr",
     "output_type": "stream",
     "text": [
      "/var/folders/9w/783wdyf54fb3b79gq32y3t4h0000gn/T/ipykernel_19541/692568148.py:107: FutureWarning: The frame.append method is deprecated and will be removed from pandas in a future version. Use pandas.concat instead.\n",
      "  df_history = df_history.append(scaled_df, ignore_index = True)\n"
     ]
    },
    {
     "name": "stdout",
     "output_type": "stream",
     "text": [
      "\n",
      "######################\n",
      "candle closed at 2122.65\n",
      "\n",
      "Back Propogate... \n",
      "\n",
      "CORRECT?:  -2.7112019062042236 -2.7531790733337402 -2.707466323396317\n",
      "COUNTBUY:  228 CORRECTBUY:  114 COUNTDONTBUY:  198 CORRECTDONTBUY:  95\n",
      "Current Close Scaled:  -2.7112019846291013\n",
      "PREDICTION tensor([[-2.7574]], grad_fn=<AddmmBackward0>)\n",
      "DONT BUY\n"
     ]
    },
    {
     "name": "stderr",
     "output_type": "stream",
     "text": [
      "/var/folders/9w/783wdyf54fb3b79gq32y3t4h0000gn/T/ipykernel_19541/692568148.py:107: FutureWarning: The frame.append method is deprecated and will be removed from pandas in a future version. Use pandas.concat instead.\n",
      "  df_history = df_history.append(scaled_df, ignore_index = True)\n"
     ]
    },
    {
     "name": "stdout",
     "output_type": "stream",
     "text": [
      "\n",
      "######################\n",
      "candle closed at 2121.68\n",
      "\n",
      "Back Propogate... \n",
      "\n",
      "CORRECT?:  -2.7148995399475098 -2.7573673725128174 -2.7112019846291013\n",
      "COUNTBUY:  228 CORRECTBUY:  114 COUNTDONTBUY:  199 CORRECTDONTBUY:  96\n",
      "Current Close Scaled:  -2.7148995268697154\n",
      "PREDICTION tensor([[-2.7534]], grad_fn=<AddmmBackward0>)\n",
      "DONT BUY\n"
     ]
    },
    {
     "name": "stderr",
     "output_type": "stream",
     "text": [
      "/var/folders/9w/783wdyf54fb3b79gq32y3t4h0000gn/T/ipykernel_19541/692568148.py:107: FutureWarning: The frame.append method is deprecated and will be removed from pandas in a future version. Use pandas.concat instead.\n",
      "  df_history = df_history.append(scaled_df, ignore_index = True)\n"
     ]
    },
    {
     "name": "stdout",
     "output_type": "stream",
     "text": [
      "\n",
      "######################\n",
      "candle closed at 2123.85\n",
      "\n",
      "Back Propogate... \n",
      "\n",
      "CORRECT?:  -2.706627607345581 -2.753441095352173 -2.7148995268697154\n",
      "COUNTBUY:  228 CORRECTBUY:  114 COUNTDONTBUY:  200 CORRECTDONTBUY:  96\n",
      "Current Close Scaled:  -2.70662770556855\n",
      "PREDICTION tensor([[-2.7415]], grad_fn=<AddmmBackward0>)\n",
      "DONT BUY\n"
     ]
    },
    {
     "name": "stderr",
     "output_type": "stream",
     "text": [
      "/var/folders/9w/783wdyf54fb3b79gq32y3t4h0000gn/T/ipykernel_19541/692568148.py:107: FutureWarning: The frame.append method is deprecated and will be removed from pandas in a future version. Use pandas.concat instead.\n",
      "  df_history = df_history.append(scaled_df, ignore_index = True)\n"
     ]
    },
    {
     "name": "stdout",
     "output_type": "stream",
     "text": [
      "\n",
      "######################\n",
      "candle closed at 2119.92\n",
      "\n",
      "Back Propogate... \n",
      "\n",
      "CORRECT?:  -2.7216084003448486 -2.7415366172790527 -2.70662770556855\n",
      "COUNTBUY:  228 CORRECTBUY:  114 COUNTDONTBUY:  201 CORRECTDONTBUY:  97\n",
      "Current Close Scaled:  -2.7216084694918576\n",
      "PREDICTION tensor([[-2.7274]], grad_fn=<AddmmBackward0>)\n",
      "DONT BUY\n"
     ]
    },
    {
     "name": "stderr",
     "output_type": "stream",
     "text": [
      "/var/folders/9w/783wdyf54fb3b79gq32y3t4h0000gn/T/ipykernel_19541/692568148.py:107: FutureWarning: The frame.append method is deprecated and will be removed from pandas in a future version. Use pandas.concat instead.\n",
      "  df_history = df_history.append(scaled_df, ignore_index = True)\n"
     ]
    },
    {
     "name": "stdout",
     "output_type": "stream",
     "text": [
      "\n",
      "######################\n",
      "candle closed at 2122.06\n",
      "\n",
      "Back Propogate... \n",
      "\n",
      "CORRECT?:  -2.7134509086608887 -2.727444648742676 -2.7216084694918576\n",
      "COUNTBUY:  228 CORRECTBUY:  114 COUNTDONTBUY:  202 CORRECTDONTBUY:  97\n",
      "Current Close Scaled:  -2.7134510051672067\n",
      "PREDICTION tensor([[-2.7126]], grad_fn=<AddmmBackward0>)\n",
      "BUY AT:  2122.06 TIME:  1652454720000\n"
     ]
    },
    {
     "name": "stderr",
     "output_type": "stream",
     "text": [
      "/var/folders/9w/783wdyf54fb3b79gq32y3t4h0000gn/T/ipykernel_19541/692568148.py:107: FutureWarning: The frame.append method is deprecated and will be removed from pandas in a future version. Use pandas.concat instead.\n",
      "  df_history = df_history.append(scaled_df, ignore_index = True)\n"
     ]
    },
    {
     "name": "stdout",
     "output_type": "stream",
     "text": [
      "\n",
      "######################\n",
      "candle closed at 2119.75\n",
      "\n",
      "Back Propogate... \n",
      "\n",
      "CORRECT?:  -2.7222564220428467 -2.7125930786132812 -2.7134510051672067\n",
      "COUNTBUY:  229 CORRECTBUY:  114 COUNTDONTBUY:  202 CORRECTDONTBUY:  97\n",
      "NEW PRICE:  2119.75 BOUGHT PRICE:  -2.7134510051672067 CHANGE:  -2.3099999999999454 MONEY:  30.920000000001437\n",
      "Current Close Scaled:  -2.7222564923587695\n",
      "PREDICTION tensor([[-2.7250]], grad_fn=<AddmmBackward0>)\n",
      "DONT BUY\n"
     ]
    },
    {
     "name": "stderr",
     "output_type": "stream",
     "text": [
      "/var/folders/9w/783wdyf54fb3b79gq32y3t4h0000gn/T/ipykernel_19541/692568148.py:107: FutureWarning: The frame.append method is deprecated and will be removed from pandas in a future version. Use pandas.concat instead.\n",
      "  df_history = df_history.append(scaled_df, ignore_index = True)\n"
     ]
    },
    {
     "name": "stdout",
     "output_type": "stream",
     "text": [
      "\n",
      "######################\n",
      "candle closed at 2119.16\n",
      "\n",
      "Back Propogate... \n",
      "\n",
      "CORRECT?:  -2.7245054244995117 -2.725040912628174 -2.7222564923587695\n",
      "COUNTBUY:  229 CORRECTBUY:  114 COUNTDONTBUY:  203 CORRECTDONTBUY:  98\n",
      "Current Close Scaled:  -2.724505512896875\n",
      "PREDICTION tensor([[-2.7063]], grad_fn=<AddmmBackward0>)\n",
      "BUY AT:  2119.16 TIME:  1652454840000\n"
     ]
    },
    {
     "name": "stderr",
     "output_type": "stream",
     "text": [
      "/var/folders/9w/783wdyf54fb3b79gq32y3t4h0000gn/T/ipykernel_19541/692568148.py:107: FutureWarning: The frame.append method is deprecated and will be removed from pandas in a future version. Use pandas.concat instead.\n",
      "  df_history = df_history.append(scaled_df, ignore_index = True)\n"
     ]
    },
    {
     "name": "stdout",
     "output_type": "stream",
     "text": [
      "\n",
      "######################\n",
      "candle closed at 2114.76\n",
      "\n",
      "Back Propogate... \n",
      "\n",
      "CORRECT?:  -2.7412779331207275 -2.7062644958496094 -2.724505512896875\n",
      "COUNTBUY:  230 CORRECTBUY:  114 COUNTDONTBUY:  203 CORRECTDONTBUY:  98\n",
      "NEW PRICE:  2114.76 BOUGHT PRICE:  -2.724505512896875 CHANGE:  -4.399999999999636 MONEY:  26.5200000000018\n",
      "Current Close Scaled:  -2.741277869452232\n",
      "PREDICTION tensor([[-2.8041]], grad_fn=<AddmmBackward0>)\n",
      "DONT BUY\n"
     ]
    },
    {
     "name": "stderr",
     "output_type": "stream",
     "text": [
      "/var/folders/9w/783wdyf54fb3b79gq32y3t4h0000gn/T/ipykernel_19541/692568148.py:107: FutureWarning: The frame.append method is deprecated and will be removed from pandas in a future version. Use pandas.concat instead.\n",
      "  df_history = df_history.append(scaled_df, ignore_index = True)\n"
     ]
    },
    {
     "name": "stdout",
     "output_type": "stream",
     "text": [
      "\n",
      "######################\n",
      "candle closed at 2111.52\n",
      "\n",
      "Back Propogate... \n",
      "\n",
      "CORRECT?:  -2.7536284923553467 -2.80407977104187 -2.741277869452232\n",
      "COUNTBUY:  230 CORRECTBUY:  114 COUNTDONTBUY:  204 CORRECTDONTBUY:  99\n",
      "Current Close Scaled:  -2.753628422915724\n",
      "PREDICTION tensor([[-2.7900]], grad_fn=<AddmmBackward0>)\n",
      "DONT BUY\n"
     ]
    },
    {
     "name": "stderr",
     "output_type": "stream",
     "text": [
      "/var/folders/9w/783wdyf54fb3b79gq32y3t4h0000gn/T/ipykernel_19541/692568148.py:107: FutureWarning: The frame.append method is deprecated and will be removed from pandas in a future version. Use pandas.concat instead.\n",
      "  df_history = df_history.append(scaled_df, ignore_index = True)\n"
     ]
    },
    {
     "name": "stdout",
     "output_type": "stream",
     "text": [
      "\n",
      "######################\n",
      "candle closed at 2108.59\n",
      "\n",
      "Back Propogate... \n",
      "\n",
      "CORRECT?:  -2.7647972106933594 -2.7899882793426514 -2.753628422915724\n",
      "COUNTBUY:  230 CORRECTBUY:  114 COUNTDONTBUY:  205 CORRECTDONTBUY:  100\n",
      "Current Close Scaled:  -2.764797287621905\n",
      "PREDICTION tensor([[-2.7726]], grad_fn=<AddmmBackward0>)\n",
      "DONT BUY\n"
     ]
    },
    {
     "name": "stderr",
     "output_type": "stream",
     "text": [
      "/var/folders/9w/783wdyf54fb3b79gq32y3t4h0000gn/T/ipykernel_19541/692568148.py:107: FutureWarning: The frame.append method is deprecated and will be removed from pandas in a future version. Use pandas.concat instead.\n",
      "  df_history = df_history.append(scaled_df, ignore_index = True)\n"
     ]
    },
    {
     "name": "stdout",
     "output_type": "stream",
     "text": [
      "\n",
      "######################\n",
      "candle closed at 2110.72\n",
      "\n",
      "Back Propogate... \n",
      "\n",
      "CORRECT?:  -2.7566778659820557 -2.772592067718506 -2.764797287621905\n",
      "COUNTBUY:  230 CORRECTBUY:  114 COUNTDONTBUY:  206 CORRECTDONTBUY:  100\n",
      "Current Close Scaled:  -2.7566779422894263\n",
      "PREDICTION tensor([[-2.7545]], grad_fn=<AddmmBackward0>)\n",
      "BUY AT:  2110.72 TIME:  1652455080000\n"
     ]
    },
    {
     "name": "stderr",
     "output_type": "stream",
     "text": [
      "/var/folders/9w/783wdyf54fb3b79gq32y3t4h0000gn/T/ipykernel_19541/692568148.py:107: FutureWarning: The frame.append method is deprecated and will be removed from pandas in a future version. Use pandas.concat instead.\n",
      "  df_history = df_history.append(scaled_df, ignore_index = True)\n"
     ]
    },
    {
     "name": "stdout",
     "output_type": "stream",
     "text": [
      "\n",
      "######################\n",
      "candle closed at 2106.49\n",
      "\n",
      "Back Propogate... \n",
      "\n",
      "CORRECT?:  -2.7728023529052734 -2.754467487335205 -2.7566779422894263\n",
      "COUNTBUY:  231 CORRECTBUY:  114 COUNTDONTBUY:  206 CORRECTDONTBUY:  100\n",
      "NEW PRICE:  2106.49 BOUGHT PRICE:  -2.7566779422894263 CHANGE:  -4.230000000000018 MONEY:  22.290000000001783\n",
      "Current Close Scaled:  -2.772802275977873\n",
      "PREDICTION tensor([[-2.7419]], grad_fn=<AddmmBackward0>)\n",
      "BUY AT:  2106.49 TIME:  1652455140000\n"
     ]
    },
    {
     "name": "stderr",
     "output_type": "stream",
     "text": [
      "/var/folders/9w/783wdyf54fb3b79gq32y3t4h0000gn/T/ipykernel_19541/692568148.py:107: FutureWarning: The frame.append method is deprecated and will be removed from pandas in a future version. Use pandas.concat instead.\n",
      "  df_history = df_history.append(scaled_df, ignore_index = True)\n"
     ]
    },
    {
     "name": "stdout",
     "output_type": "stream",
     "text": [
      "\n",
      "######################\n",
      "candle closed at 2108.64\n",
      "\n",
      "Back Propogate... \n",
      "\n",
      "CORRECT?:  -2.7646067142486572 -2.7418549060821533 -2.772802275977873\n",
      "COUNTBUY:  232 CORRECTBUY:  115 COUNTDONTBUY:  206 CORRECTDONTBUY:  100\n",
      "NEW PRICE:  2108.64 BOUGHT PRICE:  -2.772802275977873 CHANGE:  2.150000000000091 MONEY:  24.440000000001874\n",
      "Current Close Scaled:  -2.76460669266105\n",
      "PREDICTION tensor([[-2.6380]], grad_fn=<AddmmBackward0>)\n",
      "BUY AT:  2108.64 TIME:  1652455200000\n"
     ]
    },
    {
     "name": "stderr",
     "output_type": "stream",
     "text": [
      "/var/folders/9w/783wdyf54fb3b79gq32y3t4h0000gn/T/ipykernel_19541/692568148.py:107: FutureWarning: The frame.append method is deprecated and will be removed from pandas in a future version. Use pandas.concat instead.\n",
      "  df_history = df_history.append(scaled_df, ignore_index = True)\n"
     ]
    },
    {
     "name": "stdout",
     "output_type": "stream",
     "text": [
      "\n",
      "######################\n",
      "candle closed at 2108.96\n",
      "\n",
      "Back Propogate... \n",
      "\n",
      "CORRECT?:  -2.7633869647979736 -2.637969493865967 -2.76460669266105\n",
      "COUNTBUY:  233 CORRECTBUY:  116 COUNTDONTBUY:  206 CORRECTDONTBUY:  100\n",
      "NEW PRICE:  2108.96 BOUGHT PRICE:  -2.76460669266105 CHANGE:  0.3200000000001637 MONEY:  24.760000000002037\n",
      "Current Close Scaled:  -2.7633868849115686\n",
      "PREDICTION tensor([[-2.7638]], grad_fn=<AddmmBackward0>)\n",
      "DONT BUY\n"
     ]
    },
    {
     "name": "stderr",
     "output_type": "stream",
     "text": [
      "/var/folders/9w/783wdyf54fb3b79gq32y3t4h0000gn/T/ipykernel_19541/692568148.py:107: FutureWarning: The frame.append method is deprecated and will be removed from pandas in a future version. Use pandas.concat instead.\n",
      "  df_history = df_history.append(scaled_df, ignore_index = True)\n"
     ]
    },
    {
     "name": "stdout",
     "output_type": "stream",
     "text": [
      "\n",
      "######################\n",
      "candle closed at 2107.96\n",
      "\n",
      "Back Propogate... \n",
      "\n",
      "CORRECT?:  -2.7671988010406494 -2.7638401985168457 -2.7633868849115686\n",
      "COUNTBUY:  233 CORRECTBUY:  116 COUNTDONTBUY:  207 CORRECTDONTBUY:  101\n",
      "Current Close Scaled:  -2.7671987841286954\n",
      "PREDICTION tensor([[-2.7888]], grad_fn=<AddmmBackward0>)\n",
      "DONT BUY\n"
     ]
    },
    {
     "name": "stderr",
     "output_type": "stream",
     "text": [
      "/var/folders/9w/783wdyf54fb3b79gq32y3t4h0000gn/T/ipykernel_19541/692568148.py:107: FutureWarning: The frame.append method is deprecated and will be removed from pandas in a future version. Use pandas.concat instead.\n",
      "  df_history = df_history.append(scaled_df, ignore_index = True)\n"
     ]
    },
    {
     "name": "stdout",
     "output_type": "stream",
     "text": [
      "\n",
      "######################\n",
      "candle closed at 2109.1\n",
      "\n",
      "Back Propogate... \n",
      "\n",
      "CORRECT?:  -2.7628531455993652 -2.7888200283050537 -2.7671987841286954\n",
      "COUNTBUY:  233 CORRECTBUY:  116 COUNTDONTBUY:  208 CORRECTDONTBUY:  101\n",
      "Current Close Scaled:  -2.762853219021171\n",
      "PREDICTION tensor([[-2.7908]], grad_fn=<AddmmBackward0>)\n",
      "DONT BUY\n"
     ]
    },
    {
     "name": "stderr",
     "output_type": "stream",
     "text": [
      "/var/folders/9w/783wdyf54fb3b79gq32y3t4h0000gn/T/ipykernel_19541/692568148.py:107: FutureWarning: The frame.append method is deprecated and will be removed from pandas in a future version. Use pandas.concat instead.\n",
      "  df_history = df_history.append(scaled_df, ignore_index = True)\n"
     ]
    },
    {
     "name": "stdout",
     "output_type": "stream",
     "text": [
      "\n",
      "######################\n",
      "candle closed at 2103.23\n",
      "\n",
      "Back Propogate... \n",
      "\n",
      "CORRECT?:  -2.785228967666626 -2.790832042694092 -2.762853219021171\n",
      "COUNTBUY:  233 CORRECTBUY:  116 COUNTDONTBUY:  209 CORRECTDONTBUY:  102\n",
      "Current Close Scaled:  -2.7852290674257056\n",
      "PREDICTION tensor([[-2.7915]], grad_fn=<AddmmBackward0>)\n",
      "DONT BUY\n"
     ]
    },
    {
     "name": "stderr",
     "output_type": "stream",
     "text": [
      "/var/folders/9w/783wdyf54fb3b79gq32y3t4h0000gn/T/ipykernel_19541/692568148.py:107: FutureWarning: The frame.append method is deprecated and will be removed from pandas in a future version. Use pandas.concat instead.\n",
      "  df_history = df_history.append(scaled_df, ignore_index = True)\n"
     ]
    },
    {
     "name": "stdout",
     "output_type": "stream",
     "text": [
      "\n",
      "######################\n",
      "candle closed at 2103.28\n",
      "\n",
      "Back Propogate... \n",
      "\n",
      "CORRECT?:  -2.785038471221924 -2.7914910316467285 -2.7852290674257056\n",
      "COUNTBUY:  233 CORRECTBUY:  116 COUNTDONTBUY:  210 CORRECTDONTBUY:  102\n",
      "Current Close Scaled:  -2.7850384724648487\n",
      "PREDICTION tensor([[-2.7575]], grad_fn=<AddmmBackward0>)\n",
      "BUY AT:  2103.28 TIME:  1652455500000\n"
     ]
    },
    {
     "name": "stderr",
     "output_type": "stream",
     "text": [
      "/var/folders/9w/783wdyf54fb3b79gq32y3t4h0000gn/T/ipykernel_19541/692568148.py:107: FutureWarning: The frame.append method is deprecated and will be removed from pandas in a future version. Use pandas.concat instead.\n",
      "  df_history = df_history.append(scaled_df, ignore_index = True)\n"
     ]
    },
    {
     "name": "stdout",
     "output_type": "stream",
     "text": [
      "\n",
      "######################\n",
      "candle closed at 2106.12\n",
      "\n",
      "Back Propogate... \n",
      "\n",
      "CORRECT?:  -2.774212598800659 -2.7575254440307617 -2.7850384724648487\n",
      "COUNTBUY:  234 CORRECTBUY:  117 COUNTDONTBUY:  210 CORRECTDONTBUY:  102\n",
      "NEW PRICE:  2106.12 BOUGHT PRICE:  -2.7850384724648487 CHANGE:  2.8399999999996908 MONEY:  27.600000000001728\n",
      "Current Close Scaled:  -2.7742126786882095\n",
      "PREDICTION tensor([[-2.7928]], grad_fn=<AddmmBackward0>)\n",
      "DONT BUY\n"
     ]
    },
    {
     "name": "stderr",
     "output_type": "stream",
     "text": [
      "/var/folders/9w/783wdyf54fb3b79gq32y3t4h0000gn/T/ipykernel_19541/692568148.py:107: FutureWarning: The frame.append method is deprecated and will be removed from pandas in a future version. Use pandas.concat instead.\n",
      "  df_history = df_history.append(scaled_df, ignore_index = True)\n"
     ]
    },
    {
     "name": "stdout",
     "output_type": "stream",
     "text": [
      "\n",
      "######################\n",
      "candle closed at 2110.06\n",
      "\n",
      "Back Propogate... \n",
      "\n",
      "CORRECT?:  -2.7591938972473145 -2.7927560806274414 -2.7742126786882095\n",
      "COUNTBUY:  234 CORRECTBUY:  117 COUNTDONTBUY:  211 CORRECTDONTBUY:  102\n",
      "Current Close Scaled:  -2.7591937957727293\n",
      "PREDICTION tensor([[-2.7881]], grad_fn=<AddmmBackward0>)\n",
      "DONT BUY\n"
     ]
    },
    {
     "name": "stderr",
     "output_type": "stream",
     "text": [
      "/var/folders/9w/783wdyf54fb3b79gq32y3t4h0000gn/T/ipykernel_19541/692568148.py:107: FutureWarning: The frame.append method is deprecated and will be removed from pandas in a future version. Use pandas.concat instead.\n",
      "  df_history = df_history.append(scaled_df, ignore_index = True)\n"
     ]
    },
    {
     "name": "stdout",
     "output_type": "stream",
     "text": [
      "\n",
      "######################\n",
      "candle closed at 2107.91\n",
      "\n",
      "Back Propogate... \n",
      "\n",
      "CORRECT?:  -2.7673892974853516 -2.7880866527557373 -2.7591937957727293\n",
      "COUNTBUY:  234 CORRECTBUY:  117 COUNTDONTBUY:  212 CORRECTDONTBUY:  103\n",
      "Current Close Scaled:  -2.7673893790895527\n",
      "PREDICTION tensor([[-2.7801]], grad_fn=<AddmmBackward0>)\n",
      "DONT BUY\n"
     ]
    },
    {
     "name": "stderr",
     "output_type": "stream",
     "text": [
      "/var/folders/9w/783wdyf54fb3b79gq32y3t4h0000gn/T/ipykernel_19541/692568148.py:107: FutureWarning: The frame.append method is deprecated and will be removed from pandas in a future version. Use pandas.concat instead.\n",
      "  df_history = df_history.append(scaled_df, ignore_index = True)\n"
     ]
    },
    {
     "name": "stdout",
     "output_type": "stream",
     "text": [
      "\n",
      "######################\n",
      "candle closed at 2107.46\n",
      "\n",
      "Back Propogate... \n",
      "\n",
      "CORRECT?:  -2.7691047191619873 -2.7801084518432617 -2.7673893790895527\n",
      "COUNTBUY:  234 CORRECTBUY:  117 COUNTDONTBUY:  213 CORRECTDONTBUY:  104\n",
      "Current Close Scaled:  -2.769104733737259\n",
      "PREDICTION tensor([[-2.7711]], grad_fn=<AddmmBackward0>)\n",
      "DONT BUY\n"
     ]
    },
    {
     "name": "stderr",
     "output_type": "stream",
     "text": [
      "/var/folders/9w/783wdyf54fb3b79gq32y3t4h0000gn/T/ipykernel_19541/692568148.py:107: FutureWarning: The frame.append method is deprecated and will be removed from pandas in a future version. Use pandas.concat instead.\n",
      "  df_history = df_history.append(scaled_df, ignore_index = True)\n"
     ]
    },
    {
     "name": "stdout",
     "output_type": "stream",
     "text": [
      "\n",
      "######################\n",
      "candle closed at 2111.88\n",
      "\n",
      "Back Propogate... \n",
      "\n",
      "CORRECT?:  -2.752256155014038 -2.7711191177368164 -2.769104733737259\n",
      "COUNTBUY:  234 CORRECTBUY:  117 COUNTDONTBUY:  214 CORRECTDONTBUY:  104\n",
      "Current Close Scaled:  -2.752256139197558\n",
      "PREDICTION tensor([[-2.8932]], grad_fn=<AddmmBackward0>)\n",
      "DONT BUY\n"
     ]
    },
    {
     "name": "stderr",
     "output_type": "stream",
     "text": [
      "/var/folders/9w/783wdyf54fb3b79gq32y3t4h0000gn/T/ipykernel_19541/692568148.py:107: FutureWarning: The frame.append method is deprecated and will be removed from pandas in a future version. Use pandas.concat instead.\n",
      "  df_history = df_history.append(scaled_df, ignore_index = True)\n"
     ]
    },
    {
     "name": "stdout",
     "output_type": "stream",
     "text": [
      "\n",
      "######################\n",
      "candle closed at 2106.0\n",
      "\n",
      "Back Propogate... \n",
      "\n",
      "CORRECT?:  -2.774670124053955 -2.8931806087493896 -2.752256139197558\n",
      "COUNTBUY:  234 CORRECTBUY:  117 COUNTDONTBUY:  215 CORRECTDONTBUY:  105\n",
      "Current Close Scaled:  -2.7746701065942645\n",
      "PREDICTION tensor([[-2.7532]], grad_fn=<AddmmBackward0>)\n",
      "BUY AT:  2106.0 TIME:  1652455860000\n"
     ]
    },
    {
     "name": "stderr",
     "output_type": "stream",
     "text": [
      "/var/folders/9w/783wdyf54fb3b79gq32y3t4h0000gn/T/ipykernel_19541/692568148.py:107: FutureWarning: The frame.append method is deprecated and will be removed from pandas in a future version. Use pandas.concat instead.\n",
      "  df_history = df_history.append(scaled_df, ignore_index = True)\n"
     ]
    },
    {
     "name": "stdout",
     "output_type": "stream",
     "text": [
      "\n",
      "######################\n",
      "candle closed at 2101.99\n",
      "\n",
      "Back Propogate... \n",
      "\n",
      "CORRECT?:  -2.7899558544158936 -2.7531955242156982 -2.7746701065942645\n",
      "COUNTBUY:  235 CORRECTBUY:  117 COUNTDONTBUY:  215 CORRECTDONTBUY:  105\n",
      "NEW PRICE:  2101.99 BOUGHT PRICE:  -2.7746701065942645 CHANGE:  -4.010000000000218 MONEY:  23.59000000000151\n",
      "Current Close Scaled:  -2.789955822454944\n",
      "PREDICTION tensor([[-2.7096]], grad_fn=<AddmmBackward0>)\n",
      "BUY AT:  2101.99 TIME:  1652455920000\n"
     ]
    },
    {
     "name": "stderr",
     "output_type": "stream",
     "text": [
      "/var/folders/9w/783wdyf54fb3b79gq32y3t4h0000gn/T/ipykernel_19541/692568148.py:107: FutureWarning: The frame.append method is deprecated and will be removed from pandas in a future version. Use pandas.concat instead.\n",
      "  df_history = df_history.append(scaled_df, ignore_index = True)\n"
     ]
    },
    {
     "name": "stdout",
     "output_type": "stream",
     "text": [
      "\n",
      "######################\n",
      "candle closed at 2090.91\n",
      "\n",
      "Back Propogate... \n",
      "\n",
      "CORRECT?:  -2.8321917057037354 -2.709615707397461 -2.789955822454944\n",
      "COUNTBUY:  236 CORRECTBUY:  117 COUNTDONTBUY:  215 CORRECTDONTBUY:  105\n",
      "NEW PRICE:  2090.91 BOUGHT PRICE:  -2.789955822454944 CHANGE:  -11.079999999999927 MONEY:  12.510000000001583\n",
      "Current Close Scaled:  -2.8321916657807096\n",
      "PREDICTION tensor([[-2.6945]], grad_fn=<AddmmBackward0>)\n",
      "BUY AT:  2090.91 TIME:  1652455980000\n"
     ]
    },
    {
     "name": "stderr",
     "output_type": "stream",
     "text": [
      "/var/folders/9w/783wdyf54fb3b79gq32y3t4h0000gn/T/ipykernel_19541/692568148.py:107: FutureWarning: The frame.append method is deprecated and will be removed from pandas in a future version. Use pandas.concat instead.\n",
      "  df_history = df_history.append(scaled_df, ignore_index = True)\n"
     ]
    },
    {
     "name": "stdout",
     "output_type": "stream",
     "text": [
      "\n",
      "######################\n",
      "candle closed at 2091.82\n",
      "\n",
      "Back Propogate... \n",
      "\n",
      "CORRECT?:  -2.8287229537963867 -2.69453763961792 -2.8321916657807096\n",
      "COUNTBUY:  237 CORRECTBUY:  118 COUNTDONTBUY:  215 CORRECTDONTBUY:  105\n",
      "NEW PRICE:  2091.82 BOUGHT PRICE:  -2.8321916657807096 CHANGE:  0.9100000000003092 MONEY:  13.420000000001892\n",
      "Current Close Scaled:  -2.828722837493123\n",
      "PREDICTION tensor([[-2.7070]], grad_fn=<AddmmBackward0>)\n",
      "BUY AT:  2091.82 TIME:  1652456040000\n"
     ]
    },
    {
     "name": "stderr",
     "output_type": "stream",
     "text": [
      "/var/folders/9w/783wdyf54fb3b79gq32y3t4h0000gn/T/ipykernel_19541/692568148.py:107: FutureWarning: The frame.append method is deprecated and will be removed from pandas in a future version. Use pandas.concat instead.\n",
      "  df_history = df_history.append(scaled_df, ignore_index = True)\n"
     ]
    },
    {
     "name": "stdout",
     "output_type": "stream",
     "text": [
      "\n",
      "######################\n",
      "candle closed at 2094.36\n",
      "\n",
      "Back Propogate... \n",
      "\n",
      "CORRECT?:  -2.819040536880493 -2.7070212364196777 -2.828722837493123\n",
      "COUNTBUY:  238 CORRECTBUY:  119 COUNTDONTBUY:  215 CORRECTDONTBUY:  105\n",
      "NEW PRICE:  2094.36 BOUGHT PRICE:  -2.828722837493123 CHANGE:  2.5399999999999636 MONEY:  15.960000000001855\n",
      "Current Close Scaled:  -2.819040613481621\n",
      "PREDICTION tensor([[-2.7420]], grad_fn=<AddmmBackward0>)\n",
      "BUY AT:  2094.36 TIME:  1652456100000\n"
     ]
    },
    {
     "name": "stderr",
     "output_type": "stream",
     "text": [
      "/var/folders/9w/783wdyf54fb3b79gq32y3t4h0000gn/T/ipykernel_19541/692568148.py:107: FutureWarning: The frame.append method is deprecated and will be removed from pandas in a future version. Use pandas.concat instead.\n",
      "  df_history = df_history.append(scaled_df, ignore_index = True)\n"
     ]
    },
    {
     "name": "stdout",
     "output_type": "stream",
     "text": [
      "\n",
      "######################\n",
      "candle closed at 2096.31\n",
      "\n",
      "Back Propogate... \n",
      "\n",
      "CORRECT?:  -2.8116073608398438 -2.7419824600219727 -2.819040613481621\n",
      "COUNTBUY:  239 CORRECTBUY:  120 COUNTDONTBUY:  215 CORRECTDONTBUY:  105\n",
      "NEW PRICE:  2096.31 BOUGHT PRICE:  -2.819040613481621 CHANGE:  1.949999999999818 MONEY:  17.910000000001673\n",
      "Current Close Scaled:  -2.8116074100082242\n",
      "PREDICTION tensor([[-2.9607]], grad_fn=<AddmmBackward0>)\n",
      "DONT BUY\n"
     ]
    },
    {
     "name": "stderr",
     "output_type": "stream",
     "text": [
      "/var/folders/9w/783wdyf54fb3b79gq32y3t4h0000gn/T/ipykernel_19541/692568148.py:107: FutureWarning: The frame.append method is deprecated and will be removed from pandas in a future version. Use pandas.concat instead.\n",
      "  df_history = df_history.append(scaled_df, ignore_index = True)\n"
     ]
    },
    {
     "name": "stdout",
     "output_type": "stream",
     "text": [
      "\n",
      "######################\n",
      "candle closed at 2096.9\n",
      "\n",
      "Back Propogate... \n",
      "\n",
      "CORRECT?:  -2.8093583583831787 -2.9607324600219727 -2.8116074100082242\n",
      "COUNTBUY:  239 CORRECTBUY:  120 COUNTDONTBUY:  216 CORRECTDONTBUY:  105\n",
      "Current Close Scaled:  -2.809358389470119\n",
      "PREDICTION tensor([[-2.8038]], grad_fn=<AddmmBackward0>)\n",
      "BUY AT:  2096.9 TIME:  1652456220000\n"
     ]
    },
    {
     "name": "stderr",
     "output_type": "stream",
     "text": [
      "/var/folders/9w/783wdyf54fb3b79gq32y3t4h0000gn/T/ipykernel_19541/692568148.py:107: FutureWarning: The frame.append method is deprecated and will be removed from pandas in a future version. Use pandas.concat instead.\n",
      "  df_history = df_history.append(scaled_df, ignore_index = True)\n"
     ]
    },
    {
     "name": "stdout",
     "output_type": "stream",
     "text": [
      "\n",
      "######################\n",
      "candle closed at 2097.97\n",
      "\n",
      "Back Propogate... \n",
      "\n",
      "CORRECT?:  -2.8052797317504883 -2.8038275241851807 -2.809358389470119\n",
      "COUNTBUY:  240 CORRECTBUY:  121 COUNTDONTBUY:  216 CORRECTDONTBUY:  105\n",
      "NEW PRICE:  2097.97 BOUGHT PRICE:  -2.809358389470119 CHANGE:  1.069999999999709 MONEY:  18.980000000001382\n",
      "Current Close Scaled:  -2.805279657307794\n",
      "PREDICTION tensor([[-2.7696]], grad_fn=<AddmmBackward0>)\n",
      "BUY AT:  2097.97 TIME:  1652456280000\n"
     ]
    },
    {
     "name": "stderr",
     "output_type": "stream",
     "text": [
      "/var/folders/9w/783wdyf54fb3b79gq32y3t4h0000gn/T/ipykernel_19541/692568148.py:107: FutureWarning: The frame.append method is deprecated and will be removed from pandas in a future version. Use pandas.concat instead.\n",
      "  df_history = df_history.append(scaled_df, ignore_index = True)\n"
     ]
    },
    {
     "name": "stdout",
     "output_type": "stream",
     "text": [
      "\n",
      "######################\n",
      "candle closed at 2097.34\n",
      "\n",
      "Back Propogate... \n",
      "\n",
      "CORRECT?:  -2.807681083679199 -2.7695634365081787 -2.805279657307794\n",
      "COUNTBUY:  241 CORRECTBUY:  121 COUNTDONTBUY:  216 CORRECTDONTBUY:  105\n",
      "NEW PRICE:  2097.34 BOUGHT PRICE:  -2.805279657307794 CHANGE:  -0.6299999999996544 MONEY:  18.350000000001728\n",
      "Current Close Scaled:  -2.8076811538145825\n",
      "PREDICTION tensor([[-2.8155]], grad_fn=<AddmmBackward0>)\n",
      "DONT BUY\n"
     ]
    },
    {
     "name": "stderr",
     "output_type": "stream",
     "text": [
      "/var/folders/9w/783wdyf54fb3b79gq32y3t4h0000gn/T/ipykernel_19541/692568148.py:107: FutureWarning: The frame.append method is deprecated and will be removed from pandas in a future version. Use pandas.concat instead.\n",
      "  df_history = df_history.append(scaled_df, ignore_index = True)\n"
     ]
    },
    {
     "name": "stdout",
     "output_type": "stream",
     "text": [
      "\n",
      "######################\n",
      "candle closed at 2091.72\n",
      "\n",
      "Back Propogate... \n",
      "\n",
      "CORRECT?:  -2.829103946685791 -2.815462589263916 -2.8076811538145825\n",
      "COUNTBUY:  241 CORRECTBUY:  121 COUNTDONTBUY:  217 CORRECTDONTBUY:  106\n",
      "Current Close Scaled:  -2.829104027414837\n",
      "PREDICTION tensor([[-2.7598]], grad_fn=<AddmmBackward0>)\n",
      "BUY AT:  2091.72 TIME:  1652456400000\n"
     ]
    },
    {
     "name": "stderr",
     "output_type": "stream",
     "text": [
      "/var/folders/9w/783wdyf54fb3b79gq32y3t4h0000gn/T/ipykernel_19541/692568148.py:107: FutureWarning: The frame.append method is deprecated and will be removed from pandas in a future version. Use pandas.concat instead.\n",
      "  df_history = df_history.append(scaled_df, ignore_index = True)\n"
     ]
    },
    {
     "name": "stdout",
     "output_type": "stream",
     "text": [
      "\n",
      "######################\n",
      "candle closed at 2091.28\n",
      "\n",
      "Back Propogate... \n",
      "\n",
      "CORRECT?:  -2.8307812213897705 -2.759772777557373 -2.829104027414837\n",
      "COUNTBUY:  242 CORRECTBUY:  121 COUNTDONTBUY:  217 CORRECTDONTBUY:  106\n",
      "NEW PRICE:  2091.28 BOUGHT PRICE:  -2.829104027414837 CHANGE:  -0.4399999999995998 MONEY:  17.910000000002128\n",
      "Current Close Scaled:  -2.8307812630703713\n",
      "PREDICTION tensor([[-2.7927]], grad_fn=<AddmmBackward0>)\n",
      "BUY AT:  2091.28 TIME:  1652456460000\n"
     ]
    },
    {
     "name": "stderr",
     "output_type": "stream",
     "text": [
      "/var/folders/9w/783wdyf54fb3b79gq32y3t4h0000gn/T/ipykernel_19541/692568148.py:107: FutureWarning: The frame.append method is deprecated and will be removed from pandas in a future version. Use pandas.concat instead.\n",
      "  df_history = df_history.append(scaled_df, ignore_index = True)\n"
     ]
    },
    {
     "name": "stdout",
     "output_type": "stream",
     "text": [
      "\n",
      "######################\n",
      "candle closed at 2089.56\n",
      "\n",
      "Back Propogate... \n",
      "\n",
      "CORRECT?:  -2.8373377323150635 -2.792670488357544 -2.8307812630703713\n",
      "COUNTBUY:  243 CORRECTBUY:  121 COUNTDONTBUY:  217 CORRECTDONTBUY:  106\n",
      "NEW PRICE:  2089.56 BOUGHT PRICE:  -2.8307812630703713 CHANGE:  -1.7200000000002547 MONEY:  16.190000000001874\n",
      "Current Close Scaled:  -2.8373377297238305\n",
      "PREDICTION tensor([[-2.8193]], grad_fn=<AddmmBackward0>)\n",
      "BUY AT:  2089.56 TIME:  1652456520000\n"
     ]
    },
    {
     "name": "stderr",
     "output_type": "stream",
     "text": [
      "/var/folders/9w/783wdyf54fb3b79gq32y3t4h0000gn/T/ipykernel_19541/692568148.py:107: FutureWarning: The frame.append method is deprecated and will be removed from pandas in a future version. Use pandas.concat instead.\n",
      "  df_history = df_history.append(scaled_df, ignore_index = True)\n"
     ]
    },
    {
     "name": "stdout",
     "output_type": "stream",
     "text": [
      "\n",
      "######################\n",
      "candle closed at 2089.67\n",
      "\n",
      "Back Propogate... \n",
      "\n",
      "CORRECT?:  -2.836918354034424 -2.819272994995117 -2.8373377297238305\n",
      "COUNTBUY:  244 CORRECTBUY:  122 COUNTDONTBUY:  217 CORRECTDONTBUY:  106\n",
      "NEW PRICE:  2089.67 BOUGHT PRICE:  -2.8373377297238305 CHANGE:  0.11000000000012733 MONEY:  16.300000000002\n",
      "Current Close Scaled:  -2.8369184208099463\n",
      "PREDICTION tensor([[-2.8492]], grad_fn=<AddmmBackward0>)\n",
      "DONT BUY\n"
     ]
    },
    {
     "name": "stderr",
     "output_type": "stream",
     "text": [
      "/var/folders/9w/783wdyf54fb3b79gq32y3t4h0000gn/T/ipykernel_19541/692568148.py:107: FutureWarning: The frame.append method is deprecated and will be removed from pandas in a future version. Use pandas.concat instead.\n",
      "  df_history = df_history.append(scaled_df, ignore_index = True)\n"
     ]
    },
    {
     "name": "stdout",
     "output_type": "stream",
     "text": [
      "\n",
      "######################\n",
      "candle closed at 2089.48\n",
      "\n",
      "Back Propogate... \n",
      "\n",
      "CORRECT?:  -2.8376426696777344 -2.849158763885498 -2.8369184208099463\n",
      "COUNTBUY:  244 CORRECTBUY:  122 COUNTDONTBUY:  218 CORRECTDONTBUY:  107\n",
      "Current Close Scaled:  -2.8376426816612006\n",
      "PREDICTION tensor([[-2.8743]], grad_fn=<AddmmBackward0>)\n",
      "DONT BUY\n"
     ]
    },
    {
     "name": "stderr",
     "output_type": "stream",
     "text": [
      "/var/folders/9w/783wdyf54fb3b79gq32y3t4h0000gn/T/ipykernel_19541/692568148.py:107: FutureWarning: The frame.append method is deprecated and will be removed from pandas in a future version. Use pandas.concat instead.\n",
      "  df_history = df_history.append(scaled_df, ignore_index = True)\n"
     ]
    },
    {
     "name": "stdout",
     "output_type": "stream",
     "text": [
      "\n",
      "######################\n",
      "candle closed at 2087.24\n",
      "\n",
      "Back Propogate... \n",
      "\n",
      "CORRECT?:  -2.8461813926696777 -2.874302625656128 -2.8376426816612006\n",
      "COUNTBUY:  244 CORRECTBUY:  122 COUNTDONTBUY:  219 CORRECTDONTBUY:  108\n",
      "Current Close Scaled:  -2.846181335907566\n",
      "PREDICTION tensor([[-2.8892]], grad_fn=<AddmmBackward0>)\n",
      "DONT BUY\n"
     ]
    },
    {
     "name": "stderr",
     "output_type": "stream",
     "text": [
      "/var/folders/9w/783wdyf54fb3b79gq32y3t4h0000gn/T/ipykernel_19541/692568148.py:107: FutureWarning: The frame.append method is deprecated and will be removed from pandas in a future version. Use pandas.concat instead.\n",
      "  df_history = df_history.append(scaled_df, ignore_index = True)\n"
     ]
    },
    {
     "name": "stdout",
     "output_type": "stream",
     "text": [
      "\n",
      "######################\n",
      "candle closed at 2094.21\n",
      "\n",
      "Back Propogate... \n",
      "\n",
      "CORRECT?:  -2.819612503051758 -2.8892323970794678 -2.846181335907566\n",
      "COUNTBUY:  244 CORRECTBUY:  122 COUNTDONTBUY:  220 CORRECTDONTBUY:  108\n",
      "Current Close Scaled:  -2.8196123983641903\n",
      "PREDICTION tensor([[-2.8806]], grad_fn=<AddmmBackward0>)\n",
      "DONT BUY\n"
     ]
    },
    {
     "name": "stderr",
     "output_type": "stream",
     "text": [
      "/var/folders/9w/783wdyf54fb3b79gq32y3t4h0000gn/T/ipykernel_19541/692568148.py:107: FutureWarning: The frame.append method is deprecated and will be removed from pandas in a future version. Use pandas.concat instead.\n",
      "  df_history = df_history.append(scaled_df, ignore_index = True)\n"
     ]
    },
    {
     "name": "stdout",
     "output_type": "stream",
     "text": [
      "\n",
      "######################\n",
      "candle closed at 2093.65\n",
      "\n",
      "Back Propogate... \n",
      "\n",
      "CORRECT?:  -2.821747064590454 -2.8806474208831787 -2.8196123983641903\n",
      "COUNTBUY:  244 CORRECTBUY:  122 COUNTDONTBUY:  221 CORRECTDONTBUY:  109\n",
      "Current Close Scaled:  -2.821747061925781\n",
      "PREDICTION tensor([[-2.8542]], grad_fn=<AddmmBackward0>)\n",
      "DONT BUY\n"
     ]
    },
    {
     "name": "stderr",
     "output_type": "stream",
     "text": [
      "/var/folders/9w/783wdyf54fb3b79gq32y3t4h0000gn/T/ipykernel_19541/692568148.py:107: FutureWarning: The frame.append method is deprecated and will be removed from pandas in a future version. Use pandas.concat instead.\n",
      "  df_history = df_history.append(scaled_df, ignore_index = True)\n"
     ]
    },
    {
     "name": "stdout",
     "output_type": "stream",
     "text": [
      "\n",
      "######################\n",
      "candle closed at 2095.03\n",
      "\n",
      "Back Propogate... \n",
      "\n",
      "CORRECT?:  -2.8164865970611572 -2.8541839122772217 -2.821747061925781\n",
      "COUNTBUY:  244 CORRECTBUY:  122 COUNTDONTBUY:  222 CORRECTDONTBUY:  109\n",
      "Current Close Scaled:  -2.8164866410061458\n",
      "PREDICTION tensor([[-2.8192]], grad_fn=<AddmmBackward0>)\n",
      "DONT BUY\n"
     ]
    },
    {
     "name": "stderr",
     "output_type": "stream",
     "text": [
      "/var/folders/9w/783wdyf54fb3b79gq32y3t4h0000gn/T/ipykernel_19541/692568148.py:107: FutureWarning: The frame.append method is deprecated and will be removed from pandas in a future version. Use pandas.concat instead.\n",
      "  df_history = df_history.append(scaled_df, ignore_index = True)\n"
     ]
    },
    {
     "name": "stdout",
     "output_type": "stream",
     "text": [
      "\n",
      "######################\n",
      "candle closed at 2096.74\n",
      "\n",
      "Back Propogate... \n",
      "\n",
      "CORRECT?:  -2.8099682331085205 -2.8191637992858887 -2.8164866410061458\n",
      "COUNTBUY:  244 CORRECTBUY:  122 COUNTDONTBUY:  223 CORRECTDONTBUY:  109\n",
      "Current Close Scaled:  -2.80996829334486\n",
      "PREDICTION tensor([[-2.7855]], grad_fn=<AddmmBackward0>)\n",
      "BUY AT:  2096.74 TIME:  1652456940000\n"
     ]
    },
    {
     "name": "stderr",
     "output_type": "stream",
     "text": [
      "/var/folders/9w/783wdyf54fb3b79gq32y3t4h0000gn/T/ipykernel_19541/692568148.py:107: FutureWarning: The frame.append method is deprecated and will be removed from pandas in a future version. Use pandas.concat instead.\n",
      "  df_history = df_history.append(scaled_df, ignore_index = True)\n"
     ]
    },
    {
     "name": "stdout",
     "output_type": "stream",
     "text": [
      "\n",
      "######################\n",
      "candle closed at 2094.09\n",
      "\n",
      "Back Propogate... \n",
      "\n",
      "CORRECT?:  -2.8200697898864746 -2.7854790687561035 -2.80996829334486\n",
      "COUNTBUY:  245 CORRECTBUY:  122 COUNTDONTBUY:  223 CORRECTDONTBUY:  109\n",
      "NEW PRICE:  2094.09 BOUGHT PRICE:  -2.80996829334486 CHANGE:  -2.649999999999636 MONEY:  13.650000000002365\n",
      "Current Close Scaled:  -2.8200698262702453\n",
      "PREDICTION tensor([[-2.7652]], grad_fn=<AddmmBackward0>)\n",
      "BUY AT:  2094.09 TIME:  1652457000000\n"
     ]
    },
    {
     "name": "stderr",
     "output_type": "stream",
     "text": [
      "/var/folders/9w/783wdyf54fb3b79gq32y3t4h0000gn/T/ipykernel_19541/692568148.py:107: FutureWarning: The frame.append method is deprecated and will be removed from pandas in a future version. Use pandas.concat instead.\n",
      "  df_history = df_history.append(scaled_df, ignore_index = True)\n"
     ]
    },
    {
     "name": "stdout",
     "output_type": "stream",
     "text": [
      "\n",
      "######################\n",
      "candle closed at 2093.18\n",
      "\n",
      "Back Propogate... \n",
      "\n",
      "CORRECT?:  -2.8235385417938232 -2.765155792236328 -2.8200698262702453\n",
      "COUNTBUY:  246 CORRECTBUY:  122 COUNTDONTBUY:  223 CORRECTDONTBUY:  109\n",
      "NEW PRICE:  2093.18 BOUGHT PRICE:  -2.8200698262702453 CHANGE:  -0.9100000000003092 MONEY:  12.740000000002055\n",
      "Current Close Scaled:  -2.8235386545578316\n",
      "PREDICTION tensor([[-2.7629]], grad_fn=<AddmmBackward0>)\n",
      "BUY AT:  2093.18 TIME:  1652457060000\n"
     ]
    },
    {
     "name": "stderr",
     "output_type": "stream",
     "text": [
      "/var/folders/9w/783wdyf54fb3b79gq32y3t4h0000gn/T/ipykernel_19541/692568148.py:107: FutureWarning: The frame.append method is deprecated and will be removed from pandas in a future version. Use pandas.concat instead.\n",
      "  df_history = df_history.append(scaled_df, ignore_index = True)\n"
     ]
    },
    {
     "name": "stdout",
     "output_type": "stream",
     "text": [
      "\n",
      "######################\n",
      "candle closed at 2094.06\n",
      "\n",
      "Back Propogate... \n",
      "\n",
      "CORRECT?:  -2.8201842308044434 -2.762942314147949 -2.8235386545578316\n",
      "COUNTBUY:  247 CORRECTBUY:  123 COUNTDONTBUY:  223 CORRECTDONTBUY:  109\n",
      "NEW PRICE:  2094.06 BOUGHT PRICE:  -2.8235386545578316 CHANGE:  0.8800000000001091 MONEY:  13.620000000002165\n",
      "Current Close Scaled:  -2.82018418324676\n",
      "PREDICTION tensor([[-2.7767]], grad_fn=<AddmmBackward0>)\n",
      "BUY AT:  2094.06 TIME:  1652457120000\n"
     ]
    },
    {
     "name": "stderr",
     "output_type": "stream",
     "text": [
      "/var/folders/9w/783wdyf54fb3b79gq32y3t4h0000gn/T/ipykernel_19541/692568148.py:107: FutureWarning: The frame.append method is deprecated and will be removed from pandas in a future version. Use pandas.concat instead.\n",
      "  df_history = df_history.append(scaled_df, ignore_index = True)\n"
     ]
    },
    {
     "name": "stdout",
     "output_type": "stream",
     "text": [
      "\n",
      "######################\n",
      "candle closed at 2093.11\n",
      "\n",
      "Back Propogate... \n",
      "\n",
      "CORRECT?:  -2.823805570602417 -2.7766664028167725 -2.82018418324676\n",
      "COUNTBUY:  248 CORRECTBUY:  123 COUNTDONTBUY:  223 CORRECTDONTBUY:  109\n",
      "NEW PRICE:  2093.11 BOUGHT PRICE:  -2.82018418324676 CHANGE:  -0.9499999999998181 MONEY:  12.670000000002346\n",
      "Current Close Scaled:  -2.8238054875030296\n",
      "PREDICTION tensor([[-2.8161]], grad_fn=<AddmmBackward0>)\n",
      "BUY AT:  2093.11 TIME:  1652457180000\n"
     ]
    },
    {
     "name": "stderr",
     "output_type": "stream",
     "text": [
      "/var/folders/9w/783wdyf54fb3b79gq32y3t4h0000gn/T/ipykernel_19541/692568148.py:107: FutureWarning: The frame.append method is deprecated and will be removed from pandas in a future version. Use pandas.concat instead.\n",
      "  df_history = df_history.append(scaled_df, ignore_index = True)\n"
     ]
    },
    {
     "name": "stdout",
     "output_type": "stream",
     "text": [
      "\n",
      "######################\n",
      "candle closed at 2091.46\n",
      "\n",
      "Back Propogate... \n",
      "\n",
      "CORRECT?:  -2.830095052719116 -2.8161299228668213 -2.8238054875030296\n",
      "COUNTBUY:  249 CORRECTBUY:  123 COUNTDONTBUY:  223 CORRECTDONTBUY:  109\n",
      "NEW PRICE:  2091.46 BOUGHT PRICE:  -2.8238054875030296 CHANGE:  -1.650000000000091 MONEY:  11.020000000002256\n",
      "Current Close Scaled:  -2.830095121211289\n",
      "PREDICTION tensor([[-2.8293]], grad_fn=<AddmmBackward0>)\n",
      "BUY AT:  2091.46 TIME:  1652457240000\n"
     ]
    },
    {
     "name": "stderr",
     "output_type": "stream",
     "text": [
      "/var/folders/9w/783wdyf54fb3b79gq32y3t4h0000gn/T/ipykernel_19541/692568148.py:107: FutureWarning: The frame.append method is deprecated and will be removed from pandas in a future version. Use pandas.concat instead.\n",
      "  df_history = df_history.append(scaled_df, ignore_index = True)\n"
     ]
    },
    {
     "name": "stdout",
     "output_type": "stream",
     "text": [
      "\n",
      "######################\n",
      "candle closed at 2090.62\n",
      "\n",
      "Back Propogate... \n",
      "\n",
      "CORRECT?:  -2.83329701423645 -2.829332113265991 -2.830095121211289\n",
      "COUNTBUY:  250 CORRECTBUY:  123 COUNTDONTBUY:  223 CORRECTDONTBUY:  109\n",
      "NEW PRICE:  2090.62 BOUGHT PRICE:  -2.830095121211289 CHANGE:  -0.8400000000001455 MONEY:  10.18000000000211\n",
      "Current Close Scaled:  -2.8332971165536764\n",
      "PREDICTION tensor([[-2.8148]], grad_fn=<AddmmBackward0>)\n",
      "BUY AT:  2090.62 TIME:  1652457300000\n"
     ]
    },
    {
     "name": "stderr",
     "output_type": "stream",
     "text": [
      "/var/folders/9w/783wdyf54fb3b79gq32y3t4h0000gn/T/ipykernel_19541/692568148.py:107: FutureWarning: The frame.append method is deprecated and will be removed from pandas in a future version. Use pandas.concat instead.\n",
      "  df_history = df_history.append(scaled_df, ignore_index = True)\n",
      "\n",
      "KeyboardInterrupt\n",
      "\n"
     ]
    }
   ],
   "source": [
    "nest_asyncio.apply()\n",
    "currMilli = round(time.time() * 1000)\n",
    "df_history = pd.DataFrame(data={\"time\": [], \"opens\": [], \"highs\": [], \"lows\": [], \"closes\": [], \"volumes\": [], \"qavs\": [], \"numTrades\": [], \"tbbavs\": [], \"tbqavs\": [], \"rsis\": [],\"obvs\": [], \"money\": [], \"trueAfter\": [], \"predictionBefore\": []})\n",
    "\n",
    "\n",
    "async def call_api():\n",
    "    global currMilli, df_history\n",
    "    \n",
    "    currCandles = client.get_klines(symbol='ETHUSD', \n",
    "                                    interval=Client.KLINE_INTERVAL_1MINUTE, \n",
    "                                    startTime = (currMilli - 900000), \n",
    "                                    endTime = (currMilli),\n",
    "                                    limit = 14)\n",
    "    opens = [float(c[1]) for c in currCandles]\n",
    "    closes = [float(c[4]) for c in currCandles]\n",
    "    volumes = [float(c[5]) for c in currCandles]\n",
    "    highs = [float(c[2]) for c in currCandles]\n",
    "    lows = [float(c[3]) for c in currCandles]\n",
    "    qavs = [float(c[7]) for c in currCandles]\n",
    "    numTrades = [float(c[8]) for c in currCandles]\n",
    "    tbbavs = [float(c[9]) for c in currCandles]\n",
    "    tbqavs = [float(c[10]) for c in currCandles]\n",
    "\n",
    "    closes.reverse()\n",
    "    volumes.reverse()\n",
    "\n",
    "    rsis = []\n",
    "    obvs = []\n",
    "    scaled_df = None\n",
    "    hidden_squeeze = torch.squeeze(hidden, 1)\n",
    "    countBuy = 0\n",
    "    countDontBuy = 0\n",
    "    correctBuy = 0\n",
    "    correctDontBuy = 0\n",
    "    boughtPrev = False\n",
    "    closePrev = float(0)\n",
    "    money = float(0)\n",
    "    \n",
    "    async with websockets.connect(SOCKET) as websocket:\n",
    "        \n",
    "        while(1):\n",
    "            response = await websocket.recv()\n",
    "\n",
    "            json_message = json.loads(response)\n",
    "\n",
    "            #print(json_message)\n",
    "            candle = json_message['k']\n",
    "\n",
    "            is_candle_closed = candle['x']\n",
    "            close = float(candle['c'])\n",
    "            open_ = float(candle['o'])\n",
    "            high = float(candle['h'])\n",
    "            low = float(candle['l'])\n",
    "            vol = float(candle['v'])\n",
    "            qav = float(candle['q'])\n",
    "            numTrade = float(candle['n'])\n",
    "            tbbav = float(candle['V'])\n",
    "            tbqav = float(candle['Q'])\n",
    "            time = candle['t']\n",
    "\n",
    "            if is_candle_closed:\n",
    "                print(\"\\n######################\\ncandle closed at {}\".format(close))\n",
    "                closes.insert(0, close)\n",
    "                volumes.insert(0, vol)\n",
    "                opens.append(float(open_))\n",
    "                highs.append(float(high))\n",
    "                lows.append(float(low))\n",
    "                qavs.append(float(qav))\n",
    "                numTrades.append(float(numTrade))\n",
    "                tbbavs.append(float(tbbav))\n",
    "                tbqavs.append(float(tbqav))\n",
    "\n",
    "                if(countDontBuy + countBuy > 0):\n",
    "                    df = pd.DataFrame(data={\"opens\": [opens[-1]], \"highs\": [highs[-1]], \"lows\": [lows[-1]], \"closes\": [closes[0]], \"volumes\": [volumes[0]], \"qavs\": [qavs[-1]], \"numTrades\": [numTrades[-1]], \"tbbavs\": [tbbavs[-1]], \"tbqavs\": [tbqavs[-1]], \"rsis\": [1],\"obvs\": [1]})\n",
    "                    scaled_df = scaler.transform(df)\n",
    "                    scaled_df = pd.DataFrame(scaled_df, columns = df.columns)\n",
    "                    data = scaled_df.to_numpy()\n",
    "                    truePred = data[0][3]\n",
    "                    \n",
    "                    print(\"\\nBack Propogate... \\n\")\n",
    "\n",
    "                    hidden_squeeze = hidden_squeeze.detach()\n",
    "                    pred =  torch.squeeze(pred, 1)\n",
    "                    pred =  torch.squeeze(pred, 0)\n",
    "                    truePred = torch.tensor(truePred)\n",
    "                    truePred = truePred.to(torch.float)\n",
    "\n",
    "                    single_loss = loss_function(pred, truePred)\n",
    "                    single_loss.backward()\n",
    "                    clip_grad_norm_(trained_model.parameters(), 5)\n",
    "                    optimizer.step()\n",
    "                    optimizer.zero_grad()\n",
    "                    \n",
    "                    prediction = float(pred.item())\n",
    "                    print(\"CORRECT?: \", float(truePred.item()), prediction, closePrev)\n",
    "\n",
    "                    if(truePred > closePrev and prediction > closePrev):\n",
    "                        correctBuy += 1\n",
    "                    elif(truePred < closePrev and prediction < closePrev):\n",
    "                        correctDontBuy += 1\n",
    "                    print(\"COUNTBUY: \", countBuy , \"CORRECTBUY: \", correctBuy, \"COUNTDONTBUY: \", countDontBuy, \"CORRECTDONTBUY: \", correctDontBuy)\n",
    "                    \n",
    "                    scaled_df['time'] = [time]\n",
    "                    scaled_df['money'] = [money]\n",
    "                    scaled_df['trueAfter'] = [truePred]\n",
    "                    scaled_df['predictionBefore'] = [float(pred.item())]\n",
    "                    df_history = df_history.append(scaled_df, ignore_index = True)\n",
    "                    df_history.to_csv(\"./datahistroy_1m.csv\", sep=',',index=False)\n",
    "                    \n",
    "                if(boughtPrev):\n",
    "                    change = close - closes[1]\n",
    "                    money += change\n",
    "                    print('NEW PRICE: ', close, 'BOUGHT PRICE: ', closePrev, 'CHANGE: ', change, 'MONEY: ', money)\n",
    "                    boughtPrev = False\n",
    "\n",
    "                if len(closes) > RSI_PERIOD: \n",
    "                    np_closes = numpy.array(closes[:15])\n",
    "                    np_vols = numpy.array(volumes[:15])\n",
    "                    rsi = talib.RSI(np_closes, RSI_PERIOD)\n",
    "                    obv = talib.OBV(np_closes, np_vols)\n",
    "                    last_rsi = rsi[-1]\n",
    "                    last_obv = obv[-1]\n",
    "\n",
    "                    df = pd.DataFrame(data={\"opens\": [opens[-1]], \"highs\": [highs[-1]], \"lows\": [lows[-1]], \"closes\": [closes[0]], \"volumes\": [volumes[0]], \"qavs\": [qavs[-1]], \"numTrades\": [numTrades[-1]], \"tbbavs\": [tbbavs[-1]], \"tbqavs\": [tbqavs[-1]], \"rsis\": [last_rsi],\"obvs\": [last_obv]})\n",
    "                    scaled_df = scaler.transform(df)\n",
    "                    scaled_df = pd.DataFrame(scaled_df, columns = df.columns)\n",
    "\n",
    "                    data = scaled_df.to_numpy()\n",
    "\n",
    "                    curr_close = float(data[0][3])\n",
    "                    print('Current Close Scaled: ', curr_close)\n",
    "\n",
    "                    data = torch.tensor(data)\n",
    "                    data = data.to(torch.float)\n",
    "                    pred, hidden_squeeze = trained_model(data, hidden_squeeze)\n",
    "                    print('PREDICTION', pred)\n",
    "                    prediction = float(pred.item())\n",
    "                    \n",
    "                    if(prediction > curr_close):\n",
    "                        countBuy += 1\n",
    "                        print(\"BUY AT: \", closes[0], 'TIME: ', time)\n",
    "                        boughtPrev = True\n",
    "                    else:\n",
    "                        countDontBuy += 1\n",
    "                        print(\"DONT BUY\")\n",
    "                    closePrev = curr_close\n",
    "                        \n",
    "asyncio.get_event_loop().run_until_complete(call_api())\n"
   ]
  },
  {
   "cell_type": "code",
   "execution_count": null,
   "id": "1c4c7b82",
   "metadata": {},
   "outputs": [],
   "source": [
    "asyncio.get_event_loop().close()"
   ]
  },
  {
   "cell_type": "code",
   "execution_count": null,
   "id": "8ce12073",
   "metadata": {},
   "outputs": [],
   "source": [
    "df_history.to_csv(\"./datahistroy_1m.csv\", sep=',',index=False)"
   ]
  },
  {
   "cell_type": "code",
   "execution_count": null,
   "id": "36a9fd3b",
   "metadata": {},
   "outputs": [],
   "source": [
    "data = pd.read_csv('datahistroy_1m.csv')\n",
    "data.head(100)"
   ]
  }
 ],
 "metadata": {
  "kernelspec": {
   "display_name": "Python 3 (ipykernel)",
   "language": "python",
   "name": "python3"
  },
  "language_info": {
   "codemirror_mode": {
    "name": "ipython",
    "version": 3
   },
   "file_extension": ".py",
   "mimetype": "text/x-python",
   "name": "python",
   "nbconvert_exporter": "python",
   "pygments_lexer": "ipython3",
   "version": "3.9.12"
  }
 },
 "nbformat": 4,
 "nbformat_minor": 5
}
