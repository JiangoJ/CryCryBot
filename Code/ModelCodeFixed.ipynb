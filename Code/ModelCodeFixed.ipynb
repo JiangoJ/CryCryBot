{
 "cells": [
  {
   "cell_type": "code",
   "execution_count": 1,
   "id": "178b9cf0",
   "metadata": {},
   "outputs": [],
   "source": [
    "import torch.nn as nn\n",
    "import numpy as np\n",
    "import pandas as pd\n",
    "import torch\n",
    "import matplotlib.pyplot as plt \n",
    "from sklearn.model_selection import train_test_split\n",
    "from torch.utils.data import DataLoader\n",
    "from torch.nn.utils import clip_grad_norm_\n",
    "torch.autograd.set_detect_anomaly(True)\n",
    "import websocket, json, pprint, talib, numpy\n",
    "import websockets\n",
    "from binance.client import Client\n",
    "from binance.enums import *\n",
    "import joblib\n",
    "import robin_stocks as rs\n",
    "import config\n",
    "import asyncio\n",
    "import nest_asyncio\n",
    "import time"
   ]
  },
  {
   "cell_type": "code",
   "execution_count": 2,
   "id": "07d83952",
   "metadata": {},
   "outputs": [
    {
     "data": {
      "text/plain": [
       "{'access_token': 'eyJ0eXAiOiJKV1QiLCJhbGciOiJSUzI1NiJ9.eyJleHAiOjE2NTI4MjQ0MTIsInRva2VuIjoiSVZVMXluUXBHa28xa3dRT3J3ZlVmenFQcHp0NloyIiwidXNlcl9pZCI6Ijk1MmFhMzljLTBhMjQtNDliMS05MjQ0LWE2NmM0ZTYzZDQzOCIsImRldmljZV9oYXNoIjoiNzZkMTM3YmU4YzExYTY1OTA4YjViNDIyOTkyMmYzZGIiLCJzY29wZSI6ImludGVybmFsIiwiZGN0IjoxNjUyMTIxMTM2LCJzZXJ2aWNlX3JlY29yZHMiOlt7ImhhbHRlZCI6ZmFsc2UsInNlcnZpY2UiOiJudW1tdXNfdXMiLCJzaGFyZF9pZCI6MSwic3RhdGUiOiJhdmFpbGFibGUifSx7ImhhbHRlZCI6ZmFsc2UsInNlcnZpY2UiOiJicm9rZWJhY2tfdXMiLCJzaGFyZF9pZCI6Niwic3RhdGUiOiJhdmFpbGFibGUifV0sInVzZXJfb3JpZ2luIjoiVVMiLCJvcHRpb25zIjp0cnVlLCJsZXZlbDJfYWNjZXNzIjpmYWxzZX0.KuT4wFtndQo_p50zmGwAxFQ4er6pK1jmrf1IAzG_oMW_dxF9WyWr2JINOVafB5GzDL0C1R-YDnhV3jiHcdcByG5agKIrk-rsIryczLUSvnWQUxHKVI6Cs5m9ZFGNCvFnyHkbKGIbGvh63Q_TqT-Hvb2i23dSjJ-B8fDzjzDhpInJmxTriAVVCxroJ1xygbVNDg9vODBSctX9NwaF2UpAhdEyAbG4_KrMgRkzVhM3DG1ZicZVgSrRJqpVPmdVwYdhSw2JBOOresWAZZXfXgTYV6eCz91m2kffWgIimgKmxh_t6XWc_jOPEQMORKWGzaL_6dAGa2kU-o_RoULPJlFfKw',\n",
       " 'token_type': 'Bearer',\n",
       " 'expires_in': 86400,\n",
       " 'scope': 'internal',\n",
       " 'detail': 'logged in using authentication in robinhood.pickle',\n",
       " 'backup_code': None,\n",
       " 'refresh_token': 'x2s3tRKNVHM6UDm4apjdatkuKWGUcR'}"
      ]
     },
     "execution_count": 2,
     "metadata": {},
     "output_type": "execute_result"
    }
   ],
   "source": [
    "rs.robinhood.login(username= config.RH_USER, password= config.RH_PASS, expiresIn=86400, by_sms=True)"
   ]
  },
  {
   "cell_type": "code",
   "execution_count": 3,
   "id": "92965db8",
   "metadata": {},
   "outputs": [],
   "source": [
    "#rs.robinhood.order_buy_crypto_by_price('ETH', 1)"
   ]
  },
  {
   "cell_type": "code",
   "execution_count": 4,
   "id": "4927e793",
   "metadata": {},
   "outputs": [
    {
     "name": "stdout",
     "output_type": "stream",
     "text": [
      "43300 43300\n"
     ]
    }
   ],
   "source": [
    "data = pd.read_csv('data_1m.csv')\n",
    "data = data.iloc[:43301]\n",
    "#labels = data.loc[:, \"labels\"]\n",
    "close = data.loc[:, \"closes\"]\n",
    "close = close.iloc[1:]\n",
    "data = data.iloc[:-1]\n",
    "data = data.drop([\"labels\"], axis=1)\n",
    "data.head()\n",
    "\n",
    "print(len(data), len(close))"
   ]
  },
  {
   "cell_type": "code",
   "execution_count": 5,
   "id": "b4904391",
   "metadata": {},
   "outputs": [
    {
     "name": "stdout",
     "output_type": "stream",
     "text": [
      "21650 21650 21650 21650\n"
     ]
    }
   ],
   "source": [
    "data = data.to_numpy()\n",
    "close = close.to_numpy()\n",
    "#extra = np.shape(data)[0] % 32\n",
    "#data = data[extra:, :]\n",
    "data = torch.tensor(data)\n",
    "data = data.to(torch.float)\n",
    "#close = close[extra:]\n",
    "close = torch.tensor(close)\n",
    "close = close.to(torch.float)\n",
    "data, X_test, close, y_test = train_test_split(data, close, test_size=0.5, shuffle = False)\n",
    "print(len(data), len(X_test), len(close), len(y_test))\n",
    "class Dataset():\n",
    "    def __init__(self, array, labels):\n",
    "        self.array = array\n",
    "        self.labels = labels\n",
    "\n",
    "    def __len__(self):\n",
    "        return self.array.shape[0]\n",
    "\n",
    "    def __getitem__(self, idx):\n",
    "        return self.array[idx, :], self.labels[idx]\n"
   ]
  },
  {
   "cell_type": "code",
   "execution_count": 6,
   "id": "3406515e",
   "metadata": {},
   "outputs": [],
   "source": [
    "batch_size = 1 \n",
    "fulldata = Dataset(data, close)\n",
    "dataloader = DataLoader(fulldata, batch_size)\n",
    "loss_function = nn.MSELoss()\n",
    "\n",
    "testdata = Dataset(X_test, y_test)\n",
    "testdataloader = DataLoader(testdata, batch_size)\n",
    "\n",
    "pred_array = np.zeros(len(data))"
   ]
  },
  {
   "cell_type": "code",
   "execution_count": 7,
   "id": "a7805701",
   "metadata": {
    "scrolled": true
   },
   "outputs": [
    {
     "name": "stdout",
     "output_type": "stream",
     "text": [
      "0\n",
      "0.5983555912971497\n",
      "100\n",
      "4.344143165143464\n",
      "200\n",
      "0.6052161373738869\n",
      "300\n",
      "0.22576446624483992\n",
      "400\n",
      "0.2649395458666248\n",
      "500\n",
      "0.11689033813959782\n",
      "600\n",
      "0.4307086036901637\n",
      "700\n",
      "0.3789518561393592\n",
      "800\n",
      "0.0499004251414874\n",
      "900\n",
      "0.031575145093459156\n",
      "1000\n",
      "0.07094235827474904\n",
      "1100\n",
      "0.0675092809624438\n",
      "1200\n",
      "0.1652852408908707\n",
      "1300\n",
      "0.021280318533968057\n",
      "1400\n",
      "0.07588006058877639\n",
      "1500\n",
      "0.09945532948269431\n",
      "1600\n",
      "0.016821401917813006\n",
      "1700\n",
      "0.0505215152381453\n",
      "1800\n",
      "0.037967966888203364\n",
      "1900\n",
      "0.12260689835432359\n",
      "2000\n",
      "0.026924478824643217\n",
      "2100\n",
      "0.023683407243510146\n",
      "2200\n",
      "0.017365891438316794\n",
      "2300\n",
      "0.0102843431014783\n",
      "2400\n",
      "0.006615532045479711\n",
      "2500\n",
      "0.008750013195271578\n",
      "2600\n",
      "0.02058464883035427\n",
      "2700\n",
      "0.032256965718204356\n",
      "2800\n",
      "0.09861326678424476\n",
      "2900\n",
      "0.08189940166533916\n",
      "3000\n",
      "0.08974690740948077\n",
      "3100\n",
      "0.10098999069941783\n",
      "3200\n",
      "0.08067839295375734\n",
      "3300\n",
      "0.10829919219247586\n",
      "3400\n",
      "0.007288818303983646\n",
      "3500\n",
      "0.01503263232300256\n",
      "3600\n",
      "0.0073992972916983035\n",
      "3700\n",
      "0.11576204074033924\n",
      "3800\n",
      "0.06032598271307066\n",
      "3900\n",
      "0.08342698374549684\n",
      "4000\n",
      "0.010404858487209623\n",
      "4100\n",
      "0.01530563316580924\n",
      "4200\n",
      "0.013839483050432477\n",
      "4300\n",
      "0.017477607903742864\n",
      "4400\n",
      "0.004257112232203042\n",
      "4500\n",
      "0.00780768437681445\n",
      "4600\n",
      "0.08976278125459203\n",
      "4700\n",
      "0.08799467726410981\n",
      "4800\n",
      "0.01573880919839965\n",
      "4900\n",
      "0.07611731630136376\n",
      "5000\n",
      "0.017519370325832284\n",
      "5100\n",
      "0.037778457828622436\n",
      "5200\n",
      "0.07621133771212385\n",
      "5300\n",
      "0.012138206176398825\n",
      "5400\n",
      "0.006917258555560579\n",
      "5500\n",
      "0.19179550015642022\n",
      "5600\n",
      "0.008834734435801295\n",
      "5700\n",
      "0.02865268486591166\n",
      "5800\n",
      "0.02010066041450642\n",
      "5900\n",
      "0.017909137273203868\n",
      "6000\n",
      "0.05783372050257185\n",
      "6100\n",
      "0.021621945651279617\n",
      "6200\n",
      "0.04150561401038022\n",
      "6300\n",
      "0.11761883481699442\n",
      "6400\n",
      "0.04042235714263498\n",
      "6500\n",
      "0.024051151213289046\n",
      "6600\n",
      "0.05828583454939462\n",
      "6700\n",
      "0.026973545975383928\n",
      "6800\n",
      "0.019792420387531706\n",
      "6900\n",
      "0.015197620277294988\n",
      "7000\n",
      "0.005439766723487338\n",
      "7100\n",
      "0.028981767045877405\n",
      "7200\n",
      "0.027292976697424365\n",
      "7300\n",
      "0.01905641924801671\n",
      "7400\n",
      "0.05480027461979731\n",
      "7500\n",
      "0.05828181411169453\n",
      "7600\n",
      "0.04738549057499597\n",
      "7700\n",
      "0.014615996735756198\n",
      "7800\n",
      "0.019595206860870462\n",
      "7900\n",
      "0.01871967237691763\n",
      "8000\n",
      "0.018360731382102813\n",
      "8100\n",
      "0.07649262199196727\n",
      "8200\n",
      "0.013634099701818059\n",
      "8300\n",
      "0.007187728953017114\n",
      "8400\n",
      "0.006898361541889386\n",
      "8500\n",
      "0.01330403865345886\n",
      "8600\n",
      "0.007473236528184657\n",
      "8700\n",
      "0.033052338742280085\n",
      "8800\n",
      "0.0829559820333543\n",
      "8900\n",
      "0.06890806999393817\n",
      "9000\n",
      "0.06979418345713384\n",
      "9100\n",
      "0.021388155587303004\n",
      "9200\n",
      "0.0558694363920722\n",
      "9300\n",
      "0.029332975306633813\n",
      "9400\n",
      "0.025445584107984587\n",
      "9500\n",
      "0.024987256426260984\n",
      "9600\n",
      "0.013955480672564136\n",
      "9700\n",
      "0.012566167085012125\n",
      "9800\n",
      "0.011964787575166724\n",
      "9900\n",
      "0.016922082994099696\n",
      "10000\n",
      "0.017178355768294296\n",
      "10100\n",
      "0.051966317531253026\n",
      "10200\n",
      "0.10666001325149921\n",
      "10300\n",
      "0.05289825274070381\n",
      "10400\n",
      "0.05603788131782039\n",
      "10500\n",
      "0.0353585636539151\n",
      "10600\n",
      "0.0878019060118369\n",
      "10700\n",
      "0.04299295306768158\n",
      "10800\n",
      "0.18154897468556896\n",
      "10900\n",
      "0.04774645696090829\n",
      "11000\n",
      "0.012222013745518012\n",
      "11100\n",
      "0.03093596705460655\n",
      "11200\n",
      "0.02646279280986974\n",
      "11300\n",
      "0.09021949922060912\n",
      "11400\n",
      "0.03368029477587697\n",
      "11500\n",
      "0.021781453232911474\n",
      "11600\n",
      "0.015761867661868934\n",
      "11700\n",
      "0.04909504032987755\n",
      "11800\n",
      "0.04772741425284721\n",
      "11900\n",
      "0.027298269063265934\n",
      "12000\n",
      "0.044133894450681055\n",
      "12100\n",
      "0.02940106274501275\n",
      "12200\n",
      "0.0639353185677578\n",
      "12300\n",
      "0.029863828044781826\n",
      "12400\n",
      "0.013601185981897856\n",
      "12500\n",
      "0.07496878779051386\n",
      "12600\n",
      "0.0485149096353652\n",
      "12700\n",
      "0.01571918877703027\n",
      "12800\n",
      "0.03810883943697263\n",
      "12900\n",
      "0.019536225316176825\n",
      "13000\n",
      "0.012588242537308503\n",
      "13100\n",
      "0.013294676204573364\n",
      "13200\n",
      "0.021147484331407895\n",
      "13300\n",
      "0.036706653636134234\n",
      "13400\n",
      "0.018307884253818685\n",
      "13500\n",
      "0.021312171936532565\n",
      "13600\n",
      "0.005751105636779386\n",
      "13700\n",
      "0.047576854197075136\n",
      "13800\n",
      "0.018176694026525553\n",
      "13900\n",
      "0.026059833147087375\n",
      "14000\n",
      "0.007402072622305411\n",
      "14100\n",
      "0.010378128800514475\n",
      "14200\n",
      "0.02573349833174632\n",
      "14300\n",
      "0.02288003131936378\n",
      "14400\n",
      "0.005380932834160745\n",
      "14500\n",
      "0.04861143598969875\n",
      "14600\n",
      "0.03570639737262482\n",
      "14700\n",
      "0.13373450389994446\n",
      "14800\n",
      "0.02859450922832707\n",
      "14900\n",
      "0.010836133121863156\n",
      "15000\n",
      "0.03685269560688198\n",
      "15100\n",
      "0.06145939687746704\n",
      "15200\n",
      "0.022684647509437106\n",
      "15300\n",
      "0.010457301583373102\n",
      "15400\n",
      "0.01679308157820003\n",
      "15500\n",
      "0.05399435373570327\n",
      "15600\n",
      "0.022149431402919362\n",
      "15700\n",
      "0.038555713363313204\n",
      "15800\n",
      "0.043676683401550065\n",
      "15900\n",
      "0.09221893269530046\n",
      "16000\n",
      "0.08532389507150029\n",
      "16100\n",
      "0.02103613718378483\n",
      "16200\n",
      "0.029121852009097893\n",
      "16300\n",
      "0.07489116384863337\n",
      "16400\n",
      "0.02188687018453095\n",
      "16500\n",
      "0.029876413778271882\n",
      "16600\n",
      "0.008436377930948424\n",
      "16700\n",
      "0.013095942751206735\n",
      "16800\n",
      "0.00307049282666938\n",
      "16900\n",
      "0.015319082164189979\n",
      "17000\n",
      "0.013828374406958943\n",
      "17100\n",
      "0.0093307404677212\n",
      "17200\n",
      "0.013248876482805372\n",
      "17300\n",
      "0.07035016149553996\n",
      "17400\n",
      "0.037703801704005\n",
      "17500\n",
      "0.10590145674953622\n",
      "17600\n",
      "0.06095032412207502\n",
      "17700\n",
      "0.1513397882465084\n",
      "17800\n",
      "0.1566586617905159\n",
      "17900\n",
      "0.06475740450704848\n",
      "18000\n",
      "0.03978236341207264\n",
      "18100\n",
      "0.022934708587861508\n",
      "18200\n",
      "0.041276201873827745\n",
      "18300\n",
      "0.01881681501497212\n",
      "18400\n",
      "0.014363499968879978\n",
      "18500\n",
      "0.052231655149419964\n",
      "18600\n",
      "0.022196721874891523\n",
      "18700\n",
      "0.03728898264351699\n",
      "18800\n",
      "0.1223651675363302\n",
      "18900\n",
      "0.04833341163273985\n",
      "19000\n",
      "0.025954453852989445\n",
      "19100\n",
      "0.03186039979442512\n",
      "19200\n",
      "0.015873692586570343\n",
      "19300\n",
      "0.012630351037955734\n",
      "19400\n",
      "0.04919620516352641\n",
      "19500\n",
      "0.018505732739446223\n",
      "19600\n",
      "0.012240135375066075\n",
      "19700\n",
      "0.008147419420247992\n",
      "19800\n",
      "0.040937176840303735\n",
      "19900\n",
      "0.024545944012711374\n",
      "20000\n",
      "0.012969755027171459\n",
      "20100\n",
      "0.027416684827102245\n",
      "20200\n",
      "0.0881572320950994\n",
      "20300\n",
      "0.1100049245852972\n",
      "20400\n",
      "0.03453207834003891\n",
      "20500\n",
      "0.03521331744674683\n",
      "20600\n",
      "0.041242610563248405\n",
      "20700\n",
      "0.01230375124524219\n",
      "20800\n",
      "0.012145795146015104\n",
      "20900\n",
      "0.01800272630349653\n",
      "21000\n",
      "0.02765864557023079\n",
      "21100\n",
      "0.017515166081285116\n",
      "21200\n",
      "0.004934640437287641\n",
      "21300\n",
      "0.03064081697872112\n",
      "21400\n",
      "0.04992559899583071\n",
      "21500\n",
      "0.07113539260933521\n",
      "21600\n",
      "0.07344020825619246\n"
     ]
    }
   ],
   "source": [
    "class RNNModel(torch.nn.Module):\n",
    "    def __init__(self, input_size, HL_size, num_layers = 1):\n",
    "        super(RNNModel, self).__init__()\n",
    "        self.rnn = torch.nn.RNN(input_size=input_size,\n",
    "                                hidden_size=HL_size,\n",
    "                                num_layers=num_layers)\n",
    "        \n",
    "        self.linear = torch.nn.Linear(HL_size , 12)\n",
    "        self.linear2 = torch.nn.Linear(12, 1)\n",
    "        self.num_layers = num_layers\n",
    "        self.hidden_size = HL_size\n",
    "        \n",
    "    def forward(self, inputs, hidden):\n",
    "        out, hidden = self.rnn(inputs, hidden)\n",
    "        pred = self.linear(out)\n",
    "        pred = self.linear2(pred)\n",
    "\n",
    "        #hidden = hidden.view(-1, 1, self.hidden_size)\n",
    "        return pred, hidden\n",
    "    \n",
    "    def init_hidden(self, batch = 1):\n",
    "        hidden = torch.randn(self.num_layers, batch, self.hidden_size)\n",
    "        return hidden\n",
    "\n",
    "def rnn_train():\n",
    "    model = RNNModel(np.shape(data)[1], HL_size = 24, num_layers = 1)\n",
    "    optimizer = torch.optim.Adam(model.parameters(), lr=0.005)\n",
    "    hidden = model.init_hidden(batch_size)\n",
    "    total_loss = 0\n",
    "    for batch_idx, (batch, truth) in enumerate(dataloader):\n",
    "        \n",
    "        hidden = hidden.detach()\n",
    "\n",
    "        batch = np.reshape(batch, (1, -1, 11))\n",
    "        pred, hidden = model.forward(batch, hidden)\n",
    "\n",
    "        pred = torch.squeeze(pred, 0)\n",
    "        pred = torch.squeeze(pred, 1)\n",
    "        #print(pred)\n",
    "        pred_array[batch_idx] = pred.item()\n",
    "        single_loss = loss_function(pred, truth)\n",
    "        single_loss.backward(retain_graph=True)\n",
    "        clip_grad_norm_(model.parameters(), 5)\n",
    "        optimizer.step()\n",
    "        optimizer.zero_grad()\n",
    "        total_loss = total_loss + single_loss.item()\n",
    "        if batch_idx % 100 == 0:\n",
    "            print(batch_idx)\n",
    "            print(total_loss)\n",
    "            #print(hidden)\n",
    "            total_loss = 0\n",
    "            \n",
    "    '''\n",
    "    for name, param in model.named_parameters():\n",
    "                if param.requires_grad:\n",
    "                    print(name, param.data)\n",
    "    '''\n",
    "    return model, hidden\n",
    "            \n",
    "trained_model, final_hidden = rnn_train()"
   ]
  },
  {
   "cell_type": "code",
   "execution_count": 8,
   "id": "91abf62b",
   "metadata": {},
   "outputs": [
    {
     "name": "stdout",
     "output_type": "stream",
     "text": [
      "21650\n",
      "21650\n",
      "[ 0.31772636  0.31006629  0.30951032 ... -2.31900466 -2.31900466\n",
      " -2.31103572]\n",
      "tensor([ 0.2743,  0.2743,  0.2743,  ..., -2.1924, -2.1924, -2.2014])\n"
     ]
    },
    {
     "data": {
      "image/png": "[encoded data removed]",
      "text/plain": [
       "<Figure size 432x288 with 1 Axes>"
      ]
     },
     "metadata": {
      "needs_background": "light"
     },
     "output_type": "display_data"
    }
   ],
   "source": [
    "data2 = pd.read_csv('data_1m.csv')\n",
    "data2 = data2.iloc[21350: 43000]\n",
    "truth_array = data2.loc[:, \"closes\"].to_numpy()\n",
    "close_numpy = close.numpy()\n",
    "print(len(truth_array))\n",
    "print(len(pred_array))\n",
    "print(truth_array)\n",
    "print(y_test)\n",
    "plt.plot(close_numpy)\n",
    "plt.plot(pred_array)\n",
    "plt.show()"
   ]
  },
  {
   "cell_type": "code",
   "execution_count": 9,
   "id": "09a1bb5c",
   "metadata": {},
   "outputs": [
    {
     "name": "stdout",
     "output_type": "stream",
     "text": [
      "0\n",
      "100\n",
      "200\n",
      "300\n",
      "400\n",
      "500\n",
      "600\n",
      "700\n",
      "800\n",
      "900\n",
      "1000\n",
      "1100\n",
      "1200\n",
      "1300\n",
      "1400\n",
      "1500\n",
      "1600\n",
      "1700\n",
      "1800\n",
      "1900\n",
      "2000\n",
      "2100\n",
      "2200\n",
      "2300\n",
      "2400\n",
      "2500\n",
      "2600\n",
      "2700\n",
      "2800\n",
      "2900\n",
      "3000\n",
      "3100\n",
      "3200\n",
      "3300\n",
      "3400\n",
      "3500\n",
      "3600\n",
      "3700\n",
      "3800\n",
      "3900\n",
      "4000\n",
      "4100\n",
      "4200\n",
      "4300\n",
      "4400\n",
      "4500\n",
      "4600\n",
      "4700\n",
      "4800\n",
      "4900\n",
      "5000\n",
      "5100\n",
      "5200\n",
      "5300\n",
      "5400\n",
      "5500\n",
      "5600\n",
      "5700\n",
      "5800\n",
      "5900\n",
      "6000\n",
      "6100\n",
      "6200\n",
      "6300\n",
      "6400\n",
      "6500\n",
      "6600\n",
      "6700\n",
      "6800\n",
      "6900\n",
      "7000\n",
      "7100\n",
      "7200\n",
      "7300\n",
      "7400\n",
      "7500\n",
      "7600\n",
      "7700\n",
      "7800\n",
      "7900\n",
      "8000\n",
      "8100\n",
      "8200\n",
      "8300\n",
      "8400\n",
      "8500\n",
      "8600\n",
      "8700\n",
      "8800\n",
      "8900\n",
      "9000\n",
      "9100\n",
      "9200\n",
      "9300\n",
      "9400\n",
      "9500\n",
      "9600\n",
      "9700\n",
      "9800\n",
      "9900\n",
      "10000\n",
      "10100\n",
      "10200\n",
      "10300\n",
      "10400\n",
      "10500\n",
      "10600\n",
      "10700\n",
      "10800\n",
      "10900\n",
      "11000\n",
      "11100\n",
      "11200\n",
      "11300\n",
      "11400\n",
      "11500\n",
      "11600\n",
      "11700\n",
      "11800\n",
      "11900\n",
      "12000\n",
      "12100\n",
      "12200\n",
      "12300\n",
      "12400\n",
      "12500\n",
      "12600\n",
      "12700\n",
      "12800\n",
      "12900\n",
      "13000\n",
      "13100\n",
      "13200\n",
      "13300\n",
      "13400\n",
      "13500\n",
      "13600\n",
      "13700\n",
      "13800\n",
      "13900\n",
      "14000\n",
      "14100\n",
      "14200\n",
      "14300\n",
      "14400\n",
      "14500\n",
      "14600\n",
      "14700\n",
      "14800\n",
      "14900\n",
      "15000\n",
      "15100\n",
      "15200\n",
      "15300\n",
      "15400\n",
      "15500\n",
      "15600\n",
      "15700\n",
      "15800\n",
      "15900\n",
      "16000\n",
      "16100\n",
      "16200\n",
      "16300\n",
      "16400\n",
      "16500\n",
      "16600\n",
      "16700\n",
      "16800\n",
      "16900\n",
      "17000\n",
      "17100\n",
      "17200\n",
      "17300\n",
      "17400\n",
      "17500\n",
      "17600\n",
      "17700\n",
      "17800\n",
      "17900\n",
      "18000\n",
      "18100\n",
      "18200\n",
      "18300\n",
      "18400\n",
      "18500\n",
      "18600\n",
      "18700\n",
      "18800\n",
      "18900\n",
      "19000\n",
      "19100\n",
      "19200\n",
      "19300\n",
      "19400\n",
      "19500\n",
      "19600\n",
      "19700\n",
      "19800\n",
      "19900\n",
      "20000\n",
      "20100\n",
      "20200\n",
      "20300\n",
      "20400\n",
      "20500\n",
      "20600\n",
      "20700\n",
      "20800\n",
      "20900\n",
      "21000\n",
      "21100\n",
      "21200\n",
      "21300\n",
      "21400\n",
      "21500\n",
      "21600\n",
      "######\n",
      " 1145\n",
      "21650\n"
     ]
    }
   ],
   "source": [
    "hidden = final_hidden\n",
    "total_batches = 0\n",
    "total_error = 0\n",
    "\n",
    "#model = RNNModel(np.shape(data)[1], HL_size = 24, num_layers = 2)\n",
    "\n",
    "optimizer = torch.optim.Adam(trained_model.parameters(), lr=0.01)\n",
    "    \n",
    "for batch_idx, (batch, truth) in enumerate(testdataloader):\n",
    "    optimizer.zero_grad()\n",
    "    hidden = hidden.detach()\n",
    "    batch = np.reshape(batch, (1, -1, 11))\n",
    "    pred, hidden = trained_model.forward(batch, hidden)\n",
    "    pred = torch.squeeze(pred, 0)\n",
    "    pred = torch.squeeze(pred, 1)\n",
    "    single_loss = loss_function(pred, truth)\n",
    "    single_loss.backward(retain_graph=True)\n",
    "    clip_grad_norm_(trained_model.parameters(), 5)\n",
    "    optimizer.step()\n",
    "    total_batches += 1\n",
    "    if (pred < truth_array[batch_idx] and truth > truth_array[batch_idx]) or \\\n",
    "        (pred > truth_array[batch_idx] and truth < truth_array[batch_idx]):\n",
    "            total_error +=1\n",
    "    if batch_idx % 100 == 0:\n",
    "            print(batch_idx)\n",
    "                                                                 \n",
    "\n",
    "        \n",
    "print('######\\n', total_error)\n",
    "print(total_batches)"
   ]
  },
  {
   "cell_type": "markdown",
   "id": "3986a347",
   "metadata": {},
   "source": [
    "## Live Prediction"
   ]
  },
  {
   "cell_type": "code",
   "execution_count": 10,
   "id": "fb8118e6",
   "metadata": {},
   "outputs": [],
   "source": [
    "SOCKET = \"wss://stream.binance.com:9443/ws/ethusdt@kline_1m\"\n",
    "RSI_PERIOD = 14\n",
    "in_position = False\n",
    "client = Client(config.KEY, config.SECRET, tld='us')\n",
    "scaler = joblib.load('standard_scaler_1m.save')"
   ]
  },
  {
   "cell_type": "code",
   "execution_count": 11,
   "id": "0aa2a9e0",
   "metadata": {},
   "outputs": [],
   "source": [
    "# import time\n",
    "# currMilli = round(time.time() * 1000)\n",
    "# currCandles = client.get_klines(symbol='ETHUSDT', \n",
    "#                                 interval=Client.KLINE_INTERVAL_1MINUTE, \n",
    "#                                 startTime = (currMilli - 900000), \n",
    "#                                 endTime = (currMilli),\n",
    "#                                 limit = 14)\n",
    "\n",
    "# #print(currCandles)\n",
    "\n",
    "\n",
    "# opens = [float(c[1]) for c in currCandles]\n",
    "# closes = [float(c[4]) for c in currCandles]\n",
    "# volumes = [float(c[5]) for c in currCandles]\n",
    "# highs = [float(c[2]) for c in currCandles]\n",
    "# lows = [float(c[3]) for c in currCandles]\n",
    "# qavs = [float(c[7]) for c in currCandles]\n",
    "# numTrades = [float(c[8]) for c in currCandles]\n",
    "# tbbavs = [float(c[9]) for c in currCandles]\n",
    "# tbqavs = [float(c[10]) for c in currCandles]\n",
    "\n",
    "# closes.reverse()\n",
    "# volumes.reverse()\n",
    "\n",
    "# rsis = []\n",
    "# obvs = []\n",
    "# scaled_df = None\n",
    "# hidden_squeeze = torch.squeeze(hidden, 1)\n",
    "# df_history = pd.DataFrame(data={\"time\": [], \"opens\": [], \"highs\": [], \"lows\": [], \"closes\": [], \"volumes\": [], \"qavs\": [], \"numTrades\": [], \"tbbavs\": [], \"tbqavs\": [], \"rsis\": [],\"obvs\": []})\n",
    "# count = 0\n",
    "# correct = 0\n",
    "# boughtPrev = False\n",
    "# closePrev = float(0)\n",
    "# predPrev = float(0)\n",
    "# money = float(0)\n",
    "\n",
    "\n",
    "# async def on_message():\n",
    "#     global hidden_squeeze, closePrev, boughtPrev, closes, in_position, opens, highs, lows, volumes, qavs, numTrades, tbbavs, tbqavs, rsis, obvs, df_history, money, count, correct\n",
    "    \n",
    "    \n",
    "#     #print('CLOSES: ', len(closes), closes)\n",
    "#     #print('received message')\n",
    "#     json_message = json.loads(message)\n",
    "#     #pprint.pprint(json_message)\n",
    "\n",
    "#     candle = json_message['k']\n",
    " \n",
    "#     is_candle_closed = candle['x']\n",
    "#     close = float(candle['c'])\n",
    "#     open_ = float(candle['o'])\n",
    "#     high = float(candle['h'])\n",
    "#     low = float(candle['l'])\n",
    "#     vol = float(candle['v'])\n",
    "#     qav = float(candle['q'])\n",
    "#     numTrade = float(candle['n'])\n",
    "#     tbbav = float(candle['V'])\n",
    "#     tbqav = float(candle['Q'])\n",
    "#     time = candle['t']\n",
    "\n",
    "#     if is_candle_closed:\n",
    "#         print(\"candle closed at {}\".format(close))\n",
    "#         closes.insert(0, close)\n",
    "#         volumes.insert(0, vol)\n",
    "#         opens.append(float(open_))\n",
    "#         highs.append(float(high))\n",
    "#         lows.append(float(low))\n",
    "#         qavs.append(float(qav))\n",
    "#         numTrades.append(float(numTrade))\n",
    "#         tbbavs.append(float(tbbav))\n",
    "#         tbqavs.append(float(tbqav))\n",
    "        \n",
    "# #         if(predPrev != float(0)):\n",
    "# #             df = pd.DataFrame(data={\"opens\": [opens[-1]], \"highs\": [highs[-1]], \"lows\": [lows[-1]], \"closes\": [closes[0]], \"volumes\": [volumes[0]], \"qavs\": [qavs[-1]], \"numTrades\": [numTrades[-1]], \"tbbavs\": [tbbavs[-1]], \"tbqavs\": [tbqavs[-1]], \"rsis\": [1],\"obvs\": [1]})\n",
    "# #             scaled_df = scaler.transform(df)\n",
    "# #             scaled_df = pd.DataFrame(scaled_df, columns = df.columns)\n",
    "# #             data = scaled_df.to_numpy()\n",
    "# #             truePred = data[0][3]\n",
    "# #             print(\"\\nBack Propogate... \\n\")\n",
    "                                  \n",
    "# #             predPrev =  torch.squeeze(predPrev, 1)\n",
    "# #             predPrev =  torch.squeeze(predPrev, 0)\n",
    "# #             truePred = torch.tensor(truePred)\n",
    "# #             truePred = truePred.to(torch.float)\n",
    "            \n",
    "# #             print(predPrev, np.shape(predPrev), truePred, np.shape(truePred))\n",
    "\n",
    "# #             single_loss = loss_function(predPrev, truePred)\n",
    "# #             print('1')\n",
    "# #             single_loss.backward()\n",
    "# #             print('2')\n",
    "# #             clip_grad_norm_(trained_model.parameters(), 5)\n",
    "# #             print('3')\n",
    "# #             optimizer.step()\n",
    "# #             print('4')\n",
    "# #             optimizer.zero_grad()\n",
    "        \n",
    "#         if(boughtPrev):\n",
    "#             print('here\\n\\n')\n",
    "#             change = close - closePrev\n",
    "#             money += change\n",
    "#             print('NEW PRICE: ', close, 'BOUGHT PRICE: ', closePrev, 'CHANGE: ', change, 'MONEY: ', money)\n",
    "#             boughtPrev = False\n",
    "        \n",
    "#         if len(closes) > RSI_PERIOD: \n",
    "#             count += 1\n",
    "#             np_closes = numpy.array(closes[:15])\n",
    "#             np_vols = numpy.array(volumes[:15])\n",
    "#             rsi = talib.RSI(np_closes, RSI_PERIOD)\n",
    "#             obv = talib.OBV(np_closes, np_vols)\n",
    "#             last_rsi = rsi[-1]\n",
    "#             last_obv = obv[-1]\n",
    "            \n",
    "#             #print(\"the current rsi is {}\".format(last_rsi))\n",
    "#             df = pd.DataFrame(data={\"opens\": [opens[-1]], \"highs\": [highs[-1]], \"lows\": [lows[-1]], \"closes\": [closes[0]], \"volumes\": [volumes[0]], \"qavs\": [qavs[-1]], \"numTrades\": [numTrades[-1]], \"tbbavs\": [tbbavs[-1]], \"tbqavs\": [tbqavs[-1]], \"rsis\": [last_rsi],\"obvs\": [last_obv]})\n",
    "#             scaled_df = scaler.transform(df)\n",
    "#             scaled_df = pd.DataFrame(scaled_df, columns = df.columns)\n",
    "            \n",
    "# #             scaled_df_labeled = scaled_df\n",
    "# #             scaled_df_labeled['labels'] = [label]\n",
    "# #             print(\"SCALED DF\", scaled_df_labeled.head())\n",
    "#             data = scaled_df.to_numpy()\n",
    "\n",
    "#             curr_close = float(data[0][3])\n",
    "#             print(data)\n",
    "            \n",
    "#             data = torch.tensor(data)\n",
    "#             data = data.to(torch.float)\n",
    "#             pred, hidden_squeeze = trained_model(data, hidden_squeeze)\n",
    "#             print('PREDICTION', pred)\n",
    "#             prediction = float(pred.item())\n",
    "#             #predPrev = torch.clone(pred)\n",
    "            \n",
    "#             hidden_squeeze = hidden_squeeze.detach()\n",
    "#             pred =  torch.squeeze(pred, 1)\n",
    "#             pred =  torch.squeeze(pred, 0)\n",
    "#             truePred = torch.tensor(curr_close)\n",
    "#             truePred = truePred.to(torch.float)\n",
    "            \n",
    "#             print(pred, np.shape(pred), truePred, np.shape(truePred))\n",
    "\n",
    "#             single_loss = loss_function(pred, truePred)\n",
    "#             print('1')\n",
    "#             single_loss.backward(retain_graph=True)\n",
    "#             print('2')\n",
    "#             clip_grad_norm_(trained_model.parameters(), 5)\n",
    "#             print('3')\n",
    "#             optimizer.step()\n",
    "#             print('4')\n",
    "#             optimizer.zero_grad()\n",
    "            \n",
    "#             if(prediction > curr_close):\n",
    "#                 print(\"BUY AT: \", closes[0], 'TIME: ', time)\n",
    "#                 closePrev = closes[0]\n",
    "#                 boughtPrev = True\n",
    "#                 scaled_df['time'] = [time]\n",
    "#                 df_history = df_history.append(scaled_df, ignore_index = True)\n",
    "#                 print('AFTER\\n\\n')\n",
    "            "
   ]
  },
  {
   "cell_type": "code",
   "execution_count": 12,
   "id": "d05adcf7",
   "metadata": {},
   "outputs": [
    {
     "name": "stdout",
     "output_type": "stream",
     "text": [
      "\n",
      "######################\n",
      "candle closed at 2029.03\n",
      "Current Close Scaled:  -2.2604113205229113\n",
      "PREDICTION tensor([[-2.1865]], grad_fn=<AddmmBackward0>)\n",
      "BUY AT:  2029.03 TIME:  1652595240000\n",
      "\n",
      "######################\n",
      "candle closed at 2024.8\n",
      "\n",
      "Back Propogate... \n",
      "\n",
      "CORRECT?:  -2.2734766006469727 -2.186469554901123 -2.2604113205229113\n",
      "COUNTBUY:  1 CORRECTBUY:  0 COUNTDONTBUY:  0 CORRECTDONTBUY:  0\n",
      "NEW PRICE:  2024.8 BOUGHT PRICE:  -2.2604113205229113 CHANGE:  -4.230000000000018 MONEY:  -4.230000000000018\n",
      "Current Close Scaled:  -2.2734766769805077\n"
     ]
    },
    {
     "name": "stderr",
     "output_type": "stream",
     "text": [
      "/var/folders/9w/783wdyf54fb3b79gq32y3t4h0000gn/T/ipykernel_29232/1462510502.py:114: FutureWarning: The frame.append method is deprecated and will be removed from pandas in a future version. Use pandas.concat instead.\n",
      "  df_history = df_history.append(scaled_df, ignore_index = True)\n"
     ]
    },
    {
     "name": "stdout",
     "output_type": "stream",
     "text": [
      "PREDICTION tensor([[-2.2092]], grad_fn=<AddmmBackward0>)\n",
      "BUY AT:  2024.8 TIME:  1652595300000\n",
      "\n",
      "######################\n",
      "candle closed at 2026.76\n",
      "\n",
      "Back Propogate... \n",
      "\n",
      "CORRECT?:  -2.267422676086426 -2.2092409133911133 -2.2734766769805077\n",
      "COUNTBUY:  2 CORRECTBUY:  1 COUNTDONTBUY:  0 CORRECTDONTBUY:  0\n",
      "NEW PRICE:  2026.76 BOUGHT PRICE:  -2.2734766769805077 CHANGE:  1.9600000000000364 MONEY:  -2.269999999999982\n",
      "Current Close Scaled:  -2.2674227529481463\n",
      "PREDICTION tensor([[-2.2440]], grad_fn=<AddmmBackward0>)\n",
      "BUY AT:  2026.76 TIME:  1652595360000\n"
     ]
    },
    {
     "name": "stderr",
     "output_type": "stream",
     "text": [
      "/var/folders/9w/783wdyf54fb3b79gq32y3t4h0000gn/T/ipykernel_29232/1462510502.py:114: FutureWarning: The frame.append method is deprecated and will be removed from pandas in a future version. Use pandas.concat instead.\n",
      "  df_history = df_history.append(scaled_df, ignore_index = True)\n"
     ]
    },
    {
     "name": "stdout",
     "output_type": "stream",
     "text": [
      "\n",
      "######################\n",
      "candle closed at 2029.69\n",
      "\n",
      "Back Propogate... \n",
      "\n",
      "CORRECT?:  -2.2583727836608887 -2.2440412044525146 -2.2674227529481463\n",
      "COUNTBUY:  3 CORRECTBUY:  2 COUNTDONTBUY:  0 CORRECTDONTBUY:  0\n",
      "NEW PRICE:  2029.69 BOUGHT PRICE:  -2.2674227529481463 CHANGE:  2.9300000000000637 MONEY:  0.6600000000000819\n",
      "Current Close Scaled:  -2.2583727542671155\n",
      "PREDICTION tensor([[-2.2736]], grad_fn=<AddmmBackward0>)\n",
      "DONT BUY\n"
     ]
    },
    {
     "name": "stderr",
     "output_type": "stream",
     "text": [
      "/var/folders/9w/783wdyf54fb3b79gq32y3t4h0000gn/T/ipykernel_29232/1462510502.py:114: FutureWarning: The frame.append method is deprecated and will be removed from pandas in a future version. Use pandas.concat instead.\n",
      "  df_history = df_history.append(scaled_df, ignore_index = True)\n"
     ]
    },
    {
     "name": "stdout",
     "output_type": "stream",
     "text": [
      "\n",
      "######################\n",
      "candle closed at 2030.0\n",
      "\n",
      "Back Propogate... \n",
      "\n",
      "CORRECT?:  -2.257415294647217 -2.273590564727783 -2.2583727542671155\n",
      "COUNTBUY:  3 CORRECTBUY:  2 COUNTDONTBUY:  1 CORRECTDONTBUY:  0\n",
      "Current Close Scaled:  -2.2574152458742422\n",
      "PREDICTION tensor([[-2.2977]], grad_fn=<AddmmBackward0>)\n",
      "DONT BUY\n"
     ]
    },
    {
     "name": "stderr",
     "output_type": "stream",
     "text": [
      "/var/folders/9w/783wdyf54fb3b79gq32y3t4h0000gn/T/ipykernel_29232/1462510502.py:114: FutureWarning: The frame.append method is deprecated and will be removed from pandas in a future version. Use pandas.concat instead.\n",
      "  df_history = df_history.append(scaled_df, ignore_index = True)\n"
     ]
    },
    {
     "name": "stdout",
     "output_type": "stream",
     "text": [
      "\n",
      "######################\n",
      "candle closed at 2031.24\n",
      "\n",
      "Back Propogate... \n",
      "\n",
      "CORRECT?:  -2.25358510017395 -2.297701835632324 -2.2574152458742422\n",
      "COUNTBUY:  3 CORRECTBUY:  2 COUNTDONTBUY:  2 CORRECTDONTBUY:  0\n",
      "Current Close Scaled:  -2.2535852123027484\n",
      "PREDICTION tensor([[-2.2694]], grad_fn=<AddmmBackward0>)\n",
      "DONT BUY\n"
     ]
    },
    {
     "name": "stderr",
     "output_type": "stream",
     "text": [
      "/var/folders/9w/783wdyf54fb3b79gq32y3t4h0000gn/T/ipykernel_29232/1462510502.py:114: FutureWarning: The frame.append method is deprecated and will be removed from pandas in a future version. Use pandas.concat instead.\n",
      "  df_history = df_history.append(scaled_df, ignore_index = True)\n"
     ]
    },
    {
     "name": "stdout",
     "output_type": "stream",
     "text": [
      "\n",
      "######################\n",
      "candle closed at 2034.63\n",
      "\n",
      "Back Propogate... \n",
      "\n",
      "CORRECT?:  -2.243114471435547 -2.2694456577301025 -2.2535852123027484\n",
      "COUNTBUY:  3 CORRECTBUY:  2 COUNTDONTBUY:  3 CORRECTDONTBUY:  0\n",
      "Current Close Scaled:  -2.2431143947161636\n",
      "PREDICTION tensor([[-2.1988]], grad_fn=<AddmmBackward0>)\n",
      "BUY AT:  2034.63 TIME:  1652595600000\n"
     ]
    },
    {
     "name": "stderr",
     "output_type": "stream",
     "text": [
      "/var/folders/9w/783wdyf54fb3b79gq32y3t4h0000gn/T/ipykernel_29232/1462510502.py:114: FutureWarning: The frame.append method is deprecated and will be removed from pandas in a future version. Use pandas.concat instead.\n",
      "  df_history = df_history.append(scaled_df, ignore_index = True)\n"
     ]
    },
    {
     "name": "stdout",
     "output_type": "stream",
     "text": [
      "\n",
      "######################\n",
      "candle closed at 2034.04\n",
      "\n",
      "Back Propogate... \n",
      "\n",
      "CORRECT?:  -2.24493670463562 -2.198753833770752 -2.2431143947161636\n",
      "COUNTBUY:  4 CORRECTBUY:  2 COUNTDONTBUY:  3 CORRECTDONTBUY:  0\n",
      "NEW PRICE:  2034.04 BOUGHT PRICE:  -2.2431143947161636 CHANGE:  -0.5900000000001455 MONEY:  0.06999999999993634\n",
      "Current Close Scaled:  -2.2449367493993746\n",
      "PREDICTION tensor([[-2.1934]], grad_fn=<AddmmBackward0>)\n",
      "BUY AT:  2034.04 TIME:  1652595660000\n"
     ]
    },
    {
     "name": "stderr",
     "output_type": "stream",
     "text": [
      "/var/folders/9w/783wdyf54fb3b79gq32y3t4h0000gn/T/ipykernel_29232/1462510502.py:114: FutureWarning: The frame.append method is deprecated and will be removed from pandas in a future version. Use pandas.concat instead.\n",
      "  df_history = df_history.append(scaled_df, ignore_index = True)\n"
     ]
    },
    {
     "name": "stdout",
     "output_type": "stream",
     "text": [
      "\n",
      "######################\n",
      "candle closed at 2034.26\n",
      "\n",
      "Back Propogate... \n",
      "\n",
      "CORRECT?:  -2.2442572116851807 -2.19339919090271 -2.2449367493993746\n",
      "COUNTBUY:  5 CORRECTBUY:  3 COUNTDONTBUY:  3 CORRECTDONTBUY:  0\n",
      "NEW PRICE:  2034.26 BOUGHT PRICE:  -2.2449367493993746 CHANGE:  0.22000000000002728 MONEY:  0.2899999999999636\n",
      "Current Close Scaled:  -2.2442572273141095\n",
      "PREDICTION tensor([[-2.2266]], grad_fn=<AddmmBackward0>)\n",
      "BUY AT:  2034.26 TIME:  1652595720000\n"
     ]
    },
    {
     "name": "stderr",
     "output_type": "stream",
     "text": [
      "/var/folders/9w/783wdyf54fb3b79gq32y3t4h0000gn/T/ipykernel_29232/1462510502.py:114: FutureWarning: The frame.append method is deprecated and will be removed from pandas in a future version. Use pandas.concat instead.\n",
      "  df_history = df_history.append(scaled_df, ignore_index = True)\n"
     ]
    },
    {
     "name": "stdout",
     "output_type": "stream",
     "text": [
      "\n",
      "######################\n",
      "candle closed at 2035.78\n",
      "\n",
      "Back Propogate... \n",
      "\n",
      "CORRECT?:  -2.2395622730255127 -2.2266275882720947 -2.2442572273141095\n",
      "COUNTBUY:  6 CORRECTBUY:  4 COUNTDONTBUY:  3 CORRECTDONTBUY:  0\n",
      "NEW PRICE:  2035.78 BOUGHT PRICE:  -2.2442572273141095 CHANGE:  1.5199999999999818 MONEY:  1.8099999999999454\n",
      "Current Close Scaled:  -2.2395623474522783\n",
      "PREDICTION tensor([[-2.3230]], grad_fn=<AddmmBackward0>)\n",
      "DONT BUY\n"
     ]
    },
    {
     "name": "stderr",
     "output_type": "stream",
     "text": [
      "/var/folders/9w/783wdyf54fb3b79gq32y3t4h0000gn/T/ipykernel_29232/1462510502.py:114: FutureWarning: The frame.append method is deprecated and will be removed from pandas in a future version. Use pandas.concat instead.\n",
      "  df_history = df_history.append(scaled_df, ignore_index = True)\n"
     ]
    },
    {
     "name": "stdout",
     "output_type": "stream",
     "text": [
      "\n",
      "######################\n",
      "candle closed at 2036.75\n",
      "\n",
      "Back Propogate... \n",
      "\n",
      "CORRECT?:  -2.2365663051605225 -2.323010206222534 -2.2395623474522783\n",
      "COUNTBUY:  6 CORRECTBUY:  4 COUNTDONTBUY:  4 CORRECTDONTBUY:  0\n",
      "Current Close Scaled:  -2.2365662728036093\n",
      "PREDICTION tensor([[-2.2653]], grad_fn=<AddmmBackward0>)\n",
      "DONT BUY\n"
     ]
    },
    {
     "name": "stderr",
     "output_type": "stream",
     "text": [
      "/var/folders/9w/783wdyf54fb3b79gq32y3t4h0000gn/T/ipykernel_29232/1462510502.py:114: FutureWarning: The frame.append method is deprecated and will be removed from pandas in a future version. Use pandas.concat instead.\n",
      "  df_history = df_history.append(scaled_df, ignore_index = True)\n"
     ]
    },
    {
     "name": "stdout",
     "output_type": "stream",
     "text": [
      "\n",
      "######################\n",
      "candle closed at 2036.79\n",
      "\n",
      "Back Propogate... \n",
      "\n",
      "CORRECT?:  -2.236442804336548 -2.2653000354766846 -2.2365662728036093\n",
      "COUNTBUY:  6 CORRECTBUY:  4 COUNTDONTBUY:  5 CORRECTDONTBUY:  0\n",
      "Current Close Scaled:  -2.2364427233335613\n",
      "PREDICTION tensor([[-2.2645]], grad_fn=<AddmmBackward0>)\n",
      "DONT BUY\n"
     ]
    },
    {
     "name": "stderr",
     "output_type": "stream",
     "text": [
      "/var/folders/9w/783wdyf54fb3b79gq32y3t4h0000gn/T/ipykernel_29232/1462510502.py:114: FutureWarning: The frame.append method is deprecated and will be removed from pandas in a future version. Use pandas.concat instead.\n",
      "  df_history = df_history.append(scaled_df, ignore_index = True)\n"
     ]
    },
    {
     "name": "stdout",
     "output_type": "stream",
     "text": [
      "\n",
      "######################\n",
      "candle closed at 2036.22\n",
      "\n",
      "Back Propogate... \n",
      "\n",
      "CORRECT?:  -2.238203287124634 -2.2644965648651123 -2.2364427233335613\n",
      "COUNTBUY:  6 CORRECTBUY:  4 COUNTDONTBUY:  6 CORRECTDONTBUY:  1\n",
      "Current Close Scaled:  -2.238203303281748\n",
      "PREDICTION tensor([[-2.2282]], grad_fn=<AddmmBackward0>)\n",
      "BUY AT:  2036.22 TIME:  1652595960000\n"
     ]
    },
    {
     "name": "stderr",
     "output_type": "stream",
     "text": [
      "/var/folders/9w/783wdyf54fb3b79gq32y3t4h0000gn/T/ipykernel_29232/1462510502.py:114: FutureWarning: The frame.append method is deprecated and will be removed from pandas in a future version. Use pandas.concat instead.\n",
      "  df_history = df_history.append(scaled_df, ignore_index = True)\n"
     ]
    },
    {
     "name": "stdout",
     "output_type": "stream",
     "text": [
      "\n",
      "######################\n",
      "candle closed at 2036.63\n",
      "\n",
      "Back Propogate... \n",
      "\n",
      "CORRECT?:  -2.2369368076324463 -2.2282159328460693 -2.238203303281748\n",
      "COUNTBUY:  7 CORRECTBUY:  5 COUNTDONTBUY:  6 CORRECTDONTBUY:  1\n",
      "NEW PRICE:  2036.63 BOUGHT PRICE:  -2.238203303281748 CHANGE:  0.41000000000008185 MONEY:  2.2200000000000273\n",
      "Current Close Scaled:  -2.2369369212137538\n",
      "PREDICTION tensor([[-2.0842]], grad_fn=<AddmmBackward0>)\n",
      "BUY AT:  2036.63 TIME:  1652596020000\n"
     ]
    },
    {
     "name": "stderr",
     "output_type": "stream",
     "text": [
      "/var/folders/9w/783wdyf54fb3b79gq32y3t4h0000gn/T/ipykernel_29232/1462510502.py:114: FutureWarning: The frame.append method is deprecated and will be removed from pandas in a future version. Use pandas.concat instead.\n",
      "  df_history = df_history.append(scaled_df, ignore_index = True)\n"
     ]
    },
    {
     "name": "stdout",
     "output_type": "stream",
     "text": [
      "\n",
      "######################\n",
      "candle closed at 2034.97\n",
      "\n",
      "Back Propogate... \n",
      "\n",
      "CORRECT?:  -2.2420642375946045 -2.0841593742370605 -2.2369369212137538\n",
      "COUNTBUY:  8 CORRECTBUY:  5 COUNTDONTBUY:  6 CORRECTDONTBUY:  1\n",
      "NEW PRICE:  2034.97 BOUGHT PRICE:  -2.2369369212137538 CHANGE:  -1.6600000000000819 MONEY:  0.5599999999999454\n",
      "Current Close Scaled:  -2.242064224220754\n",
      "PREDICTION tensor([[-2.1817]], grad_fn=<AddmmBackward0>)\n",
      "BUY AT:  2034.97 TIME:  1652596080000\n"
     ]
    },
    {
     "name": "stderr",
     "output_type": "stream",
     "text": [
      "/var/folders/9w/783wdyf54fb3b79gq32y3t4h0000gn/T/ipykernel_29232/1462510502.py:114: FutureWarning: The frame.append method is deprecated and will be removed from pandas in a future version. Use pandas.concat instead.\n",
      "  df_history = df_history.append(scaled_df, ignore_index = True)\n"
     ]
    },
    {
     "name": "stdout",
     "output_type": "stream",
     "text": [
      "\n",
      "######################\n",
      "candle closed at 2035.57\n",
      "\n",
      "Back Propogate... \n",
      "\n",
      "CORRECT?:  -2.240211009979248 -2.1817338466644287 -2.242064224220754\n",
      "COUNTBUY:  9 CORRECTBUY:  6 COUNTDONTBUY:  6 CORRECTDONTBUY:  1\n",
      "NEW PRICE:  2035.57 BOUGHT PRICE:  -2.242064224220754 CHANGE:  0.599999999999909 MONEY:  1.1599999999998545\n",
      "Current Close Scaled:  -2.2402109821700313\n",
      "PREDICTION tensor([[-2.2865]], grad_fn=<AddmmBackward0>)\n",
      "DONT BUY\n"
     ]
    },
    {
     "name": "stderr",
     "output_type": "stream",
     "text": [
      "/var/folders/9w/783wdyf54fb3b79gq32y3t4h0000gn/T/ipykernel_29232/1462510502.py:114: FutureWarning: The frame.append method is deprecated and will be removed from pandas in a future version. Use pandas.concat instead.\n",
      "  df_history = df_history.append(scaled_df, ignore_index = True)\n"
     ]
    },
    {
     "name": "stdout",
     "output_type": "stream",
     "text": [
      "\n",
      "######################\n",
      "candle closed at 2033.72\n",
      "\n",
      "Back Propogate... \n",
      "\n",
      "CORRECT?:  -2.245925188064575 -2.2864956855773926 -2.2402109821700313\n",
      "COUNTBUY:  9 CORRECTBUY:  6 COUNTDONTBUY:  7 CORRECTDONTBUY:  2\n",
      "Current Close Scaled:  -2.24592514515976\n",
      "PREDICTION tensor([[-2.3621]], grad_fn=<AddmmBackward0>)\n",
      "DONT BUY\n"
     ]
    },
    {
     "name": "stderr",
     "output_type": "stream",
     "text": [
      "/var/folders/9w/783wdyf54fb3b79gq32y3t4h0000gn/T/ipykernel_29232/1462510502.py:114: FutureWarning: The frame.append method is deprecated and will be removed from pandas in a future version. Use pandas.concat instead.\n",
      "  df_history = df_history.append(scaled_df, ignore_index = True)\n"
     ]
    },
    {
     "name": "stdout",
     "output_type": "stream",
     "text": [
      "\n",
      "######################\n",
      "candle closed at 2033.94\n",
      "\n",
      "Back Propogate... \n",
      "\n",
      "CORRECT?:  -2.2452456951141357 -2.3621413707733154 -2.24592514515976\n",
      "COUNTBUY:  9 CORRECTBUY:  6 COUNTDONTBUY:  8 CORRECTDONTBUY:  2\n",
      "Current Close Scaled:  -2.245245623074495\n",
      "PREDICTION tensor([[-2.2643]], grad_fn=<AddmmBackward0>)\n",
      "DONT BUY\n"
     ]
    },
    {
     "name": "stderr",
     "output_type": "stream",
     "text": [
      "/var/folders/9w/783wdyf54fb3b79gq32y3t4h0000gn/T/ipykernel_29232/1462510502.py:114: FutureWarning: The frame.append method is deprecated and will be removed from pandas in a future version. Use pandas.concat instead.\n",
      "  df_history = df_history.append(scaled_df, ignore_index = True)\n"
     ]
    },
    {
     "name": "stdout",
     "output_type": "stream",
     "text": [
      "\n",
      "######################\n",
      "candle closed at 2033.96\n",
      "\n",
      "Back Propogate... \n",
      "\n",
      "CORRECT?:  -2.2451839447021484 -2.2642951011657715 -2.245245623074495\n",
      "COUNTBUY:  9 CORRECTBUY:  6 COUNTDONTBUY:  9 CORRECTDONTBUY:  2\n",
      "Current Close Scaled:  -2.245183848339471\n",
      "PREDICTION tensor([[-2.2252]], grad_fn=<AddmmBackward0>)\n",
      "BUY AT:  2033.96 TIME:  1652596320000\n"
     ]
    },
    {
     "name": "stderr",
     "output_type": "stream",
     "text": [
      "/var/folders/9w/783wdyf54fb3b79gq32y3t4h0000gn/T/ipykernel_29232/1462510502.py:114: FutureWarning: The frame.append method is deprecated and will be removed from pandas in a future version. Use pandas.concat instead.\n",
      "  df_history = df_history.append(scaled_df, ignore_index = True)\n"
     ]
    },
    {
     "name": "stdout",
     "output_type": "stream",
     "text": [
      "\n",
      "######################\n",
      "candle closed at 2034.62\n",
      "\n",
      "Back Propogate... \n",
      "\n",
      "CORRECT?:  -2.243145227432251 -2.2252461910247803 -2.245183848339471\n",
      "COUNTBUY:  10 CORRECTBUY:  7 COUNTDONTBUY:  9 CORRECTDONTBUY:  2\n",
      "NEW PRICE:  2034.62 BOUGHT PRICE:  -2.245183848339471 CHANGE:  0.6599999999998545 MONEY:  1.819999999999709\n",
      "Current Close Scaled:  -2.243145282083676\n",
      "PREDICTION tensor([[-2.1542]], grad_fn=<AddmmBackward0>)\n",
      "BUY AT:  2034.62 TIME:  1652596380000\n"
     ]
    },
    {
     "name": "stderr",
     "output_type": "stream",
     "text": [
      "/var/folders/9w/783wdyf54fb3b79gq32y3t4h0000gn/T/ipykernel_29232/1462510502.py:114: FutureWarning: The frame.append method is deprecated and will be removed from pandas in a future version. Use pandas.concat instead.\n",
      "  df_history = df_history.append(scaled_df, ignore_index = True)\n"
     ]
    },
    {
     "name": "stdout",
     "output_type": "stream",
     "text": [
      "\n",
      "######################\n",
      "candle closed at 2035.4\n",
      "\n",
      "Back Propogate... \n",
      "\n",
      "CORRECT?:  -2.2407360076904297 -2.1541762351989746 -2.243145282083676\n",
      "COUNTBUY:  11 CORRECTBUY:  8 COUNTDONTBUY:  9 CORRECTDONTBUY:  2\n",
      "NEW PRICE:  2035.4 BOUGHT PRICE:  -2.243145282083676 CHANGE:  0.7800000000002001 MONEY:  2.599999999999909\n",
      "Current Close Scaled:  -2.240736067417736\n",
      "PREDICTION tensor([[-2.1942]], grad_fn=<AddmmBackward0>)\n",
      "BUY AT:  2035.4 TIME:  1652596440000\n"
     ]
    },
    {
     "name": "stderr",
     "output_type": "stream",
     "text": [
      "/var/folders/9w/783wdyf54fb3b79gq32y3t4h0000gn/T/ipykernel_29232/1462510502.py:114: FutureWarning: The frame.append method is deprecated and will be removed from pandas in a future version. Use pandas.concat instead.\n",
      "  df_history = df_history.append(scaled_df, ignore_index = True)\n"
     ]
    },
    {
     "name": "stdout",
     "output_type": "stream",
     "text": [
      "\n",
      "######################\n",
      "candle closed at 2034.22\n",
      "\n",
      "Back Propogate... \n",
      "\n",
      "CORRECT?:  -2.2443807125091553 -2.1941797733306885 -2.240736067417736\n",
      "COUNTBUY:  12 CORRECTBUY:  8 COUNTDONTBUY:  9 CORRECTDONTBUY:  2\n",
      "NEW PRICE:  2034.22 BOUGHT PRICE:  -2.240736067417736 CHANGE:  -1.1800000000000637 MONEY:  1.4199999999998454\n",
      "Current Close Scaled:  -2.2443807767841575\n",
      "PREDICTION tensor([[-2.1157]], grad_fn=<AddmmBackward0>)\n",
      "BUY AT:  2034.22 TIME:  1652596500000\n"
     ]
    },
    {
     "name": "stderr",
     "output_type": "stream",
     "text": [
      "/var/folders/9w/783wdyf54fb3b79gq32y3t4h0000gn/T/ipykernel_29232/1462510502.py:114: FutureWarning: The frame.append method is deprecated and will be removed from pandas in a future version. Use pandas.concat instead.\n",
      "  df_history = df_history.append(scaled_df, ignore_index = True)\n"
     ]
    },
    {
     "name": "stdout",
     "output_type": "stream",
     "text": [
      "\n",
      "######################\n",
      "candle closed at 2031.82\n",
      "\n",
      "Back Propogate... \n",
      "\n",
      "CORRECT?:  -2.25179386138916 -2.115659713745117 -2.2443807767841575\n",
      "COUNTBUY:  13 CORRECTBUY:  8 COUNTDONTBUY:  9 CORRECTDONTBUY:  2\n",
      "NEW PRICE:  2031.82 BOUGHT PRICE:  -2.2443807767841575 CHANGE:  -2.400000000000091 MONEY:  -0.9800000000002456\n",
      "Current Close Scaled:  -2.2517937449870495\n",
      "PREDICTION tensor([[-2.4515]], grad_fn=<AddmmBackward0>)\n",
      "DONT BUY\n"
     ]
    },
    {
     "name": "stderr",
     "output_type": "stream",
     "text": [
      "/var/folders/9w/783wdyf54fb3b79gq32y3t4h0000gn/T/ipykernel_29232/1462510502.py:114: FutureWarning: The frame.append method is deprecated and will be removed from pandas in a future version. Use pandas.concat instead.\n",
      "  df_history = df_history.append(scaled_df, ignore_index = True)\n"
     ]
    },
    {
     "name": "stdout",
     "output_type": "stream",
     "text": [
      "\n",
      "######################\n",
      "candle closed at 2030.72\n",
      "\n",
      "Back Propogate... \n",
      "\n",
      "CORRECT?:  -2.2551913261413574 -2.4514760971069336 -2.2517937449870495\n",
      "COUNTBUY:  13 CORRECTBUY:  8 COUNTDONTBUY:  10 CORRECTDONTBUY:  3\n",
      "Current Close Scaled:  -2.2551913554133747\n",
      "PREDICTION tensor([[-2.3494]], grad_fn=<AddmmBackward0>)\n",
      "DONT BUY\n"
     ]
    },
    {
     "name": "stderr",
     "output_type": "stream",
     "text": [
      "/var/folders/9w/783wdyf54fb3b79gq32y3t4h0000gn/T/ipykernel_29232/1462510502.py:114: FutureWarning: The frame.append method is deprecated and will be removed from pandas in a future version. Use pandas.concat instead.\n",
      "  df_history = df_history.append(scaled_df, ignore_index = True)\n"
     ]
    },
    {
     "name": "stdout",
     "output_type": "stream",
     "text": [
      "\n",
      "######################\n",
      "candle closed at 2030.56\n",
      "\n",
      "Back Propogate... \n",
      "\n",
      "CORRECT?:  -2.255685567855835 -2.3494162559509277 -2.2551913554133747\n",
      "COUNTBUY:  13 CORRECTBUY:  8 COUNTDONTBUY:  11 CORRECTDONTBUY:  4\n",
      "Current Close Scaled:  -2.2556855532935676\n",
      "PREDICTION tensor([[-2.2191]], grad_fn=<AddmmBackward0>)\n",
      "BUY AT:  2030.56 TIME:  1652596680000\n"
     ]
    },
    {
     "name": "stderr",
     "output_type": "stream",
     "text": [
      "/var/folders/9w/783wdyf54fb3b79gq32y3t4h0000gn/T/ipykernel_29232/1462510502.py:114: FutureWarning: The frame.append method is deprecated and will be removed from pandas in a future version. Use pandas.concat instead.\n",
      "  df_history = df_history.append(scaled_df, ignore_index = True)\n"
     ]
    },
    {
     "name": "stdout",
     "output_type": "stream",
     "text": [
      "\n",
      "######################\n",
      "candle closed at 2028.68\n",
      "\n",
      "Back Propogate... \n",
      "\n",
      "CORRECT?:  -2.2614924907684326 -2.2191312313079834 -2.2556855532935676\n",
      "COUNTBUY:  14 CORRECTBUY:  8 COUNTDONTBUY:  11 CORRECTDONTBUY:  4\n",
      "NEW PRICE:  2028.68 BOUGHT PRICE:  -2.2556855532935676 CHANGE:  -1.8799999999998818 MONEY:  -2.8600000000001273\n",
      "Current Close Scaled:  -2.2614923783858325\n",
      "PREDICTION tensor([[-2.1647]], grad_fn=<AddmmBackward0>)\n",
      "BUY AT:  2028.68 TIME:  1652596740000\n"
     ]
    },
    {
     "name": "stderr",
     "output_type": "stream",
     "text": [
      "/var/folders/9w/783wdyf54fb3b79gq32y3t4h0000gn/T/ipykernel_29232/1462510502.py:114: FutureWarning: The frame.append method is deprecated and will be removed from pandas in a future version. Use pandas.concat instead.\n",
      "  df_history = df_history.append(scaled_df, ignore_index = True)\n"
     ]
    },
    {
     "name": "stdout",
     "output_type": "stream",
     "text": [
      "\n",
      "######################\n",
      "candle closed at 2029.22\n",
      "\n",
      "Back Propogate... \n",
      "\n",
      "CORRECT?:  -2.259824514389038 -2.1647424697875977 -2.2614923783858325\n",
      "COUNTBUY:  15 CORRECTBUY:  9 COUNTDONTBUY:  11 CORRECTDONTBUY:  4\n",
      "NEW PRICE:  2029.22 BOUGHT PRICE:  -2.2614923783858325 CHANGE:  0.5399999999999636 MONEY:  -2.3200000000001637\n",
      "Current Close Scaled:  -2.259824460540182\n",
      "PREDICTION tensor([[-2.2072]], grad_fn=<AddmmBackward0>)\n",
      "BUY AT:  2029.22 TIME:  1652596800000\n"
     ]
    },
    {
     "name": "stderr",
     "output_type": "stream",
     "text": [
      "/var/folders/9w/783wdyf54fb3b79gq32y3t4h0000gn/T/ipykernel_29232/1462510502.py:114: FutureWarning: The frame.append method is deprecated and will be removed from pandas in a future version. Use pandas.concat instead.\n",
      "  df_history = df_history.append(scaled_df, ignore_index = True)\n"
     ]
    },
    {
     "name": "stdout",
     "output_type": "stream",
     "text": [
      "\n",
      "######################\n",
      "candle closed at 2028.07\n",
      "\n",
      "Back Propogate... \n",
      "\n",
      "CORRECT?:  -2.263376474380493 -2.2071614265441895 -2.259824460540182\n",
      "COUNTBUY:  16 CORRECTBUY:  9 COUNTDONTBUY:  11 CORRECTDONTBUY:  4\n",
      "NEW PRICE:  2028.07 BOUGHT PRICE:  -2.259824460540182 CHANGE:  -1.150000000000091 MONEY:  -3.4700000000002547\n",
      "Current Close Scaled:  -2.2633765078040677\n",
      "PREDICTION tensor([[-2.3128]], grad_fn=<AddmmBackward0>)\n",
      "DONT BUY\n"
     ]
    },
    {
     "name": "stderr",
     "output_type": "stream",
     "text": [
      "/var/folders/9w/783wdyf54fb3b79gq32y3t4h0000gn/T/ipykernel_29232/1462510502.py:114: FutureWarning: The frame.append method is deprecated and will be removed from pandas in a future version. Use pandas.concat instead.\n",
      "  df_history = df_history.append(scaled_df, ignore_index = True)\n"
     ]
    },
    {
     "name": "stdout",
     "output_type": "stream",
     "text": [
      "\n",
      "######################\n",
      "candle closed at 2027.19\n",
      "\n",
      "Back Propogate... \n",
      "\n",
      "CORRECT?:  -2.26609468460083 -2.3128201961517334 -2.2633765078040677\n",
      "COUNTBUY:  16 CORRECTBUY:  9 COUNTDONTBUY:  12 CORRECTDONTBUY:  5\n",
      "Current Close Scaled:  -2.2660945961451278\n",
      "PREDICTION tensor([[-2.3850]], grad_fn=<AddmmBackward0>)\n",
      "DONT BUY\n"
     ]
    },
    {
     "name": "stderr",
     "output_type": "stream",
     "text": [
      "/var/folders/9w/783wdyf54fb3b79gq32y3t4h0000gn/T/ipykernel_29232/1462510502.py:114: FutureWarning: The frame.append method is deprecated and will be removed from pandas in a future version. Use pandas.concat instead.\n",
      "  df_history = df_history.append(scaled_df, ignore_index = True)\n"
     ]
    },
    {
     "name": "stdout",
     "output_type": "stream",
     "text": [
      "\n",
      "######################\n",
      "candle closed at 2026.85\n",
      "\n",
      "Back Propogate... \n",
      "\n",
      "CORRECT?:  -2.2671446800231934 -2.384967088699341 -2.2660945961451278\n",
      "COUNTBUY:  16 CORRECTBUY:  9 COUNTDONTBUY:  13 CORRECTDONTBUY:  6\n",
      "Current Close Scaled:  -2.2671447666405378\n",
      "PREDICTION tensor([[-2.3163]], grad_fn=<AddmmBackward0>)\n",
      "DONT BUY\n"
     ]
    },
    {
     "name": "stderr",
     "output_type": "stream",
     "text": [
      "/var/folders/9w/783wdyf54fb3b79gq32y3t4h0000gn/T/ipykernel_29232/1462510502.py:114: FutureWarning: The frame.append method is deprecated and will be removed from pandas in a future version. Use pandas.concat instead.\n",
      "  df_history = df_history.append(scaled_df, ignore_index = True)\n"
     ]
    },
    {
     "name": "stdout",
     "output_type": "stream",
     "text": [
      "\n",
      "######################\n",
      "candle closed at 2026.05\n",
      "\n",
      "Back Propogate... \n",
      "\n",
      "CORRECT?:  -2.269615650177002 -2.31634521484375 -2.2671447666405378\n",
      "COUNTBUY:  16 CORRECTBUY:  9 COUNTDONTBUY:  14 CORRECTDONTBUY:  7\n",
      "Current Close Scaled:  -2.269615756041502\n",
      "PREDICTION tensor([[-2.2806]], grad_fn=<AddmmBackward0>)\n",
      "DONT BUY\n"
     ]
    },
    {
     "name": "stderr",
     "output_type": "stream",
     "text": [
      "/var/folders/9w/783wdyf54fb3b79gq32y3t4h0000gn/T/ipykernel_29232/1462510502.py:114: FutureWarning: The frame.append method is deprecated and will be removed from pandas in a future version. Use pandas.concat instead.\n",
      "  df_history = df_history.append(scaled_df, ignore_index = True)\n"
     ]
    },
    {
     "name": "stdout",
     "output_type": "stream",
     "text": [
      "\n",
      "######################\n",
      "candle closed at 2023.4\n",
      "\n",
      "Back Propogate... \n",
      "\n",
      "CORRECT?:  -2.2778007984161377 -2.280641555786133 -2.269615756041502\n",
      "COUNTBUY:  16 CORRECTBUY:  9 COUNTDONTBUY:  15 CORRECTDONTBUY:  8\n",
      "Current Close Scaled:  -2.2778009084321944\n",
      "PREDICTION tensor([[-2.2215]], grad_fn=<AddmmBackward0>)\n",
      "BUY AT:  2023.4 TIME:  1652597100000\n"
     ]
    },
    {
     "name": "stderr",
     "output_type": "stream",
     "text": [
      "/var/folders/9w/783wdyf54fb3b79gq32y3t4h0000gn/T/ipykernel_29232/1462510502.py:114: FutureWarning: The frame.append method is deprecated and will be removed from pandas in a future version. Use pandas.concat instead.\n",
      "  df_history = df_history.append(scaled_df, ignore_index = True)\n"
     ]
    },
    {
     "name": "stdout",
     "output_type": "stream",
     "text": [
      "\n",
      "######################\n",
      "candle closed at 2024.19\n",
      "\n",
      "Back Propogate... \n",
      "\n",
      "CORRECT?:  -2.2753608226776123 -2.221499443054199 -2.2778009084321944\n",
      "COUNTBUY:  17 CORRECTBUY:  10 COUNTDONTBUY:  15 CORRECTDONTBUY:  8\n",
      "NEW PRICE:  2024.19 BOUGHT PRICE:  -2.2778009084321944 CHANGE:  0.7899999999999636 MONEY:  -2.680000000000291\n",
      "Current Close Scaled:  -2.2753608063987425\n",
      "PREDICTION tensor([[-2.1801]], grad_fn=<AddmmBackward0>)\n",
      "BUY AT:  2024.19 TIME:  1652597160000\n"
     ]
    },
    {
     "name": "stderr",
     "output_type": "stream",
     "text": [
      "/var/folders/9w/783wdyf54fb3b79gq32y3t4h0000gn/T/ipykernel_29232/1462510502.py:114: FutureWarning: The frame.append method is deprecated and will be removed from pandas in a future version. Use pandas.concat instead.\n",
      "  df_history = df_history.append(scaled_df, ignore_index = True)\n"
     ]
    },
    {
     "name": "stdout",
     "output_type": "stream",
     "text": [
      "\n",
      "######################\n",
      "candle closed at 2027.47\n",
      "\n",
      "Back Propogate... \n",
      "\n",
      "CORRECT?:  -2.2652297019958496 -2.180131196975708 -2.2753608063987425\n",
      "COUNTBUY:  18 CORRECTBUY:  11 COUNTDONTBUY:  15 CORRECTDONTBUY:  8\n",
      "NEW PRICE:  2027.47 BOUGHT PRICE:  -2.2753608063987425 CHANGE:  3.2799999999999727 MONEY:  0.5999999999996817\n",
      "Current Close Scaled:  -2.2652297498547904\n",
      "PREDICTION tensor([[-2.2433]], grad_fn=<AddmmBackward0>)\n",
      "BUY AT:  2027.47 TIME:  1652597220000\n"
     ]
    },
    {
     "name": "stderr",
     "output_type": "stream",
     "text": [
      "/var/folders/9w/783wdyf54fb3b79gq32y3t4h0000gn/T/ipykernel_29232/1462510502.py:114: FutureWarning: The frame.append method is deprecated and will be removed from pandas in a future version. Use pandas.concat instead.\n",
      "  df_history = df_history.append(scaled_df, ignore_index = True)\n"
     ]
    },
    {
     "name": "stdout",
     "output_type": "stream",
     "text": [
      "\n",
      "######################\n",
      "candle closed at 2026.02\n",
      "\n",
      "Back Propogate... \n",
      "\n",
      "CORRECT?:  -2.2697083950042725 -2.243295431137085 -2.2652297498547904\n",
      "COUNTBUY:  19 CORRECTBUY:  11 COUNTDONTBUY:  15 CORRECTDONTBUY:  8\n",
      "NEW PRICE:  2026.02 BOUGHT PRICE:  -2.2652297498547904 CHANGE:  -1.4500000000000455 MONEY:  -0.8500000000003638\n",
      "Current Close Scaled:  -2.2697084181440377\n",
      "PREDICTION tensor([[-2.3181]], grad_fn=<AddmmBackward0>)\n",
      "DONT BUY\n"
     ]
    },
    {
     "name": "stderr",
     "output_type": "stream",
     "text": [
      "/var/folders/9w/783wdyf54fb3b79gq32y3t4h0000gn/T/ipykernel_29232/1462510502.py:114: FutureWarning: The frame.append method is deprecated and will be removed from pandas in a future version. Use pandas.concat instead.\n",
      "  df_history = df_history.append(scaled_df, ignore_index = True)\n"
     ]
    },
    {
     "name": "stdout",
     "output_type": "stream",
     "text": [
      "\n",
      "######################\n",
      "candle closed at 2028.84\n",
      "\n",
      "Back Propogate... \n",
      "\n",
      "CORRECT?:  -2.260998249053955 -2.3180959224700928 -2.2697084181440377\n",
      "COUNTBUY:  19 CORRECTBUY:  11 COUNTDONTBUY:  16 CORRECTDONTBUY:  8\n",
      "Current Close Scaled:  -2.26099818050564\n",
      "PREDICTION tensor([[-2.3436]], grad_fn=<AddmmBackward0>)\n",
      "DONT BUY\n"
     ]
    },
    {
     "name": "stderr",
     "output_type": "stream",
     "text": [
      "/var/folders/9w/783wdyf54fb3b79gq32y3t4h0000gn/T/ipykernel_29232/1462510502.py:114: FutureWarning: The frame.append method is deprecated and will be removed from pandas in a future version. Use pandas.concat instead.\n",
      "  df_history = df_history.append(scaled_df, ignore_index = True)\n"
     ]
    },
    {
     "name": "stdout",
     "output_type": "stream",
     "text": [
      "\n",
      "######################\n",
      "candle closed at 2026.35\n",
      "\n",
      "Back Propogate... \n",
      "\n",
      "CORRECT?:  -2.2686891555786133 -2.3436355590820312 -2.26099818050564\n",
      "COUNTBUY:  19 CORRECTBUY:  11 COUNTDONTBUY:  17 CORRECTDONTBUY:  9\n",
      "Current Close Scaled:  -2.2686891350161402\n",
      "PREDICTION tensor([[-2.3166]], grad_fn=<AddmmBackward0>)\n",
      "DONT BUY\n"
     ]
    },
    {
     "name": "stderr",
     "output_type": "stream",
     "text": [
      "/var/folders/9w/783wdyf54fb3b79gq32y3t4h0000gn/T/ipykernel_29232/1462510502.py:114: FutureWarning: The frame.append method is deprecated and will be removed from pandas in a future version. Use pandas.concat instead.\n",
      "  df_history = df_history.append(scaled_df, ignore_index = True)\n"
     ]
    },
    {
     "name": "stdout",
     "output_type": "stream",
     "text": [
      "\n",
      "######################\n",
      "candle closed at 2028.99\n",
      "\n",
      "Back Propogate... \n",
      "\n",
      "CORRECT?:  -2.2605347633361816 -2.316640853881836 -2.2686891350161402\n",
      "COUNTBUY:  19 CORRECTBUY:  11 COUNTDONTBUY:  18 CORRECTDONTBUY:  9\n",
      "Current Close Scaled:  -2.2605348699929593\n",
      "PREDICTION tensor([[-2.2604]], grad_fn=<AddmmBackward0>)\n",
      "BUY AT:  2028.99 TIME:  1652597460000\n"
     ]
    },
    {
     "name": "stderr",
     "output_type": "stream",
     "text": [
      "/var/folders/9w/783wdyf54fb3b79gq32y3t4h0000gn/T/ipykernel_29232/1462510502.py:114: FutureWarning: The frame.append method is deprecated and will be removed from pandas in a future version. Use pandas.concat instead.\n",
      "  df_history = df_history.append(scaled_df, ignore_index = True)\n"
     ]
    },
    {
     "name": "stdout",
     "output_type": "stream",
     "text": [
      "\n",
      "######################\n",
      "candle closed at 2027.92\n",
      "\n",
      "Back Propogate... \n",
      "\n",
      "CORRECT?:  -2.2638397216796875 -2.260448932647705 -2.2605348699929593\n",
      "COUNTBUY:  20 CORRECTBUY:  11 COUNTDONTBUY:  18 CORRECTDONTBUY:  9\n",
      "NEW PRICE:  2027.92 BOUGHT PRICE:  -2.2605348699929593 CHANGE:  -1.0699999999999363 MONEY:  -1.9200000000003001\n",
      "Current Close Scaled:  -2.263839818316748\n",
      "PREDICTION tensor([[-2.2485]], grad_fn=<AddmmBackward0>)\n",
      "BUY AT:  2027.92 TIME:  1652597520000\n"
     ]
    },
    {
     "name": "stderr",
     "output_type": "stream",
     "text": [
      "/var/folders/9w/783wdyf54fb3b79gq32y3t4h0000gn/T/ipykernel_29232/1462510502.py:114: FutureWarning: The frame.append method is deprecated and will be removed from pandas in a future version. Use pandas.concat instead.\n",
      "  df_history = df_history.append(scaled_df, ignore_index = True)\n"
     ]
    },
    {
     "name": "stdout",
     "output_type": "stream",
     "text": [
      "\n",
      "######################\n",
      "candle closed at 2029.1\n",
      "\n",
      "Back Propogate... \n",
      "\n",
      "CORRECT?:  -2.260195016860962 -2.2485010623931885 -2.263839818316748\n",
      "COUNTBUY:  21 CORRECTBUY:  12 COUNTDONTBUY:  18 CORRECTDONTBUY:  9\n",
      "NEW PRICE:  2029.1 BOUGHT PRICE:  -2.263839818316748 CHANGE:  1.1799999999998363 MONEY:  -0.7400000000004638\n",
      "Current Close Scaled:  -2.260195108950327\n",
      "PREDICTION tensor([[-2.2280]], grad_fn=<AddmmBackward0>)\n",
      "BUY AT:  2029.1 TIME:  1652597580000\n"
     ]
    },
    {
     "name": "stderr",
     "output_type": "stream",
     "text": [
      "/var/folders/9w/783wdyf54fb3b79gq32y3t4h0000gn/T/ipykernel_29232/1462510502.py:114: FutureWarning: The frame.append method is deprecated and will be removed from pandas in a future version. Use pandas.concat instead.\n",
      "  df_history = df_history.append(scaled_df, ignore_index = True)\n"
     ]
    },
    {
     "name": "stdout",
     "output_type": "stream",
     "text": [
      "\n",
      "######################\n",
      "candle closed at 2032.36\n",
      "\n",
      "Back Propogate... \n",
      "\n",
      "CORRECT?:  -2.2501258850097656 -2.2280335426330566 -2.260195108950327\n",
      "COUNTBUY:  22 CORRECTBUY:  13 COUNTDONTBUY:  18 CORRECTDONTBUY:  9\n",
      "NEW PRICE:  2032.36 BOUGHT PRICE:  -2.260195108950327 CHANGE:  3.259999999999991 MONEY:  2.519999999999527\n",
      "Current Close Scaled:  -2.250125827141399\n",
      "PREDICTION tensor([[-2.2373]], grad_fn=<AddmmBackward0>)\n",
      "BUY AT:  2032.36 TIME:  1652597640000\n"
     ]
    },
    {
     "name": "stderr",
     "output_type": "stream",
     "text": [
      "/var/folders/9w/783wdyf54fb3b79gq32y3t4h0000gn/T/ipykernel_29232/1462510502.py:114: FutureWarning: The frame.append method is deprecated and will be removed from pandas in a future version. Use pandas.concat instead.\n",
      "  df_history = df_history.append(scaled_df, ignore_index = True)\n"
     ]
    },
    {
     "name": "stdout",
     "output_type": "stream",
     "text": [
      "\n",
      "######################\n",
      "candle closed at 2033.27\n",
      "\n",
      "Back Propogate... \n",
      "\n",
      "CORRECT?:  -2.2473151683807373 -2.2373104095458984 -2.250125827141399\n",
      "COUNTBUY:  23 CORRECTBUY:  14 COUNTDONTBUY:  18 CORRECTDONTBUY:  9\n",
      "NEW PRICE:  2033.27 BOUGHT PRICE:  -2.250125827141399 CHANGE:  0.9100000000000819 MONEY:  3.429999999999609\n",
      "Current Close Scaled:  -2.2473150766978023\n",
      "PREDICTION tensor([[-2.2819]], grad_fn=<AddmmBackward0>)\n",
      "DONT BUY\n"
     ]
    },
    {
     "name": "stderr",
     "output_type": "stream",
     "text": [
      "/var/folders/9w/783wdyf54fb3b79gq32y3t4h0000gn/T/ipykernel_29232/1462510502.py:114: FutureWarning: The frame.append method is deprecated and will be removed from pandas in a future version. Use pandas.concat instead.\n",
      "  df_history = df_history.append(scaled_df, ignore_index = True)\n"
     ]
    },
    {
     "name": "stdout",
     "output_type": "stream",
     "text": [
      "\n",
      "######################\n",
      "candle closed at 2033.01\n",
      "\n",
      "Back Propogate... \n",
      "\n",
      "CORRECT?:  -2.2481181621551514 -2.281904458999634 -2.2473150766978023\n",
      "COUNTBUY:  23 CORRECTBUY:  14 COUNTDONTBUY:  19 CORRECTDONTBUY:  10\n",
      "Current Close Scaled:  -2.248118148253116\n",
      "PREDICTION tensor([[-2.1867]], grad_fn=<AddmmBackward0>)\n",
      "BUY AT:  2033.01 TIME:  1652597760000\n"
     ]
    },
    {
     "name": "stderr",
     "output_type": "stream",
     "text": [
      "/var/folders/9w/783wdyf54fb3b79gq32y3t4h0000gn/T/ipykernel_29232/1462510502.py:114: FutureWarning: The frame.append method is deprecated and will be removed from pandas in a future version. Use pandas.concat instead.\n",
      "  df_history = df_history.append(scaled_df, ignore_index = True)\n"
     ]
    },
    {
     "name": "stdout",
     "output_type": "stream",
     "text": [
      "\n",
      "######################\n",
      "candle closed at 2034.19\n",
      "\n",
      "Back Propogate... \n",
      "\n",
      "CORRECT?:  -2.244473457336426 -2.1867473125457764 -2.248118148253116\n",
      "COUNTBUY:  24 CORRECTBUY:  15 COUNTDONTBUY:  19 CORRECTDONTBUY:  10\n",
      "NEW PRICE:  2034.19 BOUGHT PRICE:  -2.248118148253116 CHANGE:  1.1800000000000637 MONEY:  4.609999999999673\n",
      "Current Close Scaled:  -2.244473438886694\n",
      "PREDICTION tensor([[-2.2537]], grad_fn=<AddmmBackward0>)\n",
      "DONT BUY\n"
     ]
    },
    {
     "name": "stderr",
     "output_type": "stream",
     "text": [
      "/var/folders/9w/783wdyf54fb3b79gq32y3t4h0000gn/T/ipykernel_29232/1462510502.py:114: FutureWarning: The frame.append method is deprecated and will be removed from pandas in a future version. Use pandas.concat instead.\n",
      "  df_history = df_history.append(scaled_df, ignore_index = True)\n"
     ]
    },
    {
     "name": "stdout",
     "output_type": "stream",
     "text": [
      "\n",
      "######################\n",
      "candle closed at 2035.56\n",
      "\n",
      "Back Propogate... \n",
      "\n",
      "CORRECT?:  -2.240241765975952 -2.253720998764038 -2.244473438886694\n",
      "COUNTBUY:  24 CORRECTBUY:  15 COUNTDONTBUY:  20 CORRECTDONTBUY:  10\n",
      "Current Close Scaled:  -2.2402418695375435\n",
      "PREDICTION tensor([[-2.2282]], grad_fn=<AddmmBackward0>)\n",
      "BUY AT:  2035.56 TIME:  1652597880000\n"
     ]
    },
    {
     "name": "stderr",
     "output_type": "stream",
     "text": [
      "/var/folders/9w/783wdyf54fb3b79gq32y3t4h0000gn/T/ipykernel_29232/1462510502.py:114: FutureWarning: The frame.append method is deprecated and will be removed from pandas in a future version. Use pandas.concat instead.\n",
      "  df_history = df_history.append(scaled_df, ignore_index = True)\n"
     ]
    },
    {
     "name": "stdout",
     "output_type": "stream",
     "text": [
      "\n",
      "######################\n",
      "candle closed at 2036.35\n",
      "\n",
      "Back Propogate... \n",
      "\n",
      "CORRECT?:  -2.2378017902374268 -2.228214979171753 -2.2402418695375435\n",
      "COUNTBUY:  25 CORRECTBUY:  16 COUNTDONTBUY:  20 CORRECTDONTBUY:  10\n",
      "NEW PRICE:  2036.35 BOUGHT PRICE:  -2.2402418695375435 CHANGE:  0.7899999999999636 MONEY:  5.399999999999636\n",
      "Current Close Scaled:  -2.2378017675040915\n",
      "PREDICTION tensor([[-2.2302]], grad_fn=<AddmmBackward0>)\n",
      "BUY AT:  2036.35 TIME:  1652597940000\n"
     ]
    },
    {
     "name": "stderr",
     "output_type": "stream",
     "text": [
      "/var/folders/9w/783wdyf54fb3b79gq32y3t4h0000gn/T/ipykernel_29232/1462510502.py:114: FutureWarning: The frame.append method is deprecated and will be removed from pandas in a future version. Use pandas.concat instead.\n",
      "  df_history = df_history.append(scaled_df, ignore_index = True)\n"
     ]
    },
    {
     "name": "stdout",
     "output_type": "stream",
     "text": [
      "\n",
      "######################\n",
      "candle closed at 2045.71\n",
      "\n",
      "Back Propogate... \n",
      "\n",
      "CORRECT?:  -2.2088911533355713 -2.230185031890869 -2.2378017675040915\n",
      "COUNTBUY:  26 CORRECTBUY:  17 COUNTDONTBUY:  20 CORRECTDONTBUY:  10\n",
      "NEW PRICE:  2045.71 BOUGHT PRICE:  -2.2378017675040915 CHANGE:  9.360000000000127 MONEY:  14.759999999999764\n",
      "Current Close Scaled:  -2.2088911915128135\n",
      "PREDICTION tensor([[-2.2151]], grad_fn=<AddmmBackward0>)\n",
      "DONT BUY\n"
     ]
    },
    {
     "name": "stderr",
     "output_type": "stream",
     "text": [
      "/var/folders/9w/783wdyf54fb3b79gq32y3t4h0000gn/T/ipykernel_29232/1462510502.py:114: FutureWarning: The frame.append method is deprecated and will be removed from pandas in a future version. Use pandas.concat instead.\n",
      "  df_history = df_history.append(scaled_df, ignore_index = True)\n"
     ]
    },
    {
     "name": "stdout",
     "output_type": "stream",
     "text": [
      "\n",
      "######################\n",
      "candle closed at 2044.26\n",
      "\n",
      "Back Propogate... \n",
      "\n",
      "CORRECT?:  -2.213369846343994 -2.2150745391845703 -2.2088911915128135\n",
      "COUNTBUY:  26 CORRECTBUY:  17 COUNTDONTBUY:  21 CORRECTDONTBUY:  11\n",
      "Current Close Scaled:  -2.213369859802061\n",
      "PREDICTION tensor([[-2.2084]], grad_fn=<AddmmBackward0>)\n",
      "BUY AT:  2044.26 TIME:  1652598060000\n"
     ]
    },
    {
     "name": "stderr",
     "output_type": "stream",
     "text": [
      "/var/folders/9w/783wdyf54fb3b79gq32y3t4h0000gn/T/ipykernel_29232/1462510502.py:114: FutureWarning: The frame.append method is deprecated and will be removed from pandas in a future version. Use pandas.concat instead.\n",
      "  df_history = df_history.append(scaled_df, ignore_index = True)\n"
     ]
    },
    {
     "name": "stdout",
     "output_type": "stream",
     "text": [
      "\n",
      "######################\n",
      "candle closed at 2043.53\n",
      "\n",
      "Back Propogate... \n",
      "\n",
      "CORRECT?:  -2.2156245708465576 -2.2083911895751953 -2.213369859802061\n",
      "COUNTBUY:  27 CORRECTBUY:  17 COUNTDONTBUY:  21 CORRECTDONTBUY:  11\n",
      "NEW PRICE:  2043.53 BOUGHT PRICE:  -2.213369859802061 CHANGE:  -0.7300000000000182 MONEY:  14.029999999999745\n",
      "Current Close Scaled:  -2.2156246376304405\n",
      "PREDICTION tensor([[-2.2594]], grad_fn=<AddmmBackward0>)\n",
      "DONT BUY\n"
     ]
    },
    {
     "name": "stderr",
     "output_type": "stream",
     "text": [
      "/var/folders/9w/783wdyf54fb3b79gq32y3t4h0000gn/T/ipykernel_29232/1462510502.py:114: FutureWarning: The frame.append method is deprecated and will be removed from pandas in a future version. Use pandas.concat instead.\n",
      "  df_history = df_history.append(scaled_df, ignore_index = True)\n"
     ]
    },
    {
     "name": "stdout",
     "output_type": "stream",
     "text": [
      "\n",
      "######################\n",
      "candle closed at 2039.34\n",
      "\n",
      "Back Propogate... \n",
      "\n",
      "CORRECT?:  -2.2285664081573486 -2.259411096572876 -2.2156246376304405\n",
      "COUNTBUY:  27 CORRECTBUY:  17 COUNTDONTBUY:  22 CORRECTDONTBUY:  12\n",
      "Current Close Scaled:  -2.228566444617989\n",
      "PREDICTION tensor([[-2.1781]], grad_fn=<AddmmBackward0>)\n",
      "BUY AT:  2039.34 TIME:  1652598180000\n"
     ]
    },
    {
     "name": "stderr",
     "output_type": "stream",
     "text": [
      "/var/folders/9w/783wdyf54fb3b79gq32y3t4h0000gn/T/ipykernel_29232/1462510502.py:114: FutureWarning: The frame.append method is deprecated and will be removed from pandas in a future version. Use pandas.concat instead.\n",
      "  df_history = df_history.append(scaled_df, ignore_index = True)\n"
     ]
    },
    {
     "name": "stdout",
     "output_type": "stream",
     "text": [
      "\n",
      "######################\n",
      "candle closed at 2040.79\n",
      "\n",
      "Back Propogate... \n",
      "\n",
      "CORRECT?:  -2.224087715148926 -2.1780712604522705 -2.228566444617989\n",
      "COUNTBUY:  28 CORRECTBUY:  18 COUNTDONTBUY:  22 CORRECTDONTBUY:  12\n",
      "NEW PRICE:  2040.79 BOUGHT PRICE:  -2.228566444617989 CHANGE:  1.4500000000000455 MONEY:  15.47999999999979\n",
      "Current Close Scaled:  -2.2240877763287417\n",
      "PREDICTION tensor([[-2.2309]], grad_fn=<AddmmBackward0>)\n",
      "DONT BUY\n"
     ]
    },
    {
     "name": "stderr",
     "output_type": "stream",
     "text": [
      "/var/folders/9w/783wdyf54fb3b79gq32y3t4h0000gn/T/ipykernel_29232/1462510502.py:114: FutureWarning: The frame.append method is deprecated and will be removed from pandas in a future version. Use pandas.concat instead.\n",
      "  df_history = df_history.append(scaled_df, ignore_index = True)\n"
     ]
    },
    {
     "name": "stdout",
     "output_type": "stream",
     "text": [
      "\n",
      "######################\n",
      "candle closed at 2040.52\n",
      "\n",
      "Back Propogate... \n",
      "\n",
      "CORRECT?:  -2.224921703338623 -2.2308719158172607 -2.2240877763287417\n",
      "COUNTBUY:  28 CORRECTBUY:  18 COUNTDONTBUY:  23 CORRECTDONTBUY:  13\n",
      "Current Close Scaled:  -2.224921735251567\n",
      "PREDICTION tensor([[-2.1982]], grad_fn=<AddmmBackward0>)\n",
      "BUY AT:  2040.52 TIME:  1652598300000\n"
     ]
    },
    {
     "name": "stderr",
     "output_type": "stream",
     "text": [
      "/var/folders/9w/783wdyf54fb3b79gq32y3t4h0000gn/T/ipykernel_29232/1462510502.py:114: FutureWarning: The frame.append method is deprecated and will be removed from pandas in a future version. Use pandas.concat instead.\n",
      "  df_history = df_history.append(scaled_df, ignore_index = True)\n"
     ]
    },
    {
     "name": "stdout",
     "output_type": "stream",
     "text": [
      "\n",
      "######################\n",
      "candle closed at 2040.43\n",
      "\n",
      "Back Propogate... \n",
      "\n",
      "CORRECT?:  -2.2251996994018555 -2.1982486248016357 -2.224921735251567\n",
      "COUNTBUY:  29 CORRECTBUY:  18 COUNTDONTBUY:  23 CORRECTDONTBUY:  13\n",
      "NEW PRICE:  2040.43 BOUGHT PRICE:  -2.224921735251567 CHANGE:  -0.08999999999991815 MONEY:  15.389999999999873\n",
      "Current Close Scaled:  -2.2251997215591754\n",
      "PREDICTION tensor([[-2.2632]], grad_fn=<AddmmBackward0>)\n",
      "DONT BUY\n"
     ]
    },
    {
     "name": "stderr",
     "output_type": "stream",
     "text": [
      "/var/folders/9w/783wdyf54fb3b79gq32y3t4h0000gn/T/ipykernel_29232/1462510502.py:114: FutureWarning: The frame.append method is deprecated and will be removed from pandas in a future version. Use pandas.concat instead.\n",
      "  df_history = df_history.append(scaled_df, ignore_index = True)\n"
     ]
    },
    {
     "name": "stdout",
     "output_type": "stream",
     "text": [
      "\n",
      "######################\n",
      "candle closed at 2040.12\n",
      "\n",
      "Back Propogate... \n",
      "\n",
      "CORRECT?:  -2.2261571884155273 -2.263188123703003 -2.2251997215591754\n",
      "COUNTBUY:  29 CORRECTBUY:  18 COUNTDONTBUY:  24 CORRECTDONTBUY:  14\n",
      "Current Close Scaled:  -2.226157229952049\n",
      "PREDICTION tensor([[-2.2562]], grad_fn=<AddmmBackward0>)\n",
      "DONT BUY\n"
     ]
    },
    {
     "name": "stderr",
     "output_type": "stream",
     "text": [
      "/var/folders/9w/783wdyf54fb3b79gq32y3t4h0000gn/T/ipykernel_29232/1462510502.py:114: FutureWarning: The frame.append method is deprecated and will be removed from pandas in a future version. Use pandas.concat instead.\n",
      "  df_history = df_history.append(scaled_df, ignore_index = True)\n"
     ]
    },
    {
     "name": "stdout",
     "output_type": "stream",
     "text": [
      "\n",
      "######################\n",
      "candle closed at 2043.32\n",
      "\n",
      "Back Propogate... \n",
      "\n",
      "CORRECT?:  -2.216273307800293 -2.2562315464019775 -2.226157229952049\n",
      "COUNTBUY:  29 CORRECTBUY:  18 COUNTDONTBUY:  25 CORRECTDONTBUY:  14\n",
      "Current Close Scaled:  -2.2162732723481935\n",
      "PREDICTION tensor([[-2.2126]], grad_fn=<AddmmBackward0>)\n",
      "BUY AT:  2043.32 TIME:  1652598480000\n"
     ]
    },
    {
     "name": "stderr",
     "output_type": "stream",
     "text": [
      "/var/folders/9w/783wdyf54fb3b79gq32y3t4h0000gn/T/ipykernel_29232/1462510502.py:114: FutureWarning: The frame.append method is deprecated and will be removed from pandas in a future version. Use pandas.concat instead.\n",
      "  df_history = df_history.append(scaled_df, ignore_index = True)\n"
     ]
    },
    {
     "name": "stdout",
     "output_type": "stream",
     "text": [
      "\n",
      "######################\n",
      "candle closed at 2046.37\n",
      "\n",
      "Back Propogate... \n",
      "\n",
      "CORRECT?:  -2.206852674484253 -2.212649345397949 -2.2162732723481935\n",
      "COUNTBUY:  30 CORRECTBUY:  19 COUNTDONTBUY:  25 CORRECTDONTBUY:  14\n",
      "NEW PRICE:  2046.37 BOUGHT PRICE:  -2.2162732723481935 CHANGE:  3.0499999999999545 MONEY:  18.439999999999827\n",
      "Current Close Scaled:  -2.2068526252570186\n",
      "PREDICTION tensor([[-2.1847]], grad_fn=<AddmmBackward0>)\n",
      "BUY AT:  2046.37 TIME:  1652598540000\n"
     ]
    },
    {
     "name": "stderr",
     "output_type": "stream",
     "text": [
      "/var/folders/9w/783wdyf54fb3b79gq32y3t4h0000gn/T/ipykernel_29232/1462510502.py:114: FutureWarning: The frame.append method is deprecated and will be removed from pandas in a future version. Use pandas.concat instead.\n",
      "  df_history = df_history.append(scaled_df, ignore_index = True)\n"
     ]
    },
    {
     "name": "stdout",
     "output_type": "stream",
     "text": [
      "\n",
      "######################\n",
      "candle closed at 2048.36\n",
      "\n",
      "Back Propogate... \n",
      "\n",
      "CORRECT?:  -2.2007060050964355 -2.184735059738159 -2.2068526252570186\n",
      "COUNTBUY:  31 CORRECTBUY:  20 COUNTDONTBUY:  25 CORRECTDONTBUY:  14\n",
      "NEW PRICE:  2048.36 BOUGHT PRICE:  -2.2068526252570186 CHANGE:  1.9900000000002365 MONEY:  20.430000000000064\n",
      "Current Close Scaled:  -2.2007060391221205\n",
      "PREDICTION tensor([[-2.1800]], grad_fn=<AddmmBackward0>)\n",
      "BUY AT:  2048.36 TIME:  1652598600000\n"
     ]
    },
    {
     "name": "stderr",
     "output_type": "stream",
     "text": [
      "/var/folders/9w/783wdyf54fb3b79gq32y3t4h0000gn/T/ipykernel_29232/1462510502.py:114: FutureWarning: The frame.append method is deprecated and will be removed from pandas in a future version. Use pandas.concat instead.\n",
      "  df_history = df_history.append(scaled_df, ignore_index = True)\n"
     ]
    },
    {
     "name": "stdout",
     "output_type": "stream",
     "text": [
      "\n",
      "######################\n",
      "candle closed at 2047.12\n",
      "\n",
      "Back Propogate... \n",
      "\n",
      "CORRECT?:  -2.204535961151123 -2.180000066757202 -2.2007060391221205\n",
      "COUNTBUY:  32 CORRECTBUY:  20 COUNTDONTBUY:  25 CORRECTDONTBUY:  14\n",
      "NEW PRICE:  2047.12 BOUGHT PRICE:  -2.2007060391221205 CHANGE:  -1.2400000000002365 MONEY:  19.189999999999827\n",
      "Current Close Scaled:  -2.204536072693615\n",
      "PREDICTION tensor([[-2.1990]], grad_fn=<AddmmBackward0>)\n",
      "BUY AT:  2047.12 TIME:  1652598660000\n"
     ]
    },
    {
     "name": "stderr",
     "output_type": "stream",
     "text": [
      "/var/folders/9w/783wdyf54fb3b79gq32y3t4h0000gn/T/ipykernel_29232/1462510502.py:114: FutureWarning: The frame.append method is deprecated and will be removed from pandas in a future version. Use pandas.concat instead.\n",
      "  df_history = df_history.append(scaled_df, ignore_index = True)\n"
     ]
    },
    {
     "name": "stdout",
     "output_type": "stream",
     "text": [
      "\n",
      "######################\n",
      "candle closed at 2045.6\n",
      "\n",
      "Back Propogate... \n",
      "\n",
      "CORRECT?:  -2.209230899810791 -2.198986530303955 -2.204536072693615\n",
      "COUNTBUY:  33 CORRECTBUY:  20 COUNTDONTBUY:  25 CORRECTDONTBUY:  14\n",
      "NEW PRICE:  2045.6 BOUGHT PRICE:  -2.204536072693615 CHANGE:  -1.5199999999999818 MONEY:  17.669999999999845\n",
      "Current Close Scaled:  -2.2092309525554463\n",
      "PREDICTION tensor([[-2.2147]], grad_fn=<AddmmBackward0>)\n",
      "DONT BUY\n"
     ]
    },
    {
     "name": "stderr",
     "output_type": "stream",
     "text": [
      "/var/folders/9w/783wdyf54fb3b79gq32y3t4h0000gn/T/ipykernel_29232/1462510502.py:114: FutureWarning: The frame.append method is deprecated and will be removed from pandas in a future version. Use pandas.concat instead.\n",
      "  df_history = df_history.append(scaled_df, ignore_index = True)\n"
     ]
    },
    {
     "name": "stdout",
     "output_type": "stream",
     "text": [
      "\n",
      "######################\n",
      "candle closed at 2043.26\n",
      "\n",
      "Back Propogate... \n",
      "\n",
      "CORRECT?:  -2.216458559036255 -2.2147164344787598 -2.2092309525554463\n",
      "COUNTBUY:  33 CORRECTBUY:  20 COUNTDONTBUY:  26 CORRECTDONTBUY:  15\n",
      "Current Close Scaled:  -2.2164585965532657\n",
      "PREDICTION tensor([[-2.2409]], grad_fn=<AddmmBackward0>)\n",
      "DONT BUY\n"
     ]
    },
    {
     "name": "stderr",
     "output_type": "stream",
     "text": [
      "/var/folders/9w/783wdyf54fb3b79gq32y3t4h0000gn/T/ipykernel_29232/1462510502.py:114: FutureWarning: The frame.append method is deprecated and will be removed from pandas in a future version. Use pandas.concat instead.\n",
      "  df_history = df_history.append(scaled_df, ignore_index = True)\n"
     ]
    },
    {
     "name": "stdout",
     "output_type": "stream",
     "text": [
      "\n",
      "######################\n",
      "candle closed at 2044.57\n",
      "\n",
      "Back Propogate... \n",
      "\n",
      "CORRECT?:  -2.2124123573303223 -2.240853786468506 -2.2164585965532657\n",
      "COUNTBUY:  33 CORRECTBUY:  20 COUNTDONTBUY:  27 CORRECTDONTBUY:  15\n",
      "Current Close Scaled:  -2.2124123514091876\n",
      "PREDICTION tensor([[-2.2182]], grad_fn=<AddmmBackward0>)\n",
      "DONT BUY\n"
     ]
    },
    {
     "name": "stderr",
     "output_type": "stream",
     "text": [
      "/var/folders/9w/783wdyf54fb3b79gq32y3t4h0000gn/T/ipykernel_29232/1462510502.py:114: FutureWarning: The frame.append method is deprecated and will be removed from pandas in a future version. Use pandas.concat instead.\n",
      "  df_history = df_history.append(scaled_df, ignore_index = True)\n"
     ]
    },
    {
     "name": "stdout",
     "output_type": "stream",
     "text": [
      "\n",
      "######################\n",
      "candle closed at 2045.22\n",
      "\n",
      "Back Propogate... \n",
      "\n",
      "CORRECT?:  -2.210404634475708 -2.218190908432007 -2.2124123514091876\n",
      "COUNTBUY:  33 CORRECTBUY:  20 COUNTDONTBUY:  28 CORRECTDONTBUY:  15\n",
      "Current Close Scaled:  -2.210404672520904\n",
      "PREDICTION tensor([[-2.2195]], grad_fn=<AddmmBackward0>)\n",
      "DONT BUY\n"
     ]
    },
    {
     "name": "stderr",
     "output_type": "stream",
     "text": [
      "/var/folders/9w/783wdyf54fb3b79gq32y3t4h0000gn/T/ipykernel_29232/1462510502.py:114: FutureWarning: The frame.append method is deprecated and will be removed from pandas in a future version. Use pandas.concat instead.\n",
      "  df_history = df_history.append(scaled_df, ignore_index = True)\n"
     ]
    },
    {
     "name": "stdout",
     "output_type": "stream",
     "text": [
      "\n",
      "######################\n",
      "candle closed at 2044.01\n",
      "\n",
      "Back Propogate... \n",
      "\n",
      "CORRECT?:  -2.214142084121704 -2.2194883823394775 -2.210404672520904\n",
      "COUNTBUY:  33 CORRECTBUY:  20 COUNTDONTBUY:  29 CORRECTDONTBUY:  16\n",
      "Current Close Scaled:  -2.214142043989862\n",
      "PREDICTION tensor([[-2.2017]], grad_fn=<AddmmBackward0>)\n",
      "BUY AT:  2044.01 TIME:  1652598960000\n"
     ]
    },
    {
     "name": "stderr",
     "output_type": "stream",
     "text": [
      "/var/folders/9w/783wdyf54fb3b79gq32y3t4h0000gn/T/ipykernel_29232/1462510502.py:114: FutureWarning: The frame.append method is deprecated and will be removed from pandas in a future version. Use pandas.concat instead.\n",
      "  df_history = df_history.append(scaled_df, ignore_index = True)\n"
     ]
    },
    {
     "name": "stdout",
     "output_type": "stream",
     "text": [
      "\n",
      "######################\n",
      "candle closed at 2045.74\n",
      "\n",
      "Back Propogate... \n",
      "\n",
      "CORRECT?:  -2.20879864692688 -2.2017300128936768 -2.214142043989862\n",
      "COUNTBUY:  34 CORRECTBUY:  21 COUNTDONTBUY:  29 CORRECTDONTBUY:  16\n",
      "NEW PRICE:  2045.74 BOUGHT PRICE:  -2.214142043989862 CHANGE:  1.7300000000000182 MONEY:  19.399999999999864\n",
      "Current Close Scaled:  -2.2087985294102777\n",
      "PREDICTION tensor([[-2.2135]], grad_fn=<AddmmBackward0>)\n",
      "DONT BUY\n"
     ]
    },
    {
     "name": "stderr",
     "output_type": "stream",
     "text": [
      "/var/folders/9w/783wdyf54fb3b79gq32y3t4h0000gn/T/ipykernel_29232/1462510502.py:114: FutureWarning: The frame.append method is deprecated and will be removed from pandas in a future version. Use pandas.concat instead.\n",
      "  df_history = df_history.append(scaled_df, ignore_index = True)\n"
     ]
    },
    {
     "name": "stdout",
     "output_type": "stream",
     "text": [
      "\n",
      "######################\n",
      "candle closed at 2045.0\n",
      "\n",
      "Back Propogate... \n",
      "\n",
      "CORRECT?:  -2.2110841274261475 -2.213540554046631 -2.2087985294102777\n",
      "COUNTBUY:  34 CORRECTBUY:  21 COUNTDONTBUY:  30 CORRECTDONTBUY:  17\n",
      "Current Close Scaled:  -2.211084194606169\n",
      "PREDICTION tensor([[-2.1869]], grad_fn=<AddmmBackward0>)\n",
      "BUY AT:  2045.0 TIME:  1652599080000\n"
     ]
    },
    {
     "name": "stderr",
     "output_type": "stream",
     "text": [
      "/var/folders/9w/783wdyf54fb3b79gq32y3t4h0000gn/T/ipykernel_29232/1462510502.py:114: FutureWarning: The frame.append method is deprecated and will be removed from pandas in a future version. Use pandas.concat instead.\n",
      "  df_history = df_history.append(scaled_df, ignore_index = True)\n"
     ]
    },
    {
     "name": "stdout",
     "output_type": "stream",
     "text": [
      "\n",
      "######################\n",
      "candle closed at 2046.35\n",
      "\n",
      "Back Propogate... \n",
      "\n",
      "CORRECT?:  -2.2069144248962402 -2.186854839324951 -2.211084194606169\n",
      "COUNTBUY:  35 CORRECTBUY:  22 COUNTDONTBUY:  30 CORRECTDONTBUY:  17\n",
      "NEW PRICE:  2046.35 BOUGHT PRICE:  -2.211084194606169 CHANGE:  1.349999999999909 MONEY:  20.749999999999773\n",
      "Current Close Scaled:  -2.206914399992043\n",
      "PREDICTION tensor([[-2.1632]], grad_fn=<AddmmBackward0>)\n",
      "BUY AT:  2046.35 TIME:  1652599140000\n"
     ]
    },
    {
     "name": "stderr",
     "output_type": "stream",
     "text": [
      "/var/folders/9w/783wdyf54fb3b79gq32y3t4h0000gn/T/ipykernel_29232/1462510502.py:114: FutureWarning: The frame.append method is deprecated and will be removed from pandas in a future version. Use pandas.concat instead.\n",
      "  df_history = df_history.append(scaled_df, ignore_index = True)\n"
     ]
    },
    {
     "name": "stdout",
     "output_type": "stream",
     "text": [
      "\n",
      "######################\n",
      "candle closed at 2043.09\n",
      "\n",
      "Back Propogate... \n",
      "\n",
      "CORRECT?:  -2.2169837951660156 -2.163222551345825 -2.206914399992043\n",
      "COUNTBUY:  36 CORRECTBUY:  22 COUNTDONTBUY:  30 CORRECTDONTBUY:  17\n",
      "NEW PRICE:  2043.09 BOUGHT PRICE:  -2.206914399992043 CHANGE:  -3.259999999999991 MONEY:  17.48999999999978\n",
      "Current Close Scaled:  -2.2169836818009707\n",
      "PREDICTION tensor([[-2.2385]], grad_fn=<AddmmBackward0>)\n",
      "DONT BUY\n"
     ]
    },
    {
     "name": "stderr",
     "output_type": "stream",
     "text": [
      "/var/folders/9w/783wdyf54fb3b79gq32y3t4h0000gn/T/ipykernel_29232/1462510502.py:114: FutureWarning: The frame.append method is deprecated and will be removed from pandas in a future version. Use pandas.concat instead.\n",
      "  df_history = df_history.append(scaled_df, ignore_index = True)\n"
     ]
    },
    {
     "name": "stdout",
     "output_type": "stream",
     "text": [
      "\n",
      "######################\n",
      "candle closed at 2044.4\n",
      "\n",
      "Back Propogate... \n",
      "\n",
      "CORRECT?:  -2.212937355041504 -2.238450765609741 -2.2169836818009707\n",
      "COUNTBUY:  36 CORRECTBUY:  22 COUNTDONTBUY:  31 CORRECTDONTBUY:  17\n",
      "Current Close Scaled:  -2.2129374366568917\n",
      "PREDICTION tensor([[-2.2560]], grad_fn=<AddmmBackward0>)\n",
      "DONT BUY\n"
     ]
    },
    {
     "name": "stderr",
     "output_type": "stream",
     "text": [
      "/var/folders/9w/783wdyf54fb3b79gq32y3t4h0000gn/T/ipykernel_29232/1462510502.py:114: FutureWarning: The frame.append method is deprecated and will be removed from pandas in a future version. Use pandas.concat instead.\n",
      "  df_history = df_history.append(scaled_df, ignore_index = True)\n"
     ]
    },
    {
     "name": "stdout",
     "output_type": "stream",
     "text": [
      "\n",
      "######################\n",
      "candle closed at 2047.99\n",
      "\n",
      "Back Propogate... \n",
      "\n",
      "CORRECT?:  -2.2018489837646484 -2.2559854984283447 -2.2129374366568917\n",
      "COUNTBUY:  36 CORRECTBUY:  22 COUNTDONTBUY:  32 CORRECTDONTBUY:  17\n",
      "Current Close Scaled:  -2.2018488717200664\n",
      "PREDICTION tensor([[-2.2332]], grad_fn=<AddmmBackward0>)\n",
      "DONT BUY\n"
     ]
    },
    {
     "name": "stderr",
     "output_type": "stream",
     "text": [
      "/var/folders/9w/783wdyf54fb3b79gq32y3t4h0000gn/T/ipykernel_29232/1462510502.py:114: FutureWarning: The frame.append method is deprecated and will be removed from pandas in a future version. Use pandas.concat instead.\n",
      "  df_history = df_history.append(scaled_df, ignore_index = True)\n"
     ]
    },
    {
     "name": "stdout",
     "output_type": "stream",
     "text": [
      "\n",
      "######################\n",
      "candle closed at 2047.12\n",
      "\n",
      "Back Propogate... \n",
      "\n",
      "CORRECT?:  -2.204535961151123 -2.2331936359405518 -2.2018488717200664\n",
      "COUNTBUY:  36 CORRECTBUY:  22 COUNTDONTBUY:  33 CORRECTDONTBUY:  18\n",
      "Current Close Scaled:  -2.204536072693615\n",
      "PREDICTION tensor([[-2.2322]], grad_fn=<AddmmBackward0>)\n",
      "DONT BUY\n"
     ]
    },
    {
     "name": "stderr",
     "output_type": "stream",
     "text": [
      "/var/folders/9w/783wdyf54fb3b79gq32y3t4h0000gn/T/ipykernel_29232/1462510502.py:114: FutureWarning: The frame.append method is deprecated and will be removed from pandas in a future version. Use pandas.concat instead.\n",
      "  df_history = df_history.append(scaled_df, ignore_index = True)\n"
     ]
    },
    {
     "name": "stdout",
     "output_type": "stream",
     "text": [
      "\n",
      "######################\n",
      "candle closed at 2045.9\n",
      "\n",
      "Back Propogate... \n",
      "\n",
      "CORRECT?:  -2.2083044052124023 -2.232192039489746 -2.204536072693615\n",
      "COUNTBUY:  36 CORRECTBUY:  22 COUNTDONTBUY:  34 CORRECTDONTBUY:  19\n",
      "Current Close Scaled:  -2.2083043315300843\n",
      "PREDICTION tensor([[-2.2101]], grad_fn=<AddmmBackward0>)\n",
      "DONT BUY\n"
     ]
    },
    {
     "name": "stderr",
     "output_type": "stream",
     "text": [
      "/var/folders/9w/783wdyf54fb3b79gq32y3t4h0000gn/T/ipykernel_29232/1462510502.py:114: FutureWarning: The frame.append method is deprecated and will be removed from pandas in a future version. Use pandas.concat instead.\n",
      "  df_history = df_history.append(scaled_df, ignore_index = True)\n"
     ]
    },
    {
     "name": "stdout",
     "output_type": "stream",
     "text": [
      "\n",
      "######################\n",
      "candle closed at 2044.17\n",
      "\n",
      "Back Propogate... \n",
      "\n",
      "CORRECT?:  -2.2136478424072266 -2.210097312927246 -2.2083043315300843\n",
      "COUNTBUY:  36 CORRECTBUY:  22 COUNTDONTBUY:  35 CORRECTDONTBUY:  20\n",
      "Current Close Scaled:  -2.213647846109669\n",
      "PREDICTION tensor([[-2.1920]], grad_fn=<AddmmBackward0>)\n",
      "BUY AT:  2044.17 TIME:  1652599500000\n"
     ]
    },
    {
     "name": "stderr",
     "output_type": "stream",
     "text": [
      "/var/folders/9w/783wdyf54fb3b79gq32y3t4h0000gn/T/ipykernel_29232/1462510502.py:114: FutureWarning: The frame.append method is deprecated and will be removed from pandas in a future version. Use pandas.concat instead.\n",
      "  df_history = df_history.append(scaled_df, ignore_index = True)\n"
     ]
    },
    {
     "name": "stdout",
     "output_type": "stream",
     "text": [
      "\n",
      "######################\n",
      "candle closed at 2041.75\n",
      "\n",
      "Back Propogate... \n",
      "\n",
      "CORRECT?:  -2.2211225032806396 -2.1919713020324707 -2.213647846109669\n",
      "COUNTBUY:  37 CORRECTBUY:  22 COUNTDONTBUY:  35 CORRECTDONTBUY:  20\n",
      "NEW PRICE:  2041.75 BOUGHT PRICE:  -2.213647846109669 CHANGE:  -2.4200000000000728 MONEY:  15.069999999999709\n",
      "Current Close Scaled:  -2.221122589047585\n",
      "PREDICTION tensor([[-2.1708]], grad_fn=<AddmmBackward0>)\n",
      "BUY AT:  2041.75 TIME:  1652599560000\n"
     ]
    },
    {
     "name": "stderr",
     "output_type": "stream",
     "text": [
      "/var/folders/9w/783wdyf54fb3b79gq32y3t4h0000gn/T/ipykernel_29232/1462510502.py:114: FutureWarning: The frame.append method is deprecated and will be removed from pandas in a future version. Use pandas.concat instead.\n",
      "  df_history = df_history.append(scaled_df, ignore_index = True)\n"
     ]
    },
    {
     "name": "stdout",
     "output_type": "stream",
     "text": [
      "\n",
      "######################\n",
      "candle closed at 2041.69\n",
      "\n",
      "Back Propogate... \n",
      "\n",
      "CORRECT?:  -2.2213079929351807 -2.1707677841186523 -2.221122589047585\n",
      "COUNTBUY:  38 CORRECTBUY:  22 COUNTDONTBUY:  35 CORRECTDONTBUY:  20\n",
      "NEW PRICE:  2041.69 BOUGHT PRICE:  -2.221122589047585 CHANGE:  -0.05999999999994543 MONEY:  15.009999999999764\n",
      "Current Close Scaled:  -2.221307913252657\n",
      "PREDICTION tensor([[-2.2117]], grad_fn=<AddmmBackward0>)\n",
      "BUY AT:  2041.69 TIME:  1652599620000\n"
     ]
    },
    {
     "name": "stderr",
     "output_type": "stream",
     "text": [
      "/var/folders/9w/783wdyf54fb3b79gq32y3t4h0000gn/T/ipykernel_29232/1462510502.py:114: FutureWarning: The frame.append method is deprecated and will be removed from pandas in a future version. Use pandas.concat instead.\n",
      "  df_history = df_history.append(scaled_df, ignore_index = True)\n"
     ]
    },
    {
     "name": "stdout",
     "output_type": "stream",
     "text": [
      "\n",
      "######################\n",
      "candle closed at 2039.75\n",
      "\n",
      "Back Propogate... \n",
      "\n",
      "CORRECT?:  -2.2273001670837402 -2.2116849422454834 -2.221307913252657\n",
      "COUNTBUY:  39 CORRECTBUY:  22 COUNTDONTBUY:  35 CORRECTDONTBUY:  20\n",
      "NEW PRICE:  2039.75 BOUGHT PRICE:  -2.221307913252657 CHANGE:  -1.9400000000000546 MONEY:  13.069999999999709\n",
      "Current Close Scaled:  -2.2273000625499946\n",
      "PREDICTION tensor([[-2.2370]], grad_fn=<AddmmBackward0>)\n",
      "DONT BUY\n"
     ]
    },
    {
     "name": "stderr",
     "output_type": "stream",
     "text": [
      "/var/folders/9w/783wdyf54fb3b79gq32y3t4h0000gn/T/ipykernel_29232/1462510502.py:114: FutureWarning: The frame.append method is deprecated and will be removed from pandas in a future version. Use pandas.concat instead.\n",
      "  df_history = df_history.append(scaled_df, ignore_index = True)\n"
     ]
    },
    {
     "name": "stdout",
     "output_type": "stream",
     "text": [
      "\n",
      "######################\n",
      "candle closed at 2040.11\n",
      "\n",
      "Back Propogate... \n",
      "\n",
      "CORRECT?:  -2.2261881828308105 -2.236985445022583 -2.2273000625499946\n",
      "COUNTBUY:  39 CORRECTBUY:  22 COUNTDONTBUY:  36 CORRECTDONTBUY:  20\n",
      "Current Close Scaled:  -2.2261881173195612\n",
      "PREDICTION tensor([[-2.2544]], grad_fn=<AddmmBackward0>)\n",
      "DONT BUY\n"
     ]
    },
    {
     "name": "stderr",
     "output_type": "stream",
     "text": [
      "/var/folders/9w/783wdyf54fb3b79gq32y3t4h0000gn/T/ipykernel_29232/1462510502.py:114: FutureWarning: The frame.append method is deprecated and will be removed from pandas in a future version. Use pandas.concat instead.\n",
      "  df_history = df_history.append(scaled_df, ignore_index = True)\n"
     ]
    },
    {
     "name": "stdout",
     "output_type": "stream",
     "text": [
      "\n",
      "######################\n",
      "candle closed at 2039.94\n",
      "\n",
      "Back Propogate... \n",
      "\n",
      "CORRECT?:  -2.226713180541992 -2.254448652267456 -2.2261881173195612\n",
      "COUNTBUY:  39 CORRECTBUY:  22 COUNTDONTBUY:  37 CORRECTDONTBUY:  21\n",
      "Current Close Scaled:  -2.226713202567266\n",
      "PREDICTION tensor([[-2.2593]], grad_fn=<AddmmBackward0>)\n",
      "DONT BUY\n"
     ]
    },
    {
     "name": "stderr",
     "output_type": "stream",
     "text": [
      "/var/folders/9w/783wdyf54fb3b79gq32y3t4h0000gn/T/ipykernel_29232/1462510502.py:114: FutureWarning: The frame.append method is deprecated and will be removed from pandas in a future version. Use pandas.concat instead.\n",
      "  df_history = df_history.append(scaled_df, ignore_index = True)\n"
     ]
    },
    {
     "name": "stdout",
     "output_type": "stream",
     "text": [
      "\n",
      "######################\n",
      "candle closed at 2038.12\n",
      "\n",
      "Back Propogate... \n",
      "\n",
      "CORRECT?:  -2.232334613800049 -2.2592806816101074 -2.226713202567266\n",
      "COUNTBUY:  39 CORRECTBUY:  22 COUNTDONTBUY:  38 CORRECTDONTBUY:  22\n",
      "Current Close Scaled:  -2.232334703454459\n",
      "PREDICTION tensor([[-2.2541]], grad_fn=<AddmmBackward0>)\n",
      "DONT BUY\n"
     ]
    },
    {
     "name": "stderr",
     "output_type": "stream",
     "text": [
      "/var/folders/9w/783wdyf54fb3b79gq32y3t4h0000gn/T/ipykernel_29232/1462510502.py:114: FutureWarning: The frame.append method is deprecated and will be removed from pandas in a future version. Use pandas.concat instead.\n",
      "  df_history = df_history.append(scaled_df, ignore_index = True)\n"
     ]
    },
    {
     "name": "stdout",
     "output_type": "stream",
     "text": [
      "\n",
      "######################\n",
      "candle closed at 2039.05\n",
      "\n",
      "Back Propogate... \n",
      "\n",
      "CORRECT?:  -2.229462146759033 -2.2540671825408936 -2.232334703454459\n",
      "COUNTBUY:  39 CORRECTBUY:  22 COUNTDONTBUY:  39 CORRECTDONTBUY:  22\n",
      "Current Close Scaled:  -2.2294621782758384\n",
      "PREDICTION tensor([[-2.2417]], grad_fn=<AddmmBackward0>)\n",
      "DONT BUY\n"
     ]
    },
    {
     "name": "stderr",
     "output_type": "stream",
     "text": [
      "/var/folders/9w/783wdyf54fb3b79gq32y3t4h0000gn/T/ipykernel_29232/1462510502.py:114: FutureWarning: The frame.append method is deprecated and will be removed from pandas in a future version. Use pandas.concat instead.\n",
      "  df_history = df_history.append(scaled_df, ignore_index = True)\n"
     ]
    },
    {
     "name": "stdout",
     "output_type": "stream",
     "text": [
      "\n",
      "######################\n",
      "candle closed at 2039.4\n",
      "\n",
      "Back Propogate... \n",
      "\n",
      "CORRECT?:  -2.2283811569213867 -2.2416598796844482 -2.2294621782758384\n",
      "COUNTBUY:  39 CORRECTBUY:  22 COUNTDONTBUY:  40 CORRECTDONTBUY:  22\n",
      "Current Close Scaled:  -2.2283811204129162\n",
      "PREDICTION tensor([[-2.2271]], grad_fn=<AddmmBackward0>)\n",
      "BUY AT:  2039.4 TIME:  1652599980000\n"
     ]
    },
    {
     "name": "stderr",
     "output_type": "stream",
     "text": [
      "/var/folders/9w/783wdyf54fb3b79gq32y3t4h0000gn/T/ipykernel_29232/1462510502.py:114: FutureWarning: The frame.append method is deprecated and will be removed from pandas in a future version. Use pandas.concat instead.\n",
      "  df_history = df_history.append(scaled_df, ignore_index = True)\n"
     ]
    },
    {
     "name": "stdout",
     "output_type": "stream",
     "text": [
      "\n",
      "######################\n",
      "candle closed at 2039.53\n",
      "\n",
      "Back Propogate... \n",
      "\n",
      "CORRECT?:  -2.2279796600341797 -2.2270894050598145 -2.2283811204129162\n",
      "COUNTBUY:  40 CORRECTBUY:  23 COUNTDONTBUY:  40 CORRECTDONTBUY:  22\n",
      "NEW PRICE:  2039.53 BOUGHT PRICE:  -2.2283811204129162 CHANGE:  0.12999999999988177 MONEY:  13.19999999999959\n",
      "Current Close Scaled:  -2.2279795846352597\n",
      "PREDICTION tensor([[-2.1908]], grad_fn=<AddmmBackward0>)\n",
      "BUY AT:  2039.53 TIME:  1652600040000\n"
     ]
    },
    {
     "name": "stderr",
     "output_type": "stream",
     "text": [
      "/var/folders/9w/783wdyf54fb3b79gq32y3t4h0000gn/T/ipykernel_29232/1462510502.py:114: FutureWarning: The frame.append method is deprecated and will be removed from pandas in a future version. Use pandas.concat instead.\n",
      "  df_history = df_history.append(scaled_df, ignore_index = True)\n"
     ]
    },
    {
     "name": "stdout",
     "output_type": "stream",
     "text": [
      "\n",
      "######################\n",
      "candle closed at 2039.77\n",
      "\n",
      "Back Propogate... \n",
      "\n",
      "CORRECT?:  -2.227238178253174 -2.1907756328582764 -2.2279795846352597\n",
      "COUNTBUY:  41 CORRECTBUY:  24 COUNTDONTBUY:  40 CORRECTDONTBUY:  22\n",
      "NEW PRICE:  2039.77 BOUGHT PRICE:  -2.2279795846352597 CHANGE:  0.2400000000000091 MONEY:  13.4399999999996\n",
      "Current Close Scaled:  -2.227238287814971\n",
      "PREDICTION tensor([[-2.2161]], grad_fn=<AddmmBackward0>)\n",
      "BUY AT:  2039.77 TIME:  1652600100000\n"
     ]
    },
    {
     "name": "stderr",
     "output_type": "stream",
     "text": [
      "/var/folders/9w/783wdyf54fb3b79gq32y3t4h0000gn/T/ipykernel_29232/1462510502.py:114: FutureWarning: The frame.append method is deprecated and will be removed from pandas in a future version. Use pandas.concat instead.\n",
      "  df_history = df_history.append(scaled_df, ignore_index = True)\n"
     ]
    },
    {
     "name": "stdout",
     "output_type": "stream",
     "text": [
      "\n",
      "######################\n",
      "candle closed at 2038.27\n",
      "\n",
      "Back Propogate... \n",
      "\n",
      "CORRECT?:  -2.2318713665008545 -2.216059446334839 -2.227238287814971\n",
      "COUNTBUY:  42 CORRECTBUY:  24 COUNTDONTBUY:  40 CORRECTDONTBUY:  22\n",
      "NEW PRICE:  2038.27 BOUGHT PRICE:  -2.227238287814971 CHANGE:  -1.5 MONEY:  11.9399999999996\n",
      "Current Close Scaled:  -2.231871392941778\n",
      "PREDICTION tensor([[-2.2184]], grad_fn=<AddmmBackward0>)\n",
      "BUY AT:  2038.27 TIME:  1652600160000\n"
     ]
    },
    {
     "name": "stderr",
     "output_type": "stream",
     "text": [
      "/var/folders/9w/783wdyf54fb3b79gq32y3t4h0000gn/T/ipykernel_29232/1462510502.py:114: FutureWarning: The frame.append method is deprecated and will be removed from pandas in a future version. Use pandas.concat instead.\n",
      "  df_history = df_history.append(scaled_df, ignore_index = True)\n"
     ]
    },
    {
     "name": "stdout",
     "output_type": "stream",
     "text": [
      "\n",
      "######################\n",
      "candle closed at 2041.41\n",
      "\n",
      "Back Propogate... \n",
      "\n",
      "CORRECT?:  -2.222172737121582 -2.218376874923706 -2.231871392941778\n",
      "COUNTBUY:  43 CORRECTBUY:  25 COUNTDONTBUY:  40 CORRECTDONTBUY:  22\n",
      "NEW PRICE:  2041.41 BOUGHT PRICE:  -2.231871392941778 CHANGE:  3.1400000000001 MONEY:  15.0799999999997\n",
      "Current Close Scaled:  -2.2221727595429943\n",
      "PREDICTION tensor([[-2.2238]], grad_fn=<AddmmBackward0>)\n",
      "DONT BUY\n"
     ]
    },
    {
     "name": "stderr",
     "output_type": "stream",
     "text": [
      "/var/folders/9w/783wdyf54fb3b79gq32y3t4h0000gn/T/ipykernel_29232/1462510502.py:114: FutureWarning: The frame.append method is deprecated and will be removed from pandas in a future version. Use pandas.concat instead.\n",
      "  df_history = df_history.append(scaled_df, ignore_index = True)\n"
     ]
    },
    {
     "name": "stdout",
     "output_type": "stream",
     "text": [
      "\n",
      "######################\n",
      "candle closed at 2039.76\n",
      "\n",
      "Back Propogate... \n",
      "\n",
      "CORRECT?:  -2.227269172668457 -2.223759651184082 -2.2221727595429943\n",
      "COUNTBUY:  43 CORRECTBUY:  25 COUNTDONTBUY:  41 CORRECTDONTBUY:  23\n",
      "Current Close Scaled:  -2.227269175182483\n",
      "PREDICTION tensor([[-2.2267]], grad_fn=<AddmmBackward0>)\n",
      "BUY AT:  2039.76 TIME:  1652600280000\n"
     ]
    },
    {
     "name": "stderr",
     "output_type": "stream",
     "text": [
      "/var/folders/9w/783wdyf54fb3b79gq32y3t4h0000gn/T/ipykernel_29232/1462510502.py:114: FutureWarning: The frame.append method is deprecated and will be removed from pandas in a future version. Use pandas.concat instead.\n",
      "  df_history = df_history.append(scaled_df, ignore_index = True)\n"
     ]
    },
    {
     "ename": "ConnectionClosedError",
     "evalue": "code = 1006 (connection closed abnormally [internal]), no reason",
     "output_type": "error",
     "traceback": [
      "\u001b[0;31m---------------------------------------------------------------------------\u001b[0m",
      "\u001b[0;31mConnectionResetError\u001b[0m                      Traceback (most recent call last)",
      "File \u001b[0;32m/opt/homebrew/lib/python3.9/site-packages/websockets/legacy/protocol.py:750\u001b[0m, in \u001b[0;36mWebSocketCommonProtocol.transfer_data\u001b[0;34m(self)\u001b[0m\n\u001b[1;32m    749\u001b[0m \u001b[38;5;28;01mwhile\u001b[39;00m \u001b[38;5;28;01mTrue\u001b[39;00m:\n\u001b[0;32m--> 750\u001b[0m     message \u001b[38;5;241m=\u001b[39m \u001b[38;5;28;01mawait\u001b[39;00m \u001b[38;5;28mself\u001b[39m\u001b[38;5;241m.\u001b[39mread_message()\n\u001b[1;32m    752\u001b[0m     \u001b[38;5;66;03m# Exit the loop when receiving a close frame.\u001b[39;00m\n",
      "File \u001b[0;32m/opt/homebrew/lib/python3.9/site-packages/websockets/legacy/protocol.py:819\u001b[0m, in \u001b[0;36mWebSocketCommonProtocol.read_message\u001b[0;34m(self)\u001b[0m\n\u001b[1;32m    811\u001b[0m \u001b[38;5;124;03m\"\"\"\u001b[39;00m\n\u001b[1;32m    812\u001b[0m \u001b[38;5;124;03mRead a single message from the connection.\u001b[39;00m\n\u001b[1;32m    813\u001b[0m \n\u001b[0;32m   (...)\u001b[0m\n\u001b[1;32m    817\u001b[0m \n\u001b[1;32m    818\u001b[0m \u001b[38;5;124;03m\"\"\"\u001b[39;00m\n\u001b[0;32m--> 819\u001b[0m frame \u001b[38;5;241m=\u001b[39m \u001b[38;5;28;01mawait\u001b[39;00m \u001b[38;5;28mself\u001b[39m\u001b[38;5;241m.\u001b[39mread_data_frame(max_size\u001b[38;5;241m=\u001b[39m\u001b[38;5;28mself\u001b[39m\u001b[38;5;241m.\u001b[39mmax_size)\n\u001b[1;32m    821\u001b[0m \u001b[38;5;66;03m# A close frame was received.\u001b[39;00m\n",
      "File \u001b[0;32m/opt/homebrew/lib/python3.9/site-packages/websockets/legacy/protocol.py:895\u001b[0m, in \u001b[0;36mWebSocketCommonProtocol.read_data_frame\u001b[0;34m(self, max_size)\u001b[0m\n\u001b[1;32m    894\u001b[0m \u001b[38;5;28;01mwhile\u001b[39;00m \u001b[38;5;28;01mTrue\u001b[39;00m:\n\u001b[0;32m--> 895\u001b[0m     frame \u001b[38;5;241m=\u001b[39m \u001b[38;5;28;01mawait\u001b[39;00m \u001b[38;5;28mself\u001b[39m\u001b[38;5;241m.\u001b[39mread_frame(max_size)\n\u001b[1;32m    897\u001b[0m     \u001b[38;5;66;03m# 5.5. Control Frames\u001b[39;00m\n",
      "File \u001b[0;32m/opt/homebrew/lib/python3.9/site-packages/websockets/legacy/protocol.py:971\u001b[0m, in \u001b[0;36mWebSocketCommonProtocol.read_frame\u001b[0;34m(self, max_size)\u001b[0m\n\u001b[1;32m    967\u001b[0m \u001b[38;5;124;03m\"\"\"\u001b[39;00m\n\u001b[1;32m    968\u001b[0m \u001b[38;5;124;03mRead a single frame from the connection.\u001b[39;00m\n\u001b[1;32m    969\u001b[0m \n\u001b[1;32m    970\u001b[0m \u001b[38;5;124;03m\"\"\"\u001b[39;00m\n\u001b[0;32m--> 971\u001b[0m frame \u001b[38;5;241m=\u001b[39m \u001b[38;5;28;01mawait\u001b[39;00m Frame\u001b[38;5;241m.\u001b[39mread(\n\u001b[1;32m    972\u001b[0m     \u001b[38;5;28mself\u001b[39m\u001b[38;5;241m.\u001b[39mreader\u001b[38;5;241m.\u001b[39mreadexactly,\n\u001b[1;32m    973\u001b[0m     mask\u001b[38;5;241m=\u001b[39m\u001b[38;5;129;01mnot\u001b[39;00m \u001b[38;5;28mself\u001b[39m\u001b[38;5;241m.\u001b[39mis_client,\n\u001b[1;32m    974\u001b[0m     max_size\u001b[38;5;241m=\u001b[39mmax_size,\n\u001b[1;32m    975\u001b[0m     extensions\u001b[38;5;241m=\u001b[39m\u001b[38;5;28mself\u001b[39m\u001b[38;5;241m.\u001b[39mextensions,\n\u001b[1;32m    976\u001b[0m )\n\u001b[1;32m    977\u001b[0m logger\u001b[38;5;241m.\u001b[39mdebug(\u001b[38;5;124m\"\u001b[39m\u001b[38;5;132;01m%s\u001b[39;00m\u001b[38;5;124m < \u001b[39m\u001b[38;5;132;01m%r\u001b[39;00m\u001b[38;5;124m\"\u001b[39m, \u001b[38;5;28mself\u001b[39m\u001b[38;5;241m.\u001b[39mside, frame)\n",
      "File \u001b[0;32m/opt/homebrew/lib/python3.9/site-packages/websockets/legacy/framing.py:55\u001b[0m, in \u001b[0;36mFrame.read\u001b[0;34m(cls, reader, mask, max_size, extensions)\u001b[0m\n\u001b[1;32m     54\u001b[0m \u001b[38;5;66;03m# Read the header.\u001b[39;00m\n\u001b[0;32m---> 55\u001b[0m data \u001b[38;5;241m=\u001b[39m \u001b[38;5;28;01mawait\u001b[39;00m reader(\u001b[38;5;241m2\u001b[39m)\n\u001b[1;32m     56\u001b[0m head1, head2 \u001b[38;5;241m=\u001b[39m struct\u001b[38;5;241m.\u001b[39munpack(\u001b[38;5;124m\"\u001b[39m\u001b[38;5;124m!BB\u001b[39m\u001b[38;5;124m\"\u001b[39m, data)\n",
      "File \u001b[0;32m/opt/homebrew/Cellar/python@3.9/3.9.12/Frameworks/Python.framework/Versions/3.9/lib/python3.9/asyncio/streams.py:723\u001b[0m, in \u001b[0;36mStreamReader.readexactly\u001b[0;34m(self, n)\u001b[0m\n\u001b[1;32m    721\u001b[0m         \u001b[38;5;28;01mraise\u001b[39;00m exceptions\u001b[38;5;241m.\u001b[39mIncompleteReadError(incomplete, n)\n\u001b[0;32m--> 723\u001b[0m     \u001b[38;5;28;01mawait\u001b[39;00m \u001b[38;5;28mself\u001b[39m\u001b[38;5;241m.\u001b[39m_wait_for_data(\u001b[38;5;124m'\u001b[39m\u001b[38;5;124mreadexactly\u001b[39m\u001b[38;5;124m'\u001b[39m)\n\u001b[1;32m    725\u001b[0m \u001b[38;5;28;01mif\u001b[39;00m \u001b[38;5;28mlen\u001b[39m(\u001b[38;5;28mself\u001b[39m\u001b[38;5;241m.\u001b[39m_buffer) \u001b[38;5;241m==\u001b[39m n:\n",
      "File \u001b[0;32m/opt/homebrew/Cellar/python@3.9/3.9.12/Frameworks/Python.framework/Versions/3.9/lib/python3.9/asyncio/streams.py:517\u001b[0m, in \u001b[0;36mStreamReader._wait_for_data\u001b[0;34m(self, func_name)\u001b[0m\n\u001b[1;32m    516\u001b[0m \u001b[38;5;28;01mtry\u001b[39;00m:\n\u001b[0;32m--> 517\u001b[0m     \u001b[38;5;28;01mawait\u001b[39;00m \u001b[38;5;28mself\u001b[39m\u001b[38;5;241m.\u001b[39m_waiter\n\u001b[1;32m    518\u001b[0m \u001b[38;5;28;01mfinally\u001b[39;00m:\n",
      "File \u001b[0;32m/opt/homebrew/Cellar/python@3.9/3.9.12/Frameworks/Python.framework/Versions/3.9/lib/python3.9/asyncio/futures.py:284\u001b[0m, in \u001b[0;36mFuture.__await__\u001b[0;34m(self)\u001b[0m\n\u001b[1;32m    283\u001b[0m     \u001b[38;5;28mself\u001b[39m\u001b[38;5;241m.\u001b[39m_asyncio_future_blocking \u001b[38;5;241m=\u001b[39m \u001b[38;5;28;01mTrue\u001b[39;00m\n\u001b[0;32m--> 284\u001b[0m     \u001b[38;5;28;01myield\u001b[39;00m \u001b[38;5;28mself\u001b[39m  \u001b[38;5;66;03m# This tells Task to wait for completion.\u001b[39;00m\n\u001b[1;32m    285\u001b[0m \u001b[38;5;28;01mif\u001b[39;00m \u001b[38;5;129;01mnot\u001b[39;00m \u001b[38;5;28mself\u001b[39m\u001b[38;5;241m.\u001b[39mdone():\n",
      "File \u001b[0;32m/opt/homebrew/Cellar/python@3.9/3.9.12/Frameworks/Python.framework/Versions/3.9/lib/python3.9/asyncio/tasks.py:328\u001b[0m, in \u001b[0;36mTask.__wakeup\u001b[0;34m(self, future)\u001b[0m\n\u001b[1;32m    327\u001b[0m \u001b[38;5;28;01mtry\u001b[39;00m:\n\u001b[0;32m--> 328\u001b[0m     \u001b[43mfuture\u001b[49m\u001b[38;5;241;43m.\u001b[39;49m\u001b[43mresult\u001b[49m\u001b[43m(\u001b[49m\u001b[43m)\u001b[49m\n\u001b[1;32m    329\u001b[0m \u001b[38;5;28;01mexcept\u001b[39;00m \u001b[38;5;167;01mBaseException\u001b[39;00m \u001b[38;5;28;01mas\u001b[39;00m exc:\n\u001b[1;32m    330\u001b[0m     \u001b[38;5;66;03m# This may also be a cancellation.\u001b[39;00m\n",
      "File \u001b[0;32m/opt/homebrew/Cellar/python@3.9/3.9.12/Frameworks/Python.framework/Versions/3.9/lib/python3.9/asyncio/futures.py:201\u001b[0m, in \u001b[0;36mFuture.result\u001b[0;34m(self)\u001b[0m\n\u001b[1;32m    200\u001b[0m \u001b[38;5;28;01mif\u001b[39;00m \u001b[38;5;28mself\u001b[39m\u001b[38;5;241m.\u001b[39m_exception \u001b[38;5;129;01mis\u001b[39;00m \u001b[38;5;129;01mnot\u001b[39;00m \u001b[38;5;28;01mNone\u001b[39;00m:\n\u001b[0;32m--> 201\u001b[0m     \u001b[38;5;28;01mraise\u001b[39;00m \u001b[38;5;28mself\u001b[39m\u001b[38;5;241m.\u001b[39m_exception\n\u001b[1;32m    202\u001b[0m \u001b[38;5;28;01mreturn\u001b[39;00m \u001b[38;5;28mself\u001b[39m\u001b[38;5;241m.\u001b[39m_result\n",
      "File \u001b[0;32m/opt/homebrew/Cellar/python@3.9/3.9.12/Frameworks/Python.framework/Versions/3.9/lib/python3.9/asyncio/selector_events.py:853\u001b[0m, in \u001b[0;36m_SelectorSocketTransport._read_ready__data_received\u001b[0;34m(self)\u001b[0m\n\u001b[1;32m    852\u001b[0m \u001b[38;5;28;01mtry\u001b[39;00m:\n\u001b[0;32m--> 853\u001b[0m     data \u001b[38;5;241m=\u001b[39m \u001b[38;5;28;43mself\u001b[39;49m\u001b[38;5;241;43m.\u001b[39;49m\u001b[43m_sock\u001b[49m\u001b[38;5;241;43m.\u001b[39;49m\u001b[43mrecv\u001b[49m\u001b[43m(\u001b[49m\u001b[38;5;28;43mself\u001b[39;49m\u001b[38;5;241;43m.\u001b[39;49m\u001b[43mmax_size\u001b[49m\u001b[43m)\u001b[49m\n\u001b[1;32m    854\u001b[0m \u001b[38;5;28;01mexcept\u001b[39;00m (\u001b[38;5;167;01mBlockingIOError\u001b[39;00m, \u001b[38;5;167;01mInterruptedError\u001b[39;00m):\n",
      "\u001b[0;31mConnectionResetError\u001b[0m: [Errno 54] Connection reset by peer",
      "\nThe above exception was the direct cause of the following exception:\n",
      "\u001b[0;31mConnectionClosedError\u001b[0m                     Traceback (most recent call last)",
      "Input \u001b[0;32mIn [12]\u001b[0m, in \u001b[0;36m<cell line: 157>\u001b[0;34m()\u001b[0m\n\u001b[1;32m    154\u001b[0m                         \u001b[38;5;28mprint\u001b[39m(\u001b[38;5;124m\"\u001b[39m\u001b[38;5;124mDONT BUY\u001b[39m\u001b[38;5;124m\"\u001b[39m)\n\u001b[1;32m    155\u001b[0m                     closePrev \u001b[38;5;241m=\u001b[39m curr_close\n\u001b[0;32m--> 157\u001b[0m \u001b[43masyncio\u001b[49m\u001b[38;5;241;43m.\u001b[39;49m\u001b[43mget_event_loop\u001b[49m\u001b[43m(\u001b[49m\u001b[43m)\u001b[49m\u001b[38;5;241;43m.\u001b[39;49m\u001b[43mrun_until_complete\u001b[49m\u001b[43m(\u001b[49m\u001b[43mcall_api\u001b[49m\u001b[43m(\u001b[49m\u001b[43m)\u001b[49m\u001b[43m)\u001b[49m\n",
      "File \u001b[0;32m/opt/homebrew/Cellar/jupyterlab/3.3.2/libexec/lib/python3.9/site-packages/nest_asyncio.py:81\u001b[0m, in \u001b[0;36m_patch_loop.<locals>.run_until_complete\u001b[0;34m(self, future)\u001b[0m\n\u001b[1;32m     78\u001b[0m \u001b[38;5;28;01mif\u001b[39;00m \u001b[38;5;129;01mnot\u001b[39;00m f\u001b[38;5;241m.\u001b[39mdone():\n\u001b[1;32m     79\u001b[0m     \u001b[38;5;28;01mraise\u001b[39;00m \u001b[38;5;167;01mRuntimeError\u001b[39;00m(\n\u001b[1;32m     80\u001b[0m         \u001b[38;5;124m'\u001b[39m\u001b[38;5;124mEvent loop stopped before Future completed.\u001b[39m\u001b[38;5;124m'\u001b[39m)\n\u001b[0;32m---> 81\u001b[0m \u001b[38;5;28;01mreturn\u001b[39;00m \u001b[43mf\u001b[49m\u001b[38;5;241;43m.\u001b[39;49m\u001b[43mresult\u001b[49m\u001b[43m(\u001b[49m\u001b[43m)\u001b[49m\n",
      "File \u001b[0;32m/opt/homebrew/Cellar/python@3.9/3.9.12/Frameworks/Python.framework/Versions/3.9/lib/python3.9/asyncio/futures.py:201\u001b[0m, in \u001b[0;36mFuture.result\u001b[0;34m(self)\u001b[0m\n\u001b[1;32m    199\u001b[0m \u001b[38;5;28mself\u001b[39m\u001b[38;5;241m.\u001b[39m__log_traceback \u001b[38;5;241m=\u001b[39m \u001b[38;5;28;01mFalse\u001b[39;00m\n\u001b[1;32m    200\u001b[0m \u001b[38;5;28;01mif\u001b[39;00m \u001b[38;5;28mself\u001b[39m\u001b[38;5;241m.\u001b[39m_exception \u001b[38;5;129;01mis\u001b[39;00m \u001b[38;5;129;01mnot\u001b[39;00m \u001b[38;5;28;01mNone\u001b[39;00m:\n\u001b[0;32m--> 201\u001b[0m     \u001b[38;5;28;01mraise\u001b[39;00m \u001b[38;5;28mself\u001b[39m\u001b[38;5;241m.\u001b[39m_exception\n\u001b[1;32m    202\u001b[0m \u001b[38;5;28;01mreturn\u001b[39;00m \u001b[38;5;28mself\u001b[39m\u001b[38;5;241m.\u001b[39m_result\n",
      "File \u001b[0;32m/opt/homebrew/Cellar/python@3.9/3.9.12/Frameworks/Python.framework/Versions/3.9/lib/python3.9/asyncio/tasks.py:256\u001b[0m, in \u001b[0;36mTask.__step\u001b[0;34m(***failed resolving arguments***)\u001b[0m\n\u001b[1;32m    252\u001b[0m \u001b[38;5;28;01mtry\u001b[39;00m:\n\u001b[1;32m    253\u001b[0m     \u001b[38;5;28;01mif\u001b[39;00m exc \u001b[38;5;129;01mis\u001b[39;00m \u001b[38;5;28;01mNone\u001b[39;00m:\n\u001b[1;32m    254\u001b[0m         \u001b[38;5;66;03m# We use the `send` method directly, because coroutines\u001b[39;00m\n\u001b[1;32m    255\u001b[0m         \u001b[38;5;66;03m# don't have `__iter__` and `__next__` methods.\u001b[39;00m\n\u001b[0;32m--> 256\u001b[0m         result \u001b[38;5;241m=\u001b[39m \u001b[43mcoro\u001b[49m\u001b[38;5;241;43m.\u001b[39;49m\u001b[43msend\u001b[49m\u001b[43m(\u001b[49m\u001b[38;5;28;43;01mNone\u001b[39;49;00m\u001b[43m)\u001b[49m\n\u001b[1;32m    257\u001b[0m     \u001b[38;5;28;01melse\u001b[39;00m:\n\u001b[1;32m    258\u001b[0m         result \u001b[38;5;241m=\u001b[39m coro\u001b[38;5;241m.\u001b[39mthrow(exc)\n",
      "Input \u001b[0;32mIn [12]\u001b[0m, in \u001b[0;36mcall_api\u001b[0;34m()\u001b[0m\n\u001b[1;32m     40\u001b[0m \u001b[38;5;28;01masync\u001b[39;00m \u001b[38;5;28;01mwith\u001b[39;00m websockets\u001b[38;5;241m.\u001b[39mconnect(SOCKET) \u001b[38;5;28;01mas\u001b[39;00m websocket:\n\u001b[1;32m     42\u001b[0m     \u001b[38;5;28;01mwhile\u001b[39;00m(\u001b[38;5;241m1\u001b[39m):\n\u001b[0;32m---> 43\u001b[0m         response \u001b[38;5;241m=\u001b[39m \u001b[38;5;28;01mawait\u001b[39;00m websocket\u001b[38;5;241m.\u001b[39mrecv()\n\u001b[1;32m     45\u001b[0m         json_message \u001b[38;5;241m=\u001b[39m json\u001b[38;5;241m.\u001b[39mloads(response)\n\u001b[1;32m     47\u001b[0m         \u001b[38;5;66;03m#print(json_message)\u001b[39;00m\n",
      "File \u001b[0;32m/opt/homebrew/lib/python3.9/site-packages/websockets/legacy/protocol.py:421\u001b[0m, in \u001b[0;36mWebSocketCommonProtocol.recv\u001b[0;34m(self)\u001b[0m\n\u001b[1;32m    417\u001b[0m             \u001b[38;5;28;01mreturn\u001b[39;00m \u001b[38;5;28;01mNone\u001b[39;00m  \u001b[38;5;66;03m# type: ignore\u001b[39;00m\n\u001b[1;32m    418\u001b[0m         \u001b[38;5;28;01melse\u001b[39;00m:\n\u001b[1;32m    419\u001b[0m             \u001b[38;5;66;03m# Wait until the connection is closed to raise\u001b[39;00m\n\u001b[1;32m    420\u001b[0m             \u001b[38;5;66;03m# ConnectionClosed with the correct code and reason.\u001b[39;00m\n\u001b[0;32m--> 421\u001b[0m             \u001b[38;5;28;01mawait\u001b[39;00m \u001b[38;5;28mself\u001b[39m\u001b[38;5;241m.\u001b[39mensure_open()\n\u001b[1;32m    423\u001b[0m \u001b[38;5;66;03m# Pop a message from the queue.\u001b[39;00m\n\u001b[1;32m    424\u001b[0m message \u001b[38;5;241m=\u001b[39m \u001b[38;5;28mself\u001b[39m\u001b[38;5;241m.\u001b[39mmessages\u001b[38;5;241m.\u001b[39mpopleft()\n",
      "File \u001b[0;32m/opt/homebrew/lib/python3.9/site-packages/websockets/legacy/protocol.py:726\u001b[0m, in \u001b[0;36mWebSocketCommonProtocol.ensure_open\u001b[0;34m(self)\u001b[0m\n\u001b[1;32m    723\u001b[0m         \u001b[38;5;28;01mreturn\u001b[39;00m\n\u001b[1;32m    725\u001b[0m \u001b[38;5;28;01mif\u001b[39;00m \u001b[38;5;28mself\u001b[39m\u001b[38;5;241m.\u001b[39mstate \u001b[38;5;129;01mis\u001b[39;00m State\u001b[38;5;241m.\u001b[39mCLOSED:\n\u001b[0;32m--> 726\u001b[0m     \u001b[38;5;28;01mraise\u001b[39;00m \u001b[38;5;28mself\u001b[39m\u001b[38;5;241m.\u001b[39mconnection_closed_exc()\n\u001b[1;32m    728\u001b[0m \u001b[38;5;28;01mif\u001b[39;00m \u001b[38;5;28mself\u001b[39m\u001b[38;5;241m.\u001b[39mstate \u001b[38;5;129;01mis\u001b[39;00m State\u001b[38;5;241m.\u001b[39mCLOSING:\n\u001b[1;32m    729\u001b[0m     \u001b[38;5;66;03m# If we started the closing handshake, wait for its completion to\u001b[39;00m\n\u001b[1;32m    730\u001b[0m     \u001b[38;5;66;03m# get the proper close code and reason. self.close_connection_task\u001b[39;00m\n\u001b[1;32m    731\u001b[0m     \u001b[38;5;66;03m# will complete within 4 or 5 * close_timeout after close(). The\u001b[39;00m\n\u001b[1;32m    732\u001b[0m     \u001b[38;5;66;03m# CLOSING state also occurs when failing the connection. In that\u001b[39;00m\n\u001b[1;32m    733\u001b[0m     \u001b[38;5;66;03m# case self.close_connection_task will complete even faster.\u001b[39;00m\n\u001b[1;32m    734\u001b[0m     \u001b[38;5;28;01mawait\u001b[39;00m asyncio\u001b[38;5;241m.\u001b[39mshield(\u001b[38;5;28mself\u001b[39m\u001b[38;5;241m.\u001b[39mclose_connection_task)\n",
      "\u001b[0;31mConnectionClosedError\u001b[0m: code = 1006 (connection closed abnormally [internal]), no reason"
     ]
    }
   ],
   "source": [
    "nest_asyncio.apply()\n",
    "currMilli = round(time.time() * 1000)\n",
    "df_history = pd.DataFrame(data={\"time\": [], \"opens\": [], \"highs\": [], \"lows\": [], \"closes\": [], \"volumes\": [], \"qavs\": [], \"numTrades\": [], \"tbbavs\": [], \"tbqavs\": [], \"rsis\": [],\"obvs\": [], \"money\": [], \"trueAfter\": [], \"predictionBefore\": [], \"action\": [], \"correct\": [], \"diff\": []})\n",
    "\n",
    "\n",
    "async def call_api():\n",
    "    global currMilli, df_history\n",
    "    \n",
    "    currCandles = client.get_klines(symbol='ETHUSDT', \n",
    "                                    interval=Client.KLINE_INTERVAL_1MINUTE, \n",
    "                                    startTime = (currMilli - 900000), \n",
    "                                    endTime = (currMilli),\n",
    "                                    limit = 14)\n",
    "    opens = [float(c[1]) for c in currCandles]\n",
    "    closes = [float(c[4]) for c in currCandles]\n",
    "    volumes = [float(c[5]) for c in currCandles]\n",
    "    highs = [float(c[2]) for c in currCandles]\n",
    "    lows = [float(c[3]) for c in currCandles]\n",
    "    qavs = [float(c[7]) for c in currCandles]\n",
    "    numTrades = [float(c[8]) for c in currCandles]\n",
    "    tbbavs = [float(c[9]) for c in currCandles]\n",
    "    tbqavs = [float(c[10]) for c in currCandles]\n",
    "\n",
    "    closes.reverse()\n",
    "    volumes.reverse()\n",
    "\n",
    "    rsis = []\n",
    "    obvs = []\n",
    "    scaled_df = None\n",
    "    hidden_squeeze = torch.squeeze(hidden, 1)\n",
    "    countBuy = 0\n",
    "    countDontBuy = 0\n",
    "    correctBuy = 0\n",
    "    correctDontBuy = 0\n",
    "    boughtPrev = False\n",
    "    closePrev = float(0)\n",
    "    money = float(0)\n",
    "    action = \"\"\n",
    "    \n",
    "    async with websockets.connect(SOCKET) as websocket:\n",
    "        \n",
    "        while(1):\n",
    "            response = await websocket.recv()\n",
    "\n",
    "            json_message = json.loads(response)\n",
    "\n",
    "            #print(json_message)\n",
    "            candle = json_message['k']\n",
    "\n",
    "            is_candle_closed = candle['x']\n",
    "            close = float(candle['c'])\n",
    "            open_ = float(candle['o'])\n",
    "            high = float(candle['h'])\n",
    "            low = float(candle['l'])\n",
    "            vol = float(candle['v'])\n",
    "            qav = float(candle['q'])\n",
    "            numTrade = float(candle['n'])\n",
    "            tbbav = float(candle['V'])\n",
    "            tbqav = float(candle['Q'])\n",
    "            time = candle['t']\n",
    "\n",
    "            if is_candle_closed:\n",
    "                print(\"\\n######################\\ncandle closed at {}\".format(close))\n",
    "                closes.insert(0, close)\n",
    "                volumes.insert(0, vol)\n",
    "                opens.append(float(open_))\n",
    "                highs.append(float(high))\n",
    "                lows.append(float(low))\n",
    "                qavs.append(float(qav))\n",
    "                numTrades.append(float(numTrade))\n",
    "                tbbavs.append(float(tbbav))\n",
    "                tbqavs.append(float(tbqav))\n",
    "\n",
    "                if(countDontBuy + countBuy > 0):\n",
    "                    df = pd.DataFrame(data={\"opens\": [opens[-1]], \"highs\": [highs[-1]], \"lows\": [lows[-1]], \"closes\": [closes[0]], \"volumes\": [volumes[0]], \"qavs\": [qavs[-1]], \"numTrades\": [numTrades[-1]], \"tbbavs\": [tbbavs[-1]], \"tbqavs\": [tbqavs[-1]], \"rsis\": [1],\"obvs\": [1]})\n",
    "                    scaled_df = scaler.transform(df)\n",
    "                    scaled_df = pd.DataFrame(scaled_df, columns = df.columns)\n",
    "                    data = scaled_df.to_numpy()\n",
    "                    truePred = data[0][3]\n",
    "                    \n",
    "                    print(\"\\nBack Propogate... \\n\")\n",
    "\n",
    "                    hidden_squeeze = hidden_squeeze.detach()\n",
    "                    pred =  torch.squeeze(pred, 1)\n",
    "                    pred =  torch.squeeze(pred, 0)\n",
    "                    truePred = torch.tensor(truePred)\n",
    "                    truePred = truePred.to(torch.float)\n",
    "\n",
    "                    single_loss = loss_function(pred, truePred)\n",
    "                    single_loss.backward()\n",
    "                    clip_grad_norm_(trained_model.parameters(), 5)\n",
    "                    optimizer.step()\n",
    "                    optimizer.zero_grad()\n",
    "                    \n",
    "                    prediction = float(pred.item())\n",
    "                    print(\"CORRECT?: \", float(truePred.item()), prediction, closePrev)\n",
    "\n",
    "                    if(truePred > closePrev and prediction > closePrev):\n",
    "                        correctBuy += 1\n",
    "                        scaled_df['correct'] = [1]\n",
    "                    elif(truePred < closePrev and prediction < closePrev):\n",
    "                        correctDontBuy += 1\n",
    "                        scaled_df['correct'] = [1]\n",
    "                    else:\n",
    "                        scaled_df['correct'] = [0]\n",
    "                    print(\"COUNTBUY: \", countBuy , \"CORRECTBUY: \", correctBuy, \"COUNTDONTBUY: \", countDontBuy, \"CORRECTDONTBUY: \", correctDontBuy)\n",
    "\n",
    "                    scaled_df['action'] = [action]\n",
    "                    scaled_df['diff'] = [float(truePred.item()) - float(pred.item())] \n",
    "                    scaled_df['time'] = [time]\n",
    "                    scaled_df['money'] = [money]\n",
    "                    scaled_df['trueAfter'] = [float(truePred.item())]\n",
    "                    scaled_df['predictionBefore'] = [float(pred.item())]\n",
    "                    df_history = df_history.append(scaled_df, ignore_index = True)\n",
    "                    df_history.to_csv(\"./datahistroy_1m_2.csv\", sep=',',index=False)\n",
    "                    \n",
    "                if(boughtPrev):\n",
    "                    change = close - closes[1]\n",
    "                    money += change\n",
    "                    print('NEW PRICE: ', close, 'BOUGHT PRICE: ', closePrev, 'CHANGE: ', change, 'MONEY: ', money)\n",
    "                    boughtPrev = False\n",
    "\n",
    "                if len(closes) > RSI_PERIOD: \n",
    "                    np_closes = numpy.array(closes[:15])\n",
    "                    np_vols = numpy.array(volumes[:15])\n",
    "                    rsi = talib.RSI(np_closes, RSI_PERIOD)\n",
    "                    obv = talib.OBV(np_closes, np_vols)\n",
    "                    last_rsi = rsi[-1]\n",
    "                    last_obv = obv[-1]\n",
    "\n",
    "                    df = pd.DataFrame(data={\"opens\": [opens[-1]], \"highs\": [highs[-1]], \"lows\": [lows[-1]], \"closes\": [closes[0]], \"volumes\": [volumes[0]], \"qavs\": [qavs[-1]], \"numTrades\": [numTrades[-1]], \"tbbavs\": [tbbavs[-1]], \"tbqavs\": [tbqavs[-1]], \"rsis\": [last_rsi],\"obvs\": [last_obv]})\n",
    "                    scaled_df = scaler.transform(df)\n",
    "                    scaled_df = pd.DataFrame(scaled_df, columns = df.columns)\n",
    "\n",
    "                    data = scaled_df.to_numpy()\n",
    "\n",
    "                    curr_close = float(data[0][3])\n",
    "                    print('Current Close Scaled: ', curr_close)\n",
    "\n",
    "                    data = torch.tensor(data)\n",
    "                    data = data.to(torch.float)\n",
    "                    pred, hidden_squeeze = trained_model(data, hidden_squeeze)\n",
    "                    print('PREDICTION', pred)\n",
    "                    prediction = float(pred.item())\n",
    "                    \n",
    "                    if(prediction > curr_close):\n",
    "                        countBuy += 1\n",
    "                        action = \"BUY\"\n",
    "                        print(\"BUY AT: \", closes[0], 'TIME: ', time)\n",
    "                        boughtPrev = True\n",
    "                    else:\n",
    "                        action = \"SELL\"\n",
    "                        countDontBuy += 1\n",
    "                        print(\"DONT BUY\")\n",
    "                    closePrev = curr_close\n",
    "                        \n",
    "asyncio.get_event_loop().run_until_complete(call_api())\n"
   ]
  },
  {
   "cell_type": "code",
   "execution_count": null,
   "id": "1c4c7b82",
   "metadata": {},
   "outputs": [],
   "source": [
    "asyncio.get_event_loop().close()"
   ]
  },
  {
   "cell_type": "code",
   "execution_count": null,
   "id": "8ce12073",
   "metadata": {},
   "outputs": [],
   "source": [
    "df_history.to_csv(\"./datahistroy_1m.csv\", sep=',',index=False)"
   ]
  },
  {
   "cell_type": "code",
   "execution_count": null,
   "id": "36a9fd3b",
   "metadata": {},
   "outputs": [],
   "source": [
    "data = pd.read_csv('datahistroy_1m.csv')\n",
    "data.head(100)"
   ]
  }
 ],
 "metadata": {
  "kernelspec": {
   "display_name": "Python 3 (ipykernel)",
   "language": "python",
   "name": "python3"
  },
  "language_info": {
   "codemirror_mode": {
    "name": "ipython",
    "version": 3
   },
   "file_extension": ".py",
   "mimetype": "text/x-python",
   "name": "python",
   "nbconvert_exporter": "python",
   "pygments_lexer": "ipython3",
   "version": "3.9.12"
  }
 },
 "nbformat": 4,
 "nbformat_minor": 5
}
